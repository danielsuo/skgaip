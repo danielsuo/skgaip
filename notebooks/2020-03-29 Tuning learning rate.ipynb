{
 "cells": [
  {
   "cell_type": "code",
   "execution_count": 1,
   "metadata": {},
   "outputs": [
    {
     "data": {
      "text/html": [
       "<style>.container { width:100% !important; }</style>"
      ],
      "text/plain": [
       "<IPython.core.display.HTML object>"
      ]
     },
     "metadata": {},
     "output_type": "display_data"
    },
    {
     "name": "stderr",
     "output_type": "stream",
     "text": [
      "/home/dsuo/miniconda3/envs/toy_flood/lib/python3.7/site-packages/jax/lib/xla_bridge.py:123: UserWarning: No GPU/TPU found, falling back to CPU.\n",
      "  warnings.warn('No GPU/TPU found, falling back to CPU.')\n"
     ]
    }
   ],
   "source": [
    "%load_ext autoreload\n",
    "%autoreload 2\n",
    "\n",
    "from IPython.display import Image\n",
    "from IPython.core.display import display, HTML\n",
    "display(HTML(\"<style>.container { width:100% !important; }</style>\"))\n",
    "\n",
    "import os\n",
    "import json\n",
    "import numpy as np\n",
    "import jax\n",
    "import pickle\n",
    "import matplotlib.pyplot as plt\n",
    "import pandas as pd\n",
    "from timecast.learners import AR\n",
    "from timecast.learners._ar import _ar_predict, _ar_batch_window\n",
    "from timecast.utils.numpy import ecdf\n",
    "from timecast.utils.losses import MeanSquareError\n",
    "import torch\n",
    "import matplotlib\n",
    "\n",
    "plt.rcParams['figure.figsize'] = [20, 10]\n",
    "\n",
    "import tqdm.notebook as tqdm"
   ]
  },
  {
   "cell_type": "code",
   "execution_count": 2,
   "metadata": {},
   "outputs": [
    {
     "data": {
      "application/vnd.jupyter.widget-view+json": {
       "model_id": "937bdce7de5a4c9dae4517fa4a1bba23",
       "version_major": 2,
       "version_minor": 0
      },
      "text/plain": [
       "HBox(children=(FloatProgress(value=0.0, max=11.0), HTML(value='')))"
      ]
     },
     "metadata": {},
     "output_type": "display_data"
    },
    {
     "name": "stdout",
     "output_type": "stream",
     "text": [
      "\n"
     ]
    }
   ],
   "source": [
    "results = {}\n",
    "for i in tqdm.tqdm([1, 2, 4, 8, 16, 32, 64, 128, 256, 512, 1024]):\n",
    "    for j in [-8, -7, -6, -5, -4, -3, -2, -1]:\n",
    "        name = \"{}_{}\".format(i, 10 ** j)\n",
    "        with open(\"../tmp/batch_{}.pkl\".format(name), \"rb\") as f:\n",
    "            results[name] = pickle.load(f)"
   ]
  },
  {
   "cell_type": "code",
   "execution_count": 3,
   "metadata": {},
   "outputs": [],
   "source": [
    "def rolling_mean(x, n):\n",
    "    return pd.Series(x).rolling(window=n, min_periods=1).mean()"
   ]
  },
  {
   "cell_type": "code",
   "execution_count": 4,
   "metadata": {},
   "outputs": [],
   "source": [
    "rolling_means = {}\n",
    "for i, result in results.items():\n",
    "    rolling_means[i] = rolling_mean([res[\"mse\"].item() for res in result.values()], 531)"
   ]
  },
  {
   "cell_type": "code",
   "execution_count": 5,
   "metadata": {},
   "outputs": [],
   "source": [
    "rolling_means = pd.DataFrame.from_dict(rolling_means)"
   ]
  },
  {
   "cell_type": "code",
   "execution_count": 6,
   "metadata": {},
   "outputs": [],
   "source": [
    "from ealstm.gaip import FloodLSTM\n",
    "from ealstm.gaip import FloodData\n",
    "from ealstm.gaip.utils import MSE, NSE\n",
    "\n",
    "from timecast.optim import SGD, Adam\n",
    "from timecast.learners import AR\n",
    "\n",
    "cfg_path = \"/home/dsuo/src/toy_flood/ealstm/runs/run_2503_0429_seed283956/cfg.json\"\n",
    "ea_data = pickle.load(open(\"../ealstm/runs/run_2503_0429_seed283956/lstm_seed283956.p\", \"rb\"))\n",
    "flood_data = FloodData(cfg_path)\n",
    "\n",
    "LR_AR = 1e-4\n",
    "AR_INPUT_DIM=32\n",
    "AR_OUTPUT_DIM=1"
   ]
  },
  {
   "cell_type": "code",
   "execution_count": 9,
   "metadata": {
    "scrolled": false
   },
   "outputs": [],
   "source": [
    "results = {}\n",
    "mses = []\n",
    "nses = []\n",
    "for X, _, basin in tqdm.tqdm(flood_data.generator(), total=len(flood_data.basins)):\n",
    "#     if basin == \"01466500\":\n",
    "#         break\n",
    "#     sgd = SGD(learning_rate=LR_AR, online=False)\n",
    "    adam = Adam(learning_rate=lr)\n",
    "    ar = AR(input_dim=AR_INPUT_DIM,\n",
    "            output_dim=AR_OUTPUT_DIM,\n",
    "            window_size=flood_data.cfg[\"seq_length\"],\n",
    "            optimizer=adam,\n",
    "            history=X[:flood_data.cfg[\"seq_length\"]],\n",
    "            fit_intercept=True,\n",
    "            constrain=False\n",
    "           )\n",
    "\n",
    "    # NOTE: difference in indexing convention, so need to pad one row\n",
    "    X = np.vstack((X[flood_data.cfg[\"seq_length\"]:], np.ones((1, X.shape[1]))))\n",
    "    Y = np.array(ea_data[basin].qobs).reshape(-1, 1)\n",
    "\n",
    "    Y_lstm = np.array(ea_data[basin].qsim).reshape(-1, 1)\n",
    "    Y_target = Y - Y_lstm\n",
    "\n",
    "    Y_ar = ar.predict_and_update(X, Y_target, batch_size)\n",
    "\n",
    "    Y_hat = Y_lstm + Y_ar\n",
    "\n",
    "    mse = MSE(Y, Y_hat)\n",
    "    nse = NSE(Y, Y_hat)\n",
    "    results[basin] = {\n",
    "        \"mse\": mse,\n",
    "        \"nse\": nse,\n",
    "        \"count\": X.shape[0],\n",
    "        \"avg_mse\": np.mean(np.array(mses)),\n",
    "        \"avg_nse\": np.mean(np.array(nses))\n",
    "    }\n",
    "    mses.append(mse)\n",
    "    nses.append(nse)\n",
    "    print(basin, mse, nse, np.mean(np.array(mses)), np.mean(np.array(nses)))"
   ]
  },
  {
   "cell_type": "code",
   "execution_count": 46,
   "metadata": {},
   "outputs": [
    {
     "data": {
      "text/plain": [
       "96"
      ]
     },
     "execution_count": 46,
     "metadata": {},
     "output_type": "execute_result"
    }
   ],
   "source": [
    "for i in [1, 2, 4, 8, 16, 32, 64, 128]"
   ]
  },
  {
   "cell_type": "code",
   "execution_count": null,
   "metadata": {},
   "outputs": [],
   "source": []
  }
 ],
 "metadata": {
  "kernelspec": {
   "display_name": "Python 3",
   "language": "python",
   "name": "python3"
  },
  "language_info": {
   "codemirror_mode": {
    "name": "ipython",
    "version": 3
   },
   "file_extension": ".py",
   "mimetype": "text/x-python",
   "name": "python",
   "nbconvert_exporter": "python",
   "pygments_lexer": "ipython3",
   "version": "3.7.3"
  }
 },
 "nbformat": 4,
 "nbformat_minor": 2
}
