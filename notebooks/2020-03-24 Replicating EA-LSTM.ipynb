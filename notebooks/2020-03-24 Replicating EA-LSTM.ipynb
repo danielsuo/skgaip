{
 "cells": [
  {
   "cell_type": "code",
   "execution_count": 3,
   "metadata": {},
   "outputs": [
    {
     "data": {
      "text/html": [
       "<style>.container { width:100% !important; }</style>"
      ],
      "text/plain": [
       "<IPython.core.display.HTML object>"
      ]
     },
     "metadata": {},
     "output_type": "display_data"
    },
    {
     "name": "stderr",
     "output_type": "stream",
     "text": [
      "/home/dsuo/miniconda3/envs/toy_flood/lib/python3.7/site-packages/jax/lib/xla_bridge.py:123: UserWarning: No GPU/TPU found, falling back to CPU.\n",
      "  warnings.warn('No GPU/TPU found, falling back to CPU.')\n"
     ]
    }
   ],
   "source": [
    "%load_ext autoreload\n",
    "%autoreload 2\n",
    "\n",
    "from IPython.display import Image\n",
    "from IPython.core.display import display, HTML\n",
    "display(HTML(\"<style>.container { width:100% !important; }</style>\"))\n",
    "\n",
    "import os\n",
    "import json\n",
    "import numpy as np\n",
    "import jax\n",
    "import pickle\n",
    "import matplotlib.pyplot as plt\n",
    "import pandas as pd\n",
    "from timecast.learners import AR\n",
    "from timecast.learners._ar import _ar_predict, _ar_batch_window\n",
    "from timecast.utils.numpy import ecdf\n",
    "from timecast.utils.losses import MeanSquareError\n",
    "import torch\n",
    "import matplotlib\n",
    "\n",
    "plt.rcParams['figure.figsize'] = [20, 10]\n",
    "\n",
    "import tqdm.notebook as tqdm"
   ]
  },
  {
   "cell_type": "markdown",
   "metadata": {},
   "source": [
    "# Training"
   ]
  },
  {
   "cell_type": "code",
   "execution_count": 5,
   "metadata": {},
   "outputs": [
    {
     "name": "stdout",
     "output_type": "stream",
     "text": [
      "device: cuda:0\n",
      "mode: train\n",
      "camels_root: ../data/basin_dataset_public_v1p2\n",
      "seed: 215785\n",
      "run_dir: None\n",
      "cache_data: True\n",
      "num_workers: 50\n",
      "no_static: False\n",
      "concat_static: False\n",
      "use_mse: False\n",
      "batch_size: 256\n",
      "clip_norm: True\n",
      "clip_value: 1\n",
      "dropout: 0.4\n",
      "epochs: 30\n",
      "hidden_size: 256\n",
      "initial_forget_gate_bias: 5\n",
      "log_interval: 50\n",
      "learning_rate: 0.001\n",
      "seq_length: 270\n",
      "train_start: 1999-10-01 00:00:00\n",
      "train_end: 2008-09-30 00:00:00\n",
      "val_start: 1989-10-01 00:00:00\n",
      "val_end: 1999-09-30 00:00:00\n",
      "Sucessfully stored basin attributes in /home/dsuo/src/toy_flood/notebooks/../ealstm/runs/run_2803_1428_seed215785/attributes.db.\n",
      "100%|█████████████████████████████████████████| 531/531 [02:34<00:00,  3.43it/s]\n",
      "# Epoch 1: 100%|████████████| 6821/6821 [15:10<00:00,  7.49it/s, Loss: 0.008957]\n",
      "# Epoch 2: 100%|████████████| 6821/6821 [15:30<00:00,  7.33it/s, Loss: 0.010656]\n",
      "# Epoch 3: 100%|████████████| 6821/6821 [16:18<00:00,  6.97it/s, Loss: 0.129191]\n",
      "# Epoch 4: 100%|████████████| 6821/6821 [16:01<00:00,  7.09it/s, Loss: 0.001821]\n",
      "# Epoch 5: 100%|████████████| 6821/6821 [16:22<00:00,  6.94it/s, Loss: 0.005454]\n",
      "# Epoch 6: 100%|████████████| 6821/6821 [15:45<00:00,  7.21it/s, Loss: 0.000862]\n",
      "# Epoch 7: 100%|████████████| 6821/6821 [15:42<00:00,  7.23it/s, Loss: 0.007479]\n",
      "# Epoch 8: 100%|████████████| 6821/6821 [16:24<00:00,  6.93it/s, Loss: 0.001081]\n",
      "# Epoch 9: 100%|████████████| 6821/6821 [16:32<00:00,  6.87it/s, Loss: 0.000839]\n",
      "# Epoch 10: 100%|███████████| 6821/6821 [15:46<00:00,  7.21it/s, Loss: 0.012902]\n",
      "# Epoch 11: 100%|███████████| 6821/6821 [15:46<00:00,  7.20it/s, Loss: 0.001153]\n",
      "# Epoch 12: 100%|███████████| 6821/6821 [16:10<00:00,  7.03it/s, Loss: 0.003332]\n",
      "# Epoch 13: 100%|███████████| 6821/6821 [16:01<00:00,  7.10it/s, Loss: 0.008756]\n",
      "# Epoch 14: 100%|███████████| 6821/6821 [16:10<00:00,  7.03it/s, Loss: 0.000554]\n",
      "# Epoch 15: 100%|███████████| 6821/6821 [16:29<00:00,  6.90it/s, Loss: 0.005611]\n",
      "# Epoch 16: 100%|███████████| 6821/6821 [16:04<00:00,  7.07it/s, Loss: 0.000915] | 280/6821 [00:45<14:53,  7.32it/s, Loss: 0.013150]\n",
      "# Epoch 17: 100%|███████████| 6821/6821 [16:02<00:00,  7.08it/s, Loss: 0.004010]\n",
      "# Epoch 18: 100%|███████████| 6821/6821 [15:49<00:00,  7.19it/s, Loss: 0.085026]\n",
      "# Epoch 19: 100%|███████████| 6821/6821 [15:51<00:00,  7.17it/s, Loss: 0.000319]\n",
      "# Epoch 20: 100%|███████████| 6821/6821 [16:03<00:00,  7.08it/s, Loss: 0.000999]\n",
      "# Epoch 21: 100%|███████████| 6821/6821 [17:40<00:00,  6.43it/s, Loss: 0.001508]\n",
      "# Epoch 22: 100%|███████████| 6821/6821 [16:27<00:00,  6.91it/s, Loss: 0.004181]\n",
      "# Epoch 23: 100%|███████████| 6821/6821 [15:53<00:00,  7.16it/s, Loss: 0.021869]:45,  7.38it/s, Loss: 0.011715]\n",
      "# Epoch 24: 100%|███████████| 6821/6821 [16:22<00:00,  6.94it/s, Loss: 0.001960]\n",
      "# Epoch 25: 100%|███████████| 6821/6821 [16:26<00:00,  6.91it/s, Loss: 0.001462]\n",
      "# Epoch 26: 100%|███████████| 6821/6821 [16:00<00:00,  7.10it/s, Loss: 0.014190]\n",
      "# Epoch 27: 100%|███████████| 6821/6821 [15:59<00:00,  7.11it/s, Loss: 0.076707]\n",
      "# Epoch 28: 100%|███████████| 6821/6821 [16:11<00:00,  7.02it/s, Loss: 0.001037]\n",
      "# Epoch 29: 100%|███████████| 6821/6821 [15:52<00:00,  7.16it/s, Loss: 0.001151]\n",
      "# Epoch 30: 100%|███████████| 6821/6821 [15:58<00:00,  7.11it/s, Loss: 0.012212]\n",
      "\u001b[0m"
     ]
    }
   ],
   "source": [
    "!python ../ealstm/main.py train --camels_root ../data/basin_dataset_public_v1p2 --num_workers 50 --cache_data True"
   ]
  },
  {
   "cell_type": "markdown",
   "metadata": {},
   "source": [
    "# Evaluation"
   ]
  },
  {
   "cell_type": "code",
   "execution_count": 1,
   "metadata": {},
   "outputs": [
    {
     "name": "stdout",
     "output_type": "stream",
     "text": [
      "100%|█████████████████████████████████████████| 531/531 [05:10<00:00,  1.71it/s]\n",
      "Sucessfully store results at ../ealstm/runs/run_2803_1428_seed215785/ealstm_seed215785.p\n",
      "\u001b[0m"
     ]
    }
   ],
   "source": [
    "!python ../ealstm/main.py evaluate --camels_root ../data/basin_dataset_public_v1p2 --run_dir ../ealstm/runs/run_2803_1428_seed215785/"
   ]
  },
  {
   "cell_type": "code",
   "execution_count": 7,
   "metadata": {},
   "outputs": [],
   "source": [
    "data = pickle.load(open(\"../ealstm/runs/run_2803_1428_seed215785/ealstm_seed215785.p\", \"rb\"))"
   ]
  },
  {
   "cell_type": "code",
   "execution_count": 8,
   "metadata": {},
   "outputs": [],
   "source": [
    "results = {\"mse\": {}, \"count\": {}}\n",
    "for key, site in data.items():\n",
    "    results[\"mse\"][key] = MeanSquareError().compute(site.qobs, site.qsim)\n",
    "    results[\"count\"][key] = site.shape[0]"
   ]
  },
  {
   "cell_type": "code",
   "execution_count": 9,
   "metadata": {},
   "outputs": [],
   "source": [
    "def total_mse(results):\n",
    "    mse = 0\n",
    "    count = 0\n",
    "    for key in results[\"mse\"].keys():\n",
    "        mse += results[\"mse\"][key] * results[\"count\"][key]\n",
    "        count += results[\"count\"][key]\n",
    "    return mse / float(count)"
   ]
  },
  {
   "cell_type": "code",
   "execution_count": 10,
   "metadata": {},
   "outputs": [
    {
     "data": {
      "text/plain": [
       "DeviceArray(3.4499993, dtype=float32)"
      ]
     },
     "execution_count": 10,
     "metadata": {},
     "output_type": "execute_result"
    }
   ],
   "source": [
    "total_mse(results)"
   ]
  },
  {
   "cell_type": "code",
   "execution_count": 20,
   "metadata": {},
   "outputs": [],
   "source": [
    "def plot_ecdf(learners):\n",
    "    for key, learner in learners.items():\n",
    "        x = np.array([val.item() for key, val in learner[\"mse\"].items()])\n",
    "        bin_, cdf_ = ecdf(x)\n",
    "        plt.plot(bin_, cdf_, label=key)\n",
    "    plt.legend()"
   ]
  },
  {
   "cell_type": "code",
   "execution_count": 21,
   "metadata": {},
   "outputs": [
    {
     "data": {
      "image/png": "[encoded data removed]",
      "text/plain": [
       "<Figure size 432x288 with 1 Axes>"
      ]
     },
     "metadata": {
      "needs_background": "light"
     },
     "output_type": "display_data"
    }
   ],
   "source": [
    "plot_ecdf({\"EALSTM\": results})"
   ]
  },
  {
   "cell_type": "code",
   "execution_count": 13,
   "metadata": {},
   "outputs": [],
   "source": [
    "plt.xlim??"
   ]
  },
  {
   "cell_type": "code",
   "execution_count": null,
   "metadata": {},
   "outputs": [],
   "source": []
  }
 ],
 "metadata": {
  "kernelspec": {
   "display_name": "Python 3",
   "language": "python",
   "name": "python3"
  },
  "language_info": {
   "codemirror_mode": {
    "name": "ipython",
    "version": 3
   },
   "file_extension": ".py",
   "mimetype": "text/x-python",
   "name": "python",
   "nbconvert_exporter": "python",
   "pygments_lexer": "ipython3",
   "version": "3.7.3"
  }
 },
 "nbformat": 4,
 "nbformat_minor": 2
}
