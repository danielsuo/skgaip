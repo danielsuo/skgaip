{
 "cells": [
  {
   "cell_type": "code",
   "execution_count": 1,
   "metadata": {},
   "outputs": [],
   "source": [
    "%load_ext autoreload\n",
    "%autoreload 2"
   ]
  },
  {
   "cell_type": "code",
   "execution_count": 2,
   "metadata": {},
   "outputs": [
    {
     "name": "stderr",
     "output_type": "stream",
     "text": [
      "/home/dsuo/miniconda3/envs/skgaip/lib/python3.7/site-packages/jax/lib/xla_bridge.py:123: UserWarning: No GPU/TPU found, falling back to CPU.\n",
      "  warnings.warn('No GPU/TPU found, falling back to CPU.')\n",
      "Using TensorFlow backend.\n"
     ]
    }
   ],
   "source": [
    "import os\n",
    "import jax\n",
    "import timecast as tc\n",
    "from timecast.utils.experiment import experiment\n",
    "import pandas as pd\n",
    "import jax.numpy as jnp\n",
    "import numpy as np\n",
    "import matplotlib.pyplot as plt\n",
    "from keras.models import load_model, Model\n",
    "from tqdm.notebook import tqdm\n",
    "import binpacking\n",
    "import pickle"
   ]
  },
  {
   "cell_type": "code",
   "execution_count": null,
   "metadata": {},
   "outputs": [],
   "source": [
    "data = np.load('data/fusion/FRNN_1d_sample/shot_data.npz', allow_pickle=True)\n",
    "shot_data = data['shot_data'].item()"
   ]
  },
  {
   "cell_type": "code",
   "execution_count": 134,
   "metadata": {},
   "outputs": [],
   "source": [
    "train_keys = np.load('data/fusion/FRNN_1d_sample/train_list.npy')"
   ]
  },
  {
   "cell_type": "code",
   "execution_count": 191,
   "metadata": {},
   "outputs": [],
   "source": [
    "shot = list(shot_data.keys())[0]\n",
    "shot = 158891\n",
    "history_len = 200\n",
    "learning_rate = 1e-5"
   ]
  },
  {
   "cell_type": "code",
   "execution_count": 192,
   "metadata": {},
   "outputs": [],
   "source": [
    "import jax\n",
    "import pickle\n",
    "import jax.numpy as jnp\n",
    "\n",
    "from timecast.modules import AR\n",
    "from timecast.optim import SGD, NormThreshold\n",
    "\n",
    "MSE = lambda true, pred: jnp.square(jnp.asarray(true) - jnp.asarray(pred)).mean()\n",
    "\n",
    "ar = AR(history_len, 1, 1)\n",
    "\n",
    "data = pickle.load(open(f\"data/fusion/original/{shot}.pkl\", \"rb\"))\n",
    "\n",
    "# Locked mode amplitude\n",
    "xs = data\n",
    "xs, ts, s = xs[:-30, 3], xs[1:-29, 3], xs[30:, 3]\n",
    "\n",
    "sgd = SGD(learning_rate=learning_rate)\n",
    "# nl_k = NormThreshold(0.001, filter=lambda x: \"kernel\" in x)\n",
    "# nl_b = NormThreshold(1e-4, filter=lambda x: \"bias\" in x)\n",
    "def loop(module, xy):\n",
    "    x, y = xy\n",
    "    pred = module(x)\n",
    "    module = sgd(module, x, y)\n",
    "#     module = nl_k(module)\n",
    "#     module = nl_b(module)\n",
    "\n",
    "    return module, pred\n",
    "\n",
    "ar, ys = jax.lax.scan(loop, ar, (xs, ts))"
   ]
  },
  {
   "cell_type": "code",
   "execution_count": 193,
   "metadata": {},
   "outputs": [
    {
     "data": {
      "text/plain": [
       "[<matplotlib.lines.Line2D at 0x7feb915a4128>]"
      ]
     },
     "execution_count": 193,
     "metadata": {},
     "output_type": "execute_result"
    },
    {
     "data": {
      "image/png": "[encoded data removed]",
      "text/plain": [
       "<Figure size 432x288 with 1 Axes>"
      ]
     },
     "metadata": {
      "needs_background": "light"
     },
     "output_type": "display_data"
    }
   ],
   "source": [
    "plt.plot(s)\n",
    "plt.plot(ys)"
   ]
  },
  {
   "cell_type": "code",
   "execution_count": 194,
   "metadata": {},
   "outputs": [
    {
     "data": {
      "text/plain": [
       "DeviceArray(10.131337, dtype=float32)"
      ]
     },
     "execution_count": 194,
     "metadata": {},
     "output_type": "execute_result"
    }
   ],
   "source": [
    "MSE(s.squeeze(), ys.squeeze())"
   ]
  },
  {
   "cell_type": "code",
   "execution_count": 195,
   "metadata": {},
   "outputs": [
    {
     "data": {
      "text/plain": [
       "DeviceArray(13.176275, dtype=float32)"
      ]
     },
     "execution_count": 195,
     "metadata": {},
     "output_type": "execute_result"
    }
   ],
   "source": [
    "MSE(s.squeeze(), xs.squeeze())"
   ]
  },
  {
   "cell_type": "code",
   "execution_count": null,
   "metadata": {},
   "outputs": [],
   "source": []
  },
  {
   "cell_type": "code",
   "execution_count": null,
   "metadata": {},
   "outputs": [],
   "source": []
  }
 ],
 "metadata": {
  "kernelspec": {
   "display_name": "Python 3",
   "language": "python",
   "name": "python3"
  },
  "language_info": {
   "codemirror_mode": {
    "name": "ipython",
    "version": 3
   },
   "file_extension": ".py",
   "mimetype": "text/x-python",
   "name": "python",
   "nbconvert_exporter": "python",
   "pygments_lexer": "ipython3",
   "version": "3.7.0"
  }
 },
 "nbformat": 4,
 "nbformat_minor": 4
}
