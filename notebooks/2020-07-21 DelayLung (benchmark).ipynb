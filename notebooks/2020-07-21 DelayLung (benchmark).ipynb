{
 "cells": [
  {
   "cell_type": "code",
   "execution_count": 1,
   "metadata": {},
   "outputs": [],
   "source": [
    "%load_ext autoreload\n",
    "%autoreload 2"
   ]
  },
  {
   "cell_type": "code",
   "execution_count": 2,
   "metadata": {},
   "outputs": [],
   "source": [
    "import numpy as np\n",
    "import matplotlib.pyplot as plt\n",
    "import warnings\n",
    "from copy import deepcopy\n",
    "warnings.filterwarnings(\"ignore\")"
   ]
  },
  {
   "cell_type": "code",
   "execution_count": 3,
   "metadata": {},
   "outputs": [],
   "source": [
    "import pathos\n",
    "import tqdm"
   ]
  },
  {
   "cell_type": "code",
   "execution_count": 4,
   "metadata": {},
   "outputs": [],
   "source": [
    "def runner(args):\n",
    "    \"\"\"Runner function for process pool\n",
    "    \n",
    "    Args:\n",
    "        args: A pair where the first element is the function to run and\n",
    "        the second element is a dictionary of kwargs\n",
    "    Returns:\n",
    "        Any: the result of the function in the first element\n",
    "    \"\"\"\n",
    "    return args[0](**args[1])"
   ]
  },
  {
   "cell_type": "code",
   "execution_count": 18,
   "metadata": {},
   "outputs": [],
   "source": [
    "import numpy as np\n",
    "from skgaip.lung import PID, benchmark, allconf\n",
    "\n",
    "def generate_arglist():\n",
    "    controlalg = lambda waveform: PID([3, 4, 0], dt=allconf['time']['dt'], waveform = waveform)\n",
    "    for C_lung in [6, 8, 10, 12, 14]:\n",
    "        for delay in [9, 12, 15, 18, 21]:\n",
    "            yield (benchmark, {\"controlalg\": controlalg, \"C_lung\": C_lung, \"delay\": delay})"
   ]
  },
  {
   "cell_type": "code",
   "execution_count": 19,
   "metadata": {},
   "outputs": [],
   "source": [
    "parallel = lambda: pathos.pools.ProcessPool(nodes=96).imap(runner, generate_arglist())"
   ]
  },
  {
   "cell_type": "code",
   "execution_count": 20,
   "metadata": {},
   "outputs": [],
   "source": [
    "results = list(tqdm.tqdm(parallel()))"
   ]
  }
 ],
 "metadata": {
  "kernelspec": {
   "display_name": "Python 3",
   "language": "python",
   "name": "python3"
  },
  "language_info": {
   "codemirror_mode": {
    "name": "ipython",
    "version": 3
   },
   "file_extension": ".py",
   "mimetype": "text/x-python",
   "name": "python",
   "nbconvert_exporter": "python",
   "pygments_lexer": "ipython3",
   "version": "3.7.0"
  }
 },
 "nbformat": 4,
 "nbformat_minor": 4
}
