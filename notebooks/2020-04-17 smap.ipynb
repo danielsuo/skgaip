{
 "cells": [
  {
   "cell_type": "code",
   "execution_count": 1,
   "metadata": {},
   "outputs": [
    {
     "data": {
      "text/html": [
       "<style>.container { width:100% !important; }</style>"
      ],
      "text/plain": [
       "<IPython.core.display.HTML object>"
      ]
     },
     "metadata": {},
     "output_type": "display_data"
    }
   ],
   "source": [
    "%load_ext autoreload\n",
    "%autoreload 2\n",
    "\n",
    "from IPython.display import Image\n",
    "from IPython.core.display import display, HTML\n",
    "display(HTML(\"<style>.container { width:100% !important; }</style>\"))\n",
    "\n",
    "import os\n",
    "import json\n",
    "import numpy as np\n",
    "import jax\n",
    "import pickle\n",
    "import matplotlib.pyplot as plt\n",
    "import pandas as pd\n",
    "import torch\n",
    "import matplotlib\n",
    "import timecast as tc\n",
    "\n",
    "from mpl_toolkits import mplot3d\n",
    "\n",
    "\n",
    "plt.rcParams['figure.figsize'] = [20, 10]\n",
    "\n",
    "import tqdm.notebook as tqdm\n",
    "\n",
    "%matplotlib notebook"
   ]
  },
  {
   "cell_type": "code",
   "execution_count": 7,
   "metadata": {
    "scrolled": false
   },
   "outputs": [],
   "source": [
    "import pickle\n",
    "from ealstm.gaip.flood_data import FloodData\n",
    "from ealstm.gaip.utils import MSE, NSE\n",
    "from flax import nn\n",
    "\n",
    "import jax\n",
    "import jax.numpy as jnp\n",
    "\n",
    "from timecast.learners import Sequential, Parallel, AR, Index\n",
    "from timecast import smap\n",
    "from timecast.objectives import residual\n",
    "from timecast.optim import RMSProp\n",
    "\n",
    "cfg_path = \"../data/models/runs/run_2006_0032_seed444/cfg.json\"\n",
    "ea_data = pickle.load(open(\"../data/models/runs/run_2006_0032_seed444/lstm_seed444.p\", \"rb\"))\n",
    "flood_data = FloodData(cfg_path)\n",
    "\n",
    "results = {}\n",
    "mses = []\n",
    "nses = []\n",
    "\n",
    "lr = 1e-5\n",
    "beta = 0.999\n",
    "\n",
    "for X, y, basin in flood_data.generator():\n",
    "    with nn.stateful() as state:\n",
    "        lstm = Index.partial(index=0)\n",
    "        take1 = Index.partial(index=1)\n",
    "        ar = AR.partial(output_features=1, history_len=270, history=X[:flood_data.cfg[\"seq_length\"]-1])\n",
    "        arf = Sequential.partial(learners=[take1, ar])\n",
    "        model_def = Parallel.partial(learners=[lstm, arf])\n",
    "        ys, params = model_def.init_by_shape(jax.random.PRNGKey(0), [(1, 32)])\n",
    "        model = nn.Model(model_def, params)\n",
    "    optim_def = RMSProp(learning_rate=lr, beta2=beta)\n",
    "    optimizer = optim_def.create(model)\n",
    "    break\n",
    "    # NOTE: difference in indexing convention, so need to pad one row\n",
    "    X_t = X[flood_data.cfg[\"seq_length\"]-1:]\n",
    "    Y_lstm = jnp.array(ea_data[basin].qsim)\n",
    "    Y = jnp.array(ea_data[basin].qobs).reshape(-1, 1)\n",
    "\n",
    "#     Y_hat = smap(X_t, Y, optimizer, lambda x, y: jnp.square(x-y).mean(), state, residual, )\n",
    "    optimizer, state, Y_hat = smap((Y_lstm, X_t), Y, optimizer, lambda x, y: jnp.square(x-y).mean(), state, residual, )\n",
    "\n",
    "    mse = MSE(Y, Y_hat)\n",
    "    nse = NSE(Y, Y_hat)\n",
    "    mses.append(mse)\n",
    "    nses.append(nse)\n",
    "\n",
    "    results[basin] = {\n",
    "        \"mse\": mse,\n",
    "        \"nse\": nse,\n",
    "        \"count\": X.shape[0],\n",
    "        \"avg_mse\": jnp.mean(jnp.array(mses)),\n",
    "        \"avg_nse\": jnp.mean(jnp.array(nses))\n",
    "    }\n",
    "    break"
   ]
  },
  {
   "cell_type": "code",
   "execution_count": 4,
   "metadata": {},
   "outputs": [
    {
     "data": {
      "text/plain": [
       "{'01022500': {'mse': DeviceArray(0.82482624, dtype=float32),\n",
       "  'nse': DeviceArray(0.83247095, dtype=float32),\n",
       "  'count': 3921,\n",
       "  'avg_mse': DeviceArray(0.82482624, dtype=float32),\n",
       "  'avg_nse': DeviceArray(0.83247095, dtype=float32)}}"
      ]
     },
     "execution_count": 4,
     "metadata": {},
     "output_type": "execute_result"
    }
   ],
   "source": [
    "results"
   ]
  },
  {
   "cell_type": "code",
   "execution_count": 8,
   "metadata": {},
   "outputs": [
    {
     "data": {
      "text/plain": [
       "{'/Sequential_1/AR_1': {'history': DeviceArray([[ 0.        ,  0.        ,  0.        , ...,  0.        ,\n",
       "                 0.        ,  0.        ],\n",
       "               [-0.45735672, -1.1924587 , -2.4735065 , ..., -0.8065217 ,\n",
       "                -0.6008064 ,  0.20375867],\n",
       "               [-0.45735672, -1.1144404 , -2.5866942 , ..., -0.8065217 ,\n",
       "                -0.6008064 ,  0.20375867],\n",
       "               ...,\n",
       "               [-0.44727528, -0.1894627 , -0.5125051 , ..., -0.8065217 ,\n",
       "                -0.6008064 ,  0.20375867],\n",
       "               [-0.42567217, -0.34831032, -0.10944621, ..., -0.8065217 ,\n",
       "                -0.6008064 ,  0.20375867],\n",
       "               [-0.45015568,  0.08645047, -0.02294497, ..., -0.8065217 ,\n",
       "                -0.6008064 ,  0.20375867]], dtype=float32)}}"
      ]
     },
     "execution_count": 8,
     "metadata": {},
     "output_type": "execute_result"
    }
   ],
   "source": [
    "state.state"
   ]
  },
  {
   "cell_type": "code",
   "execution_count": 5,
   "metadata": {},
   "outputs": [
    {
     "data": {
      "text/plain": [
       "Model(module=<class 'flax.nn.base.Parallel'>, params={'Index_0': {}, 'Sequential_1': {'AR_1': {'linear': {'bias': DeviceArray([0.], dtype=float32), 'kernel': DeviceArray([[[0.],\n",
       "              [0.],\n",
       "              [0.],\n",
       "              ...,\n",
       "              [0.],\n",
       "              [0.],\n",
       "              [0.]],\n",
       "\n",
       "             [[0.],\n",
       "              [0.],\n",
       "              [0.],\n",
       "              ...,\n",
       "              [0.],\n",
       "              [0.],\n",
       "              [0.]],\n",
       "\n",
       "             [[0.],\n",
       "              [0.],\n",
       "              [0.],\n",
       "              ...,\n",
       "              [0.],\n",
       "              [0.],\n",
       "              [0.]],\n",
       "\n",
       "             ...,\n",
       "\n",
       "             [[0.],\n",
       "              [0.],\n",
       "              [0.],\n",
       "              ...,\n",
       "              [0.],\n",
       "              [0.],\n",
       "              [0.]],\n",
       "\n",
       "             [[0.],\n",
       "              [0.],\n",
       "              [0.],\n",
       "              ...,\n",
       "              [0.],\n",
       "              [0.],\n",
       "              [0.]],\n",
       "\n",
       "             [[0.],\n",
       "              [0.],\n",
       "              [0.],\n",
       "              ...,\n",
       "              [0.],\n",
       "              [0.],\n",
       "              [0.]]], dtype=float32)}}, 'Index_0': {}}})"
      ]
     },
     "execution_count": 5,
     "metadata": {},
     "output_type": "execute_result"
    }
   ],
   "source": [
    "model"
   ]
  },
  {
   "cell_type": "code",
   "execution_count": null,
   "metadata": {},
   "outputs": [],
   "source": [
    "from timecast.series import sp500\n",
    "import flax"
   ]
  },
  {
   "cell_type": "code",
   "execution_count": null,
   "metadata": {},
   "outputs": [],
   "source": [
    "X, Y = sp500.generate()"
   ]
  },
  {
   "cell_type": "code",
   "execution_count": null,
   "metadata": {},
   "outputs": [],
   "source": [
    "with flax.nn.stateful(None) as state:\n",
    "    a = 2 + 1"
   ]
  },
  {
   "cell_type": "code",
   "execution_count": null,
   "metadata": {},
   "outputs": [],
   "source": [
    "from timecast.learners import PredictConstant, PredictLast, AR\n",
    "from timecast.learners import Sequential\n",
    "from timecast.api import smap"
   ]
  },
  {
   "cell_type": "code",
   "execution_count": null,
   "metadata": {
    "scrolled": false
   },
   "outputs": [],
   "source": [
    "pc4 = PredictConstant.make((), c=4)"
   ]
  },
  {
   "cell_type": "code",
   "execution_count": null,
   "metadata": {},
   "outputs": [],
   "source": [
    "X[:flood_data.cfg[\"seq_length\"]-1]"
   ]
  },
  {
   "cell_type": "code",
   "execution_count": null,
   "metadata": {},
   "outputs": [],
   "source": [
    "pc4 = PredictConstant.make(c=4)\n",
    "pc5 = PredictConstant.make(c=5)\n",
    "pl = PredictLast.make()"
   ]
  },
  {
   "cell_type": "code",
   "execution_count": null,
   "metadata": {
    "scrolled": false
   },
   "outputs": [],
   "source": [
    "s = Sequential.make((), learners=[pc4, pc5])"
   ]
  },
  {
   "cell_type": "code",
   "execution_count": null,
   "metadata": {
    "scrolled": false
   },
   "outputs": [],
   "source": [
    "ar = AR.make((1,), output_features=1, history_len=10)"
   ]
  },
  {
   "cell_type": "code",
   "execution_count": null,
   "metadata": {},
   "outputs": [],
   "source": [
    "from timecast.optim import Adagrad"
   ]
  },
  {
   "cell_type": "code",
   "execution_count": null,
   "metadata": {},
   "outputs": [],
   "source": [
    "opt = Adagrad.make(pc4)"
   ]
  },
  {
   "cell_type": "code",
   "execution_count": null,
   "metadata": {},
   "outputs": [],
   "source": [
    "X_t"
   ]
  },
  {
   "cell_type": "code",
   "execution_count": null,
   "metadata": {},
   "outputs": [],
   "source": [
    "opt.optimizer.target"
   ]
  },
  {
   "cell_type": "code",
   "execution_count": null,
   "metadata": {
    "scrolled": false
   },
   "outputs": [],
   "source": [
    "smap(X_t, Y, opt)"
   ]
  },
  {
   "cell_type": "code",
   "execution_count": null,
   "metadata": {},
   "outputs": [],
   "source": [
    "opt.optimizer.target"
   ]
  },
  {
   "cell_type": "code",
   "execution_count": null,
   "metadata": {},
   "outputs": [],
   "source": [
    "hyper_params = self.optimizer_def.update_hyper_params()"
   ]
  },
  {
   "cell_type": "code",
   "execution_count": null,
   "metadata": {},
   "outputs": [],
   "source": [
    "self.optimizer_def.apply_gradient(hyper_params, self.target, self.state, opt.optimizer.target)"
   ]
  },
  {
   "cell_type": "code",
   "execution_count": null,
   "metadata": {},
   "outputs": [],
   "source": [
    "params = self.target\n",
    "state = self.state\n",
    "grads = opt.optimizer.target"
   ]
  },
  {
   "cell_type": "code",
   "execution_count": null,
   "metadata": {},
   "outputs": [],
   "source": [
    "step = state.step"
   ]
  },
  {
   "cell_type": "code",
   "execution_count": null,
   "metadata": {},
   "outputs": [],
   "source": [
    "params_flat, treedef = jax.tree_flatten(params)\n",
    "states_flat = treedef.flatten_up_to(state.param_states)\n",
    "grads_flat = treedef.flatten_up_to(grads)\n",
    "out = [self.apply_param_gradient(step, hyper_params, param, state, grad)\n",
    "        for param, state, grad in zip(params_flat, states_flat, grads_flat)]"
   ]
  },
  {
   "cell_type": "code",
   "execution_count": null,
   "metadata": {},
   "outputs": [],
   "source": [
    "out"
   ]
  },
  {
   "cell_type": "code",
   "execution_count": null,
   "metadata": {
    "scrolled": false
   },
   "outputs": [],
   "source": [
    "import flax\n",
    "import jax\n",
    "import jax.numpy as jnp\n",
    "\n",
    "class Identity(flax.nn.Module):\n",
    "    def apply(self, x):\n",
    "        self.param(\"x\", (1,) if not hasattr(x, \"shape\") else x.shape, flax.nn.initializers.zeros)\n",
    "        return x\n",
    "\n",
    "model_def = Identity.partial()\n",
    "_, params = model_def.init_by_shape(jax.random.PRNGKey(0), [(1,)])\n",
    "model = flax.nn.Model(model_def, params)\n",
    "\n",
    "def loss_fn(model, x, y):\n",
    "    y_hat = model(x)\n",
    "    return jnp.square(y - y_hat).mean(), y_hat\n",
    "\n",
    "optim_def = flax.optim.Adam(learning_rate=lr)\n",
    "optimizer = optim_def.create(model)\n",
    "\n",
    "(loss, y_hat), grad = jax.value_and_grad(loss_fn, has_aux=True)(optimizer.target, 1.0, 2.0)\n",
    "optimizer.apply_gradient(grad)"
   ]
  },
  {
   "cell_type": "code",
   "execution_count": null,
   "metadata": {},
   "outputs": [],
   "source": [
    "loss, y_hat, grad"
   ]
  },
  {
   "cell_type": "code",
   "execution_count": null,
   "metadata": {},
   "outputs": [],
   "source": [
    "optimizer.target"
   ]
  },
  {
   "cell_type": "code",
   "execution_count": null,
   "metadata": {},
   "outputs": [],
   "source": [
    "model_def"
   ]
  },
  {
   "cell_type": "code",
   "execution_count": null,
   "metadata": {},
   "outputs": [],
   "source": [
    "model_def = AR.partial(output_dim=1, history_len=270)"
   ]
  },
  {
   "cell_type": "code",
   "execution_count": null,
   "metadata": {},
   "outputs": [],
   "source": [
    "model_def"
   ]
  },
  {
   "cell_type": "code",
   "execution_count": null,
   "metadata": {},
   "outputs": [],
   "source": [
    "import numpy as onp\n",
    "onp.random.rand(*())"
   ]
  },
  {
   "cell_type": "code",
   "execution_count": null,
   "metadata": {},
   "outputs": [],
   "source": []
  }
 ],
 "metadata": {
  "kernelspec": {
   "display_name": "Python 3",
   "language": "python",
   "name": "python3"
  },
  "language_info": {
   "codemirror_mode": {
    "name": "ipython",
    "version": 3
   },
   "file_extension": ".py",
   "mimetype": "text/x-python",
   "name": "python",
   "nbconvert_exporter": "python",
   "pygments_lexer": "ipython3",
   "version": "3.7.3"
  }
 },
 "nbformat": 4,
 "nbformat_minor": 2
}
