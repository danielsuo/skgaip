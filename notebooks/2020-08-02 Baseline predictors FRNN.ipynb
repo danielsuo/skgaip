{
 "cells": [
  {
   "cell_type": "code",
   "execution_count": 1,
   "metadata": {},
   "outputs": [],
   "source": [
    "%load_ext autoreload\n",
    "%autoreload 2"
   ]
  },
  {
   "cell_type": "code",
   "execution_count": 2,
   "metadata": {},
   "outputs": [
    {
     "name": "stderr",
     "output_type": "stream",
     "text": [
      "/home/dsuo/miniconda3/envs/skgaip/lib/python3.7/site-packages/jax/lib/xla_bridge.py:123: UserWarning: No GPU/TPU found, falling back to CPU.\n",
      "  warnings.warn('No GPU/TPU found, falling back to CPU.')\n",
      "Using TensorFlow backend.\n"
     ]
    }
   ],
   "source": [
    "import os\n",
    "import jax\n",
    "import timecast as tc\n",
    "from timecast.utils.experiment import experiment\n",
    "import pandas as pd\n",
    "import jax.numpy as jnp\n",
    "import numpy as np\n",
    "import matplotlib.pyplot as plt\n",
    "from keras.models import load_model, Model\n",
    "from tqdm.notebook import tqdm\n",
    "import binpacking\n",
    "import pickle"
   ]
  },
  {
   "cell_type": "markdown",
   "metadata": {},
   "source": [
    "# The task at hand\n",
    "We are predicting time series data emitted by a tokemak reactor.\n",
    "\n",
    "## Target\n",
    "- Locked mode amplitude\n",
    "\n",
    "## Signals\n",
    "- Original 0D and 1D measurements\n",
    "- FRNN activations\n",
    "- FRNN disruptivity score\n",
    "\n",
    "## Models\n",
    "- Predict constant\n",
    "- Predict last\n",
    "- AR\n",
    "- Flood\n",
    "\n",
    "## Metrics\n",
    "- MSE"
   ]
  },
  {
   "cell_type": "markdown",
   "metadata": {},
   "source": [
    "# Examining data"
   ]
  },
  {
   "cell_type": "code",
   "execution_count": null,
   "metadata": {},
   "outputs": [],
   "source": [
    "data = np.load('data/fusion/FRNN_1d_sample/shot_data.npz', allow_pickle=True)"
   ]
  },
  {
   "cell_type": "code",
   "execution_count": 3,
   "metadata": {},
   "outputs": [
    {
     "name": "stdout",
     "output_type": "stream",
     "text": [
      "1733 853 862\n"
     ]
    }
   ],
   "source": [
    "train_keys = np.load('data/fusion/FRNN_1d_sample/train_list.npy')\n",
    "val_keys = np.load('data/fusion/FRNN_1d_sample/validation_list.npy')\n",
    "test_keys = np.load('data/fusion/FRNN_1d_sample/test_list.npy')\n",
    "\n",
    "print(len(train_keys), len(val_keys), len(test_keys))\n",
    "\n",
    "# 14-dimensional 0D variables\n",
    "# [q95 safety factor, internal inductance, plasma current, Locked mode amplitude, Normalized Beta, stored energy, Plasma density, Radiated Power Core, Radiated Power Edge, Input Power (beam for d3d), Input Beam Torque, plasma current direction, plasma current target, plasma current error]\n",
    "col_names = ['q95', 'internal_inductance', 'plasma_current', 'locked_mode_amplitude', 'norm_beta', 'stored_energy', 'plasma_density', 'radiated_power_core', 'radiated_power_edge', 'input_power', 'input_beam_torque', 'plasma_current_direction', 'plasma_current_target', 'plasma_current_error']"
   ]
  },
  {
   "cell_type": "code",
   "execution_count": 4,
   "metadata": {},
   "outputs": [],
   "source": [
    "shot_data = data['shot_data'].item()"
   ]
  },
  {
   "cell_type": "code",
   "execution_count": 5,
   "metadata": {},
   "outputs": [],
   "source": [
    "X = shot_data[train_keys[0]]['X']\n",
    "X = shot_data[train_keys[6]]['X']"
   ]
  },
  {
   "cell_type": "code",
   "execution_count": 6,
   "metadata": {},
   "outputs": [
    {
     "data": {
      "text/plain": [
       "<matplotlib.image.AxesImage at 0x7fb34b700c88>"
      ]
     },
     "execution_count": 6,
     "metadata": {},
     "output_type": "execute_result"
    },
    {
     "data": {
      "image/png": "[encoded data removed]",
      "text/plain": [
       "<Figure size 432x288 with 1 Axes>"
      ]
     },
     "metadata": {
      "needs_background": "light"
     },
     "output_type": "display_data"
    }
   ],
   "source": [
    "# Scalar features\n",
    "plt.imshow(X[:,:14].T, cmap='YlGnBu', aspect='auto')"
   ]
  },
  {
   "cell_type": "code",
   "execution_count": 7,
   "metadata": {},
   "outputs": [
    {
     "data": {
      "text/html": [
       "<div>\n",
       "<style scoped>\n",
       "    .dataframe tbody tr th:only-of-type {\n",
       "        vertical-align: middle;\n",
       "    }\n",
       "\n",
       "    .dataframe tbody tr th {\n",
       "        vertical-align: top;\n",
       "    }\n",
       "\n",
       "    .dataframe thead th {\n",
       "        text-align: right;\n",
       "    }\n",
       "</style>\n",
       "<table border=\"1\" class=\"dataframe\">\n",
       "  <thead>\n",
       "    <tr style=\"text-align: right;\">\n",
       "      <th></th>\n",
       "      <th>q95</th>\n",
       "      <th>internal_inductance</th>\n",
       "      <th>plasma_current</th>\n",
       "      <th>locked_mode_amplitude</th>\n",
       "      <th>norm_beta</th>\n",
       "      <th>stored_energy</th>\n",
       "      <th>plasma_density</th>\n",
       "      <th>radiated_power_core</th>\n",
       "      <th>radiated_power_edge</th>\n",
       "      <th>input_power</th>\n",
       "      <th>input_beam_torque</th>\n",
       "      <th>plasma_current_direction</th>\n",
       "      <th>plasma_current_target</th>\n",
       "      <th>plasma_current_error</th>\n",
       "    </tr>\n",
       "  </thead>\n",
       "  <tbody>\n",
       "    <tr>\n",
       "      <th>0</th>\n",
       "      <td>9.09705</td>\n",
       "      <td>3.998029</td>\n",
       "      <td>2.651291</td>\n",
       "      <td>0.125871</td>\n",
       "      <td>0.338027</td>\n",
       "      <td>0.129619</td>\n",
       "      <td>0.916954</td>\n",
       "      <td>0.243341</td>\n",
       "      <td>0.317592</td>\n",
       "      <td>1.196482</td>\n",
       "      <td>1.410511</td>\n",
       "      <td>1.0</td>\n",
       "      <td>2.570460</td>\n",
       "      <td>-0.014722</td>\n",
       "    </tr>\n",
       "    <tr>\n",
       "      <th>1</th>\n",
       "      <td>9.09705</td>\n",
       "      <td>3.998029</td>\n",
       "      <td>2.652814</td>\n",
       "      <td>0.111867</td>\n",
       "      <td>0.338027</td>\n",
       "      <td>0.129619</td>\n",
       "      <td>0.995484</td>\n",
       "      <td>0.243341</td>\n",
       "      <td>0.317592</td>\n",
       "      <td>0.000000</td>\n",
       "      <td>0.000000</td>\n",
       "      <td>1.0</td>\n",
       "      <td>2.573919</td>\n",
       "      <td>-0.040126</td>\n",
       "    </tr>\n",
       "    <tr>\n",
       "      <th>2</th>\n",
       "      <td>9.09705</td>\n",
       "      <td>3.993030</td>\n",
       "      <td>2.645228</td>\n",
       "      <td>0.009847</td>\n",
       "      <td>0.333054</td>\n",
       "      <td>0.127897</td>\n",
       "      <td>0.924176</td>\n",
       "      <td>0.243341</td>\n",
       "      <td>0.317592</td>\n",
       "      <td>0.000000</td>\n",
       "      <td>0.000000</td>\n",
       "      <td>1.0</td>\n",
       "      <td>2.576514</td>\n",
       "      <td>-0.165985</td>\n",
       "    </tr>\n",
       "    <tr>\n",
       "      <th>3</th>\n",
       "      <td>9.09705</td>\n",
       "      <td>3.978850</td>\n",
       "      <td>2.660321</td>\n",
       "      <td>0.098529</td>\n",
       "      <td>0.326178</td>\n",
       "      <td>0.125292</td>\n",
       "      <td>0.994838</td>\n",
       "      <td>0.243341</td>\n",
       "      <td>0.317592</td>\n",
       "      <td>0.000000</td>\n",
       "      <td>0.000000</td>\n",
       "      <td>1.0</td>\n",
       "      <td>2.579973</td>\n",
       "      <td>-0.024751</td>\n",
       "    </tr>\n",
       "    <tr>\n",
       "      <th>4</th>\n",
       "      <td>9.09705</td>\n",
       "      <td>4.047975</td>\n",
       "      <td>2.668117</td>\n",
       "      <td>0.174707</td>\n",
       "      <td>0.326464</td>\n",
       "      <td>0.125647</td>\n",
       "      <td>0.971530</td>\n",
       "      <td>0.243341</td>\n",
       "      <td>0.317592</td>\n",
       "      <td>0.000000</td>\n",
       "      <td>0.000000</td>\n",
       "      <td>1.0</td>\n",
       "      <td>2.583433</td>\n",
       "      <td>0.027176</td>\n",
       "    </tr>\n",
       "    <tr>\n",
       "      <th>...</th>\n",
       "      <td>...</td>\n",
       "      <td>...</td>\n",
       "      <td>...</td>\n",
       "      <td>...</td>\n",
       "      <td>...</td>\n",
       "      <td>...</td>\n",
       "      <td>...</td>\n",
       "      <td>...</td>\n",
       "      <td>...</td>\n",
       "      <td>...</td>\n",
       "      <td>...</td>\n",
       "      <td>...</td>\n",
       "      <td>...</td>\n",
       "      <td>...</td>\n",
       "    </tr>\n",
       "    <tr>\n",
       "      <th>2923</th>\n",
       "      <td>2.97086</td>\n",
       "      <td>6.140669</td>\n",
       "      <td>6.635368</td>\n",
       "      <td>7.624151</td>\n",
       "      <td>0.044957</td>\n",
       "      <td>0.041204</td>\n",
       "      <td>0.864710</td>\n",
       "      <td>28.101873</td>\n",
       "      <td>8.802933</td>\n",
       "      <td>2.670434</td>\n",
       "      <td>1.304350</td>\n",
       "      <td>1.0</td>\n",
       "      <td>6.603315</td>\n",
       "      <td>-2.194593</td>\n",
       "    </tr>\n",
       "    <tr>\n",
       "      <th>2924</th>\n",
       "      <td>2.97086</td>\n",
       "      <td>5.761318</td>\n",
       "      <td>6.911973</td>\n",
       "      <td>16.080912</td>\n",
       "      <td>0.002216</td>\n",
       "      <td>0.002047</td>\n",
       "      <td>2.115293</td>\n",
       "      <td>28.101873</td>\n",
       "      <td>8.802933</td>\n",
       "      <td>2.656228</td>\n",
       "      <td>1.327467</td>\n",
       "      <td>1.0</td>\n",
       "      <td>6.603315</td>\n",
       "      <td>1.202309</td>\n",
       "    </tr>\n",
       "    <tr>\n",
       "      <th>2925</th>\n",
       "      <td>2.97086</td>\n",
       "      <td>6.469927</td>\n",
       "      <td>7.242387</td>\n",
       "      <td>19.240700</td>\n",
       "      <td>4.709975</td>\n",
       "      <td>4.732166</td>\n",
       "      <td>6.759318</td>\n",
       "      <td>28.101873</td>\n",
       "      <td>8.802933</td>\n",
       "      <td>2.719174</td>\n",
       "      <td>1.283328</td>\n",
       "      <td>1.0</td>\n",
       "      <td>6.603315</td>\n",
       "      <td>5.260244</td>\n",
       "    </tr>\n",
       "    <tr>\n",
       "      <th>2926</th>\n",
       "      <td>2.97086</td>\n",
       "      <td>6.469927</td>\n",
       "      <td>6.326215</td>\n",
       "      <td>16.267811</td>\n",
       "      <td>4.709975</td>\n",
       "      <td>4.732166</td>\n",
       "      <td>5.382651</td>\n",
       "      <td>28.101873</td>\n",
       "      <td>8.802933</td>\n",
       "      <td>1.802221</td>\n",
       "      <td>1.955081</td>\n",
       "      <td>1.0</td>\n",
       "      <td>6.603315</td>\n",
       "      <td>-5.991445</td>\n",
       "    </tr>\n",
       "    <tr>\n",
       "      <th>2927</th>\n",
       "      <td>2.97086</td>\n",
       "      <td>11.070413</td>\n",
       "      <td>5.635831</td>\n",
       "      <td>15.149460</td>\n",
       "      <td>0.704005</td>\n",
       "      <td>0.620387</td>\n",
       "      <td>5.436002</td>\n",
       "      <td>28.366543</td>\n",
       "      <td>8.802933</td>\n",
       "      <td>2.441948</td>\n",
       "      <td>2.835624</td>\n",
       "      <td>1.0</td>\n",
       "      <td>6.603315</td>\n",
       "      <td>-14.470030</td>\n",
       "    </tr>\n",
       "  </tbody>\n",
       "</table>\n",
       "<p>2928 rows × 14 columns</p>\n",
       "</div>"
      ],
      "text/plain": [
       "          q95  internal_inductance  plasma_current  locked_mode_amplitude  \\\n",
       "0     9.09705             3.998029        2.651291               0.125871   \n",
       "1     9.09705             3.998029        2.652814               0.111867   \n",
       "2     9.09705             3.993030        2.645228               0.009847   \n",
       "3     9.09705             3.978850        2.660321               0.098529   \n",
       "4     9.09705             4.047975        2.668117               0.174707   \n",
       "...       ...                  ...             ...                    ...   \n",
       "2923  2.97086             6.140669        6.635368               7.624151   \n",
       "2924  2.97086             5.761318        6.911973              16.080912   \n",
       "2925  2.97086             6.469927        7.242387              19.240700   \n",
       "2926  2.97086             6.469927        6.326215              16.267811   \n",
       "2927  2.97086            11.070413        5.635831              15.149460   \n",
       "\n",
       "      norm_beta  stored_energy  plasma_density  radiated_power_core  \\\n",
       "0      0.338027       0.129619        0.916954             0.243341   \n",
       "1      0.338027       0.129619        0.995484             0.243341   \n",
       "2      0.333054       0.127897        0.924176             0.243341   \n",
       "3      0.326178       0.125292        0.994838             0.243341   \n",
       "4      0.326464       0.125647        0.971530             0.243341   \n",
       "...         ...            ...             ...                  ...   \n",
       "2923   0.044957       0.041204        0.864710            28.101873   \n",
       "2924   0.002216       0.002047        2.115293            28.101873   \n",
       "2925   4.709975       4.732166        6.759318            28.101873   \n",
       "2926   4.709975       4.732166        5.382651            28.101873   \n",
       "2927   0.704005       0.620387        5.436002            28.366543   \n",
       "\n",
       "      radiated_power_edge  input_power  input_beam_torque  \\\n",
       "0                0.317592     1.196482           1.410511   \n",
       "1                0.317592     0.000000           0.000000   \n",
       "2                0.317592     0.000000           0.000000   \n",
       "3                0.317592     0.000000           0.000000   \n",
       "4                0.317592     0.000000           0.000000   \n",
       "...                   ...          ...                ...   \n",
       "2923             8.802933     2.670434           1.304350   \n",
       "2924             8.802933     2.656228           1.327467   \n",
       "2925             8.802933     2.719174           1.283328   \n",
       "2926             8.802933     1.802221           1.955081   \n",
       "2927             8.802933     2.441948           2.835624   \n",
       "\n",
       "      plasma_current_direction  plasma_current_target  plasma_current_error  \n",
       "0                          1.0               2.570460             -0.014722  \n",
       "1                          1.0               2.573919             -0.040126  \n",
       "2                          1.0               2.576514             -0.165985  \n",
       "3                          1.0               2.579973             -0.024751  \n",
       "4                          1.0               2.583433              0.027176  \n",
       "...                        ...                    ...                   ...  \n",
       "2923                       1.0               6.603315             -2.194593  \n",
       "2924                       1.0               6.603315              1.202309  \n",
       "2925                       1.0               6.603315              5.260244  \n",
       "2926                       1.0               6.603315             -5.991445  \n",
       "2927                       1.0               6.603315            -14.470030  \n",
       "\n",
       "[2928 rows x 14 columns]"
      ]
     },
     "execution_count": 7,
     "metadata": {},
     "output_type": "execute_result"
    }
   ],
   "source": [
    "df = pd.DataFrame(X[:,:14], columns=col_names)\n",
    "df"
   ]
  },
  {
   "cell_type": "code",
   "execution_count": 8,
   "metadata": {},
   "outputs": [
    {
     "data": {
      "text/plain": [
       "<matplotlib.axes._subplots.AxesSubplot at 0x7fb348777cc0>"
      ]
     },
     "execution_count": 8,
     "metadata": {},
     "output_type": "execute_result"
    },
    {
     "data": {
      "image/png": "[encoded data removed]",
      "text/plain": [
       "<Figure size 432x288 with 1 Axes>"
      ]
     },
     "metadata": {
      "needs_background": "light"
     },
     "output_type": "display_data"
    }
   ],
   "source": [
    "df[['plasma_current', 'plasma_current_target']].plot()"
   ]
  },
  {
   "cell_type": "code",
   "execution_count": 9,
   "metadata": {},
   "outputs": [
    {
     "data": {
      "text/plain": [
       "<matplotlib.image.AxesImage at 0x7fb34864c048>"
      ]
     },
     "execution_count": 9,
     "metadata": {},
     "output_type": "execute_result"
    },
    {
     "data": {
      "image/png": "[encoded data removed]",
      "text/plain": [
       "<Figure size 432x288 with 1 Axes>"
      ]
     },
     "metadata": {
      "needs_background": "light"
     },
     "output_type": "display_data"
    }
   ],
   "source": [
    "# Temperature profile and density profile\n",
    "plt.imshow(X[:,14:].T, cmap='YlGnBu', aspect='auto')"
   ]
  },
  {
   "cell_type": "code",
   "execution_count": 10,
   "metadata": {},
   "outputs": [
    {
     "data": {
      "text/plain": [
       "<matplotlib.axes._subplots.AxesSubplot at 0x7fb34867a6a0>"
      ]
     },
     "execution_count": 10,
     "metadata": {},
     "output_type": "execute_result"
    },
    {
     "data": {
      "image/png": "[encoded data removed]",
      "text/plain": [
       "<Figure size 432x288 with 1 Axes>"
      ]
     },
     "metadata": {
      "needs_background": "light"
     },
     "output_type": "display_data"
    }
   ],
   "source": [
    "df.locked_mode_amplitude.plot()"
   ]
  },
  {
   "cell_type": "code",
   "execution_count": 11,
   "metadata": {},
   "outputs": [],
   "source": [
    "from timecast.modules import PredictLast"
   ]
  },
  {
   "cell_type": "code",
   "execution_count": 12,
   "metadata": {},
   "outputs": [
    {
     "data": {
      "application/vnd.jupyter.widget-view+json": {
       "model_id": "8c8b20ae600a4152bd20a5da53a30926",
       "version_major": 2,
       "version_minor": 0
      },
      "text/plain": [
       "HBox(children=(FloatProgress(value=0.0, max=2928.0), HTML(value='')))"
      ]
     },
     "metadata": {},
     "output_type": "display_data"
    },
    {
     "name": "stdout",
     "output_type": "stream",
     "text": [
      "\n"
     ]
    }
   ],
   "source": [
    "pl = PredictLast(steps=30)\n",
    "ts = jnp.array(df.locked_mode_amplitude)\n",
    "\n",
    "pred = []\n",
    "for x in tqdm(ts):\n",
    "    pred.append(pl(x))"
   ]
  },
  {
   "cell_type": "code",
   "execution_count": 13,
   "metadata": {},
   "outputs": [
    {
     "data": {
      "text/plain": [
       "[<matplotlib.lines.Line2D at 0x7fb347daee10>]"
      ]
     },
     "execution_count": 13,
     "metadata": {},
     "output_type": "execute_result"
    },
    {
     "data": {
      "image/png": "[encoded data removed]",
      "text/plain": [
       "<Figure size 432x288 with 1 Axes>"
      ]
     },
     "metadata": {
      "needs_background": "light"
     },
     "output_type": "display_data"
    }
   ],
   "source": [
    "plt.plot(ts)\n",
    "plt.plot(pred)"
   ]
  },
  {
   "cell_type": "code",
   "execution_count": 14,
   "metadata": {},
   "outputs": [],
   "source": [
    "pl = PredictLast(steps=30)\n",
    "ts = jnp.array(df.locked_mode_amplitude)\n",
    "\n",
    "def loop(module, x):\n",
    "    return module, module(x)\n",
    "\n",
    "pl, results = jax.lax.scan(loop, pl, ts)"
   ]
  },
  {
   "cell_type": "code",
   "execution_count": 15,
   "metadata": {},
   "outputs": [
    {
     "data": {
      "text/plain": [
       "[<matplotlib.lines.Line2D at 0x7fb34ad3f0f0>]"
      ]
     },
     "execution_count": 15,
     "metadata": {},
     "output_type": "execute_result"
    },
    {
     "data": {
      "image/png": "[encoded data removed]",
      "text/plain": [
       "<Figure size 432x288 with 1 Axes>"
      ]
     },
     "metadata": {
      "needs_background": "light"
     },
     "output_type": "display_data"
    }
   ],
   "source": [
    "plt.plot(ts)\n",
    "plt.plot(results)"
   ]
  },
  {
   "cell_type": "code",
   "execution_count": 16,
   "metadata": {},
   "outputs": [],
   "source": [
    "MSE = lambda true, pred: jnp.square(jnp.asarray(true) - jnp.asarray(pred)).mean()"
   ]
  },
  {
   "cell_type": "markdown",
   "metadata": {},
   "source": [
    "# Prepare data"
   ]
  },
  {
   "cell_type": "code",
   "execution_count": 17,
   "metadata": {},
   "outputs": [
    {
     "data": {
      "application/vnd.jupyter.widget-view+json": {
       "model_id": "b9165614b8e641588a8806d2142bc275",
       "version_major": 2,
       "version_minor": 0
      },
      "text/plain": [
       "HBox(children=(FloatProgress(value=0.0, max=3448.0), HTML(value='')))"
      ]
     },
     "metadata": {},
     "output_type": "display_data"
    },
    {
     "name": "stdout",
     "output_type": "stream",
     "text": [
      "\n"
     ]
    }
   ],
   "source": [
    "path = \"data/fusion/original\"\n",
    "if not os.path.exists(path):\n",
    "    os.makedirs(path)\n",
    "\n",
    "for shot in tqdm(list(shot_data.keys())):\n",
    "    pickle.dump(shot_data[shot][\"X\"], open(f\"{path}/{shot}.pkl\", \"wb\"))"
   ]
  },
  {
   "cell_type": "markdown",
   "metadata": {},
   "source": [
    "# PredictConstant"
   ]
  },
  {
   "cell_type": "code",
   "execution_count": 18,
   "metadata": {},
   "outputs": [
    {
     "data": {
      "application/vnd.jupyter.widget-view+json": {
       "model_id": "d962c7f8e76c4fd9803b0ab2291c4a72",
       "version_major": 2,
       "version_minor": 0
      },
      "text/plain": [
       "HBox(children=(FloatProgress(value=0.0, max=2928.0), HTML(value='')))"
      ]
     },
     "metadata": {},
     "output_type": "display_data"
    },
    {
     "name": "stdout",
     "output_type": "stream",
     "text": [
      "\n"
     ]
    },
    {
     "data": {
      "text/plain": [
       "[<matplotlib.lines.Line2D at 0x7fb347d81240>]"
      ]
     },
     "execution_count": 18,
     "metadata": {},
     "output_type": "execute_result"
    },
    {
     "data": {
      "image/png": "[encoded data removed]",
      "text/plain": [
       "<Figure size 432x288 with 1 Axes>"
      ]
     },
     "metadata": {
      "needs_background": "light"
     },
     "output_type": "display_data"
    }
   ],
   "source": [
    "from timecast.modules import PredictConstant\n",
    "\n",
    "pl = PredictConstant()\n",
    "xs = jnp.array(df.locked_mode_amplitude)\n",
    "\n",
    "ys = []\n",
    "for x in tqdm(xs):\n",
    "    ys.append(pl(x))\n",
    "    \n",
    "ts = xs[30:]\n",
    "ys = ys[:-30]\n",
    "\n",
    "plt.plot(ts)\n",
    "plt.plot(ys)"
   ]
  },
  {
   "cell_type": "code",
   "execution_count": 4,
   "metadata": {},
   "outputs": [],
   "source": [
    "@experiment(\"shot\", test_keys)\n",
    "def runner(shot):\n",
    "    import jax\n",
    "    import pickle\n",
    "    import jax.numpy as jnp\n",
    "    \n",
    "    from timecast.modules import PredictConstant\n",
    "    \n",
    "    MSE = lambda true, pred: jnp.square(jnp.asarray(true) - jnp.asarray(pred)).mean()\n",
    "    \n",
    "    pc = PredictConstant()\n",
    "    \n",
    "    data = pickle.load(open(f\"data/fusion/original/{shot}.pkl\", \"rb\"))\n",
    "    \n",
    "    # Locked mode amplitude\n",
    "    xs = data[:, 3]\n",
    "    xs = data[:, 3]\n",
    "    xs, ts = xs[:-30], xs[30:]\n",
    "    \n",
    "    def loop(module, xy):\n",
    "        x, y = xy\n",
    "        return module, module(x)\n",
    "    \n",
    "    ar, ys = jax.lax.scan(loop, pc, (xs, ts))\n",
    "    \n",
    "    return {\n",
    "        \"shot\": shot,\n",
    "        \"mse\": MSE(ts, ys)\n",
    "    }"
   ]
  },
  {
   "cell_type": "code",
   "execution_count": 5,
   "metadata": {},
   "outputs": [
    {
     "data": {
      "application/vnd.jupyter.widget-view+json": {
       "model_id": "a58e946c0f214bbe847652c44d3e906b",
       "version_major": 2,
       "version_minor": 0
      },
      "text/plain": [
       "HBox(children=(FloatProgress(value=0.0, max=862.0), HTML(value='')))"
      ]
     },
     "metadata": {},
     "output_type": "display_data"
    },
    {
     "name": "stdout",
     "output_type": "stream",
     "text": [
      "\n"
     ]
    }
   ],
   "source": [
    "pc_results = runner.run(processes=50, tqdm=tqdm)"
   ]
  },
  {
   "cell_type": "code",
   "execution_count": 6,
   "metadata": {},
   "outputs": [
    {
     "data": {
      "text/plain": [
       "37.27233"
      ]
     },
     "execution_count": 6,
     "metadata": {},
     "output_type": "execute_result"
    }
   ],
   "source": [
    "np.mean([shot[\"mse\"] for shot in pc_results])"
   ]
  },
  {
   "cell_type": "markdown",
   "metadata": {},
   "source": [
    "# PredictLast"
   ]
  },
  {
   "cell_type": "code",
   "execution_count": 22,
   "metadata": {},
   "outputs": [],
   "source": [
    "pl = PredictLast()\n",
    "xs = jnp.array(df.locked_mode_amplitude)"
   ]
  },
  {
   "cell_type": "code",
   "execution_count": 23,
   "metadata": {},
   "outputs": [
    {
     "data": {
      "application/vnd.jupyter.widget-view+json": {
       "model_id": "2ff6ddd1e9e0496c87fb5e8bb81e0fd2",
       "version_major": 2,
       "version_minor": 0
      },
      "text/plain": [
       "HBox(children=(FloatProgress(value=0.0, max=2928.0), HTML(value='')))"
      ]
     },
     "metadata": {},
     "output_type": "display_data"
    },
    {
     "name": "stdout",
     "output_type": "stream",
     "text": [
      "\n"
     ]
    }
   ],
   "source": [
    "ys = []\n",
    "for x in tqdm(xs):\n",
    "    ys.append(pl(x))"
   ]
  },
  {
   "cell_type": "code",
   "execution_count": 24,
   "metadata": {},
   "outputs": [],
   "source": [
    "ts = xs[30:]\n",
    "ys = ys[:-30]"
   ]
  },
  {
   "cell_type": "code",
   "execution_count": 25,
   "metadata": {},
   "outputs": [
    {
     "data": {
      "text/plain": [
       "[<matplotlib.lines.Line2D at 0x7fb627dbaac8>]"
      ]
     },
     "execution_count": 25,
     "metadata": {},
     "output_type": "execute_result"
    },
    {
     "data": {
      "image/png": "[encoded data removed]",
      "text/plain": [
       "<Figure size 432x288 with 1 Axes>"
      ]
     },
     "metadata": {
      "needs_background": "light"
     },
     "output_type": "display_data"
    }
   ],
   "source": [
    "plt.plot(ts)\n",
    "plt.plot(ys)\n",
    "plt.plot(np.array(ts) - np.array(ys).squeeze())"
   ]
  },
  {
   "cell_type": "code",
   "execution_count": 26,
   "metadata": {},
   "outputs": [
    {
     "data": {
      "text/plain": [
       "DeviceArray(7.575396, dtype=float32)"
      ]
     },
     "execution_count": 26,
     "metadata": {},
     "output_type": "execute_result"
    }
   ],
   "source": [
    "MSE(ts, ys)"
   ]
  },
  {
   "cell_type": "code",
   "execution_count": 7,
   "metadata": {},
   "outputs": [],
   "source": [
    "@experiment(\"shot\", test_keys)\n",
    "def runner(shot):\n",
    "    import jax\n",
    "    import pickle\n",
    "    import jax.numpy as jnp\n",
    "    \n",
    "    from timecast.modules import PredictLast\n",
    "    \n",
    "    MSE = lambda true, pred: jnp.square(jnp.asarray(true) - jnp.asarray(pred)).mean()\n",
    "    \n",
    "    pl = PredictLast()\n",
    "    \n",
    "    data = pickle.load(open(f\"data/fusion/original/{shot}.pkl\", \"rb\"))\n",
    "    \n",
    "    # Locked mode amplitude\n",
    "    xs = data[:, 3]\n",
    "    xs, ts = xs[:-30], xs[30:]\n",
    "    \n",
    "    \n",
    "    def loop(module, xy):\n",
    "        x, y = xy\n",
    "        return module, module(x)\n",
    "    \n",
    "    ar, ys = jax.lax.scan(loop, pl, (xs, ts))\n",
    "    \n",
    "    return {\n",
    "        \"shot\": shot,\n",
    "        \"mse\": MSE(ts, ys)\n",
    "    }"
   ]
  },
  {
   "cell_type": "code",
   "execution_count": 8,
   "metadata": {},
   "outputs": [
    {
     "data": {
      "application/vnd.jupyter.widget-view+json": {
       "model_id": "650d1649694f42c2b8a64051672fd378",
       "version_major": 2,
       "version_minor": 0
      },
      "text/plain": [
       "HBox(children=(FloatProgress(value=0.0, max=862.0), HTML(value='')))"
      ]
     },
     "metadata": {},
     "output_type": "display_data"
    },
    {
     "name": "stdout",
     "output_type": "stream",
     "text": [
      "\n"
     ]
    }
   ],
   "source": [
    "pl_results = runner.run(processes=50, tqdm=tqdm)"
   ]
  },
  {
   "cell_type": "code",
   "execution_count": 9,
   "metadata": {},
   "outputs": [
    {
     "data": {
      "text/plain": [
       "18.568068"
      ]
     },
     "execution_count": 9,
     "metadata": {},
     "output_type": "execute_result"
    }
   ],
   "source": [
    "np.mean([shot[\"mse\"] for shot in pl_results])"
   ]
  },
  {
   "cell_type": "markdown",
   "metadata": {},
   "source": [
    "# AR"
   ]
  },
  {
   "cell_type": "code",
   "execution_count": 30,
   "metadata": {},
   "outputs": [],
   "source": [
    "from typing import Iterable\n",
    "from timecast.modules import AR, Linear\n",
    "from timecast import Module\n",
    "from timecast.optim import SGD"
   ]
  },
  {
   "cell_type": "code",
   "execution_count": 31,
   "metadata": {
    "scrolled": false
   },
   "outputs": [],
   "source": [
    "ar = AR(10, 1, 1)\n",
    "xs = jnp.array(df.locked_mode_amplitude)\n",
    "\n",
    "xs, ts = xs[:-30], xs[30:]\n",
    "\n",
    "sgd = SGD()\n",
    "\n",
    "def loop(module, xy):\n",
    "    x, y = xy\n",
    "    pred = module(x)\n",
    "    module = sgd(module, x, y)\n",
    "    \n",
    "    return module, pred\n",
    "\n",
    "ar, results = jax.lax.scan(loop, ar, (xs, ts))"
   ]
  },
  {
   "cell_type": "code",
   "execution_count": 32,
   "metadata": {},
   "outputs": [
    {
     "data": {
      "text/plain": [
       "[<matplotlib.lines.Line2D at 0x7fb627b1e978>]"
      ]
     },
     "execution_count": 32,
     "metadata": {},
     "output_type": "execute_result"
    },
    {
     "data": {
      "image/png": "[encoded data removed]",
      "text/plain": [
       "<Figure size 432x288 with 1 Axes>"
      ]
     },
     "metadata": {
      "needs_background": "light"
     },
     "output_type": "display_data"
    }
   ],
   "source": [
    "plt.plot(ts)\n",
    "plt.plot(results)\n",
    "plt.plot(np.array(ts) - np.array(results.squeeze()))"
   ]
  },
  {
   "cell_type": "code",
   "execution_count": 33,
   "metadata": {},
   "outputs": [
    {
     "data": {
      "text/plain": [
       "DeviceArray(7.914255, dtype=float32)"
      ]
     },
     "execution_count": 33,
     "metadata": {},
     "output_type": "execute_result"
    }
   ],
   "source": [
    "MSE(results, ts)"
   ]
  },
  {
   "cell_type": "code",
   "execution_count": 34,
   "metadata": {},
   "outputs": [
    {
     "data": {
      "text/plain": [
       "[<matplotlib.lines.Line2D at 0x7fb627b1e9b0>]"
      ]
     },
     "execution_count": 34,
     "metadata": {},
     "output_type": "execute_result"
    },
    {
     "data": {
      "image/png": "[encoded data removed]",
      "text/plain": [
       "<Figure size 432x288 with 1 Axes>"
      ]
     },
     "metadata": {
      "needs_background": "light"
     },
     "output_type": "display_data"
    }
   ],
   "source": [
    "plt.plot(ar.linear.kernel.squeeze())"
   ]
  },
  {
   "cell_type": "code",
   "execution_count": 258,
   "metadata": {},
   "outputs": [
    {
     "data": {
      "text/plain": [
       "[851812829646.3374,\n",
       " inf,\n",
       " 311.9806815073767,\n",
       " 69.76177878029031,\n",
       " 130.26593284769407,\n",
       " 95.08721229743287]"
      ]
     },
     "execution_count": 258,
     "metadata": {},
     "output_type": "execute_result"
    }
   ],
   "source": [
    "[df[col].mean() for col in df]"
   ]
  },
  {
   "cell_type": "code",
   "execution_count": null,
   "metadata": {},
   "outputs": [],
   "source": []
  }
 ],
 "metadata": {
  "kernelspec": {
   "display_name": "Python 3",
   "language": "python",
   "name": "python3"
  },
  "language_info": {
   "codemirror_mode": {
    "name": "ipython",
    "version": 3
   },
   "file_extension": ".py",
   "mimetype": "text/x-python",
   "name": "python",
   "nbconvert_exporter": "python",
   "pygments_lexer": "ipython3",
   "version": "3.7.0"
  }
 },
 "nbformat": 4,
 "nbformat_minor": 4
}
