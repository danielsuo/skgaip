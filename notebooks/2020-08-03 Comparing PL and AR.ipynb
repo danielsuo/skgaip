{
 "cells": [
  {
   "cell_type": "code",
   "execution_count": 1,
   "metadata": {},
   "outputs": [],
   "source": [
    "%load_ext autoreload\n",
    "%autoreload 2"
   ]
  },
  {
   "cell_type": "code",
   "execution_count": 22,
   "metadata": {},
   "outputs": [],
   "source": [
    "import os\n",
    "import jax\n",
    "import timecast as tc\n",
    "from timecast.utils.experiment import experiment\n",
    "import pandas as pd\n",
    "import jax.numpy as jnp\n",
    "import numpy as np\n",
    "import matplotlib.pyplot as plt\n",
    "from keras.models import load_model, Model\n",
    "from tqdm.notebook import tqdm\n",
    "import binpacking\n",
    "import pickle"
   ]
  },
  {
   "cell_type": "code",
   "execution_count": 23,
   "metadata": {},
   "outputs": [],
   "source": [
    "test_keys = np.load('data/fusion/FRNN_1d_sample/test_list.npy')\n",
    "MSE = lambda true, pred: jnp.square(jnp.asarray(true) - jnp.asarray(pred)).mean()"
   ]
  },
  {
   "cell_type": "markdown",
   "metadata": {},
   "source": [
    "# PredictLast"
   ]
  },
  {
   "cell_type": "code",
   "execution_count": 24,
   "metadata": {},
   "outputs": [],
   "source": [
    "@experiment(\"shot\", test_keys)\n",
    "def runner(shot):\n",
    "    import jax\n",
    "    import pickle\n",
    "    import jax.numpy as jnp\n",
    "    \n",
    "    from timecast.modules import PredictLast\n",
    "    \n",
    "    MSE = lambda true, pred: jnp.square(jnp.asarray(true) - jnp.asarray(pred)).mean()\n",
    "    \n",
    "    pl = PredictLast()\n",
    "    \n",
    "    data = pickle.load(open(f\"data/fusion/original/{shot}.pkl\", \"rb\"))\n",
    "    \n",
    "    # Locked mode amplitude\n",
    "    xs = data[:, 3]\n",
    "    xs, ts, s = xs[:-30], xs[1:-29], xs[30:]\n",
    "    \n",
    "    \n",
    "    def loop(module, xy):\n",
    "        x, y = xy\n",
    "        return module, module(x)\n",
    "    \n",
    "    ar, ys = jax.lax.scan(loop, pl, (xs, ts))\n",
    "    \n",
    "    return {\n",
    "        \"shot\": shot,\n",
    "        \"mse\": MSE(s.squeeze(), ys.squeeze())\n",
    "    }"
   ]
  },
  {
   "cell_type": "code",
   "execution_count": 25,
   "metadata": {},
   "outputs": [
    {
     "data": {
      "application/vnd.jupyter.widget-view+json": {
       "model_id": "4f210dd1b56840989873ef35a8bf86b2",
       "version_major": 2,
       "version_minor": 0
      },
      "text/plain": [
       "HBox(children=(FloatProgress(value=0.0, max=862.0), HTML(value='')))"
      ]
     },
     "metadata": {},
     "output_type": "display_data"
    },
    {
     "name": "stdout",
     "output_type": "stream",
     "text": [
      "\n"
     ]
    }
   ],
   "source": [
    "pl_results = runner.run(processes=50, tqdm=tqdm)"
   ]
  },
  {
   "cell_type": "code",
   "execution_count": 26,
   "metadata": {},
   "outputs": [
    {
     "data": {
      "text/plain": [
       "0.6680888"
      ]
     },
     "execution_count": 26,
     "metadata": {},
     "output_type": "execute_result"
    }
   ],
   "source": [
    "np.mean([shot[\"mse\"] for shot in pl_results])"
   ]
  },
  {
   "cell_type": "code",
   "execution_count": 27,
   "metadata": {},
   "outputs": [],
   "source": [
    "pl_results = {shot[\"shot\"]: shot[\"mse\"] for shot in pl_results}"
   ]
  },
  {
   "cell_type": "markdown",
   "metadata": {},
   "source": [
    "# AR"
   ]
  },
  {
   "cell_type": "code",
   "execution_count": 8,
   "metadata": {},
   "outputs": [],
   "source": [
    "@experiment(\"shot\", test_keys)\n",
    "@experiment(\"history_len\", [200])\n",
    "@experiment(\"learning_rate\", [1e-5])\n",
    "def runner(shot, history_len, learning_rate):\n",
    "    import jax\n",
    "    import pickle\n",
    "    import jax.numpy as jnp\n",
    "    \n",
    "    from timecast.modules import AR\n",
    "    from timecast.optim import SGD, NormThreshold\n",
    "    \n",
    "    MSE = lambda true, pred: jnp.square(jnp.asarray(true) - jnp.asarray(pred)).mean()\n",
    "    \n",
    "    ar = AR(history_len, 1, 1)\n",
    "    \n",
    "    data = pickle.load(open(f\"data/fusion/original/{shot}.pkl\", \"rb\"))\n",
    "    \n",
    "    # Locked mode amplitude\n",
    "    xs, ts, s = data[:-30, 3], data[1:-29, 3], data[30:, 3]\n",
    "    \n",
    "    sgd = SGD(learning_rate=learning_rate)\n",
    "    nl_k = NormThreshold(0.03, filter=lambda x: \"kernel\" in x)\n",
    "    nl_b = NormThreshold(1e-4, filter=lambda x: \"bias\" in x)\n",
    "    def loop(module, xy):\n",
    "        x, y = xy\n",
    "        pred = module(x)\n",
    "        module = sgd(module, x, y)\n",
    "        module = nl_k(module)\n",
    "        module = nl_b(module)\n",
    "\n",
    "        return module, pred\n",
    "\n",
    "    ar, ys = jax.lax.scan(loop, ar, (xs, ts))\n",
    "    \n",
    "    return {\n",
    "        \"shot\": shot,\n",
    "        \"history_len\": history_len,\n",
    "        \"learning_rate\": learning_rate,\n",
    "        \"mse\": MSE(s.squeeze(), ys.squeeze()),\n",
    "    }"
   ]
  },
  {
   "cell_type": "code",
   "execution_count": 9,
   "metadata": {},
   "outputs": [
    {
     "data": {
      "application/vnd.jupyter.widget-view+json": {
       "model_id": "655ea808a3a2408586787340273d66b2",
       "version_major": 2,
       "version_minor": 0
      },
      "text/plain": [
       "HBox(children=(FloatProgress(value=0.0, max=862.0), HTML(value='')))"
      ]
     },
     "metadata": {},
     "output_type": "display_data"
    },
    {
     "name": "stdout",
     "output_type": "stream",
     "text": [
      "\n"
     ]
    }
   ],
   "source": [
    "ar_results = runner.run(processes=50, tqdm=tqdm)"
   ]
  },
  {
   "cell_type": "code",
   "execution_count": 10,
   "metadata": {},
   "outputs": [
    {
     "data": {
      "text/html": [
       "<div>\n",
       "<style scoped>\n",
       "    .dataframe tbody tr th:only-of-type {\n",
       "        vertical-align: middle;\n",
       "    }\n",
       "\n",
       "    .dataframe tbody tr th {\n",
       "        vertical-align: top;\n",
       "    }\n",
       "\n",
       "    .dataframe thead th {\n",
       "        text-align: right;\n",
       "    }\n",
       "</style>\n",
       "<table border=\"1\" class=\"dataframe\">\n",
       "  <thead>\n",
       "    <tr style=\"text-align: right;\">\n",
       "      <th>learning_rate</th>\n",
       "      <th>0.00001</th>\n",
       "    </tr>\n",
       "    <tr>\n",
       "      <th>history_len</th>\n",
       "      <th></th>\n",
       "    </tr>\n",
       "  </thead>\n",
       "  <tbody>\n",
       "    <tr>\n",
       "      <th>200.0</th>\n",
       "      <td>13.469981</td>\n",
       "    </tr>\n",
       "  </tbody>\n",
       "</table>\n",
       "</div>"
      ],
      "text/plain": [
       "learning_rate    0.00001\n",
       "history_len             \n",
       "200.0          13.469981"
      ]
     },
     "execution_count": 10,
     "metadata": {},
     "output_type": "execute_result"
    }
   ],
   "source": [
    "ar_df = pd.DataFrame.from_dict(ar_results)\n",
    "ar_df = ar_df.astype(float)\n",
    "ar_df.pivot_table(values=\"mse\", index=[\"history_len\"], columns=[\"learning_rate\"])"
   ]
  },
  {
   "cell_type": "code",
   "execution_count": 11,
   "metadata": {},
   "outputs": [],
   "source": [
    "ar_results = {shot[\"shot\"]: shot[\"mse\"] for shot in ar_results}"
   ]
  },
  {
   "cell_type": "code",
   "execution_count": 12,
   "metadata": {},
   "outputs": [],
   "source": [
    "less = [shot for shot in ar_results if ar_results[shot] < pl_results[shot]]"
   ]
  },
  {
   "cell_type": "code",
   "execution_count": 13,
   "metadata": {},
   "outputs": [
    {
     "data": {
      "text/plain": [
       "[158891]"
      ]
     },
     "execution_count": 13,
     "metadata": {},
     "output_type": "execute_result"
    }
   ],
   "source": [
    "less"
   ]
  },
  {
   "cell_type": "code",
   "execution_count": 14,
   "metadata": {},
   "outputs": [
    {
     "data": {
      "text/plain": [
       "158891"
      ]
     },
     "execution_count": 14,
     "metadata": {},
     "output_type": "execute_result"
    }
   ],
   "source": [
    "less[0]"
   ]
  },
  {
   "cell_type": "markdown",
   "metadata": {},
   "source": [
    "# AR on PL resid"
   ]
  },
  {
   "cell_type": "code",
   "execution_count": 15,
   "metadata": {},
   "outputs": [],
   "source": [
    "@experiment(\"shot\", test_keys)\n",
    "@experiment(\"history_len\", [5, 10, 20])\n",
    "@experiment(\"learning_rate\", [1e-7])\n",
    "@experiment(\"thresh\", [0.1])\n",
    "def runner(shot, history_len, learning_rate, thresh):\n",
    "    import jax\n",
    "    import pickle\n",
    "    import jax.numpy as jnp\n",
    "    \n",
    "    from timecast.modules import AR\n",
    "    from timecast.optim import SGD, NormThreshold\n",
    "    \n",
    "    MSE = lambda true, pred: jnp.square(jnp.asarray(true) - jnp.asarray(pred)).mean()\n",
    "    \n",
    "    ar = AR(history_len, 1, 1)\n",
    "    \n",
    "    data = pickle.load(open(f\"data/fusion/original/{shot}.pkl\", \"rb\"))\n",
    "    \n",
    "    # Locked mode amplitude\n",
    "    xs, ts, s = data[:-30, 3], data[1:-29, 3] - data[:-30, 3], data[30:, 3]\n",
    "    \n",
    "    sgd = SGD(learning_rate=learning_rate)\n",
    "    nl_k = NormThreshold(thresh, filter=lambda x: \"kernel\" in x)\n",
    "    nl_b = NormThreshold(1e-4, filter=lambda x: \"bias\" in x)\n",
    "    def loop(module, xy):\n",
    "        x, y = xy\n",
    "        pred = module(x)\n",
    "        module = sgd(module, x, y)\n",
    "        module = nl_k(module)\n",
    "        module = nl_b(module)\n",
    "\n",
    "        return module, pred\n",
    "\n",
    "    ar, ys = jax.lax.scan(loop, ar, (xs, ts))\n",
    "    ys = ys.squeeze()\n",
    "    ys += data[:-30, 3].squeeze()\n",
    "    \n",
    "#     pickle.dump({\n",
    "#         \"shot\": shot,\n",
    "#         \"history_len\": history_len,\n",
    "#         \"learning_rate\": learning_rate,\n",
    "#         \"mse\": MSE(s.squeeze(), ys.squeeze()),\n",
    "#         \"pl_mse\": MSE(s.squeeze(), xs.squeeze()),\n",
    "#         \"xs\": xs.squeeze(),\n",
    "#         \"ts\": ts.squeeze(),\n",
    "#         \"ys\": ys.squeeze(),\n",
    "#         \"s\": s.squeeze()\n",
    "#     }, open(f\"data/fusion/ar/{shot}.pkl\", \"wb\"))\n",
    "    \n",
    "    return {\n",
    "        \"shot\": shot,\n",
    "        \"history_len\": history_len,\n",
    "        \"learning_rate\": learning_rate,\n",
    "        \"thresh\": thresh,\n",
    "        \"mse\": MSE(s.squeeze(), ys.squeeze()),\n",
    "    }"
   ]
  },
  {
   "cell_type": "code",
   "execution_count": 16,
   "metadata": {},
   "outputs": [
    {
     "data": {
      "application/vnd.jupyter.widget-view+json": {
       "model_id": "da162a3ade3a450f80c9b43ad4310171",
       "version_major": 2,
       "version_minor": 0
      },
      "text/plain": [
       "HBox(children=(FloatProgress(value=0.0, max=23274.0), HTML(value='')))"
      ]
     },
     "metadata": {},
     "output_type": "display_data"
    },
    {
     "name": "stdout",
     "output_type": "stream",
     "text": [
      "\n"
     ]
    }
   ],
   "source": [
    "resid_results = runner.run(processes=50, tqdm=tqdm)"
   ]
  },
  {
   "cell_type": "code",
   "execution_count": 17,
   "metadata": {},
   "outputs": [
    {
     "data": {
      "text/html": [
       "<div>\n",
       "<style scoped>\n",
       "    .dataframe tbody tr th:only-of-type {\n",
       "        vertical-align: middle;\n",
       "    }\n",
       "\n",
       "    .dataframe tbody tr th {\n",
       "        vertical-align: top;\n",
       "    }\n",
       "\n",
       "    .dataframe thead tr th {\n",
       "        text-align: left;\n",
       "    }\n",
       "\n",
       "    .dataframe thead tr:last-of-type th {\n",
       "        text-align: right;\n",
       "    }\n",
       "</style>\n",
       "<table border=\"1\" class=\"dataframe\">\n",
       "  <thead>\n",
       "    <tr>\n",
       "      <th>learning_rate</th>\n",
       "      <th colspan=\"3\" halign=\"left\">1.000000e-07</th>\n",
       "      <th colspan=\"3\" halign=\"left\">1.000000e-06</th>\n",
       "      <th colspan=\"3\" halign=\"left\">1.000000e-05</th>\n",
       "    </tr>\n",
       "    <tr>\n",
       "      <th>thresh</th>\n",
       "      <th>0.1</th>\n",
       "      <th>0.3</th>\n",
       "      <th>0.5</th>\n",
       "      <th>0.1</th>\n",
       "      <th>0.3</th>\n",
       "      <th>0.5</th>\n",
       "      <th>0.1</th>\n",
       "      <th>0.3</th>\n",
       "      <th>0.5</th>\n",
       "    </tr>\n",
       "    <tr>\n",
       "      <th>history_len</th>\n",
       "      <th></th>\n",
       "      <th></th>\n",
       "      <th></th>\n",
       "      <th></th>\n",
       "      <th></th>\n",
       "      <th></th>\n",
       "      <th></th>\n",
       "      <th></th>\n",
       "      <th></th>\n",
       "    </tr>\n",
       "  </thead>\n",
       "  <tbody>\n",
       "    <tr>\n",
       "      <th>5.0</th>\n",
       "      <td>0.667728</td>\n",
       "      <td>0.667728</td>\n",
       "      <td>0.667728</td>\n",
       "      <td>0.667508</td>\n",
       "      <td>0.667508</td>\n",
       "      <td>0.667508</td>\n",
       "      <td>0.669260</td>\n",
       "      <td>0.669260</td>\n",
       "      <td>0.669260</td>\n",
       "    </tr>\n",
       "    <tr>\n",
       "      <th>10.0</th>\n",
       "      <td>0.667698</td>\n",
       "      <td>0.667698</td>\n",
       "      <td>0.667698</td>\n",
       "      <td>0.668087</td>\n",
       "      <td>0.668087</td>\n",
       "      <td>0.668087</td>\n",
       "      <td>2.265493</td>\n",
       "      <td>14.942421</td>\n",
       "      <td>40.226048</td>\n",
       "    </tr>\n",
       "    <tr>\n",
       "      <th>20.0</th>\n",
       "      <td>0.667819</td>\n",
       "      <td>0.667819</td>\n",
       "      <td>0.667819</td>\n",
       "      <td>0.668266</td>\n",
       "      <td>0.668266</td>\n",
       "      <td>0.668266</td>\n",
       "      <td>4.867954</td>\n",
       "      <td>38.372155</td>\n",
       "      <td>105.307749</td>\n",
       "    </tr>\n",
       "  </tbody>\n",
       "</table>\n",
       "</div>"
      ],
      "text/plain": [
       "learning_rate 1.000000e-07                     1.000000e-06            \\\n",
       "thresh                 0.1       0.3       0.5          0.1       0.3   \n",
       "history_len                                                             \n",
       "5.0               0.667728  0.667728  0.667728     0.667508  0.667508   \n",
       "10.0              0.667698  0.667698  0.667698     0.668087  0.668087   \n",
       "20.0              0.667819  0.667819  0.667819     0.668266  0.668266   \n",
       "\n",
       "learning_rate           1.000000e-05                         \n",
       "thresh              0.5          0.1        0.3         0.5  \n",
       "history_len                                                  \n",
       "5.0            0.667508     0.669260   0.669260    0.669260  \n",
       "10.0           0.668087     2.265493  14.942421   40.226048  \n",
       "20.0           0.668266     4.867954  38.372155  105.307749  "
      ]
     },
     "execution_count": 17,
     "metadata": {},
     "output_type": "execute_result"
    }
   ],
   "source": [
    "resid_df = pd.DataFrame.from_dict(resid_results)\n",
    "resid_df = resid_df.astype(float)\n",
    "resid_df.pivot_table(values=\"mse\", index=[\"history_len\"], columns=[\"learning_rate\", \"thresh\"])"
   ]
  },
  {
   "cell_type": "code",
   "execution_count": 14,
   "metadata": {},
   "outputs": [
    {
     "data": {
      "text/html": [
       "<div>\n",
       "<style scoped>\n",
       "    .dataframe tbody tr th:only-of-type {\n",
       "        vertical-align: middle;\n",
       "    }\n",
       "\n",
       "    .dataframe tbody tr th {\n",
       "        vertical-align: top;\n",
       "    }\n",
       "\n",
       "    .dataframe thead tr th {\n",
       "        text-align: left;\n",
       "    }\n",
       "\n",
       "    .dataframe thead tr:last-of-type th {\n",
       "        text-align: right;\n",
       "    }\n",
       "</style>\n",
       "<table border=\"1\" class=\"dataframe\">\n",
       "  <thead>\n",
       "    <tr>\n",
       "      <th>learning_rate</th>\n",
       "      <th colspan=\"3\" halign=\"left\">1.000000e-07</th>\n",
       "      <th colspan=\"3\" halign=\"left\">1.000000e-06</th>\n",
       "      <th colspan=\"3\" halign=\"left\">1.000000e-05</th>\n",
       "    </tr>\n",
       "    <tr>\n",
       "      <th>thresh</th>\n",
       "      <th>0.1</th>\n",
       "      <th>0.3</th>\n",
       "      <th>0.5</th>\n",
       "      <th>0.1</th>\n",
       "      <th>0.3</th>\n",
       "      <th>0.5</th>\n",
       "      <th>0.1</th>\n",
       "      <th>0.3</th>\n",
       "      <th>0.5</th>\n",
       "    </tr>\n",
       "    <tr>\n",
       "      <th>history_len</th>\n",
       "      <th></th>\n",
       "      <th></th>\n",
       "      <th></th>\n",
       "      <th></th>\n",
       "      <th></th>\n",
       "      <th></th>\n",
       "      <th></th>\n",
       "      <th></th>\n",
       "      <th></th>\n",
       "    </tr>\n",
       "  </thead>\n",
       "  <tbody>\n",
       "    <tr>\n",
       "      <th>50.0</th>\n",
       "      <td>0.668197</td>\n",
       "      <td>0.668197</td>\n",
       "      <td>0.668197</td>\n",
       "      <td>0.670672</td>\n",
       "      <td>0.670672</td>\n",
       "      <td>0.670672</td>\n",
       "      <td>12.885104</td>\n",
       "      <td>110.508258</td>\n",
       "      <td>305.649828</td>\n",
       "    </tr>\n",
       "    <tr>\n",
       "      <th>100.0</th>\n",
       "      <td>0.668807</td>\n",
       "      <td>0.668807</td>\n",
       "      <td>0.668807</td>\n",
       "      <td>16.139026</td>\n",
       "      <td>139.271070</td>\n",
       "      <td>384.921156</td>\n",
       "      <td>26.888689</td>\n",
       "      <td>236.416223</td>\n",
       "      <td>654.836401</td>\n",
       "    </tr>\n",
       "    <tr>\n",
       "      <th>200.0</th>\n",
       "      <td>0.669563</td>\n",
       "      <td>0.669563</td>\n",
       "      <td>0.669563</td>\n",
       "      <td>41.373428</td>\n",
       "      <td>366.389364</td>\n",
       "      <td>1015.761596</td>\n",
       "      <td>55.146215</td>\n",
       "      <td>490.355464</td>\n",
       "      <td>1359.719041</td>\n",
       "    </tr>\n",
       "  </tbody>\n",
       "</table>\n",
       "</div>"
      ],
      "text/plain": [
       "learning_rate 1.000000e-07                     1.000000e-06              \\\n",
       "thresh                 0.1       0.3       0.5          0.1         0.3   \n",
       "history_len                                                               \n",
       "50.0              0.668197  0.668197  0.668197     0.670672    0.670672   \n",
       "100.0             0.668807  0.668807  0.668807    16.139026  139.271070   \n",
       "200.0             0.669563  0.669563  0.669563    41.373428  366.389364   \n",
       "\n",
       "learning_rate              1.000000e-05                           \n",
       "thresh                 0.5          0.1         0.3          0.5  \n",
       "history_len                                                       \n",
       "50.0              0.670672    12.885104  110.508258   305.649828  \n",
       "100.0           384.921156    26.888689  236.416223   654.836401  \n",
       "200.0          1015.761596    55.146215  490.355464  1359.719041  "
      ]
     },
     "execution_count": 14,
     "metadata": {},
     "output_type": "execute_result"
    }
   ],
   "source": [
    "resid_df = pd.DataFrame.from_dict(resid_results)\n",
    "resid_df = resid_df.astype(float)\n",
    "resid_df.pivot_table(values=\"mse\", index=[\"history_len\"], columns=[\"learning_rate\", \"thresh\"])"
   ]
  },
  {
   "cell_type": "code",
   "execution_count": 18,
   "metadata": {},
   "outputs": [],
   "source": [
    "resid_results = {shot[\"shot\"]: shot[\"mse\"] for shot in resid_results if (shot[\"history_len\"] == 10 and shot[\"thresh\"] == 0.1)}"
   ]
  },
  {
   "cell_type": "code",
   "execution_count": 38,
   "metadata": {},
   "outputs": [
    {
     "name": "stdout",
     "output_type": "stream",
     "text": [
      "0.057042837 0.057175115\n"
     ]
    },
    {
     "data": {
      "image/png": "[encoded data removed]",
      "text/plain": [
       "<Figure size 432x288 with 1 Axes>"
      ]
     },
     "metadata": {
      "needs_background": "light"
     },
     "output_type": "display_data"
    }
   ],
   "source": [
    "shot = 156680\n",
    "data = pickle.load(open(f\"data/fusion/ar/{shot}.pkl\", \"rb\"))\n",
    "plt.plot(data[\"s\"])\n",
    "plt.plot(data[\"xs\"])\n",
    "# plt.plot(data[\"ys\"])\n",
    "print(MSE(data[\"s\"], data[\"xs\"]), MSE(data[\"s\"], data[\"ys\"]))"
   ]
  },
  {
   "cell_type": "code",
   "execution_count": 39,
   "metadata": {},
   "outputs": [],
   "source": [
    "less = [shot for shot in resid_results if resid_results[shot] < pl_results[shot]]\n",
    "more = [shot for shot in resid_results if resid_results[shot] >= pl_results[shot]]\n",
    "thresh = [shot for shot in resid_results if (resid_results[shot] - pl_results[shot] > 0.1)]\n",
    "diff = [resid_results[shot] - pl_results[shot] for shot in resid_results]"
   ]
  },
  {
   "cell_type": "code",
   "execution_count": 46,
   "metadata": {},
   "outputs": [],
   "source": [
    "diff = np.sort(diff)"
   ]
  },
  {
   "cell_type": "code",
   "execution_count": 47,
   "metadata": {},
   "outputs": [
    {
     "data": {
      "text/plain": [
       "array([-3.38664889e-01, -3.35353732e-01, -3.07311893e-01, -2.91505694e-01,\n",
       "       -2.21143484e-01, -9.91854668e-02, -3.54251862e-02, -3.37429047e-02,\n",
       "       -2.06124783e-02, -1.45069361e-02, -1.39760971e-02, -1.20018721e-02,\n",
       "       -1.03838146e-02, -9.68551636e-03, -8.05544853e-03, -6.24036789e-03,\n",
       "       -6.19566441e-03, -4.76002693e-03, -4.71687317e-03, -4.29934263e-03,\n",
       "       -4.09483910e-03, -4.02379036e-03, -3.51819396e-03, -3.47262621e-03,\n",
       "       -2.66265869e-03, -2.50327587e-03, -2.50077248e-03, -2.39276886e-03,\n",
       "       -2.25311518e-03, -2.08365917e-03, -2.05051899e-03, -1.44383311e-03,\n",
       "       -1.42228603e-03, -1.26183033e-03, -1.18630379e-03, -1.03223324e-03,\n",
       "       -9.78469849e-04, -8.97496939e-04, -8.60601664e-04, -8.19683075e-04,\n",
       "       -8.07270408e-04, -7.86125660e-04, -7.38978386e-04, -7.07417727e-04,\n",
       "       -5.83767891e-04, -5.71250916e-04, -4.93824482e-04, -4.73678112e-04,\n",
       "       -4.35426831e-04, -4.33743000e-04, -4.29660082e-04, -3.92913818e-04,\n",
       "       -3.91244888e-04, -3.76127660e-04, -3.73125076e-04, -3.70621681e-04,\n",
       "       -3.60518694e-04, -3.50713730e-04, -3.33338976e-04, -3.33309174e-04,\n",
       "       -2.94089317e-04, -2.87890434e-04, -2.79247761e-04, -2.78919935e-04,\n",
       "       -2.40698457e-04, -2.32145190e-04, -2.06253491e-04, -2.03460455e-04,\n",
       "       -1.91390514e-04, -1.83880329e-04, -1.83336437e-04, -1.76295638e-04,\n",
       "       -1.67399645e-04, -1.63214281e-04, -1.63123012e-04, -1.60038471e-04,\n",
       "       -1.58980489e-04, -1.54033303e-04, -1.51246786e-04, -1.51157379e-04,\n",
       "       -1.42514706e-04, -1.41501427e-04, -1.26421452e-04, -1.20889395e-04,\n",
       "       -1.15722418e-04, -1.07780099e-04, -1.04397535e-04, -1.01707876e-04,\n",
       "       -1.01253390e-04, -9.97185707e-05, -9.31695104e-05, -9.22083855e-05,\n",
       "       -9.14931297e-05, -8.81627202e-05, -8.78721476e-05, -8.11815262e-05,\n",
       "       -7.93933868e-05, -7.77021050e-05, -7.74934888e-05, -7.55563378e-05,\n",
       "       -7.50422478e-05, -7.44163990e-05, -6.75916672e-05, -6.43804669e-05,\n",
       "       -6.08637929e-05, -6.07967377e-05, -6.03795052e-05, -5.98179176e-05,\n",
       "       -5.82449138e-05, -5.60432673e-05, -5.47077507e-05, -5.40968031e-05,\n",
       "       -4.96506691e-05, -4.89801168e-05, -4.68343496e-05, -4.67002392e-05,\n",
       "       -4.59998846e-05, -4.35747206e-05, -3.83183360e-05, -3.62619758e-05,\n",
       "       -3.56957316e-05, -3.17245722e-05, -3.13334167e-05, -3.08156013e-05,\n",
       "       -3.07168812e-05, -3.05203721e-05, -2.86996365e-05, -2.83420086e-05,\n",
       "       -2.76789069e-05, -2.61962414e-05, -2.51606107e-05, -2.44230032e-05,\n",
       "       -2.38269567e-05, -2.33091414e-05, -2.32122838e-05, -2.31899321e-05,\n",
       "       -2.23815441e-05, -2.18451023e-05, -2.15768814e-05, -1.96248293e-05,\n",
       "       -1.96080655e-05, -1.86972320e-05, -1.85519457e-05, -1.84401870e-05,\n",
       "       -1.80974603e-05, -1.75833702e-05, -1.40368938e-05, -1.28149986e-05,\n",
       "       -1.23269856e-05, -1.20699406e-05, -1.16825104e-05, -1.15968287e-05,\n",
       "       -1.14366412e-05, -1.05369836e-05, -9.81986523e-06, -9.75839794e-06,\n",
       "       -9.48458910e-06, -9.35420394e-06, -8.64267349e-06, -8.21053982e-06,\n",
       "       -8.00564885e-06, -7.83801079e-06, -7.75605440e-06, -7.26524740e-06,\n",
       "       -6.57141209e-06, -6.10202551e-06, -5.76674938e-06, -5.72204590e-06,\n",
       "       -5.64381480e-06, -4.78699803e-06, -4.52250242e-06, -4.36045229e-06,\n",
       "       -4.06801701e-06, -3.99537385e-06, -3.95067036e-06, -3.62843275e-06,\n",
       "       -3.51667404e-06, -3.41236591e-06, -3.15904617e-06, -2.75671482e-06,\n",
       "       -2.74181366e-06, -2.71201134e-06, -2.69711018e-06, -2.67475843e-06,\n",
       "       -2.17556953e-06, -1.72667205e-06, -1.65402889e-06, -1.38580799e-06,\n",
       "       -1.06729567e-06, -9.08970833e-07, -8.41915607e-07, -6.63101673e-07,\n",
       "       -5.93718141e-08,  0.00000000e+00,  0.00000000e+00,  1.72760338e-07,\n",
       "        2.68220901e-07,  3.16649675e-07,  3.50177288e-07,  3.82773578e-07,\n",
       "        6.57513738e-07,  9.46223736e-07,  9.53674316e-07,  1.02072954e-06,\n",
       "        1.11386180e-06,  1.37090683e-06,  1.39325857e-06,  1.43051147e-06,\n",
       "        1.44727528e-06,  1.50781125e-06,  1.57952309e-06,  1.78068876e-06,\n",
       "        1.79558992e-06,  2.14576721e-06,  2.42516398e-06,  2.61887908e-06,\n",
       "        2.69711018e-06,  2.94856727e-06,  2.95601785e-06,  2.99047679e-06,\n",
       "        3.08454037e-06,  3.44589353e-06,  3.48687172e-06,  3.49152833e-06,\n",
       "        3.51388007e-06,  3.57255340e-06,  3.67779285e-06,  4.08291817e-06,\n",
       "        4.31574881e-06,  4.60445881e-06,  4.71994281e-06,  4.92297113e-06,\n",
       "        5.40819019e-06,  5.53950667e-06,  5.58793545e-06,  6.34137541e-06,\n",
       "        6.41494989e-06,  6.64591789e-06,  7.08177686e-06,  7.19912350e-06,\n",
       "        7.32764602e-06,  7.34627247e-06,  7.41332769e-06,  7.42450356e-06,\n",
       "        7.45616853e-06,  7.69272447e-06,  7.71135092e-06,  7.77281821e-06,\n",
       "        7.88457692e-06,  7.95722008e-06,  7.97398388e-06,  8.09133053e-06,\n",
       "        8.15279782e-06,  8.19191337e-06,  8.27014446e-06,  8.32602382e-06,\n",
       "        8.33254308e-06,  8.46758485e-06,  8.57934356e-06,  8.77678394e-06,\n",
       "        8.98912549e-06,  9.08598304e-06,  9.09715891e-06,  9.14186239e-06,\n",
       "        9.20519233e-06,  9.21636820e-06,  9.40635800e-06,  9.65036452e-06,\n",
       "        9.79565084e-06,  9.97260213e-06,  1.02072954e-05,  1.03805214e-05,\n",
       "        1.04084611e-05,  1.05686486e-05,  1.06357038e-05,  1.06729567e-05,\n",
       "        1.07176602e-05,  1.08778477e-05,  1.10473484e-05,  1.11516565e-05,\n",
       "        1.12354755e-05,  1.12839043e-05,  1.13938004e-05,  1.14422292e-05,\n",
       "        1.17905438e-05,  1.18054450e-05,  1.19004399e-05,  1.19209290e-05,\n",
       "        1.21667981e-05,  1.21798366e-05,  1.23549253e-05,  1.23828650e-05,\n",
       "        1.26827508e-05,  1.30608678e-05,  1.31530687e-05,  1.32191926e-05,\n",
       "        1.33439898e-05,  1.34184957e-05,  1.34371221e-05,  1.34520233e-05,\n",
       "        1.36364251e-05,  1.37016177e-05,  1.37519091e-05,  1.39884651e-05,\n",
       "        1.40387565e-05,  1.40815973e-05,  1.40946358e-05,  1.41132623e-05,\n",
       "        1.41821802e-05,  1.41877681e-05,  1.43330544e-05,  1.43535435e-05,\n",
       "        1.43814832e-05,  1.45137310e-05,  1.45230442e-05,  1.49346888e-05,\n",
       "        1.50185078e-05,  1.50278211e-05,  1.54636800e-05,  1.55847520e-05,\n",
       "        1.65030360e-05,  1.66185200e-05,  1.67377293e-05,  1.71624124e-05,\n",
       "        1.71959400e-05,  1.72406435e-05,  1.74455345e-05,  1.75349414e-05,\n",
       "        1.76280737e-05,  1.78515911e-05,  1.78720802e-05,  1.79260969e-05,\n",
       "        1.82576478e-05,  1.82613730e-05,  1.82949007e-05,  1.85668468e-05,\n",
       "        1.89431012e-05,  1.91163272e-05,  1.91479921e-05,  1.92970037e-05,\n",
       "        1.93379819e-05,  1.95782632e-05,  1.96974725e-05,  1.97291374e-05,\n",
       "        1.98334455e-05,  2.01910734e-05,  2.03438103e-05,  2.09622085e-05,\n",
       "        2.12378800e-05,  2.15731561e-05,  2.17854977e-05,  2.19568610e-05,\n",
       "        2.20872462e-05,  2.22623348e-05,  2.23368406e-05,  2.23554671e-05,\n",
       "        2.24635005e-05,  2.26534903e-05,  2.28993595e-05,  2.34879553e-05,\n",
       "        2.37226486e-05,  2.37673521e-05,  2.38232315e-05,  2.38567591e-05,\n",
       "        2.39312649e-05,  2.41883099e-05,  2.44043767e-05,  2.44192779e-05,\n",
       "        2.44323164e-05,  2.45124102e-05,  2.45757401e-05,  2.45831907e-05,\n",
       "        2.46167183e-05,  2.46204436e-05,  2.48886645e-05,  2.49110162e-05,\n",
       "        2.49817967e-05,  2.51457095e-05,  2.54288316e-05,  2.54847109e-05,\n",
       "        2.56076455e-05,  2.56188214e-05,  2.56970525e-05,  2.57641077e-05,\n",
       "        2.57790089e-05,  2.61366367e-05,  2.61850655e-05,  2.62148678e-05,\n",
       "        2.63676047e-05,  2.64197588e-05,  2.65017152e-05,  2.65017152e-05,\n",
       "        2.65836716e-05,  2.68016011e-05,  2.71387398e-05,  2.71834433e-05,\n",
       "        2.72616744e-05,  2.74293125e-05,  2.76975334e-05,  2.77385116e-05,\n",
       "        2.79620290e-05,  2.82600522e-05,  2.86288559e-05,  2.86400318e-05,\n",
       "        2.87815928e-05,  2.88002193e-05,  2.89455056e-05,  2.89529562e-05,\n",
       "        2.91280448e-05,  3.01785767e-05,  3.05771828e-05,  3.06554139e-05,\n",
       "        3.09944153e-05,  3.10130417e-05,  3.10465693e-05,  3.14339995e-05,\n",
       "        3.15830112e-05,  3.17618251e-05,  3.17618251e-05,  3.19518149e-05,\n",
       "        3.24584544e-05,  3.27304006e-05,  3.34307551e-05,  3.36766243e-05,\n",
       "        3.38852406e-05,  3.43695283e-05,  3.47085297e-05,  3.49059701e-05,\n",
       "        3.50922346e-05,  3.59416008e-05,  3.64184380e-05,  3.71485949e-05,\n",
       "        3.72752547e-05,  3.80091369e-05,  3.82252038e-05,  3.88175249e-05,\n",
       "        3.88398767e-05,  3.88622284e-05,  3.89516354e-05,  3.94433737e-05,\n",
       "        3.96370888e-05,  3.97451222e-05,  3.98233533e-05,  3.98904085e-05,\n",
       "        4.01102006e-05,  4.05199826e-05,  4.06056643e-05,  4.07695770e-05,\n",
       "        4.12836671e-05,  4.13060188e-05,  4.20399010e-05,  4.21181321e-05,\n",
       "        4.21479344e-05,  4.21702862e-05,  4.23341990e-05,  4.23826277e-05,\n",
       "        4.25949693e-05,  4.28110361e-05,  4.31500375e-05,  4.37647104e-05,\n",
       "        4.38317657e-05,  4.39733267e-05,  4.41521406e-05,  4.42154706e-05,\n",
       "        4.46960330e-05,  4.47183847e-05,  4.51058149e-05,  4.53144312e-05,\n",
       "        4.56124544e-05,  4.62718308e-05,  4.64878976e-05,  4.79854643e-05,\n",
       "        4.83319163e-05,  4.85479832e-05,  4.87118959e-05,  4.87864017e-05,\n",
       "        4.89801168e-05,  5.01163304e-05,  5.17964363e-05,  5.19528985e-05,\n",
       "        5.21093607e-05,  5.26160002e-05,  5.31561673e-05,  5.34206629e-05,\n",
       "        5.37931919e-05,  5.39124012e-05,  5.42700291e-05,  5.47468662e-05,\n",
       "        5.50523400e-05,  5.52423298e-05,  5.57787716e-05,  5.65499067e-05,\n",
       "        5.65610826e-05,  5.70863485e-05,  5.76302409e-05,  5.80027699e-05,\n",
       "        5.81741333e-05,  5.82337379e-05,  5.86584210e-05,  5.87552786e-05,\n",
       "        5.87701797e-05,  5.93662262e-05,  5.96456230e-05,  5.97089529e-05,\n",
       "        6.04242086e-05,  6.06775284e-05,  6.13480806e-05,  6.14672899e-05,\n",
       "        6.16908073e-05,  6.23241067e-05,  6.26072288e-05,  6.26109540e-05,\n",
       "        6.27823174e-05,  6.30468130e-05,  6.30617142e-05,  6.38812780e-05,\n",
       "        6.38850033e-05,  6.39557838e-05,  6.79567456e-05,  6.88433647e-05,\n",
       "        6.99535012e-05,  7.09220767e-05,  7.11977482e-05,  7.14957714e-05,\n",
       "        7.22259283e-05,  7.45952129e-05,  7.51391053e-05,  7.55935907e-05,\n",
       "        7.57947564e-05,  7.58096576e-05,  7.81416893e-05,  7.81565905e-05,\n",
       "        8.04662704e-05,  8.06450844e-05,  8.22544098e-05,  8.32825899e-05,\n",
       "        8.37221742e-05,  8.44970345e-05,  8.55177641e-05,  8.58977437e-05,\n",
       "        8.71866941e-05,  8.88407230e-05,  8.94814730e-05,  9.11504030e-05,\n",
       "        9.16793942e-05,  9.20221210e-05,  9.21264291e-05,  9.28342342e-05,\n",
       "        9.75877047e-05,  9.78074968e-05,  9.78484750e-05,  9.80198383e-05,\n",
       "        9.83104110e-05,  1.03414059e-04,  1.05261803e-04,  1.06185675e-04,\n",
       "        1.07377768e-04,  1.07914209e-04,  1.10812485e-04,  1.11937523e-04,\n",
       "        1.14493072e-04,  1.15290284e-04,  1.19060278e-04,  1.20967627e-04,\n",
       "        1.21325254e-04,  1.33737922e-04,  1.34110451e-04,  1.39400363e-04,\n",
       "        1.40786171e-04,  1.48102641e-04,  1.49935484e-04,  1.50509179e-04,\n",
       "        1.52856112e-04,  1.53273344e-04,  1.55866146e-04,  1.56342983e-04,\n",
       "        1.60440803e-04,  1.64270401e-04,  1.67712569e-04,  1.68174505e-04,\n",
       "        1.70558691e-04,  1.79827213e-04,  1.98721886e-04,  2.02417374e-04,\n",
       "        2.04175711e-04,  2.05516815e-04,  2.07357109e-04,  2.07364559e-04,\n",
       "        2.07871199e-04,  2.10493803e-04,  2.21222639e-04,  2.24933028e-04,\n",
       "        2.28986144e-04,  2.36555934e-04,  2.38656998e-04,  2.59131193e-04,\n",
       "        2.59160995e-04,  2.64823437e-04,  2.67088413e-04,  2.72259116e-04,\n",
       "        2.77206302e-04,  2.93523073e-04,  2.94089317e-04,  2.98961997e-04,\n",
       "        3.08990479e-04,  3.12238932e-04,  3.14205885e-04,  3.18586826e-04,\n",
       "        3.24487686e-04,  3.37362289e-04,  3.41460109e-04,  3.53276730e-04,\n",
       "        3.65495682e-04,  3.74138355e-04,  3.77207994e-04,  3.77237797e-04,\n",
       "        3.77714634e-04,  3.89672816e-04,  4.07278538e-04,  4.13596630e-04,\n",
       "        4.15384769e-04,  4.27141786e-04,  4.28259373e-04,  4.29973006e-04,\n",
       "        4.55558300e-04,  4.70757484e-04,  4.74333763e-04,  4.84600663e-04,\n",
       "        4.90009785e-04,  5.28320670e-04,  5.37805259e-04,  5.44995070e-04,\n",
       "        5.48362732e-04,  5.54114580e-04,  5.92678785e-04,  6.03675842e-04,\n",
       "        6.07758760e-04,  6.07758760e-04,  6.12884760e-04,  6.48021698e-04,\n",
       "        6.63757324e-04,  6.77347183e-04,  6.85781240e-04,  6.91980124e-04,\n",
       "        6.95973635e-04,  7.02977180e-04,  7.16894865e-04,  7.28860497e-04,\n",
       "        7.41958618e-04,  7.91162252e-04,  7.91430473e-04,  8.05348158e-04,\n",
       "        8.24630260e-04,  8.94457102e-04,  8.96930695e-04,  9.08553600e-04,\n",
       "        9.12249088e-04,  9.28327441e-04,  9.42930579e-04,  9.97900963e-04,\n",
       "        1.01208687e-03,  1.01315975e-03,  1.07681751e-03,  1.09851360e-03,\n",
       "        1.10742450e-03,  1.13129616e-03,  1.13880634e-03,  1.14190578e-03,\n",
       "        1.15764141e-03,  1.16389990e-03,  1.19063258e-03,  1.21331215e-03,\n",
       "        1.22076273e-03,  1.23417377e-03,  1.25342607e-03,  1.26892328e-03,\n",
       "        1.27434731e-03,  1.30307674e-03,  1.33121014e-03,  1.33720040e-03,\n",
       "        1.34029984e-03,  1.36816502e-03,  1.37567520e-03,  1.40446424e-03,\n",
       "        1.49655342e-03,  1.51264668e-03,  1.52584910e-03,  1.53660774e-03,\n",
       "        1.59764290e-03,  1.62458420e-03,  1.70147419e-03,  1.71035528e-03,\n",
       "        1.72489882e-03,  1.82032585e-03,  1.83862448e-03,  1.84714794e-03,\n",
       "        1.85728073e-03,  1.86437368e-03,  1.90442801e-03,  1.98394060e-03,\n",
       "        1.99341774e-03,  2.00521946e-03,  2.03162432e-03,  2.13921070e-03,\n",
       "        2.19231844e-03,  2.21842527e-03,  2.22948194e-03,  2.24822760e-03,\n",
       "        2.26914883e-03,  2.27499008e-03,  2.29370594e-03,  2.29555368e-03,\n",
       "        2.30008364e-03,  2.40105391e-03,  2.41231918e-03,  2.46000290e-03,\n",
       "        2.52896547e-03,  2.57384777e-03,  2.60686874e-03,  2.61247158e-03,\n",
       "        2.62922049e-03,  2.63077021e-03,  2.72816420e-03,  2.75325775e-03,\n",
       "        2.77543068e-03,  2.78943777e-03,  2.82871723e-03,  2.84862518e-03,\n",
       "        2.88754702e-03,  2.92044878e-03,  2.94840336e-03,  2.96902657e-03,\n",
       "        3.03292274e-03,  3.29041481e-03,  3.30752134e-03,  3.33446264e-03,\n",
       "        3.43024731e-03,  3.46982479e-03,  3.47548723e-03,  3.49748135e-03,\n",
       "        3.52883339e-03,  3.57788801e-03,  3.71015072e-03,  3.75050306e-03,\n",
       "        3.76778841e-03,  3.95178795e-03,  4.02039289e-03,  4.10300493e-03,\n",
       "        4.14258242e-03,  4.16505337e-03,  4.20749187e-03,  4.21077013e-03,\n",
       "        4.36162949e-03,  4.36830521e-03,  4.44686413e-03,  4.45008278e-03,\n",
       "        4.46063280e-03,  4.57692146e-03,  4.63628769e-03,  4.68289852e-03,\n",
       "        4.69559431e-03,  4.70340252e-03,  4.72754240e-03,  4.72790003e-03,\n",
       "        4.88150120e-03,  4.90188599e-03,  4.93651628e-03,  4.97257710e-03,\n",
       "        4.99606133e-03,  5.00345230e-03,  5.08677959e-03,  5.20944595e-03,\n",
       "        5.31983376e-03,  5.35249710e-03,  5.37830591e-03,  5.37848473e-03,\n",
       "        5.63216209e-03,  5.79619408e-03,  5.85252047e-03,  5.92017174e-03,\n",
       "        6.10613823e-03,  6.12086058e-03,  6.18457794e-03,  6.20186329e-03,\n",
       "        6.41858578e-03,  6.62684441e-03,  6.71863556e-03,  6.85453415e-03,\n",
       "        6.93368912e-03,  6.97916746e-03,  7.06815720e-03,  7.14111328e-03,\n",
       "        7.16435909e-03,  7.18712807e-03,  7.36689568e-03,  7.39002228e-03,\n",
       "        7.81071186e-03,  8.05187225e-03,  8.19277763e-03,  8.28659534e-03,\n",
       "        8.34751129e-03,  8.37111473e-03,  8.55100155e-03,  8.74018669e-03,\n",
       "        8.93759727e-03,  8.98170471e-03,  9.00566578e-03,  9.29152966e-03,\n",
       "        9.47523117e-03,  9.56678391e-03,  9.67466831e-03,  9.84394550e-03,\n",
       "        9.94277000e-03,  1.01020336e-02,  1.01032257e-02,  1.08430386e-02,\n",
       "        1.08629465e-02,  1.09877586e-02,  1.10654831e-02,  1.12142563e-02,\n",
       "        1.12788677e-02,  1.13577843e-02,  1.18191242e-02,  1.20298862e-02,\n",
       "        1.23848915e-02,  1.25601292e-02,  1.25842094e-02,  1.27488375e-02,\n",
       "        1.36816502e-02,  1.37240887e-02,  1.37939453e-02,  1.39226913e-02,\n",
       "        1.40280724e-02,  1.46654844e-02,  1.46696568e-02,  1.53741837e-02,\n",
       "        1.54361725e-02,  1.56936646e-02,  1.58395767e-02,  1.80978775e-02,\n",
       "        1.85365677e-02,  1.86305046e-02,  1.87611580e-02,  1.89058781e-02,\n",
       "        1.92086697e-02,  2.00479031e-02,  2.42669582e-02,  2.74424553e-02,\n",
       "        3.18894386e-02,  3.22666168e-02,  3.49869728e-02,  4.29337025e-02,\n",
       "        5.32994270e-02,  1.12705231e-01,  1.14313126e-01,  1.63160324e-01,\n",
       "        2.16180801e-01,  3.30660629e+00,  3.32761230e+01,  6.93587952e+01,\n",
       "        1.82444839e+02,  1.08843262e+03], dtype=float32)"
      ]
     },
     "execution_count": 47,
     "metadata": {},
     "output_type": "execute_result"
    }
   ],
   "source": [
    "diff"
   ]
  },
  {
   "cell_type": "code",
   "execution_count": null,
   "metadata": {},
   "outputs": [],
   "source": []
  },
  {
   "cell_type": "code",
   "execution_count": 31,
   "metadata": {},
   "outputs": [
    {
     "data": {
      "text/plain": [
       "193"
      ]
     },
     "execution_count": 31,
     "metadata": {},
     "output_type": "execute_result"
    }
   ],
   "source": [
    "len(less)"
   ]
  },
  {
   "cell_type": "code",
   "execution_count": 32,
   "metadata": {},
   "outputs": [
    {
     "data": {
      "text/plain": [
       "669"
      ]
     },
     "execution_count": 32,
     "metadata": {},
     "output_type": "execute_result"
    }
   ],
   "source": [
    "len(more)"
   ]
  },
  {
   "cell_type": "code",
   "execution_count": 35,
   "metadata": {},
   "outputs": [
    {
     "data": {
      "text/plain": [
       "[156680,\n",
       " 157196,\n",
       " 165470,\n",
       " 150874,\n",
       " 165042,\n",
       " 157381,\n",
       " 166390,\n",
       " 163548,\n",
       " 165034,\n",
       " 164289,\n",
       " 167506,\n",
       " 146656,\n",
       " 164208,\n",
       " 157536,\n",
       " 155151,\n",
       " 162785,\n",
       " 160588,\n",
       " 163552,\n",
       " 146812,\n",
       " 154728,\n",
       " 145128,\n",
       " 166674,\n",
       " 146944,\n",
       " 147359,\n",
       " 158891,\n",
       " 165923,\n",
       " 165040,\n",
       " 161261,\n",
       " 165468,\n",
       " 166411,\n",
       " 165863,\n",
       " 159161,\n",
       " 162997,\n",
       " 166537,\n",
       " 158084,\n",
       " 165351,\n",
       " 163755,\n",
       " 164523,\n",
       " 165438,\n",
       " 163184,\n",
       " 146212,\n",
       " 149027,\n",
       " 166356,\n",
       " 156897,\n",
       " 155169,\n",
       " 165935,\n",
       " 155141,\n",
       " 165940,\n",
       " 161613,\n",
       " 162905,\n",
       " 165177,\n",
       " 165961,\n",
       " 164371,\n",
       " 158089,\n",
       " 165673,\n",
       " 156637,\n",
       " 145052,\n",
       " 163819,\n",
       " 165708,\n",
       " 155148,\n",
       " 149084,\n",
       " 146677,\n",
       " 162791,\n",
       " 147426,\n",
       " 163723,\n",
       " 167462,\n",
       " 163317,\n",
       " 147344,\n",
       " 164835,\n",
       " 166386,\n",
       " 149082,\n",
       " 159376,\n",
       " 162977,\n",
       " 147199,\n",
       " 164356,\n",
       " 163553,\n",
       " 144770,\n",
       " 148801,\n",
       " 160334,\n",
       " 161167,\n",
       " 159379,\n",
       " 149211,\n",
       " 153327,\n",
       " 162780,\n",
       " 161263,\n",
       " 145044,\n",
       " 160005,\n",
       " 160708,\n",
       " 161320,\n",
       " 146625,\n",
       " 163318,\n",
       " 160339,\n",
       " 147207,\n",
       " 161015,\n",
       " 160706,\n",
       " 165933,\n",
       " 161322,\n",
       " 156744,\n",
       " 153402,\n",
       " 162829,\n",
       " 164504,\n",
       " 160137,\n",
       " 149086,\n",
       " 141495,\n",
       " 160503,\n",
       " 166306,\n",
       " 165444,\n",
       " 145043,\n",
       " 154723,\n",
       " 157198,\n",
       " 158617,\n",
       " 156659,\n",
       " 165480,\n",
       " 164479,\n",
       " 146648,\n",
       " 162874,\n",
       " 165904,\n",
       " 165928,\n",
       " 156656,\n",
       " 144774,\n",
       " 165191,\n",
       " 164570,\n",
       " 163180,\n",
       " 158608,\n",
       " 161460,\n",
       " 165919,\n",
       " 156636,\n",
       " 167479,\n",
       " 160086,\n",
       " 150514,\n",
       " 145054,\n",
       " 164536,\n",
       " 165958,\n",
       " 164519,\n",
       " 153093,\n",
       " 150269,\n",
       " 163701,\n",
       " 163535,\n",
       " 165865,\n",
       " 163316,\n",
       " 149849,\n",
       " 142097,\n",
       " 159147,\n",
       " 160065,\n",
       " 165959,\n",
       " 154973,\n",
       " 148998,\n",
       " 166310,\n",
       " 164447,\n",
       " 165917,\n",
       " 161326,\n",
       " 165462,\n",
       " 165689,\n",
       " 153404,\n",
       " 164362,\n",
       " 155150,\n",
       " 164445,\n",
       " 146666,\n",
       " 165044,\n",
       " 165030,\n",
       " 146651,\n",
       " 155139,\n",
       " 146675,\n",
       " 165428,\n",
       " 149017,\n",
       " 159566,\n",
       " 165707,\n",
       " 145088,\n",
       " 145065,\n",
       " 162907,\n",
       " 158606,\n",
       " 166508,\n",
       " 165431,\n",
       " 154113,\n",
       " 163797,\n",
       " 161330,\n",
       " 159284,\n",
       " 164222,\n",
       " 165129,\n",
       " 162816,\n",
       " 165868,\n",
       " 165019,\n",
       " 164505,\n",
       " 167463,\n",
       " 165909,\n",
       " 146624,\n",
       " 150844,\n",
       " 149080,\n",
       " 154737,\n",
       " 167495,\n",
       " 165248,\n",
       " 147343,\n",
       " 164931]"
      ]
     },
     "execution_count": 35,
     "metadata": {},
     "output_type": "execute_result"
    }
   ],
   "source": [
    "less"
   ]
  },
  {
   "cell_type": "code",
   "execution_count": null,
   "metadata": {},
   "outputs": [],
   "source": []
  }
 ],
 "metadata": {
  "kernelspec": {
   "display_name": "Python 3",
   "language": "python",
   "name": "python3"
  },
  "language_info": {
   "codemirror_mode": {
    "name": "ipython",
    "version": 3
   },
   "file_extension": ".py",
   "mimetype": "text/x-python",
   "name": "python",
   "nbconvert_exporter": "python",
   "pygments_lexer": "ipython3",
   "version": "3.7.0"
  }
 },
 "nbformat": 4,
 "nbformat_minor": 4
}
