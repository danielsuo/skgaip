{
 "cells": [
  {
   "cell_type": "code",
   "execution_count": 178,
   "metadata": {},
   "outputs": [],
   "source": [
    "import os\n",
    "import pickle\n",
    "\n",
    "import jax\n",
    "import jax.numpy as np\n",
    "\n",
    "import tqdm\n",
    "\n",
    "from tigerforecast.utils.optimizers.losses import batched_mse, mse"
   ]
  },
  {
   "cell_type": "code",
   "execution_count": 2,
   "metadata": {},
   "outputs": [],
   "source": [
    "# https://ttic.uchicago.edu/~tewari/lectures/lecture4.pdf"
   ]
  },
  {
   "cell_type": "code",
   "execution_count": 3,
   "metadata": {},
   "outputs": [],
   "source": [
    "basins = pickle.load(open(\"../data/flood/meta.pkl\", \"rb\"))[\"basins\"]"
   ]
  },
  {
   "cell_type": "code",
   "execution_count": 4,
   "metadata": {},
   "outputs": [],
   "source": [
    "from tigerforecast.utils.download_tools import get_tigerforecast_dir\n",
    "basin_to_yhats_LSTM = pickle.load(open(os.path.join(get_tigerforecast_dir(), \"flood_prediction\", \"basin_to_yhats_LSTM\"), \"rb\"))"
   ]
  },
  {
   "cell_type": "code",
   "execution_count": 5,
   "metadata": {},
   "outputs": [],
   "source": [
    "# from tigerforecast.batch.camels_dataloader import CamelsTXT\n",
    "# for basin in tqdm.tqdm(basins):\n",
    "#     usgs_val = CamelsTXT(basin=basin, concat_static=True)\n",
    "#     for data, targets in usgs_val.sequential_batches(batch_size=5000):\n",
    "#         pickle.dump(data, open(\"../data/flood/test/{}.pkl\".format(basin), \"wb\"))\n",
    "#         pickle.dump(targets, open(\"../data/flood/qobs/{}.pkl\".format(basin), \"wb\"))"
   ]
  },
  {
   "cell_type": "code",
   "execution_count": 256,
   "metadata": {},
   "outputs": [],
   "source": [
    "def proxy_loss(y_pred, yprev_ytrue):\n",
    "    y_prev, y_true = yprev_ytrue\n",
    "    return batched_mse(y_prev + y_pred, y_true)\n",
    "\n",
    "class SGD:\n",
    "    def __init__(self, pred=None, learning_rate=0.0001, project_threshold={}):\n",
    "        self.lr = learning_rate\n",
    "        self.project_threshold = project_threshold\n",
    "        self._grad = jax.jit(jax.grad(lambda params, x, y: proxy_loss(pred(params, x), y)))\n",
    "\n",
    "    def update_scan(self, params, x, y):\n",
    "        grad = self._grad(params, x, y)\n",
    "        new_params = {k:w - self.lr * grad[k] for (k, w) in params.items()}\n",
    "        \n",
    "        for k, param in new_params.items():\n",
    "            new_params[k] = jax.lax.cond(np.linalg.norm(new_params[k]) > self.project_threshold[k],\n",
    "                                          None,\n",
    "                                          lambda x : (self.project_threshold[k]/np.linalg.norm(new_params[k])) * new_params[k],\n",
    "                                          new_params[k],\n",
    "                                          lambda x : x)\n",
    "        return new_params"
   ]
  },
  {
   "cell_type": "code",
   "execution_count": 257,
   "metadata": {},
   "outputs": [],
   "source": [
    "class AR:\n",
    "    def __init__(self, input_dim=1, output_dim=1, history_len=32):\n",
    "        # initialize parameters\n",
    "        self.params = {'W_lnm': np.zeros((history_len, input_dim, output_dim)), 'b': np.zeros((output_dim, 1))}\n",
    "        self.predict = jax.jit(lambda params, x: np.tensordot(params['W_lnm'], x, ([0,1],[0,1])) + params['b'])"
   ]
  },
  {
   "cell_type": "code",
   "execution_count": 266,
   "metadata": {},
   "outputs": [],
   "source": [
    "class Gradient_boosting:\n",
    "    def __init__(self, \n",
    "                 methods,\n",
    "                 optimizers,\n",
    "                 X_shape=(),\n",
    "                 Y_shape=(),\n",
    "                 eta=1.0):\n",
    "        \"\"\"\n",
    "        Description: Initializes autoregressive method parameters\n",
    "        Args:\n",
    "            methods: list of instances of methods\n",
    "            optimizers: list of optimizers\n",
    "            X_shape: shape of input (exclude batch dim)\n",
    "            Y_shape: shape of output (exclude batch dim)\n",
    "            loss(function): loss function for boosting method\n",
    "            T: time horiizon\n",
    "        \"\"\"\n",
    "        self.Y_shape = Y_shape\n",
    "        self.N = len(methods)\n",
    "        self.eta = eta\n",
    "        self.methods = methods\n",
    "        self.optimizers = optimizers\n",
    "        self.all_params = [None for i in range(self.N)]  # params of each method\n",
    "        self.Z = np.array([1.0/self.N for i in range(self.N)])\n",
    "        self.W = [1.0/self.N for i in range(self.N)]\n",
    "\n",
    "        for i in range(self.N):\n",
    "            self.all_params[i] = self.methods[i].params\n",
    "\n",
    "        def loss_W(W, preds, y):\n",
    "            pred = 0\n",
    "            for j in range(self.N):\n",
    "                pred += W[j] * preds[j]\n",
    "            return batched_mse(pred, y)\n",
    "\n",
    "        def _predict_and_update(carry, xy):\n",
    "            x, y = xy[0], xy[1]\n",
    "            Z, W, all_params = carry\n",
    "            \n",
    "            ys = [np.zeros(self.Y_shape)]\n",
    "            method_yhats = []\n",
    "            for i in range(self.N):\n",
    "                pred_i = np.reshape(self.methods[i].predict(all_params[i], x), self.Y_shape)\n",
    "                method_yhats.append(pred_i)\n",
    "                y_i = ys[-1] + W[i] * pred_i\n",
    "                y_i = np.reshape(y_i, self.Y_shape)\n",
    "                ys.append(y_i)\n",
    "            pred = ys[-1]\n",
    "\n",
    "            nums, den = None, None\n",
    "            \n",
    "            num = lambda j : W[j] * np.exp(-1 * self.eta * jax.grad(loss_W)(W, method_yhats, y)[j])\n",
    "            nums = [num(j) for j in range(self.N)]\n",
    "            den = np.sum(np.array(nums))\n",
    "            W = [nums[i]/den for i in range(self.N)]\n",
    "\n",
    "            for i in range(self.N):\n",
    "                # update method's self.x with proper shape (often needed for update step)\n",
    "                all_params[i] = self.optimizers[i].update_scan(all_params[i], x, (ys[i], y))\n",
    "            return (Z, W, all_params), pred\n",
    "        self._predict_and_update = _predict_and_update\n",
    "\n",
    "    def predict_and_update(self, X, Y):\n",
    "        _, preds = jax.lax.scan(self._predict_and_update, \n",
    "                                (self.Z, self.W, self.all_params), \n",
    "                                (X, Y)\n",
    "                               )\n",
    "        return np.reshape(preds, Y.shape)"
   ]
  },
  {
   "cell_type": "code",
   "execution_count": 267,
   "metadata": {
    "scrolled": false
   },
   "outputs": [
    {
     "name": "stderr",
     "output_type": "stream",
     "text": [
      "\r",
      "  0%|          | 0/531 [00:00<?, ?it/s]"
     ]
    },
    {
     "name": "stdout",
     "output_type": "stream",
     "text": [
      "01022500 "
     ]
    },
    {
     "name": "stderr",
     "output_type": "stream",
     "text": [
      "\r",
      "  0%|          | 1/531 [00:02<20:30,  2.32s/it]"
     ]
    },
    {
     "name": "stdout",
     "output_type": "stream",
     "text": [
      "0.48434398\n",
      "01031500 "
     ]
    },
    {
     "name": "stderr",
     "output_type": "stream",
     "text": [
      "\r",
      "  0%|          | 2/531 [00:04<20:30,  2.33s/it]"
     ]
    },
    {
     "name": "stdout",
     "output_type": "stream",
     "text": [
      "0.93345135\n"
     ]
    },
    {
     "name": "stderr",
     "output_type": "stream",
     "text": [
      "  0%|          | 2/531 [00:06<28:13,  3.20s/it]\n"
     ]
    },
    {
     "ename": "KeyboardInterrupt",
     "evalue": "",
     "output_type": "error",
     "traceback": [
      "\u001b[0;31m---------------------------------------------------------------------------\u001b[0m",
      "\u001b[0;31mKeyboardInterrupt\u001b[0m                         Traceback (most recent call last)",
      "\u001b[0;32m<ipython-input-267-260f43cf8e10>\u001b[0m in \u001b[0;36m<module>\u001b[0;34m\u001b[0m\n\u001b[1;32m     40\u001b[0m \u001b[0;34m\u001b[0m\u001b[0m\n\u001b[1;32m     41\u001b[0m     \u001b[0my_true\u001b[0m \u001b[0;34m=\u001b[0m \u001b[0mY\u001b[0m \u001b[0;34m-\u001b[0m \u001b[0myhats_LSTM\u001b[0m\u001b[0;34m\u001b[0m\u001b[0m\n\u001b[0;32m---> 42\u001b[0;31m     \u001b[0my_pred_ar\u001b[0m \u001b[0;34m=\u001b[0m \u001b[0mmethod_boosting\u001b[0m\u001b[0;34m.\u001b[0m\u001b[0mpredict_and_update\u001b[0m\u001b[0;34m(\u001b[0m\u001b[0mX\u001b[0m\u001b[0;34m,\u001b[0m \u001b[0my_true\u001b[0m\u001b[0;34m)\u001b[0m\u001b[0;34m\u001b[0m\u001b[0m\n\u001b[0m\u001b[1;32m     43\u001b[0m     \u001b[0myhats\u001b[0m \u001b[0;34m=\u001b[0m \u001b[0myhats_LSTM\u001b[0m \u001b[0;34m+\u001b[0m \u001b[0my_pred_ar\u001b[0m\u001b[0;34m.\u001b[0m\u001b[0msqueeze\u001b[0m\u001b[0;34m(\u001b[0m\u001b[0;34m)\u001b[0m\u001b[0;34m\u001b[0m\u001b[0m\n\u001b[1;32m     44\u001b[0m \u001b[0;34m\u001b[0m\u001b[0m\n",
      "\u001b[0;32m<ipython-input-266-a362b23f0aeb>\u001b[0m in \u001b[0;36mpredict_and_update\u001b[0;34m(self, X, Y)\u001b[0m\n\u001b[1;32m     67\u001b[0m         _, preds = jax.lax.scan(self._predict_and_update, \n\u001b[1;32m     68\u001b[0m                                 \u001b[0;34m(\u001b[0m\u001b[0mself\u001b[0m\u001b[0;34m.\u001b[0m\u001b[0mZ\u001b[0m\u001b[0;34m,\u001b[0m \u001b[0mself\u001b[0m\u001b[0;34m.\u001b[0m\u001b[0mW\u001b[0m\u001b[0;34m,\u001b[0m \u001b[0mself\u001b[0m\u001b[0;34m.\u001b[0m\u001b[0mall_params\u001b[0m\u001b[0;34m)\u001b[0m\u001b[0;34m,\u001b[0m\u001b[0;34m\u001b[0m\u001b[0m\n\u001b[0;32m---> 69\u001b[0;31m                                 \u001b[0;34m(\u001b[0m\u001b[0mX\u001b[0m\u001b[0;34m,\u001b[0m \u001b[0mY\u001b[0m\u001b[0;34m)\u001b[0m\u001b[0;34m\u001b[0m\u001b[0m\n\u001b[0m\u001b[1;32m     70\u001b[0m                                )\n\u001b[1;32m     71\u001b[0m         \u001b[0;32mreturn\u001b[0m \u001b[0mnp\u001b[0m\u001b[0;34m.\u001b[0m\u001b[0mreshape\u001b[0m\u001b[0;34m(\u001b[0m\u001b[0mpreds\u001b[0m\u001b[0;34m,\u001b[0m \u001b[0mY\u001b[0m\u001b[0;34m.\u001b[0m\u001b[0mshape\u001b[0m\u001b[0;34m)\u001b[0m\u001b[0;34m\u001b[0m\u001b[0m\n",
      "\u001b[0;32m~/miniconda3/envs/skgaip/lib/python3.7/site-packages/jax/lax/lax_control_flow.py\u001b[0m in \u001b[0;36mscan\u001b[0;34m(f, init, xs, length)\u001b[0m\n\u001b[1;32m    944\u001b[0m                     \u001b[0mforward\u001b[0m\u001b[0;34m=\u001b[0m\u001b[0;32mTrue\u001b[0m\u001b[0;34m,\u001b[0m \u001b[0mlength\u001b[0m\u001b[0;34m=\u001b[0m\u001b[0mlength\u001b[0m\u001b[0;34m,\u001b[0m \u001b[0mjaxpr\u001b[0m\u001b[0;34m=\u001b[0m\u001b[0mjaxpr\u001b[0m\u001b[0;34m,\u001b[0m\u001b[0;34m\u001b[0m\u001b[0m\n\u001b[1;32m    945\u001b[0m                     \u001b[0mnum_consts\u001b[0m\u001b[0;34m=\u001b[0m\u001b[0mlen\u001b[0m\u001b[0;34m(\u001b[0m\u001b[0mconsts\u001b[0m\u001b[0;34m)\u001b[0m\u001b[0;34m,\u001b[0m \u001b[0mnum_carry\u001b[0m\u001b[0;34m=\u001b[0m\u001b[0mlen\u001b[0m\u001b[0;34m(\u001b[0m\u001b[0minit_flat\u001b[0m\u001b[0;34m)\u001b[0m\u001b[0;34m,\u001b[0m\u001b[0;34m\u001b[0m\u001b[0m\n\u001b[0;32m--> 946\u001b[0;31m                     linear=(False,) * (len(consts) + len(in_flat)))\n\u001b[0m\u001b[1;32m    947\u001b[0m   \u001b[0;32mreturn\u001b[0m \u001b[0mtree_unflatten\u001b[0m\u001b[0;34m(\u001b[0m\u001b[0mout_tree\u001b[0m\u001b[0;34m,\u001b[0m \u001b[0mout\u001b[0m\u001b[0;34m)\u001b[0m\u001b[0;34m\u001b[0m\u001b[0m\n\u001b[1;32m    948\u001b[0m \u001b[0;34m\u001b[0m\u001b[0m\n",
      "\u001b[0;32m~/miniconda3/envs/skgaip/lib/python3.7/site-packages/jax/lax/lax_control_flow.py\u001b[0m in \u001b[0;36mscan_bind\u001b[0;34m(forward, length, num_consts, num_carry, jaxpr, linear, *args)\u001b[0m\n\u001b[1;32m   1326\u001b[0m   return core.Primitive.bind(scan_p, *args, forward=forward, length=length,\n\u001b[1;32m   1327\u001b[0m                              \u001b[0mjaxpr\u001b[0m\u001b[0;34m=\u001b[0m\u001b[0mjaxpr\u001b[0m\u001b[0;34m,\u001b[0m \u001b[0mnum_consts\u001b[0m\u001b[0;34m=\u001b[0m\u001b[0mnum_consts\u001b[0m\u001b[0;34m,\u001b[0m\u001b[0;34m\u001b[0m\u001b[0m\n\u001b[0;32m-> 1328\u001b[0;31m                              num_carry=num_carry, linear=linear)\n\u001b[0m\u001b[1;32m   1329\u001b[0m \u001b[0;34m\u001b[0m\u001b[0m\n\u001b[1;32m   1330\u001b[0m \u001b[0mscan_p\u001b[0m \u001b[0;34m=\u001b[0m \u001b[0mcore\u001b[0m\u001b[0;34m.\u001b[0m\u001b[0mPrimitive\u001b[0m\u001b[0;34m(\u001b[0m\u001b[0;34m\"scan\"\u001b[0m\u001b[0;34m)\u001b[0m\u001b[0;34m\u001b[0m\u001b[0m\n",
      "\u001b[0;32m~/miniconda3/envs/skgaip/lib/python3.7/site-packages/jax/core.py\u001b[0m in \u001b[0;36mbind\u001b[0;34m(self, *args, **kwargs)\u001b[0m\n\u001b[1;32m    197\u001b[0m     \u001b[0mtop_trace\u001b[0m \u001b[0;34m=\u001b[0m \u001b[0mfind_top_trace\u001b[0m\u001b[0;34m(\u001b[0m\u001b[0margs\u001b[0m\u001b[0;34m)\u001b[0m\u001b[0;34m\u001b[0m\u001b[0m\n\u001b[1;32m    198\u001b[0m     \u001b[0;32mif\u001b[0m \u001b[0mtop_trace\u001b[0m \u001b[0;32mis\u001b[0m \u001b[0;32mNone\u001b[0m\u001b[0;34m:\u001b[0m\u001b[0;34m\u001b[0m\u001b[0m\n\u001b[0;32m--> 199\u001b[0;31m       \u001b[0;32mreturn\u001b[0m \u001b[0mself\u001b[0m\u001b[0;34m.\u001b[0m\u001b[0mimpl\u001b[0m\u001b[0;34m(\u001b[0m\u001b[0;34m*\u001b[0m\u001b[0margs\u001b[0m\u001b[0;34m,\u001b[0m \u001b[0;34m**\u001b[0m\u001b[0mkwargs\u001b[0m\u001b[0;34m)\u001b[0m\u001b[0;34m\u001b[0m\u001b[0m\n\u001b[0m\u001b[1;32m    200\u001b[0m \u001b[0;34m\u001b[0m\u001b[0m\n\u001b[1;32m    201\u001b[0m     \u001b[0mtracers\u001b[0m \u001b[0;34m=\u001b[0m \u001b[0mmap\u001b[0m\u001b[0;34m(\u001b[0m\u001b[0mtop_trace\u001b[0m\u001b[0;34m.\u001b[0m\u001b[0mfull_raise\u001b[0m\u001b[0;34m,\u001b[0m \u001b[0margs\u001b[0m\u001b[0;34m)\u001b[0m\u001b[0;34m\u001b[0m\u001b[0m\n",
      "\u001b[0;32m~/miniconda3/envs/skgaip/lib/python3.7/site-packages/jax/lax/lax_control_flow.py\u001b[0m in \u001b[0;36m_scan_impl\u001b[0;34m(forward, length, num_consts, num_carry, jaxpr, linear, *args)\u001b[0m\n\u001b[1;32m    970\u001b[0m   \u001b[0;32melse\u001b[0m\u001b[0;34m:\u001b[0m\u001b[0;34m\u001b[0m\u001b[0m\n\u001b[1;32m    971\u001b[0m     \u001b[0minit_val\u001b[0m \u001b[0;34m=\u001b[0m \u001b[0;34m[\u001b[0m\u001b[0mlax\u001b[0m\u001b[0;34m.\u001b[0m\u001b[0m_const\u001b[0m\u001b[0;34m(\u001b[0m\u001b[0mlength\u001b[0m\u001b[0;34m,\u001b[0m \u001b[0;36m0\u001b[0m\u001b[0;34m)\u001b[0m\u001b[0;34m]\u001b[0m \u001b[0;34m+\u001b[0m \u001b[0minit\u001b[0m \u001b[0;34m+\u001b[0m \u001b[0mys_init\u001b[0m\u001b[0;34m\u001b[0m\u001b[0m\n\u001b[0;32m--> 972\u001b[0;31m     \u001b[0m_\u001b[0m\u001b[0;34m,\u001b[0m \u001b[0;34m*\u001b[0m\u001b[0mouts\u001b[0m \u001b[0;34m=\u001b[0m \u001b[0mwhile_loop\u001b[0m\u001b[0;34m(\u001b[0m\u001b[0mcond_fun\u001b[0m\u001b[0;34m,\u001b[0m \u001b[0mbody_fun\u001b[0m\u001b[0;34m,\u001b[0m \u001b[0minit_val\u001b[0m\u001b[0;34m)\u001b[0m\u001b[0;34m\u001b[0m\u001b[0m\n\u001b[0m\u001b[1;32m    973\u001b[0m     \u001b[0;32mreturn\u001b[0m \u001b[0mouts\u001b[0m\u001b[0;34m\u001b[0m\u001b[0m\n\u001b[1;32m    974\u001b[0m \u001b[0;34m\u001b[0m\u001b[0m\n",
      "\u001b[0;32m~/miniconda3/envs/skgaip/lib/python3.7/site-packages/jax/lax/lax_control_flow.py\u001b[0m in \u001b[0;36mwhile_loop\u001b[0;34m(cond_fun, body_fun, init_val)\u001b[0m\n\u001b[1;32m    242\u001b[0m   outs = while_p.bind(*itertools.chain(cond_consts, body_consts, init_vals),\n\u001b[1;32m    243\u001b[0m                       \u001b[0mcond_nconsts\u001b[0m\u001b[0;34m=\u001b[0m\u001b[0mlen\u001b[0m\u001b[0;34m(\u001b[0m\u001b[0mcond_consts\u001b[0m\u001b[0;34m)\u001b[0m\u001b[0;34m,\u001b[0m \u001b[0mcond_jaxpr\u001b[0m\u001b[0;34m=\u001b[0m\u001b[0mcond_jaxpr\u001b[0m\u001b[0;34m,\u001b[0m\u001b[0;34m\u001b[0m\u001b[0m\n\u001b[0;32m--> 244\u001b[0;31m                       body_nconsts=len(body_consts), body_jaxpr=body_jaxpr)\n\u001b[0m\u001b[1;32m    245\u001b[0m   \u001b[0;32mreturn\u001b[0m \u001b[0mtree_unflatten\u001b[0m\u001b[0;34m(\u001b[0m\u001b[0mbody_tree\u001b[0m\u001b[0;34m,\u001b[0m \u001b[0mouts\u001b[0m\u001b[0;34m)\u001b[0m\u001b[0;34m\u001b[0m\u001b[0m\n\u001b[1;32m    246\u001b[0m \u001b[0;34m\u001b[0m\u001b[0m\n",
      "\u001b[0;32m~/miniconda3/envs/skgaip/lib/python3.7/site-packages/jax/core.py\u001b[0m in \u001b[0;36mbind\u001b[0;34m(self, *args, **kwargs)\u001b[0m\n\u001b[1;32m    197\u001b[0m     \u001b[0mtop_trace\u001b[0m \u001b[0;34m=\u001b[0m \u001b[0mfind_top_trace\u001b[0m\u001b[0;34m(\u001b[0m\u001b[0margs\u001b[0m\u001b[0;34m)\u001b[0m\u001b[0;34m\u001b[0m\u001b[0m\n\u001b[1;32m    198\u001b[0m     \u001b[0;32mif\u001b[0m \u001b[0mtop_trace\u001b[0m \u001b[0;32mis\u001b[0m \u001b[0;32mNone\u001b[0m\u001b[0;34m:\u001b[0m\u001b[0;34m\u001b[0m\u001b[0m\n\u001b[0;32m--> 199\u001b[0;31m       \u001b[0;32mreturn\u001b[0m \u001b[0mself\u001b[0m\u001b[0;34m.\u001b[0m\u001b[0mimpl\u001b[0m\u001b[0;34m(\u001b[0m\u001b[0;34m*\u001b[0m\u001b[0margs\u001b[0m\u001b[0;34m,\u001b[0m \u001b[0;34m**\u001b[0m\u001b[0mkwargs\u001b[0m\u001b[0;34m)\u001b[0m\u001b[0;34m\u001b[0m\u001b[0m\n\u001b[0m\u001b[1;32m    200\u001b[0m \u001b[0;34m\u001b[0m\u001b[0m\n\u001b[1;32m    201\u001b[0m     \u001b[0mtracers\u001b[0m \u001b[0;34m=\u001b[0m \u001b[0mmap\u001b[0m\u001b[0;34m(\u001b[0m\u001b[0mtop_trace\u001b[0m\u001b[0;34m.\u001b[0m\u001b[0mfull_raise\u001b[0m\u001b[0;34m,\u001b[0m \u001b[0margs\u001b[0m\u001b[0;34m)\u001b[0m\u001b[0;34m\u001b[0m\u001b[0m\n",
      "\u001b[0;32m~/miniconda3/envs/skgaip/lib/python3.7/site-packages/jax/interpreters/xla.py\u001b[0m in \u001b[0;36mapply_primitive\u001b[0;34m(prim, *args, **params)\u001b[0m\n\u001b[1;32m    164\u001b[0m \u001b[0;32mdef\u001b[0m \u001b[0mapply_primitive\u001b[0m\u001b[0;34m(\u001b[0m\u001b[0mprim\u001b[0m\u001b[0;34m,\u001b[0m \u001b[0;34m*\u001b[0m\u001b[0margs\u001b[0m\u001b[0;34m,\u001b[0m \u001b[0;34m**\u001b[0m\u001b[0mparams\u001b[0m\u001b[0;34m)\u001b[0m\u001b[0;34m:\u001b[0m\u001b[0;34m\u001b[0m\u001b[0m\n\u001b[1;32m    165\u001b[0m   \u001b[0;34m\"\"\"Impl rule that compiles and runs a single primitive 'prim' using XLA.\"\"\"\u001b[0m\u001b[0;34m\u001b[0m\u001b[0m\n\u001b[0;32m--> 166\u001b[0;31m   \u001b[0mcompiled_fun\u001b[0m \u001b[0;34m=\u001b[0m \u001b[0mxla_primitive_callable\u001b[0m\u001b[0;34m(\u001b[0m\u001b[0mprim\u001b[0m\u001b[0;34m,\u001b[0m \u001b[0;34m*\u001b[0m\u001b[0mmap\u001b[0m\u001b[0;34m(\u001b[0m\u001b[0marg_spec\u001b[0m\u001b[0;34m,\u001b[0m \u001b[0margs\u001b[0m\u001b[0;34m)\u001b[0m\u001b[0;34m,\u001b[0m \u001b[0;34m**\u001b[0m\u001b[0mparams\u001b[0m\u001b[0;34m)\u001b[0m\u001b[0;34m\u001b[0m\u001b[0m\n\u001b[0m\u001b[1;32m    167\u001b[0m   \u001b[0;32mreturn\u001b[0m \u001b[0mcompiled_fun\u001b[0m\u001b[0;34m(\u001b[0m\u001b[0;34m*\u001b[0m\u001b[0margs\u001b[0m\u001b[0;34m)\u001b[0m\u001b[0;34m\u001b[0m\u001b[0m\n\u001b[1;32m    168\u001b[0m \u001b[0;34m\u001b[0m\u001b[0m\n",
      "\u001b[0;32m~/miniconda3/envs/skgaip/lib/python3.7/site-packages/jax/interpreters/xla.py\u001b[0m in \u001b[0;36mxla_primitive_callable\u001b[0;34m(prim, *arg_specs, **params)\u001b[0m\n\u001b[1;32m    195\u001b[0m       device_assignment=device and (device.id,))\n\u001b[1;32m    196\u001b[0m   \u001b[0moptions\u001b[0m\u001b[0;34m.\u001b[0m\u001b[0mtuple_arguments\u001b[0m \u001b[0;34m=\u001b[0m \u001b[0mtuple_args\u001b[0m\u001b[0;34m\u001b[0m\u001b[0m\n\u001b[0;32m--> 197\u001b[0;31m   \u001b[0mcompiled\u001b[0m \u001b[0;34m=\u001b[0m \u001b[0mbuilt_c\u001b[0m\u001b[0;34m.\u001b[0m\u001b[0mCompile\u001b[0m\u001b[0;34m(\u001b[0m\u001b[0mcompile_options\u001b[0m\u001b[0;34m=\u001b[0m\u001b[0moptions\u001b[0m\u001b[0;34m,\u001b[0m \u001b[0mbackend\u001b[0m\u001b[0;34m=\u001b[0m\u001b[0mbackend\u001b[0m\u001b[0;34m)\u001b[0m\u001b[0;34m\u001b[0m\u001b[0m\n\u001b[0m\u001b[1;32m    198\u001b[0m   \u001b[0;32mif\u001b[0m \u001b[0mnreps\u001b[0m \u001b[0;34m==\u001b[0m \u001b[0;36m1\u001b[0m\u001b[0;34m:\u001b[0m\u001b[0;34m\u001b[0m\u001b[0m\n\u001b[1;32m    199\u001b[0m     \u001b[0;32mreturn\u001b[0m \u001b[0mpartial\u001b[0m\u001b[0;34m(\u001b[0m\u001b[0m_execute_compiled_primitive\u001b[0m\u001b[0;34m,\u001b[0m \u001b[0mprim\u001b[0m\u001b[0;34m,\u001b[0m \u001b[0mcompiled\u001b[0m\u001b[0;34m,\u001b[0m \u001b[0mhandle_result\u001b[0m\u001b[0;34m)\u001b[0m\u001b[0;34m\u001b[0m\u001b[0m\n",
      "\u001b[0;32m~/miniconda3/envs/skgaip/lib/python3.7/site-packages/jaxlib/xla_client.py\u001b[0m in \u001b[0;36mCompile\u001b[0;34m(self, argument_shapes, compile_options, backend)\u001b[0m\n\u001b[1;32m    574\u001b[0m     \u001b[0;32mif\u001b[0m \u001b[0margument_shapes\u001b[0m\u001b[0;34m:\u001b[0m\u001b[0;34m\u001b[0m\u001b[0m\n\u001b[1;32m    575\u001b[0m       \u001b[0mcompile_options\u001b[0m\u001b[0;34m.\u001b[0m\u001b[0margument_layouts\u001b[0m \u001b[0;34m=\u001b[0m \u001b[0margument_shapes\u001b[0m\u001b[0;34m\u001b[0m\u001b[0m\n\u001b[0;32m--> 576\u001b[0;31m     \u001b[0;32mreturn\u001b[0m \u001b[0mbackend\u001b[0m\u001b[0;34m.\u001b[0m\u001b[0mcompile\u001b[0m\u001b[0;34m(\u001b[0m\u001b[0mself\u001b[0m\u001b[0;34m.\u001b[0m\u001b[0mcomputation\u001b[0m\u001b[0;34m,\u001b[0m \u001b[0mcompile_options\u001b[0m\u001b[0;34m)\u001b[0m\u001b[0;34m\u001b[0m\u001b[0m\n\u001b[0m\u001b[1;32m    577\u001b[0m \u001b[0;34m\u001b[0m\u001b[0m\n\u001b[1;32m    578\u001b[0m   \u001b[0;32mdef\u001b[0m \u001b[0mGetProgramShape\u001b[0m\u001b[0;34m(\u001b[0m\u001b[0mself\u001b[0m\u001b[0;34m)\u001b[0m\u001b[0;34m:\u001b[0m\u001b[0;34m\u001b[0m\u001b[0m\n",
      "\u001b[0;32m~/miniconda3/envs/skgaip/lib/python3.7/site-packages/jaxlib/xla_client.py\u001b[0m in \u001b[0;36mcompile\u001b[0;34m(self, c_computation, compile_options)\u001b[0m\n\u001b[1;32m    154\u001b[0m                                         \u001b[0moptions\u001b[0m\u001b[0;34m,\u001b[0m \u001b[0mself\u001b[0m\u001b[0;34m.\u001b[0m\u001b[0mclient\u001b[0m\u001b[0;34m,\u001b[0m\u001b[0;34m\u001b[0m\u001b[0m\n\u001b[1;32m    155\u001b[0m                                         \u001b[0mcompile_options\u001b[0m\u001b[0;34m.\u001b[0m\u001b[0mdevice_assignment\u001b[0m\u001b[0;34m,\u001b[0m\u001b[0;34m\u001b[0m\u001b[0m\n\u001b[0;32m--> 156\u001b[0;31m                                         compile_options.tuple_arguments)\n\u001b[0m\u001b[1;32m    157\u001b[0m \u001b[0;34m\u001b[0m\u001b[0m\n\u001b[1;32m    158\u001b[0m   \u001b[0;32mdef\u001b[0m \u001b[0mget_default_device_assignment\u001b[0m\u001b[0;34m(\u001b[0m\u001b[0mself\u001b[0m\u001b[0;34m,\u001b[0m \u001b[0mnum_replicas\u001b[0m\u001b[0;34m,\u001b[0m \u001b[0mnum_partitions\u001b[0m\u001b[0;34m=\u001b[0m\u001b[0;32mNone\u001b[0m\u001b[0;34m)\u001b[0m\u001b[0;34m:\u001b[0m\u001b[0;34m\u001b[0m\u001b[0m\n",
      "\u001b[0;31mKeyboardInterrupt\u001b[0m: "
     ]
    }
   ],
   "source": [
    "for basin in tqdm.tqdm(basins):\n",
    "    SEQUENCE_LENGTH = 270\n",
    "    INPUT_DIM = 32\n",
    "\n",
    "    b_threshold = 1e-4\n",
    "    eta = 0.008\n",
    "\n",
    "    W_lr_best_pairs = [\n",
    "            (0.03, 2e-5),\n",
    "            (0.05, 2e-5),\n",
    "            (0.07, 2e-5),\n",
    "            (0.09, 2e-5),\n",
    "        ]\n",
    "\n",
    "    methods, optimizers = [], []\n",
    "\n",
    "    for W_threshold, lr in W_lr_best_pairs:\n",
    "        project_threshold = {\"W_lnm\": W_threshold, \"b\": b_threshold}\n",
    "        \n",
    "        method_ar = AR(\n",
    "            input_dim=INPUT_DIM,\n",
    "            output_dim=1,\n",
    "            history_len=SEQUENCE_LENGTH\n",
    "        )\n",
    "        optim_ar = SGD(pred = method_ar.predict, learning_rate=lr, project_threshold=project_threshold)\n",
    "        optimizers.append(optim_ar)\n",
    "        methods.append(method_ar)\n",
    "\n",
    "    method_boosting = Gradient_boosting(\n",
    "        methods,\n",
    "        optimizers,\n",
    "        X_shape=(270, 32),\n",
    "        Y_shape=(),\n",
    "        eta=eta,\n",
    "    )\n",
    "\n",
    "    yhats_LSTM = np.array(basin_to_yhats_LSTM[basin])\n",
    "    X = pickle.load(open(\"../data/flood/test/{}.pkl\".format(basin), \"rb\"))\n",
    "    Y = pickle.load(open(\"../data/flood/qobs/{}.pkl\".format(basin), \"rb\"))\n",
    "    \n",
    "    y_true = Y - yhats_LSTM\n",
    "    y_pred_ar = method_boosting.predict_and_update(X, y_true)\n",
    "    yhats = yhats_LSTM + y_pred_ar.squeeze()\n",
    "\n",
    "    loss = ((Y - yhats) ** 2).mean()\n",
    "    \n",
    "    print(basin, loss)\n"
   ]
  },
  {
   "cell_type": "code",
   "execution_count": null,
   "metadata": {},
   "outputs": [],
   "source": []
  },
  {
   "cell_type": "code",
   "execution_count": null,
   "metadata": {},
   "outputs": [],
   "source": []
  },
  {
   "cell_type": "code",
   "execution_count": 63,
   "metadata": {},
   "outputs": [],
   "source": [
    "class A:\n",
    "    def __init__(self):\n",
    "        @jax.jit\n",
    "        def a():\n",
    "            print(locals())\n",
    "            return 5\n",
    "        self._a = a"
   ]
  },
  {
   "cell_type": "code",
   "execution_count": 64,
   "metadata": {},
   "outputs": [],
   "source": [
    "a = A()"
   ]
  },
  {
   "cell_type": "code",
   "execution_count": 65,
   "metadata": {},
   "outputs": [
    {
     "name": "stdout",
     "output_type": "stream",
     "text": [
      "{}\n"
     ]
    },
    {
     "data": {
      "text/plain": [
       "5"
      ]
     },
     "execution_count": 65,
     "metadata": {},
     "output_type": "execute_result"
    }
   ],
   "source": [
    "a._a()"
   ]
  },
  {
   "cell_type": "code",
   "execution_count": null,
   "metadata": {},
   "outputs": [],
   "source": []
  }
 ],
 "metadata": {
  "kernelspec": {
   "display_name": "Python 3",
   "language": "python",
   "name": "python3"
  },
  "language_info": {
   "codemirror_mode": {
    "name": "ipython",
    "version": 3
   },
   "file_extension": ".py",
   "mimetype": "text/x-python",
   "name": "python",
   "nbconvert_exporter": "python",
   "pygments_lexer": "ipython3",
   "version": "3.7.0"
  }
 },
 "nbformat": 4,
 "nbformat_minor": 4
}
