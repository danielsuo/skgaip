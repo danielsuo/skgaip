{
 "cells": [
  {
   "cell_type": "code",
   "execution_count": 1,
   "metadata": {},
   "outputs": [
    {
     "data": {
      "text/html": [
       "<style>.container { width:100% !important; }</style>"
      ],
      "text/plain": [
       "<IPython.core.display.HTML object>"
      ]
     },
     "metadata": {},
     "output_type": "display_data"
    },
    {
     "name": "stderr",
     "output_type": "stream",
     "text": [
      "/home/dsuo/miniconda3/envs/toy_flood/lib/python3.7/site-packages/jax/lib/xla_bridge.py:123: UserWarning: No GPU/TPU found, falling back to CPU.\n",
      "  warnings.warn('No GPU/TPU found, falling back to CPU.')\n"
     ]
    }
   ],
   "source": [
    "%load_ext autoreload\n",
    "%autoreload 2\n",
    "\n",
    "from IPython.display import Image\n",
    "from IPython.core.display import display, HTML\n",
    "display(HTML(\"<style>.container { width:100% !important; }</style>\"))\n",
    "\n",
    "import os\n",
    "import json\n",
    "import numpy as onp\n",
    "import jax\n",
    "import jax.numpy as jnp\n",
    "import flax\n",
    "import pickle\n",
    "import matplotlib.pyplot as plt\n",
    "import pandas as pd\n",
    "import torch\n",
    "import matplotlib\n",
    "import timecast as tc\n",
    "\n",
    "from mpl_toolkits import mplot3d\n",
    "\n",
    "\n",
    "plt.rcParams['figure.figsize'] = [20, 10]\n",
    "\n",
    "import tqdm.notebook as tqdm"
   ]
  },
  {
   "cell_type": "code",
   "execution_count": 2,
   "metadata": {},
   "outputs": [],
   "source": [
    "basins = pickle.load(open(\"../data/basins.p\", \"rb\"))"
   ]
  },
  {
   "cell_type": "code",
   "execution_count": 10,
   "metadata": {},
   "outputs": [],
   "source": [
    "@tc.experiment(\"basin\", basins)\n",
    "@tc.experiment(\"lr\", jnp.linspace(-8, -1, 29))\n",
    "def runner(basin, lr):\n",
    "    import pickle\n",
    "    from ealstm.gaip.utils import MSE\n",
    "\n",
    "    import jax.numpy as jnp\n",
    "\n",
    "    from timecast.learners import Sequential, Parallel, Index, PredictLast\n",
    "    from timecast import smap\n",
    "    from timecast.objectives import residual\n",
    "    from timecast.optim import GradientDescent\n",
    "\n",
    "    import tqdm.notebook as tqdm\n",
    "    \n",
    "    X = pickle.load(open(\"../data/test/{}.p\".format(basin), \"rb\"))\n",
    "    Y = pickle.load(open(\"../data/ealstm/{}.p\".format(basin), \"rb\"))\n",
    "    \n",
    "    history_len = 270\n",
    "    \n",
    "    lstm = Index.partial(index=0)\n",
    "    pl = PredictLast.partial()\n",
    "    pl = Sequential.partial(learners=[Index.partial(index=1), pl])\n",
    "    model, state = Parallel.new(shape=(1, 32), learners=[lstm, pl])\n",
    "    \n",
    "    optim_def = GradientDescent(learning_rate=(10 ** lr))\n",
    "    optimizer = optim_def.create(model)\n",
    "\n",
    "    # NOTE: difference in indexing convention, so need to pad one row\n",
    "    X_t = X[history_len - 1:]\n",
    "    Y_lstm = jnp.array(Y.qsim)\n",
    "    Y = jnp.array(Y.qobs).reshape(-1, 1)\n",
    "\n",
    "    Y_hat, optimizer, state = smap((Y_lstm, X_t), Y, optimizer, state=state, objective=residual)\n",
    "\n",
    "    return {\"basin\": basin, \"lr\": lr, \"mse\": MSE(Y, Y_hat)}"
   ]
  },
  {
   "cell_type": "code",
   "execution_count": 11,
   "metadata": {},
   "outputs": [
    {
     "data": {
      "application/vnd.jupyter.widget-view+json": {
       "model_id": "c7b4685967d8487b8a0602c93e922936",
       "version_major": 2,
       "version_minor": 0
      },
      "text/plain": [
       "HBox(children=(FloatProgress(value=1.0, bar_style='info', max=1.0), HTML(value='')))"
      ]
     },
     "metadata": {},
     "output_type": "display_data"
    },
    {
     "name": "stdout",
     "output_type": "stream",
     "text": [
      "\n"
     ]
    }
   ],
   "source": [
    "results = runner.run(processes=10, tqdm=tqdm)"
   ]
  },
  {
   "cell_type": "code",
   "execution_count": 12,
   "metadata": {},
   "outputs": [
    {
     "data": {
      "application/vnd.jupyter.widget-view+json": {
       "model_id": "6f217a6fd11b453e988a3aea21b9548c",
       "version_major": 2,
       "version_minor": 0
      },
      "text/plain": [
       "HBox(children=(FloatProgress(value=0.0, max=29.0), HTML(value='')))"
      ]
     },
     "metadata": {},
     "output_type": "display_data"
    },
    {
     "name": "stdout",
     "output_type": "stream",
     "text": [
      "Average MSE (lr=-8.0000000000): 4.14\n",
      "Average MSE (lr=-7.7500000000): 4.14\n",
      "Average MSE (lr=-7.5000000000): 4.14\n",
      "Average MSE (lr=-7.2500000000): 4.14\n",
      "Average MSE (lr=-7.0000000000): 4.14\n",
      "Average MSE (lr=-6.7500000000): 4.14\n",
      "Average MSE (lr=-6.5000000000): 4.14\n",
      "Average MSE (lr=-6.2500000000): 4.14\n",
      "Average MSE (lr=-6.0000000000): 4.14\n",
      "Average MSE (lr=-5.7500000000): 4.14\n",
      "Average MSE (lr=-5.5000000000): 4.14\n",
      "Average MSE (lr=-5.2500000000): 4.14\n",
      "Average MSE (lr=-5.0000000000): 4.14\n",
      "Average MSE (lr=-4.7500000000): 4.14\n",
      "Average MSE (lr=-4.5000000000): 4.14\n",
      "Average MSE (lr=-4.2500000000): 4.14\n",
      "Average MSE (lr=-4.0000000000): 4.14\n",
      "Average MSE (lr=-3.7500000000): 4.14\n",
      "Average MSE (lr=-3.5000000000): 4.14\n",
      "Average MSE (lr=-3.2500000000): 4.14\n",
      "Average MSE (lr=-3.0000000000): 4.14\n",
      "Average MSE (lr=-2.7500000000): 4.14\n",
      "Average MSE (lr=-2.5000000000): 4.14\n",
      "Average MSE (lr=-2.2500000000): 4.14\n",
      "Average MSE (lr=-2.0000000000): 4.14\n",
      "Average MSE (lr=-1.7500000000): 4.14\n",
      "Average MSE (lr=-1.5000000000): 4.14\n",
      "Average MSE (lr=-1.2500000000): 4.14\n",
      "Average MSE (lr=-1.0000000000): 4.14\n",
      "\n"
     ]
    }
   ],
   "source": [
    "for lr in tqdm.tqdm(jnp.linspace(-8, -1, 29)):\n",
    "    print(\"Average MSE (lr={0:.10f}): {1:.2f}\".format(lr, jnp.average(jnp.array([result[\"mse\"] for result in results if result[\"lr\"] == lr]))))"
   ]
  },
  {
   "cell_type": "code",
   "execution_count": null,
   "metadata": {},
   "outputs": [],
   "source": []
  }
 ],
 "metadata": {
  "kernelspec": {
   "display_name": "Python 3",
   "language": "python",
   "name": "python3"
  },
  "language_info": {
   "codemirror_mode": {
    "name": "ipython",
    "version": 3
   },
   "file_extension": ".py",
   "mimetype": "text/x-python",
   "name": "python",
   "nbconvert_exporter": "python",
   "pygments_lexer": "ipython3",
   "version": "3.7.3"
  }
 },
 "nbformat": 4,
 "nbformat_minor": 2
}
