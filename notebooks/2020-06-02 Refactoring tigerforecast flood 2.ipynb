{
 "cells": [
  {
   "cell_type": "code",
   "execution_count": 2,
   "metadata": {},
   "outputs": [],
   "source": [
    "import os\n",
    "import pickle\n",
    "\n",
    "import jax\n",
    "import jax.numpy as jnp\n",
    "import numpy as np\n",
    "\n",
    "import tqdm"
   ]
  },
  {
   "cell_type": "code",
   "execution_count": 3,
   "metadata": {},
   "outputs": [],
   "source": [
    "# https://ttic.uchicago.edu/~tewari/lectures/lecture4.pdf\n",
    "\n",
    "# from tigerforecast.batch.camels_dataloader import CamelsTXT\n",
    "# for basin in tqdm.tqdm(basins):\n",
    "#     usgs_val = CamelsTXT(basin=basin, concat_static=True)\n",
    "#     for data, targets in usgs_val.sequential_batches(batch_size=5000):\n",
    "#         pickle.dump(data, open(\"../data/flood/test/{}.pkl\".format(basin), \"wb\"))\n",
    "#         pickle.dump(targets, open(\"../data/flood/qobs/{}.pkl\".format(basin), \"wb\"))"
   ]
  },
  {
   "cell_type": "code",
   "execution_count": 4,
   "metadata": {},
   "outputs": [],
   "source": [
    "basins = pickle.load(open(\"../data/flood/meta.pkl\", \"rb\"))[\"basins\"]"
   ]
  },
  {
   "cell_type": "code",
   "execution_count": 5,
   "metadata": {},
   "outputs": [
    {
     "name": "stderr",
     "output_type": "stream",
     "text": [
      "/home/dsuo/miniconda3/envs/skgaip/lib/python3.7/site-packages/jax/lib/xla_bridge.py:123: UserWarning: No GPU/TPU found, falling back to CPU.\n",
      "  warnings.warn('No GPU/TPU found, falling back to CPU.')\n"
     ]
    }
   ],
   "source": [
    "from tigerforecast.utils.download_tools import get_tigerforecast_dir\n",
    "basin_to_yhats_LSTM = pickle.load(open(os.path.join(get_tigerforecast_dir(), \"flood_prediction\", \"basin_to_yhats_LSTM\"), \"rb\"))"
   ]
  },
  {
   "cell_type": "code",
   "execution_count": 6,
   "metadata": {},
   "outputs": [],
   "source": [
    "# TODO:\n",
    "# - Apply to hierarchy\n",
    "\n",
    "class SGD:\n",
    "    def __init__(self,\n",
    "                 loss_fn=lambda pred, true: jnp.square(pred - true).mean(),\n",
    "                 learning_rate=0.0001,\n",
    "                 project_threshold={}):\n",
    "        self.loss_fn = loss_fn\n",
    "        self.learning_rate = learning_rate\n",
    "        self.project_threshold = project_threshold\n",
    "        \n",
    "    def update(self, module, params, x, y):\n",
    "        grad = jax.jit(jax.grad(lambda module, x, y: self.loss_fn(module(x), y)))(module, x, y)\n",
    "        new_params = {k:w - self.learning_rate * grad.params[k] - 2 for (k, w) in params.items()}\n",
    "        \n",
    "        for k, param in new_params.items():\n",
    "            norm = jnp.linalg.norm(new_params[k])\n",
    "            new_params[k] = jax.lax.cond(norm > self.project_threshold[k],\n",
    "                                          new_params[k],\n",
    "                                          lambda x : (self.project_threshold[k]/norm) * x,\n",
    "                                          new_params[k],\n",
    "                                          lambda x : x)\n",
    "        return new_params"
   ]
  },
  {
   "cell_type": "code",
   "execution_count": 64,
   "metadata": {},
   "outputs": [],
   "source": [
    "class MW:\n",
    "    def __init__(self, eta=0.008):\n",
    "        self.eta = eta\n",
    "        self.grad = jax.jit(jax.grad(lambda W, preds, y: jnp.square(jnp.dot(W, preds) - y).sum()))\n",
    "        \n",
    "    def update(self, params, x, y):\n",
    "        grad = self.grad(params, x, y)\n",
    "        new_params = params * jnp.exp(-1 * self.eta * grad)\n",
    "        return new_params / new_params.sum()"
   ]
  },
  {
   "cell_type": "code",
   "execution_count": 71,
   "metadata": {},
   "outputs": [],
   "source": [
    "# TODO\n",
    "# - Optimizers should apply to all children unless children have specified version\n",
    "# - hierarchical parameters?\n",
    "# - Tree flatten is very crude (only applies to params)\n",
    "# - Pass class directly to jax\n",
    "# - How to handle buffers vs parameters\n",
    "# - Users can do bad things with naming\n",
    "# - Should we keep copies in __dict__ and params/modules?\n",
    "import inspect\n",
    "\n",
    "def pytree(cls):\n",
    "    def tree_flatten(module):\n",
    "        leaves, aux = jax.tree_util.tree_flatten(module.params)\n",
    "        aux = {\n",
    "            \"treedef\": aux,\n",
    "            \"arguments\": module.arguments,\n",
    "            \"attrs\": module.attrs\n",
    "        }\n",
    "        return leaves, aux\n",
    "    \n",
    "    def tree_unflatten(aux, leaves):\n",
    "        module = cls(*aux[\"arguments\"].args, **aux[\"arguments\"].kwargs)\n",
    "        module.params = jax.tree_util.tree_unflatten(aux[\"treedef\"], leaves)\n",
    "        \n",
    "        for attr in aux[\"attrs\"]:\n",
    "            if attr in module.params:\n",
    "                module.__dict__[attr] = module.params[attr]\n",
    "            \n",
    "        return module\n",
    "    \n",
    "    jax.tree_util.register_pytree_node(cls, tree_flatten, tree_unflatten)\n",
    "    \n",
    "    return cls\n",
    "\n",
    "class Module:\n",
    "    def __new__(cls, *args, **kwargs):\n",
    "        obj = object.__new__(cls)\n",
    "        obj.__setattr__(\"attrs\", set())\n",
    "        obj.__setattr__(\"modules\", {})\n",
    "        obj.__setattr__(\"params\", {})\n",
    "        obj.__setattr__(\"arguments\", inspect.signature(obj.__init__).bind(*args))\n",
    "        obj.arguments.apply_defaults()\n",
    "\n",
    "        return obj\n",
    "    \n",
    "    def __setattr__(self, name, value):\n",
    "        self.__dict__[name] = value\n",
    "        self.attrs.add(name)\n",
    "        \n",
    "        if isinstance(value, Module):\n",
    "            self.add_module(value, name)\n",
    "        elif isinstance(value, jnp.ndarray):\n",
    "            self.add_param(value, name)\n",
    "        \n",
    "    def add_module(self, module, name=None):\n",
    "        counter = 0\n",
    "        while name is None or name in self.__dict__[\"modules\"]:\n",
    "            name = \"{}_{}\".format(type(module).__name__, counter)\n",
    "            counter += 1\n",
    "            \n",
    "        self.__dict__[\"modules\"][name] = module\n",
    "        \n",
    "    def add_param(self, param, name):\n",
    "        counter = 0\n",
    "        while name is None or name in self.__dict__[\"params\"]:\n",
    "            name = \"{}_{}\".format(name, counter)\n",
    "            counter += 1 \n",
    "        self.__dict__[\"params\"][name] = param"
   ]
  },
  {
   "cell_type": "code",
   "execution_count": 72,
   "metadata": {},
   "outputs": [],
   "source": [
    "@pytree\n",
    "class AR(Module):\n",
    "    def __init__(self, input_dim=32, output_dim=1, history_len=270):\n",
    "        self.kernel = jnp.zeros((history_len, input_dim, output_dim))\n",
    "        self.bias = jnp.zeros((output_dim, 1))\n",
    "        \n",
    "    def __call__(self, x):\n",
    "#         return jnp.tensordot(self.kernel, x, ([0,1],[0,1])) + self.bias\n",
    "        return jnp.tensordot(self.params[\"kernel\"], x, ([0,1],[0,1])) + self.params[\"bias\"]"
   ]
  },
  {
   "cell_type": "code",
   "execution_count": 73,
   "metadata": {},
   "outputs": [],
   "source": [
    "@pytree\n",
    "class GradientBoosting(Module):\n",
    "    def __init__(self, N, input_dim=32, output_dim=1, history_len=270):\n",
    "        for i in range(N):\n",
    "            self.add_module(AR(input_dim=input_dim, output_dim=output_dim, history_len=history_len))\n",
    "            \n",
    "        self.W = jnp.ones(N) / N\n",
    "        \n",
    "    def __call__(self, x):\n",
    "        pred, preds = 0, []\n",
    "        for i, module in enumerate(self.modules.values()):\n",
    "            pred_i = module(x).squeeze()\n",
    "            preds.append(pred_i)\n",
    "            pred += self.params[\"W\"][i] * pred_i\n",
    "\n",
    "        return preds"
   ]
  },
  {
   "cell_type": "code",
   "execution_count": 74,
   "metadata": {
    "scrolled": false
   },
   "outputs": [
    {
     "name": "stderr",
     "output_type": "stream",
     "text": [
      "\r",
      "  0%|          | 0/531 [00:00<?, ?it/s]"
     ]
    },
    {
     "name": "stdout",
     "output_type": "stream",
     "text": [
      "[0.25 0.25 0.25 0.25] [0. 0. 0. 0.] 0.118166566 -0.118166566\n",
      "[0.25 0.25 0.25 0.25] [0.13430952 0.22391267 0.3135231  0.40314493] -0.04906863 0.3177912\n",
      "[0.2501709  0.25005695 0.24994303 0.24982914] [0.13174988 0.2196353  0.30750763 0.39540604] -0.06850159 0.33202624\n",
      "[0.25034603 0.25011522 0.24988459 0.24965413] [0.12980895 0.21640135 0.30297926 0.38958448] -0.06486517 0.3244588\n",
      "[0.25051472 0.25017127 0.24982826 0.24948569] [0.12886204 0.21482384 0.30076975 0.38674304] -0.010355771 0.268008\n",
      "[0.2506531  0.25021723 0.24978209 0.24934763] [0.12838292 0.21402366 0.29965568 0.38530204] 0.05162567 0.20502907\n",
      "[0.2507586  0.25025222 0.24974684 0.24924241] [0.1271712  0.21200448 0.2968281  0.38166642] 0.1418643 0.1123389\n",
      "[0.25081584 0.25027117 0.24972768 0.2491853 ] [0.1259012  0.20989317 0.29386944 0.37787443] 0.110736966 0.14091936\n"
     ]
    },
    {
     "name": "stderr",
     "output_type": "stream",
     "text": [
      "  0%|          | 0/531 [00:05<?, ?it/s]\n"
     ]
    },
    {
     "ename": "KeyboardInterrupt",
     "evalue": "",
     "output_type": "error",
     "traceback": [
      "\u001b[0;31m---------------------------------------------------------------------------\u001b[0m",
      "\u001b[0;31mKeyboardInterrupt\u001b[0m                         Traceback (most recent call last)",
      "\u001b[0;32m<ipython-input-74-ada09148f2ed>\u001b[0m in \u001b[0;36m<module>\u001b[0;34m\u001b[0m\n\u001b[1;32m     40\u001b[0m \u001b[0;31m#     module, y_pred_ar = jax.lax.scan(loop, module, (X, y_true))\u001b[0m\u001b[0;34m\u001b[0m\u001b[0;34m\u001b[0m\u001b[0m\n\u001b[1;32m     41\u001b[0m     \u001b[0;32mfor\u001b[0m \u001b[0mx\u001b[0m\u001b[0;34m,\u001b[0m \u001b[0my\u001b[0m \u001b[0;32min\u001b[0m \u001b[0mzip\u001b[0m\u001b[0;34m(\u001b[0m\u001b[0mX\u001b[0m\u001b[0;34m,\u001b[0m \u001b[0my_true\u001b[0m\u001b[0;34m)\u001b[0m\u001b[0;34m:\u001b[0m\u001b[0;34m\u001b[0m\u001b[0m\n\u001b[0;32m---> 42\u001b[0;31m         \u001b[0mmodule\u001b[0m\u001b[0;34m,\u001b[0m \u001b[0mpred\u001b[0m \u001b[0;34m=\u001b[0m \u001b[0mloop\u001b[0m\u001b[0;34m(\u001b[0m\u001b[0mmodule\u001b[0m\u001b[0;34m,\u001b[0m \u001b[0;34m(\u001b[0m\u001b[0mx\u001b[0m\u001b[0;34m,\u001b[0m \u001b[0my\u001b[0m\u001b[0;34m)\u001b[0m\u001b[0;34m)\u001b[0m\u001b[0;34m\u001b[0m\u001b[0m\n\u001b[0m\u001b[1;32m     43\u001b[0m \u001b[0;34m\u001b[0m\u001b[0m\n\u001b[1;32m     44\u001b[0m     \u001b[0my_pred_ar\u001b[0m \u001b[0;34m=\u001b[0m \u001b[0mjnp\u001b[0m\u001b[0;34m.\u001b[0m\u001b[0masarray\u001b[0m\u001b[0;34m(\u001b[0m\u001b[0my_pred_ar\u001b[0m\u001b[0;34m)\u001b[0m\u001b[0;34m\u001b[0m\u001b[0m\n",
      "\u001b[0;32m<ipython-input-74-ada09148f2ed>\u001b[0m in \u001b[0;36mloop\u001b[0;34m(module, xy)\u001b[0m\n\u001b[1;32m     29\u001b[0m \u001b[0;34m\u001b[0m\u001b[0m\n\u001b[1;32m     30\u001b[0m         \u001b[0;32mfor\u001b[0m \u001b[0mi\u001b[0m\u001b[0;34m,\u001b[0m \u001b[0mname\u001b[0m \u001b[0;32min\u001b[0m \u001b[0menumerate\u001b[0m\u001b[0;34m(\u001b[0m\u001b[0mmodule\u001b[0m\u001b[0;34m.\u001b[0m\u001b[0mmodules\u001b[0m\u001b[0;34m)\u001b[0m\u001b[0;34m:\u001b[0m\u001b[0;34m\u001b[0m\u001b[0m\n\u001b[0;32m---> 31\u001b[0;31m             \u001b[0mmodule\u001b[0m\u001b[0;34m.\u001b[0m\u001b[0mmodules\u001b[0m\u001b[0;34m[\u001b[0m\u001b[0mname\u001b[0m\u001b[0;34m]\u001b[0m\u001b[0;34m.\u001b[0m\u001b[0mparams\u001b[0m \u001b[0;34m=\u001b[0m \u001b[0moptimizers\u001b[0m\u001b[0;34m[\u001b[0m\u001b[0mi\u001b[0m\u001b[0;34m]\u001b[0m\u001b[0;34m.\u001b[0m\u001b[0mupdate\u001b[0m\u001b[0;34m(\u001b[0m\u001b[0mmodule\u001b[0m\u001b[0;34m.\u001b[0m\u001b[0mmodules\u001b[0m\u001b[0;34m[\u001b[0m\u001b[0mname\u001b[0m\u001b[0;34m]\u001b[0m\u001b[0;34m,\u001b[0m \u001b[0mmodule\u001b[0m\u001b[0;34m.\u001b[0m\u001b[0mmodules\u001b[0m\u001b[0;34m[\u001b[0m\u001b[0mname\u001b[0m\u001b[0;34m]\u001b[0m\u001b[0;34m.\u001b[0m\u001b[0mparams\u001b[0m\u001b[0;34m,\u001b[0m \u001b[0mx\u001b[0m\u001b[0;34m,\u001b[0m \u001b[0my\u001b[0m \u001b[0;34m-\u001b[0m \u001b[0mpred\u001b[0m\u001b[0;34m)\u001b[0m\u001b[0;34m\u001b[0m\u001b[0m\n\u001b[0m\u001b[1;32m     32\u001b[0m             \u001b[0mpred\u001b[0m \u001b[0;34m+=\u001b[0m \u001b[0mmodule\u001b[0m\u001b[0;34m.\u001b[0m\u001b[0mparams\u001b[0m\u001b[0;34m[\u001b[0m\u001b[0;34m\"W\"\u001b[0m\u001b[0;34m]\u001b[0m\u001b[0;34m[\u001b[0m\u001b[0mi\u001b[0m\u001b[0;34m]\u001b[0m \u001b[0;34m*\u001b[0m \u001b[0mpreds\u001b[0m\u001b[0;34m[\u001b[0m\u001b[0mi\u001b[0m\u001b[0;34m]\u001b[0m\u001b[0;34m\u001b[0m\u001b[0m\n\u001b[1;32m     33\u001b[0m \u001b[0;34m\u001b[0m\u001b[0m\n",
      "\u001b[0;32m<ipython-input-6-10ef3acdd969>\u001b[0m in \u001b[0;36mupdate\u001b[0;34m(self, module, params, x, y)\u001b[0m\n\u001b[1;32m     21\u001b[0m                                           \u001b[0;32mlambda\u001b[0m \u001b[0mx\u001b[0m \u001b[0;34m:\u001b[0m \u001b[0;34m(\u001b[0m\u001b[0mself\u001b[0m\u001b[0;34m.\u001b[0m\u001b[0mproject_threshold\u001b[0m\u001b[0;34m[\u001b[0m\u001b[0mk\u001b[0m\u001b[0;34m]\u001b[0m\u001b[0;34m/\u001b[0m\u001b[0mnorm\u001b[0m\u001b[0;34m)\u001b[0m \u001b[0;34m*\u001b[0m \u001b[0mx\u001b[0m\u001b[0;34m,\u001b[0m\u001b[0;34m\u001b[0m\u001b[0m\n\u001b[1;32m     22\u001b[0m                                           \u001b[0mnew_params\u001b[0m\u001b[0;34m[\u001b[0m\u001b[0mk\u001b[0m\u001b[0;34m]\u001b[0m\u001b[0;34m,\u001b[0m\u001b[0;34m\u001b[0m\u001b[0m\n\u001b[0;32m---> 23\u001b[0;31m                                           lambda x : x)\n\u001b[0m\u001b[1;32m     24\u001b[0m         \u001b[0;32mreturn\u001b[0m \u001b[0mnew_params\u001b[0m\u001b[0;34m\u001b[0m\u001b[0m\n",
      "\u001b[0;32m~/miniconda3/envs/skgaip/lib/python3.7/site-packages/jax/lax/lax_control_flow.py\u001b[0m in \u001b[0;36mcond\u001b[0;34m(pred, true_operand, true_fun, false_operand, false_fun)\u001b[0m\n\u001b[1;32m    543\u001b[0m   out = cond_p.bind(\n\u001b[1;32m    544\u001b[0m       \u001b[0;34m*\u001b[0m\u001b[0mitertools\u001b[0m\u001b[0;34m.\u001b[0m\u001b[0mchain\u001b[0m\u001b[0;34m(\u001b[0m\u001b[0;34m[\u001b[0m\u001b[0mpred\u001b[0m\u001b[0;34m]\u001b[0m\u001b[0;34m,\u001b[0m \u001b[0mtrue_consts\u001b[0m\u001b[0;34m,\u001b[0m \u001b[0mtrue_ops\u001b[0m\u001b[0;34m,\u001b[0m \u001b[0mfalse_consts\u001b[0m\u001b[0;34m,\u001b[0m \u001b[0mfalse_ops\u001b[0m\u001b[0;34m)\u001b[0m\u001b[0;34m,\u001b[0m\u001b[0;34m\u001b[0m\u001b[0m\n\u001b[0;32m--> 545\u001b[0;31m       true_jaxpr=true_jaxpr, false_jaxpr=false_jaxpr, linear=linear)\n\u001b[0m\u001b[1;32m    546\u001b[0m   \u001b[0;32mreturn\u001b[0m \u001b[0mtree_unflatten\u001b[0m\u001b[0;34m(\u001b[0m\u001b[0mtrue_out_tree\u001b[0m\u001b[0;34m,\u001b[0m \u001b[0mout\u001b[0m\u001b[0;34m)\u001b[0m\u001b[0;34m\u001b[0m\u001b[0m\n\u001b[1;32m    547\u001b[0m \u001b[0;34m\u001b[0m\u001b[0m\n",
      "\u001b[0;32m~/miniconda3/envs/skgaip/lib/python3.7/site-packages/jax/lax/lax_control_flow.py\u001b[0m in \u001b[0;36mcond_bind\u001b[0;34m(true_jaxpr, false_jaxpr, linear, *args)\u001b[0m\n\u001b[1;32m    805\u001b[0m     \u001b[0mcore\u001b[0m\u001b[0;34m.\u001b[0m\u001b[0mcheck_jaxpr\u001b[0m\u001b[0;34m(\u001b[0m\u001b[0mfalse_jaxpr\u001b[0m\u001b[0;34m.\u001b[0m\u001b[0mjaxpr\u001b[0m\u001b[0;34m)\u001b[0m\u001b[0;34m\u001b[0m\u001b[0m\n\u001b[1;32m    806\u001b[0m   return core.Primitive.bind(cond_p, *args, true_jaxpr=true_jaxpr,\n\u001b[0;32m--> 807\u001b[0;31m                              false_jaxpr=false_jaxpr, linear=linear)\n\u001b[0m\u001b[1;32m    808\u001b[0m \u001b[0;34m\u001b[0m\u001b[0m\n\u001b[1;32m    809\u001b[0m \u001b[0mcond_p\u001b[0m \u001b[0;34m=\u001b[0m \u001b[0mlax\u001b[0m\u001b[0;34m.\u001b[0m\u001b[0mPrimitive\u001b[0m\u001b[0;34m(\u001b[0m\u001b[0;34m'cond'\u001b[0m\u001b[0;34m)\u001b[0m\u001b[0;34m\u001b[0m\u001b[0m\n",
      "\u001b[0;32m~/miniconda3/envs/skgaip/lib/python3.7/site-packages/jax/core.py\u001b[0m in \u001b[0;36mbind\u001b[0;34m(self, *args, **kwargs)\u001b[0m\n\u001b[1;32m    197\u001b[0m     \u001b[0mtop_trace\u001b[0m \u001b[0;34m=\u001b[0m \u001b[0mfind_top_trace\u001b[0m\u001b[0;34m(\u001b[0m\u001b[0margs\u001b[0m\u001b[0;34m)\u001b[0m\u001b[0;34m\u001b[0m\u001b[0m\n\u001b[1;32m    198\u001b[0m     \u001b[0;32mif\u001b[0m \u001b[0mtop_trace\u001b[0m \u001b[0;32mis\u001b[0m \u001b[0;32mNone\u001b[0m\u001b[0;34m:\u001b[0m\u001b[0;34m\u001b[0m\u001b[0m\n\u001b[0;32m--> 199\u001b[0;31m       \u001b[0;32mreturn\u001b[0m \u001b[0mself\u001b[0m\u001b[0;34m.\u001b[0m\u001b[0mimpl\u001b[0m\u001b[0;34m(\u001b[0m\u001b[0;34m*\u001b[0m\u001b[0margs\u001b[0m\u001b[0;34m,\u001b[0m \u001b[0;34m**\u001b[0m\u001b[0mkwargs\u001b[0m\u001b[0;34m)\u001b[0m\u001b[0;34m\u001b[0m\u001b[0m\n\u001b[0m\u001b[1;32m    200\u001b[0m \u001b[0;34m\u001b[0m\u001b[0m\n\u001b[1;32m    201\u001b[0m     \u001b[0mtracers\u001b[0m \u001b[0;34m=\u001b[0m \u001b[0mmap\u001b[0m\u001b[0;34m(\u001b[0m\u001b[0mtop_trace\u001b[0m\u001b[0;34m.\u001b[0m\u001b[0mfull_raise\u001b[0m\u001b[0;34m,\u001b[0m \u001b[0margs\u001b[0m\u001b[0;34m)\u001b[0m\u001b[0;34m\u001b[0m\u001b[0m\n",
      "\u001b[0;32m~/miniconda3/envs/skgaip/lib/python3.7/site-packages/jax/interpreters/xla.py\u001b[0m in \u001b[0;36mapply_primitive\u001b[0;34m(prim, *args, **params)\u001b[0m\n\u001b[1;32m    164\u001b[0m \u001b[0;32mdef\u001b[0m \u001b[0mapply_primitive\u001b[0m\u001b[0;34m(\u001b[0m\u001b[0mprim\u001b[0m\u001b[0;34m,\u001b[0m \u001b[0;34m*\u001b[0m\u001b[0margs\u001b[0m\u001b[0;34m,\u001b[0m \u001b[0;34m**\u001b[0m\u001b[0mparams\u001b[0m\u001b[0;34m)\u001b[0m\u001b[0;34m:\u001b[0m\u001b[0;34m\u001b[0m\u001b[0m\n\u001b[1;32m    165\u001b[0m   \u001b[0;34m\"\"\"Impl rule that compiles and runs a single primitive 'prim' using XLA.\"\"\"\u001b[0m\u001b[0;34m\u001b[0m\u001b[0m\n\u001b[0;32m--> 166\u001b[0;31m   \u001b[0mcompiled_fun\u001b[0m \u001b[0;34m=\u001b[0m \u001b[0mxla_primitive_callable\u001b[0m\u001b[0;34m(\u001b[0m\u001b[0mprim\u001b[0m\u001b[0;34m,\u001b[0m \u001b[0;34m*\u001b[0m\u001b[0mmap\u001b[0m\u001b[0;34m(\u001b[0m\u001b[0marg_spec\u001b[0m\u001b[0;34m,\u001b[0m \u001b[0margs\u001b[0m\u001b[0;34m)\u001b[0m\u001b[0;34m,\u001b[0m \u001b[0;34m**\u001b[0m\u001b[0mparams\u001b[0m\u001b[0;34m)\u001b[0m\u001b[0;34m\u001b[0m\u001b[0m\n\u001b[0m\u001b[1;32m    167\u001b[0m   \u001b[0;32mreturn\u001b[0m \u001b[0mcompiled_fun\u001b[0m\u001b[0;34m(\u001b[0m\u001b[0;34m*\u001b[0m\u001b[0margs\u001b[0m\u001b[0;34m)\u001b[0m\u001b[0;34m\u001b[0m\u001b[0m\n\u001b[1;32m    168\u001b[0m \u001b[0;34m\u001b[0m\u001b[0m\n",
      "\u001b[0;32m~/miniconda3/envs/skgaip/lib/python3.7/site-packages/jax/interpreters/xla.py\u001b[0m in \u001b[0;36mxla_primitive_callable\u001b[0;34m(prim, *arg_specs, **params)\u001b[0m\n\u001b[1;32m    195\u001b[0m       device_assignment=device and (device.id,))\n\u001b[1;32m    196\u001b[0m   \u001b[0moptions\u001b[0m\u001b[0;34m.\u001b[0m\u001b[0mtuple_arguments\u001b[0m \u001b[0;34m=\u001b[0m \u001b[0mtuple_args\u001b[0m\u001b[0;34m\u001b[0m\u001b[0m\n\u001b[0;32m--> 197\u001b[0;31m   \u001b[0mcompiled\u001b[0m \u001b[0;34m=\u001b[0m \u001b[0mbuilt_c\u001b[0m\u001b[0;34m.\u001b[0m\u001b[0mCompile\u001b[0m\u001b[0;34m(\u001b[0m\u001b[0mcompile_options\u001b[0m\u001b[0;34m=\u001b[0m\u001b[0moptions\u001b[0m\u001b[0;34m,\u001b[0m \u001b[0mbackend\u001b[0m\u001b[0;34m=\u001b[0m\u001b[0mbackend\u001b[0m\u001b[0;34m)\u001b[0m\u001b[0;34m\u001b[0m\u001b[0m\n\u001b[0m\u001b[1;32m    198\u001b[0m   \u001b[0;32mif\u001b[0m \u001b[0mnreps\u001b[0m \u001b[0;34m==\u001b[0m \u001b[0;36m1\u001b[0m\u001b[0;34m:\u001b[0m\u001b[0;34m\u001b[0m\u001b[0m\n\u001b[1;32m    199\u001b[0m     \u001b[0;32mreturn\u001b[0m \u001b[0mpartial\u001b[0m\u001b[0;34m(\u001b[0m\u001b[0m_execute_compiled_primitive\u001b[0m\u001b[0;34m,\u001b[0m \u001b[0mprim\u001b[0m\u001b[0;34m,\u001b[0m \u001b[0mcompiled\u001b[0m\u001b[0;34m,\u001b[0m \u001b[0mhandle_result\u001b[0m\u001b[0;34m)\u001b[0m\u001b[0;34m\u001b[0m\u001b[0m\n",
      "\u001b[0;32m~/miniconda3/envs/skgaip/lib/python3.7/site-packages/jaxlib/xla_client.py\u001b[0m in \u001b[0;36mCompile\u001b[0;34m(self, argument_shapes, compile_options, backend)\u001b[0m\n\u001b[1;32m    574\u001b[0m     \u001b[0;32mif\u001b[0m \u001b[0margument_shapes\u001b[0m\u001b[0;34m:\u001b[0m\u001b[0;34m\u001b[0m\u001b[0m\n\u001b[1;32m    575\u001b[0m       \u001b[0mcompile_options\u001b[0m\u001b[0;34m.\u001b[0m\u001b[0margument_layouts\u001b[0m \u001b[0;34m=\u001b[0m \u001b[0margument_shapes\u001b[0m\u001b[0;34m\u001b[0m\u001b[0m\n\u001b[0;32m--> 576\u001b[0;31m     \u001b[0;32mreturn\u001b[0m \u001b[0mbackend\u001b[0m\u001b[0;34m.\u001b[0m\u001b[0mcompile\u001b[0m\u001b[0;34m(\u001b[0m\u001b[0mself\u001b[0m\u001b[0;34m.\u001b[0m\u001b[0mcomputation\u001b[0m\u001b[0;34m,\u001b[0m \u001b[0mcompile_options\u001b[0m\u001b[0;34m)\u001b[0m\u001b[0;34m\u001b[0m\u001b[0m\n\u001b[0m\u001b[1;32m    577\u001b[0m \u001b[0;34m\u001b[0m\u001b[0m\n\u001b[1;32m    578\u001b[0m   \u001b[0;32mdef\u001b[0m \u001b[0mGetProgramShape\u001b[0m\u001b[0;34m(\u001b[0m\u001b[0mself\u001b[0m\u001b[0;34m)\u001b[0m\u001b[0;34m:\u001b[0m\u001b[0;34m\u001b[0m\u001b[0m\n",
      "\u001b[0;32m~/miniconda3/envs/skgaip/lib/python3.7/site-packages/jaxlib/xla_client.py\u001b[0m in \u001b[0;36mcompile\u001b[0;34m(self, c_computation, compile_options)\u001b[0m\n\u001b[1;32m    154\u001b[0m                                         \u001b[0moptions\u001b[0m\u001b[0;34m,\u001b[0m \u001b[0mself\u001b[0m\u001b[0;34m.\u001b[0m\u001b[0mclient\u001b[0m\u001b[0;34m,\u001b[0m\u001b[0;34m\u001b[0m\u001b[0m\n\u001b[1;32m    155\u001b[0m                                         \u001b[0mcompile_options\u001b[0m\u001b[0;34m.\u001b[0m\u001b[0mdevice_assignment\u001b[0m\u001b[0;34m,\u001b[0m\u001b[0;34m\u001b[0m\u001b[0m\n\u001b[0;32m--> 156\u001b[0;31m                                         compile_options.tuple_arguments)\n\u001b[0m\u001b[1;32m    157\u001b[0m \u001b[0;34m\u001b[0m\u001b[0m\n\u001b[1;32m    158\u001b[0m   \u001b[0;32mdef\u001b[0m \u001b[0mget_default_device_assignment\u001b[0m\u001b[0;34m(\u001b[0m\u001b[0mself\u001b[0m\u001b[0;34m,\u001b[0m \u001b[0mnum_replicas\u001b[0m\u001b[0;34m,\u001b[0m \u001b[0mnum_partitions\u001b[0m\u001b[0;34m=\u001b[0m\u001b[0;32mNone\u001b[0m\u001b[0;34m)\u001b[0m\u001b[0;34m:\u001b[0m\u001b[0;34m\u001b[0m\u001b[0m\n",
      "\u001b[0;31mKeyboardInterrupt\u001b[0m: "
     ]
    }
   ],
   "source": [
    "for basin in tqdm.tqdm(basins):\n",
    "    bias_threshold = 1e-4\n",
    "    eta = 0.008\n",
    "\n",
    "    optimizers = [SGD(\n",
    "        learning_rate=lr,\n",
    "        project_threshold={\"kernel\": kernel_threshold, \"bias\": bias_threshold})\n",
    "                  for kernel_threshold, lr in [\n",
    "            (0.03, 2e-5),\n",
    "            (0.05, 2e-5),\n",
    "            (0.07, 2e-5),\n",
    "            (0.09, 2e-5),\n",
    "        ]]\n",
    "    \n",
    "    N = len(optimizers)\n",
    "\n",
    "    module = GradientBoosting(N)\n",
    "\n",
    "    yhats_LSTM = jnp.array(basin_to_yhats_LSTM[basin])\n",
    "    X = pickle.load(open(\"../data/flood/test/{}.pkl\".format(basin), \"rb\"))\n",
    "    Y = pickle.load(open(\"../data/flood/qobs/{}.pkl\".format(basin), \"rb\"))\n",
    "    \n",
    "    def loop(module, xy):\n",
    "        x, y = xy\n",
    "#         print(module.modules[\"AR_0\"].params[\"kernel\"].sum())\n",
    "        \n",
    "        preds = jnp.asarray(module(x))\n",
    "        pred = 0\n",
    "        \n",
    "        for i, name in enumerate(module.modules):\n",
    "            module.modules[name].params = optimizers[i].update(module.modules[name], module.modules[name].params, x, y - pred)\n",
    "            pred += module.params[\"W\"][i] * preds[i]\n",
    "            \n",
    "        print(module.params[\"W\"], preds, y, jnp.dot(module.params[\"W\"], preds) - y)\n",
    "        module.params[\"W\"] = MW().update(module.params[\"W\"], preds, y)\n",
    "        \n",
    "        return module, pred\n",
    "        \n",
    "    y_true = Y - yhats_LSTM\n",
    "#     module, y_pred_ar = jax.lax.scan(loop, module, (X, y_true))\n",
    "    for x, y in zip(X, y_true):\n",
    "        module, pred = loop(module, (x, y))\n",
    "    \n",
    "    y_pred_ar = jnp.asarray(y_pred_ar)\n",
    "    yhats = yhats_LSTM + y_pred_ar.squeeze()\n",
    "    loss = ((Y - yhats) ** 2).mean()\n",
    "    \n",
    "    print(basin, loss)\n",
    "#     break\n"
   ]
  },
  {
   "cell_type": "code",
   "execution_count": null,
   "metadata": {},
   "outputs": [],
   "source": [
    "y_pred_ar"
   ]
  },
  {
   "cell_type": "code",
   "execution_count": null,
   "metadata": {},
   "outputs": [],
   "source": [
    "yhats_LSTM.sum()"
   ]
  },
  {
   "cell_type": "code",
   "execution_count": null,
   "metadata": {},
   "outputs": [],
   "source": [
    "y_true.sum()"
   ]
  },
  {
   "cell_type": "code",
   "execution_count": null,
   "metadata": {},
   "outputs": [],
   "source": [
    "print(y_true)"
   ]
  },
  {
   "cell_type": "code",
   "execution_count": null,
   "metadata": {},
   "outputs": [],
   "source": []
  }
 ],
 "metadata": {
  "kernelspec": {
   "display_name": "Python 3",
   "language": "python",
   "name": "python3"
  },
  "language_info": {
   "codemirror_mode": {
    "name": "ipython",
    "version": 3
   },
   "file_extension": ".py",
   "mimetype": "text/x-python",
   "name": "python",
   "nbconvert_exporter": "python",
   "pygments_lexer": "ipython3",
   "version": "3.7.0"
  }
 },
 "nbformat": 4,
 "nbformat_minor": 4
}
