{
 "cells": [
  {
   "cell_type": "code",
   "execution_count": 235,
   "metadata": {},
   "outputs": [],
   "source": [
    "# GOTO 2018 - Machine Learning: Alchemy for the Modern Computer Scientist\n",
    "# https://www.youtube.com/watch?v=Rs0uRQJdIcg\n",
    "\n",
    "import jax\n",
    "import matplotlib.pyplot as plt\n",
    "import time\n",
    "import math"
   ]
  },
  {
   "cell_type": "code",
   "execution_count": 236,
   "metadata": {},
   "outputs": [],
   "source": [
    "class Dual:\n",
    "    \"\"\"\n",
    "    Notes: https://www.geeksforgeeks.org/operator-overloading-in-python/\n",
    "    \"\"\"\n",
    "    def __init__(self, real: float = 0.0, dual: float = 1.0) -> None:\n",
    "        if isinstance(real, Dual):\n",
    "            self.real = real.real\n",
    "            self.dual = real.dual\n",
    "        else:\n",
    "            self.real = real\n",
    "            self.dual = dual\n",
    "\n",
    "    def __add__(self, other) -> Dual:\n",
    "        other = Dual(other, 0)\n",
    "        return Dual(self.real + other.real, self.dual + other.dual)\n",
    "    __radd__ = __add__\n",
    "\n",
    "    def __sub__(self, other) -> Dual:\n",
    "        other = Dual(other, 0)\n",
    "        return Dual(self.real - other.real, self.dual - other.dual)\n",
    "\n",
    "    def __rsub__(self, other) -> Dual:\n",
    "        other = Dual(other, 0)\n",
    "        return other - self\n",
    "\n",
    "    def __mul__(self, other) -> Dual:\n",
    "        other = Dual(other, 0)\n",
    "        return Dual(self.real * other.real, self.real * other.dual + self.dual * other.real)\n",
    "    __rmul__ = __mul__\n",
    "\n",
    "    def __truediv__(self, other) -> Dual:\n",
    "        other = Dual(other, 0)\n",
    "        return Dual(self.real / other.real,\n",
    "                    (self.dual * other.real - self.real * other.dual) / (other.real ** 2))\n",
    "\n",
    "    def __rtruediv__(self, other) -> Dual:\n",
    "        other = Dual(other, 0)\n",
    "        return other.__truediv__(self)\n",
    "\n",
    "    def __pow__(self, other) -> Dual:\n",
    "        other = Dual(other, 0)\n",
    "        return Dual(self.real ** other,\n",
    "                    self.dual * other * self.real ** (other - 1))\n",
    "\n",
    "    def __repr__(self) -> str:\n",
    "        return repr(self.real) + ' + ' + repr(self.dual) + ' * ε'\n",
    "\n",
    "def diff(f, x) -> float:\n",
    "    \"\"\"\n",
    "    f(a + b * ε) = f(a) + f'(a) * b * ε\n",
    "    \"\"\"\n",
    "    return f(Dual(x, 1.)).dual\n",
    "    \n",
    "def sin(x: Dual) -> Dual:\n",
    "    return Dual(\n",
    "        real=math.sin(x.real),\n",
    "        dual=x.dual * math.cos(x.real)\n",
    "    )\n",
    "\n",
    "def cos(x: Dual) -> Dual:\n",
    "    return Dual(\n",
    "        real=math.cos(x.real),\n",
    "        dual=-x.dual * math.sin(x.real)\n",
    "    )"
   ]
  },
  {
   "cell_type": "code",
   "execution_count": 216,
   "metadata": {},
   "outputs": [],
   "source": [
    "x = Dual(2)"
   ]
  },
  {
   "cell_type": "code",
   "execution_count": 217,
   "metadata": {},
   "outputs": [],
   "source": [
    "def f(x: Dual):\n",
    "    return x * x + 2/ x + 3"
   ]
  },
  {
   "cell_type": "code",
   "execution_count": 218,
   "metadata": {},
   "outputs": [
    {
     "data": {
      "text/plain": [
       "8.0 + 3.5 * ε"
      ]
     },
     "execution_count": 218,
     "metadata": {},
     "output_type": "execute_result"
    }
   ],
   "source": [
    "f(x)"
   ]
  },
  {
   "cell_type": "code",
   "execution_count": 219,
   "metadata": {},
   "outputs": [
    {
     "data": {
      "text/plain": [
       "DeviceArray(3.5, dtype=float32)"
      ]
     },
     "execution_count": 219,
     "metadata": {},
     "output_type": "execute_result"
    }
   ],
   "source": [
    "jax.grad(f)(2.0)"
   ]
  },
  {
   "cell_type": "code",
   "execution_count": 237,
   "metadata": {},
   "outputs": [],
   "source": [
    "def benchmark(n: int, s: int = 1) -> list:\n",
    "    results = []\n",
    "    for i in range(0, n, s):\n",
    "        x = Dual(1)\n",
    "        start = time.time()\n",
    "        for j in range(i):\n",
    "            x = x * x\n",
    "            \n",
    "        results.append(time.time() - start)\n",
    "    return results"
   ]
  },
  {
   "cell_type": "code",
   "execution_count": 238,
   "metadata": {},
   "outputs": [],
   "source": [
    "results = benchmark(1000)"
   ]
  },
  {
   "cell_type": "code",
   "execution_count": 239,
   "metadata": {},
   "outputs": [
    {
     "data": {
      "text/plain": [
       "[<matplotlib.lines.Line2D at 0x7fbb70468048>]"
      ]
     },
     "execution_count": 239,
     "metadata": {},
     "output_type": "execute_result"
    },
    {
     "data": {
      "image/png": "[encoded data removed]",
      "text/plain": [
       "<Figure size 432x288 with 1 Axes>"
      ]
     },
     "metadata": {
      "needs_background": "light"
     },
     "output_type": "display_data"
    }
   ],
   "source": [
    "plt.plot(results)"
   ]
  },
  {
   "cell_type": "code",
   "execution_count": null,
   "metadata": {},
   "outputs": [],
   "source": []
  }
 ],
 "metadata": {
  "kernelspec": {
   "display_name": "Python 3",
   "language": "python",
   "name": "python3"
  },
  "language_info": {
   "codemirror_mode": {
    "name": "ipython",
    "version": 3
   },
   "file_extension": ".py",
   "mimetype": "text/x-python",
   "name": "python",
   "nbconvert_exporter": "python",
   "pygments_lexer": "ipython3",
   "version": "3.7.0"
  }
 },
 "nbformat": 4,
 "nbformat_minor": 4
}
