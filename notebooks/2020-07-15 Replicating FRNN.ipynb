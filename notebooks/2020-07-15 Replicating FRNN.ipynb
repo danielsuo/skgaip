{
 "cells": [
  {
   "cell_type": "code",
   "execution_count": 9,
   "metadata": {},
   "outputs": [
    {
     "name": "stdout",
     "output_type": "stream",
     "text": [
      "The autoreload extension is already loaded. To reload it, use:\n",
      "  %reload_ext autoreload\n"
     ]
    }
   ],
   "source": [
    "%load_ext autoreload\n",
    "%autoreload 2"
   ]
  },
  {
   "cell_type": "code",
   "execution_count": 10,
   "metadata": {},
   "outputs": [
    {
     "data": {
      "text/html": [
       "<style>.container { width:100% !important; }</style>"
      ],
      "text/plain": [
       "<IPython.core.display.HTML object>"
      ]
     },
     "metadata": {},
     "output_type": "display_data"
    }
   ],
   "source": [
    "from IPython.display import Image\n",
    "from IPython.core.display import display, HTML\n",
    "display(HTML(\"<style>.container { width:100% !important; }</style>\"))\n",
    "\n",
    "import numpy as np\n",
    "import matplotlib.pyplot as plt\n",
    "from skgaip.fusion.fusion_data import FusionData"
   ]
  },
  {
   "cell_type": "markdown",
   "metadata": {},
   "source": [
    "# Load and process data"
   ]
  },
  {
   "cell_type": "code",
   "execution_count": 11,
   "metadata": {},
   "outputs": [
    {
     "name": "stdout",
     "output_type": "stream",
     "text": [
      "Loading data from data/fusion/FRNN_1d_sample/shot_data.npz\n",
      "Found 3448 shots\n",
      "Loading keys from data/fusion/FRNN_1d_sample/test_list.npy\n",
      "Found 862 keys\n",
      "Filtering data\n",
      "Filtered to 862 shots\n",
      "Packing data\n",
      "Loading model\n"
     ]
    },
    {
     "name": "stderr",
     "output_type": "stream",
     "text": [
      "/home/dsuo/miniconda3/envs/skgaip/lib/python3.7/site-packages/keras/engine/saving.py:341: UserWarning: No training configuration found in save file: the model was *not* compiled. Compile it manually.\n",
      "  warnings.warn('No training configuration found in save file: '\n"
     ]
    },
    {
     "name": "stdout",
     "output_type": "stream",
     "text": [
      "Transforming data according to <keras.engine.training.Model object at 0x7f1e1e898710>\n",
      "Removing pad\n"
     ]
    }
   ],
   "source": [
    "data = FusionData(\"data/fusion/FRNN_1d_sample/shot_data.npz\",\n",
    "                  \"data/fusion/FRNN_1d_sample/test_list.npy\",\n",
    "                  model_path=\"data/fusion/FRNN_1d_sample/FRNN_1D_sample.h5\",\n",
    "                  normalize=False,\n",
    "                  headless=False)"
   ]
  },
  {
   "cell_type": "markdown",
   "metadata": {},
   "source": [
    "# Collect scores and disruptivity"
   ]
  },
  {
   "cell_type": "code",
   "execution_count": 12,
   "metadata": {},
   "outputs": [
    {
     "data": {
      "text/plain": [
       "(array([[-0.58711481],\n",
       "        [-0.77879554],\n",
       "        [-0.86142141],\n",
       "        ...,\n",
       "        [-0.99354458],\n",
       "        [-0.99050623],\n",
       "        [-0.99063104]]),\n",
       " array([[0.44614601],\n",
       "        [0.46733764],\n",
       "        [0.48895705],\n",
       "        ...,\n",
       "        [1.50593638],\n",
       "        [1.51106846],\n",
       "        [1.51808262]]),\n",
       " 147055)"
      ]
     },
     "execution_count": 12,
     "metadata": {},
     "output_type": "execute_result"
    }
   ],
   "source": [
    "next(data.featurize())"
   ]
  },
  {
   "cell_type": "code",
   "execution_count": 13,
   "metadata": {},
   "outputs": [],
   "source": [
    "scores = {key: X[-1].item() for X, Y, key in data.featurize()}\n",
    "scores = np.asarray([scores[key] for key in data.keys]).squeeze()\n",
    "disruptive = np.asarray([data.disruptive[key] for key in data.keys])"
   ]
  },
  {
   "cell_type": "markdown",
   "metadata": {},
   "source": [
    "# Compute TPR and FPR"
   ]
  },
  {
   "cell_type": "code",
   "execution_count": 14,
   "metadata": {},
   "outputs": [],
   "source": [
    "tp = np.sum(np.array([np.logical_and(scores > i, disruptive) for i in np.linspace(-1, 1, 2001)]), axis=1)\n",
    "fp = np.sum(np.array([np.logical_and(scores > i, ~disruptive) for i in np.linspace(-1, 1, 2001)]), axis=1)\n",
    "tpr = tp / np.sum(disruptive)\n",
    "fpr = fp / np.sum(~disruptive)"
   ]
  },
  {
   "cell_type": "code",
   "execution_count": 15,
   "metadata": {},
   "outputs": [
    {
     "data": {
      "text/plain": [
       "[<matplotlib.lines.Line2D at 0x7f1e1e9d21d0>]"
      ]
     },
     "execution_count": 15,
     "metadata": {},
     "output_type": "execute_result"
    },
    {
     "data": {
      "image/png": "[encoded data removed]",
      "text/plain": [
       "<Figure size 432x288 with 1 Axes>"
      ]
     },
     "metadata": {
      "needs_background": "light"
     },
     "output_type": "display_data"
    }
   ],
   "source": [
    "plt.plot(fpr, tpr)"
   ]
  },
  {
   "cell_type": "markdown",
   "metadata": {},
   "source": [
    "# Compute AUROC"
   ]
  },
  {
   "cell_type": "code",
   "execution_count": 16,
   "metadata": {},
   "outputs": [
    {
     "data": {
      "text/plain": [
       "0.9522465302281816"
      ]
     },
     "execution_count": 16,
     "metadata": {},
     "output_type": "execute_result"
    }
   ],
   "source": [
    "np.dot(fpr[:-1] - fpr[1:], (tpr[:-1] + tpr[:1]) / 2)"
   ]
  },
  {
   "cell_type": "code",
   "execution_count": null,
   "metadata": {},
   "outputs": [],
   "source": []
  }
 ],
 "metadata": {
  "kernelspec": {
   "display_name": "Python 3",
   "language": "python",
   "name": "python3"
  },
  "language_info": {
   "codemirror_mode": {
    "name": "ipython",
    "version": 3
   },
   "file_extension": ".py",
   "mimetype": "text/x-python",
   "name": "python",
   "nbconvert_exporter": "python",
   "pygments_lexer": "ipython3",
   "version": "3.7.0"
  }
 },
 "nbformat": 4,
 "nbformat_minor": 4
}
