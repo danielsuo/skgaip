{
 "cells": [
  {
   "cell_type": "code",
   "execution_count": 24,
   "metadata": {},
   "outputs": [],
   "source": [
    "class Program:\n",
    "    def __init__(self, instructions: str, mem: int = 1024) -> None:\n",
    "        # >: increment data pointer\n",
    "        # <: decrement data pointer\n",
    "        # +: increment byte at data pointer\n",
    "        # -: decrement byte at data pointer\n",
    "        # .: output byte at data pointer\n",
    "        # ,: input byte at data pointer\n",
    "        # [: If byte at data pointer is 0, jump to command after matching ]\n",
    "        # ]: If byte at data pointer is not 0, jump back to command after matching [\n",
    "        self.instructions = list(filter(lambda x: x in [\">\", \"<\", \"+\", \"-\", \".\", \",\", \"[\", \"]\"], instructions))\n",
    "        self.pc = 0\n",
    "        self.addr = 0\n",
    "        self.mem = [0] * mem\n",
    "    \n",
    "    def step(self):\n",
    "        if self.pc < 0 or self.pc >= len(self.instructions):\n",
    "            raise IndexError(\"Instruction out of bounds\")\n",
    "        instruction = self.instructions[self.pc]\n",
    "        \n",
    "        if instruction == \">\":\n",
    "            if self.addr == len(self.mem) - 1:\n",
    "                raise IndexError(\"Memory out of bounds\")\n",
    "            self.addr += 1\n",
    "        elif instruction == \"<\":\n",
    "            if self.addr == 0:\n",
    "                raise IndexError(\"Memory out of bounds\")\n",
    "            self.addr -= 1\n",
    "        elif instruction == \"+\":\n",
    "            self.mem[self.addr] += 1\n",
    "        elif instruction == \"-\":\n",
    "            self.mem[self.addr] -= 1\n",
    "        elif instruction == \".\":\n",
    "            print(self.mem[self.addr])\n",
    "        elif instruction == \",\":\n",
    "            self.mem[self.addr] = input()\n",
    "        elif instruction == \"[\":\n",
    "            if self.mem[self.addr] == 0:\n",
    "                nesting = 1\n",
    "                pc = self.pc + 1\n",
    "                while nesting > 0 and pc < len(self.instructions):\n",
    "                    if self.instructions[pc] == \"]\":\n",
    "                        nesting -= 1\n",
    "                    elif self.instructions[pc] == \"[\":\n",
    "                        nesting += 1\n",
    "                        \n",
    "                    pc += 1\n",
    "                \n",
    "                if nesting == 0:\n",
    "                    self.pc = pc\n",
    "                else:\n",
    "                    raise ValueError(\"Unmatched [ at pc={}\".format(self.pc))\n",
    "        elif instruction == \"]\":\n",
    "            if self.mem[self.addr] != 0:\n",
    "                nesting = 1\n",
    "                pc = self.pc - 1\n",
    "                while nesting > 0 and pc > 0:\n",
    "                    if self.instructions[pc] == \"[\":\n",
    "                        nesting -= 1\n",
    "                    elif self.instructions[pc] == \"]\":\n",
    "                        nesting += 1\n",
    "                    \n",
    "                    pc -= 1\n",
    "                \n",
    "                if nesting == 0:\n",
    "                    self.pc = pc\n",
    "                else:\n",
    "                    raise ValueError(\"Unmatched ] at pc={}\".format(self.pc))\n",
    "        else:\n",
    "            raise ValueError(\"Bad instruction {} at pc={}\".format(self.instructions[self.pc], self.pc))\n",
    "            \n",
    "        self.pc += 1\n",
    "        \n",
    "    def run(self):\n",
    "        self.pc = 0\n",
    "        while self.pc < len(self.instructions):\n",
    "            self.step()"
   ]
  },
  {
   "cell_type": "code",
   "execution_count": 25,
   "metadata": {},
   "outputs": [],
   "source": [
    "prog = Program(\"++++++++ ++++++++ ++++++++ ++++++++ ++++++++ ++++++++ >+++++ [<+.>-]\")"
   ]
  },
  {
   "cell_type": "code",
   "execution_count": 26,
   "metadata": {},
   "outputs": [
    {
     "name": "stdout",
     "output_type": "stream",
     "text": [
      "49\n",
      "50\n",
      "51\n",
      "52\n",
      "53\n"
     ]
    }
   ],
   "source": [
    "prog.run()"
   ]
  }
 ],
 "metadata": {
  "kernelspec": {
   "display_name": "Python 3",
   "language": "python",
   "name": "python3"
  },
  "language_info": {
   "codemirror_mode": {
    "name": "ipython",
    "version": 3
   },
   "file_extension": ".py",
   "mimetype": "text/x-python",
   "name": "python",
   "nbconvert_exporter": "python",
   "pygments_lexer": "ipython3",
   "version": "3.7.0"
  }
 },
 "nbformat": 4,
 "nbformat_minor": 4
}
