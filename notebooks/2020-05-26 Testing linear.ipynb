{
 "cells": [
  {
   "cell_type": "code",
   "execution_count": 1,
   "metadata": {},
   "outputs": [
    {
     "data": {
      "text/html": [
       "<style>.container { width:100% !important; }</style>"
      ],
      "text/plain": [
       "<IPython.core.display.HTML object>"
      ]
     },
     "metadata": {},
     "output_type": "display_data"
    },
    {
     "name": "stderr",
     "output_type": "stream",
     "text": [
      "/home/dsuo/miniconda3/envs/skgaip/lib/python3.7/site-packages/jax/lib/xla_bridge.py:123: UserWarning: No GPU/TPU found, falling back to CPU.\n",
      "  warnings.warn('No GPU/TPU found, falling back to CPU.')\n"
     ]
    }
   ],
   "source": [
    "%load_ext autoreload\n",
    "%autoreload 2\n",
    "\n",
    "from IPython.display import Image\n",
    "from IPython.core.display import display, HTML\n",
    "display(HTML(\"<style>.container { width:100% !important; }</style>\"))\n",
    "\n",
    "import os\n",
    "import math\n",
    "import json\n",
    "import numpy as np\n",
    "import jax\n",
    "import jax.numpy as jnp\n",
    "import flax\n",
    "import pickle\n",
    "import matplotlib.pyplot as plt\n",
    "import pandas as pd\n",
    "import matplotlib\n",
    "import timecast as tc\n",
    "\n",
    "from mpl_toolkits import mplot3d\n",
    "\n",
    "plt.rcParams['figure.figsize'] = [20, 10]\n",
    "\n",
    "import tqdm.notebook as tqdm"
   ]
  },
  {
   "cell_type": "code",
   "execution_count": 2,
   "metadata": {},
   "outputs": [],
   "source": [
    "from timecast.learners import ARX\n",
    "from timecast.utils.ar import historify"
   ]
  },
  {
   "cell_type": "code",
   "execution_count": 3,
   "metadata": {},
   "outputs": [],
   "source": [
    "basins = pickle.load(open(\"../data/flood/meta.pkl\", \"rb\"))[\"basins\"]"
   ]
  },
  {
   "cell_type": "code",
   "execution_count": 4,
   "metadata": {},
   "outputs": [],
   "source": [
    "basin = basins[0]\n",
    "\n",
    "X = pickle.load(open(\"../data/flood/test/{}.pkl\".format(basin), \"rb\"))\n",
    "Y = pickle.load(open(\"../data/flood/base/{}.pkl\".format(basin), \"rb\"))"
   ]
  },
  {
   "cell_type": "code",
   "execution_count": 24,
   "metadata": {},
   "outputs": [],
   "source": [
    "from jax.config import config\n",
    "config.update('jax_disable_jit', False)"
   ]
  },
  {
   "cell_type": "code",
   "execution_count": 56,
   "metadata": {
    "scrolled": false
   },
   "outputs": [],
   "source": [
    "import pickle\n",
    "import flax\n",
    "\n",
    "from timecast.learners import ARX, Parallel, Precomputed\n",
    "from timecast.learners import NewMixin\n",
    "\n",
    "from timecast.optim import GradientDescent\n",
    "from timecast.objectives import residual\n",
    "\n",
    "from timecast import tscan\n",
    "\n",
    "basin = basins[0]\n",
    "\n",
    "X = pickle.load(open(\"../data/flood/test/{}.pkl\".format(basin), \"rb\"))\n",
    "Y = pickle.load(open(\"../data/flood/base/{}.pkl\".format(basin), \"rb\"))\n",
    "history_len = 270\n",
    "\n",
    "Y_lstm = jnp.pad(jnp.array(Y.qsim), (history_len - 1, 0))\n",
    "Y = jnp.pad(jnp.array(Y.qobs), (history_len - 1, 0)).reshape(-1, 1)\n",
    "\n",
    "class FloodPredictor(NewMixin, flax.nn.Module):\n",
    "    def apply(self, features, arr, history_len):\n",
    "        lstm = Precomputed(x=features, arr=arr)\n",
    "        arx = ARX(features=features, history_len=history_len, constrain=False)\n",
    "        \n",
    "        return [lstm, arx]\n",
    "\n",
    "model, state = FloodPredictor.new(shapes=[(1, 32)], arr=Y_lstm, history_len=history_len)\n",
    "optim_def = GradientDescent(learning_rate=10 ** -5)\n",
    "optimizer = optim_def.create(model)\n",
    "\n",
    "Y_hat, optimizer, state = tscan(X, Y, optimizer, state=state, objective=residual)"
   ]
  },
  {
   "cell_type": "code",
   "execution_count": null,
   "metadata": {},
   "outputs": [],
   "source": [
    "jnp.square(Y_hat.squeeze()[history_len - 1:] - Y.squeeze()[history_len - 1:]).mean()"
   ]
  },
  {
   "cell_type": "code",
   "execution_count": 38,
   "metadata": {},
   "outputs": [
    {
     "data": {
      "text/plain": [
       "DeviceArray([0.       , 0.       , 0.       , ..., 1.3323907, 1.0760297,\n",
       "             1.052646 ], dtype=float32)"
      ]
     },
     "execution_count": 38,
     "metadata": {},
     "output_type": "execute_result"
    }
   ],
   "source": [
    "Y_hat.squeeze()"
   ]
  },
  {
   "cell_type": "code",
   "execution_count": 40,
   "metadata": {},
   "outputs": [
    {
     "data": {
      "text/plain": [
       "DeviceArray([0.        , 0.        , 0.        , ..., 1.4529347 ,\n",
       "             1.1823308 , 0.99915284], dtype=float32)"
      ]
     },
     "execution_count": 40,
     "metadata": {},
     "output_type": "execute_result"
    }
   ],
   "source": [
    "Y.squeeze()"
   ]
  },
  {
   "cell_type": "code",
   "execution_count": 54,
   "metadata": {},
   "outputs": [],
   "source": [
    "import pickle\n",
    "import flax\n",
    "\n",
    "from timecast.learners import AR, Parallel, Precomputed\n",
    "from timecast.learners import NewMixin\n",
    "\n",
    "from timecast.optim import GradientDescent\n",
    "from timecast.objectives import residual\n",
    "\n",
    "from timecast import tscan\n",
    "\n",
    "basin = basins[0]\n",
    "\n",
    "X = pickle.load(open(\"../data/flood/test/{}.pkl\".format(basin), \"rb\"))\n",
    "Y = pickle.load(open(\"../data/flood/base/{}.pkl\".format(basin), \"rb\"))\n",
    "history_len = 270\n",
    "\n",
    "X = X[history_len - 1:]\n",
    "Y_lstm = jnp.array(Y.qsim)\n",
    "Y = jnp.array(Y.qobs).reshape(-1, 1)\n",
    "\n",
    "class FloodPredictor(NewMixin, flax.nn.Module):\n",
    "    def apply(self, features, arr, history_len):\n",
    "        lstm = Precomputed(x=features, arr=arr)\n",
    "        ar = AR(x=features, history_len=history_len, history=X[:history_len - 1])\n",
    "        \n",
    "        return [lstm, ar]\n",
    "\n",
    "model, state = FloodPredictor.new(shapes=[(1, 32)], arr=Y_lstm, history_len=history_len)\n",
    "optim_def = GradientDescent(learning_rate=10 ** -5)\n",
    "optimizer = optim_def.create(model)\n",
    "\n",
    "Y_hat, optimizer, state = tscan(X, Y, optimizer, state=state, objective=residual)"
   ]
  },
  {
   "cell_type": "code",
   "execution_count": 55,
   "metadata": {},
   "outputs": [
    {
     "data": {
      "text/plain": [
       "DeviceArray(0.7916824, dtype=float32)"
      ]
     },
     "execution_count": 55,
     "metadata": {},
     "output_type": "execute_result"
    }
   ],
   "source": [
    "jnp.square(Y_hat - Y).mean()"
   ]
  },
  {
   "cell_type": "code",
   "execution_count": null,
   "metadata": {},
   "outputs": [],
   "source": [
    "np.pad(a, (10, 0))"
   ]
  },
  {
   "cell_type": "code",
   "execution_count": null,
   "metadata": {},
   "outputs": [],
   "source": [
    "from timecast.optim import GradientDescent"
   ]
  },
  {
   "cell_type": "code",
   "execution_count": null,
   "metadata": {},
   "outputs": [],
   "source": [
    "optim_def = GradientDescent(learning_rate=10 ** -5)"
   ]
  },
  {
   "cell_type": "code",
   "execution_count": null,
   "metadata": {},
   "outputs": [],
   "source": [
    "optimizer = optim_def.create(model)"
   ]
  },
  {
   "cell_type": "code",
   "execution_count": null,
   "metadata": {},
   "outputs": [],
   "source": [
    "model.params"
   ]
  },
  {
   "cell_type": "code",
   "execution_count": null,
   "metadata": {
    "scrolled": false
   },
   "outputs": [],
   "source": [
    "def func(model, truth, targets=None, features=None):\n",
    "    y_hat = model(targets, features)\n",
    "    return jnp.square(truth - y_hat).mean(), y_hat\n",
    "\n",
    "with flax.nn.stateful(state) as state:\n",
    "    (loss, y_hat), gradient = jax.value_and_grad(func, has_aux=True)(optimizer.target,\n",
    "                                                                     jnp.ones((1, 2)),\n",
    "                                                                     jax.random.uniform(tc.utils.random.generate_key(), (1, 2)),\n",
    "                                                                     jax.random.uniform(tc.utils.random.generate_key(), (1, 1)))\n",
    "    optimizer = optimizer.apply_gradient(gradient)"
   ]
  },
  {
   "cell_type": "code",
   "execution_count": null,
   "metadata": {},
   "outputs": [],
   "source": [
    "gradient"
   ]
  },
  {
   "cell_type": "code",
   "execution_count": null,
   "metadata": {},
   "outputs": [],
   "source": [
    "y_hat"
   ]
  },
  {
   "cell_type": "code",
   "execution_count": null,
   "metadata": {},
   "outputs": [],
   "source": [
    "optimizer.target.params"
   ]
  },
  {
   "cell_type": "code",
   "execution_count": null,
   "metadata": {},
   "outputs": [],
   "source": [
    "inputs = jax.random.uniform(jax.random.PRNGKey(2), (1, 2))\n",
    "with flax.nn.stateful(state) as state:\n",
    "    result = optimizer.target(inputs)"
   ]
  },
  {
   "cell_type": "code",
   "execution_count": null,
   "metadata": {},
   "outputs": [],
   "source": [
    "result"
   ]
  },
  {
   "cell_type": "markdown",
   "metadata": {},
   "source": [
    "(batch, history, input1, input2) x (history, input1, input2, output1, output2) = (batch, input1, input2, output1, output2)\n",
    "\n",
    "bias: (batch, output1, input1, input2, output2)"
   ]
  },
  {
   "cell_type": "code",
   "execution_count": null,
   "metadata": {},
   "outputs": [],
   "source": [
    "sorted([4,1,2])"
   ]
  },
  {
   "cell_type": "code",
   "execution_count": null,
   "metadata": {},
   "outputs": [],
   "source": [
    "jnp.tensordot(jnp.ones((3, 2, 4)), jnp.ones((2, 1, 5)), axes=[(1,), (0,)]).shape"
   ]
  },
  {
   "cell_type": "code",
   "execution_count": null,
   "metadata": {},
   "outputs": [],
   "source": [
    "a = jnp.ones((20, 2, 4))"
   ]
  },
  {
   "cell_type": "code",
   "execution_count": null,
   "metadata": {},
   "outputs": [],
   "source": [
    "historify(a, history_len = 4).shape"
   ]
  },
  {
   "cell_type": "code",
   "execution_count": null,
   "metadata": {},
   "outputs": [],
   "source": [
    "[1][:-1]"
   ]
  },
  {
   "cell_type": "code",
   "execution_count": null,
   "metadata": {},
   "outputs": [],
   "source": [
    "a.reshape((1, -1))"
   ]
  },
  {
   "cell_type": "markdown",
   "metadata": {},
   "source": [
    "Loop 0\n",
    "- targets: 0 to H\n",
    "- features: 0 to H\n",
    "\n",
    "next\n",
    "- targets: 0 to H\n",
    "- features: 1 to H + 1\n",
    "\n",
    "finally\n",
    "- targets: 1 to H + 1\n",
    "- features: 1 to H + 1"
   ]
  },
  {
   "cell_type": "code",
   "execution_count": null,
   "metadata": {},
   "outputs": [],
   "source": [
    "def my_func(x):\n",
    "    return x\n",
    "\n",
    "c = jax.xla_computation(my_func)(1.0)\n",
    "print_opts = jax.lib.xla_client._xla.HloPrintOptions.short_parsable()\n",
    "local_backend = jax.lib.xla_client.get_local_backend('cpu')\n",
    "out = local_backend.compile(c)\n",
    "print(out.hlo_modules()[0].to_string(print_opts))"
   ]
  },
  {
   "cell_type": "code",
   "execution_count": null,
   "metadata": {},
   "outputs": [],
   "source": []
  }
 ],
 "metadata": {
  "kernelspec": {
   "display_name": "Python 3",
   "language": "python",
   "name": "python3"
  },
  "language_info": {
   "codemirror_mode": {
    "name": "ipython",
    "version": 3
   },
   "file_extension": ".py",
   "mimetype": "text/x-python",
   "name": "python",
   "nbconvert_exporter": "python",
   "pygments_lexer": "ipython3",
   "version": "3.7.0"
  }
 },
 "nbformat": 4,
 "nbformat_minor": 4
}
