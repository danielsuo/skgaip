{
 "cells": [
  {
   "cell_type": "code",
   "execution_count": 1,
   "metadata": {},
   "outputs": [
    {
     "data": {
      "text/html": [
       "<style>.container { width:100% !important; }</style>"
      ],
      "text/plain": [
       "<IPython.core.display.HTML object>"
      ]
     },
     "metadata": {},
     "output_type": "display_data"
    },
    {
     "name": "stderr",
     "output_type": "stream",
     "text": [
      "/home/dsuo/miniconda3/envs/skgaip/lib/python3.7/site-packages/jax/lib/xla_bridge.py:123: UserWarning: No GPU/TPU found, falling back to CPU.\n",
      "  warnings.warn('No GPU/TPU found, falling back to CPU.')\n"
     ]
    }
   ],
   "source": [
    "%load_ext autoreload\n",
    "%autoreload 2\n",
    "\n",
    "from IPython.display import Image\n",
    "from IPython.core.display import display, HTML\n",
    "display(HTML(\"<style>.container { width:100% !important; }</style>\"))\n",
    "\n",
    "import os\n",
    "import json\n",
    "import numpy as onp\n",
    "import jax\n",
    "import jax.numpy as jnp\n",
    "import flax\n",
    "import pickle\n",
    "import matplotlib.pyplot as plt\n",
    "import pandas as pd\n",
    "import matplotlib\n",
    "import timecast as tc\n",
    "\n",
    "from mpl_toolkits import mplot3d\n",
    "\n",
    "plt.rcParams['figure.figsize'] = [20, 10]\n",
    "\n",
    "import tqdm.notebook as tqdm"
   ]
  },
  {
   "cell_type": "code",
   "execution_count": 2,
   "metadata": {},
   "outputs": [],
   "source": [
    "from timecast.learners._ar import _ar_gram\n",
    "from timecast.learners._pcr import _compute_pca_projection"
   ]
  },
  {
   "cell_type": "code",
   "execution_count": 3,
   "metadata": {
    "scrolled": false
   },
   "outputs": [],
   "source": [
    "basins = pickle.load(open(\"../data/flood/basins.p\", \"rb\"))\n",
    "\n",
    "def generator():\n",
    "    for basin in basins:\n",
    "        X = pickle.load(open(\"../data/flood/train/{}.p\".format(basin), \"rb\"))\n",
    "        ealstm = pickle.load(open(\"../data/flood/ealstm/{}.p\".format(basin), \"rb\"))\n",
    "        Y = onp.zeros((X.shape[0], 1))\n",
    "        Y[-ealstm.shape[0]:, :] = ealstm[[\"qobs\"]]\n",
    "        yield X[:, :5], Y, None\n",
    "            \n",
    "XTX, XTY = _ar_gram(generator(), input_dim=5, output_dim=1, history_len=270)"
   ]
  },
  {
   "cell_type": "code",
   "execution_count": 5,
   "metadata": {},
   "outputs": [
    {
     "data": {
      "application/vnd.jupyter.widget-view+json": {
       "model_id": "c2894c1c2a4d4a3da5b7730ae05b0565",
       "version_major": 2,
       "version_minor": 0
      },
      "text/plain": [
       "HBox(children=(FloatProgress(value=0.0, max=6.0), HTML(value='')))"
      ]
     },
     "metadata": {},
     "output_type": "display_data"
    },
    {
     "name": "stdout",
     "output_type": "stream",
     "text": [
      "\n"
     ]
    }
   ],
   "source": [
    "projections = {}\n",
    "for k in tqdm.tqdm([10, 50, 100, 500, 1000, 1350]):\n",
    "    projections[k] = _compute_pca_projection(XTX.matrix(normalize=True), k)"
   ]
  },
  {
   "cell_type": "markdown",
   "metadata": {},
   "source": [
    "## Test"
   ]
  },
  {
   "cell_type": "code",
   "execution_count": 6,
   "metadata": {},
   "outputs": [],
   "source": [
    "basins = pickle.load(open(\"../data/basins.p\", \"rb\"))"
   ]
  },
  {
   "cell_type": "code",
   "execution_count": 7,
   "metadata": {},
   "outputs": [],
   "source": [
    "@tc.experiment(\"k,projection\", projections.items())\n",
    "@tc.experiment(\"basin\", basins)\n",
    "def runner(basin, k, projection, lr=1e-5):\n",
    "    import pickle\n",
    "    from ealstm.gaip.utils import MSE\n",
    "\n",
    "    import jax.numpy as jnp\n",
    "\n",
    "    from timecast.learners import Sequential, Parallel, Index, PCR\n",
    "    from timecast import smap\n",
    "    from timecast.objectives import residual\n",
    "    from timecast.optim import GradientDescent\n",
    "\n",
    "    import tqdm.notebook as tqdm\n",
    "    \n",
    "    X = pickle.load(open(\"../data/test/{}.p\".format(basin), \"rb\"))[:, :5]\n",
    "    Y = pickle.load(open(\"../data/ealstm/{}.p\".format(basin), \"rb\"))\n",
    "    \n",
    "    history_len = 270\n",
    "    \n",
    "    lstm = Index.partial(index=0)\n",
    "    pcr = PCR.partial(projection=projection, history_len=history_len, history=X[:history_len - 1])\n",
    "    pcr = Sequential.partial(learners=[Index.partial(index=1), pcr])\n",
    "    model, state = Parallel.new(shape=(1, 5), learners=[lstm, pcr])\n",
    "    \n",
    "    optim_def = GradientDescent(learning_rate=lr)\n",
    "    optimizer = optim_def.create(model)\n",
    "\n",
    "    # NOTE: difference in indexing convention, so need to pad one row\n",
    "    X_t = X[history_len - 1:]\n",
    "    Y_lstm = jnp.array(Y.qsim)\n",
    "    Y = jnp.array(Y.qobs).reshape(-1, 1)\n",
    "\n",
    "    Y_hat, optimizer, state = smap((Y_lstm, X_t), Y, optimizer, state=state, objective=residual)\n",
    "\n",
    "    return {\"basin\": basin, \"k\": k, \"mse\": MSE(Y, Y_hat)}"
   ]
  },
  {
   "cell_type": "code",
   "execution_count": 8,
   "metadata": {},
   "outputs": [
    {
     "data": {
      "application/vnd.jupyter.widget-view+json": {
       "model_id": "46bdc52fb5354061b92d9b76ee3894e2",
       "version_major": 2,
       "version_minor": 0
      },
      "text/plain": [
       "HBox(children=(FloatProgress(value=1.0, bar_style='info', max=1.0), HTML(value='')))"
      ]
     },
     "metadata": {},
     "output_type": "display_data"
    },
    {
     "name": "stdout",
     "output_type": "stream",
     "text": [
      "\n"
     ]
    }
   ],
   "source": [
    "results = runner.run(processes=10, tqdm=tqdm)"
   ]
  },
  {
   "cell_type": "code",
   "execution_count": 9,
   "metadata": {},
   "outputs": [
    {
     "data": {
      "application/vnd.jupyter.widget-view+json": {
       "model_id": "2c1e6884ca6c4accbc49fb711c65d290",
       "version_major": 2,
       "version_minor": 0
      },
      "text/plain": [
       "HBox(children=(FloatProgress(value=0.0, max=6.0), HTML(value='')))"
      ]
     },
     "metadata": {},
     "output_type": "display_data"
    },
    {
     "name": "stdout",
     "output_type": "stream",
     "text": [
      "Average MSE (k=10): 2.9675233364105225\n",
      "Average MSE (k=50): 2.9452872276306152\n",
      "Average MSE (k=100): 2.9331281185150146\n",
      "Average MSE (k=500): 2.923673629760742\n",
      "Average MSE (k=1000): 2.9238321781158447\n",
      "Average MSE (k=1350): 2.9238762855529785\n",
      "\n"
     ]
    }
   ],
   "source": [
    "for k in tqdm.tqdm([10, 50, 100, 500, 1000, 1350]):\n",
    "    print(\"Average MSE (k={}): {}\".format(k, jnp.average(jnp.array([result[\"mse\"] for result in results if result[\"k\"] == k]))))"
   ]
  },
  {
   "cell_type": "code",
   "execution_count": 19,
   "metadata": {},
   "outputs": [],
   "source": [
    "@tc.experiment(\"k,projection\", [(500, projections[500])])\n",
    "@tc.experiment(\"basin\", basins)\n",
    "@tc.experiment(\"lr\", jnp.linspace(-5, -4, 11))\n",
    "def runner(basin, k, projection, lr):\n",
    "    import pickle\n",
    "    from ealstm.gaip.utils import MSE\n",
    "\n",
    "    import jax.numpy as jnp\n",
    "\n",
    "    from timecast.learners import Sequential, Parallel, Index, PCR\n",
    "    from timecast import smap\n",
    "    from timecast.objectives import residual\n",
    "    from timecast.optim import GradientDescent\n",
    "\n",
    "    import tqdm.notebook as tqdm\n",
    "    \n",
    "    X = pickle.load(open(\"../data/test/{}.p\".format(basin), \"rb\"))[:, :5]\n",
    "    Y = pickle.load(open(\"../data/ealstm/{}.p\".format(basin), \"rb\"))\n",
    "    \n",
    "    history_len = 270\n",
    "    \n",
    "    lstm = Index.partial(index=0)\n",
    "    pcr = PCR.partial(projection=projection, history_len=history_len, history=X[:history_len - 1])\n",
    "    pcr = Sequential.partial(learners=[Index.partial(index=1), pcr])\n",
    "    model, state = Parallel.new(shape=(1, 5), learners=[lstm, pcr])\n",
    "    \n",
    "    optim_def = GradientDescent(learning_rate=(10 ** lr))\n",
    "    optimizer = optim_def.create(model)\n",
    "\n",
    "    # NOTE: difference in indexing convention, so need to pad one row\n",
    "    X_t = X[history_len - 1:]\n",
    "    Y_lstm = jnp.array(Y.qsim)\n",
    "    Y = jnp.array(Y.qobs).reshape(-1, 1)\n",
    "\n",
    "    Y_hat, optimizer, state = smap((Y_lstm, X_t), Y, optimizer, state=state, objective=residual)\n",
    "\n",
    "    return {\"basin\": basin, \"k\": k, \"lr\": lr, \"mse\": MSE(Y, Y_hat)}"
   ]
  },
  {
   "cell_type": "code",
   "execution_count": 20,
   "metadata": {},
   "outputs": [
    {
     "data": {
      "application/vnd.jupyter.widget-view+json": {
       "model_id": "17639258428844759f1dbd26dcc9ad39",
       "version_major": 2,
       "version_minor": 0
      },
      "text/plain": [
       "HBox(children=(FloatProgress(value=1.0, bar_style='info', max=1.0), HTML(value='')))"
      ]
     },
     "metadata": {},
     "output_type": "display_data"
    },
    {
     "name": "stdout",
     "output_type": "stream",
     "text": [
      "\n"
     ]
    }
   ],
   "source": [
    "results = runner.run(processes=15, tqdm=tqdm)"
   ]
  },
  {
   "cell_type": "code",
   "execution_count": 18,
   "metadata": {},
   "outputs": [
    {
     "name": "stdout",
     "output_type": "stream",
     "text": [
      "Average MSE (k=10, lr=-5.0): 2.9675233364105225\n",
      "Average MSE (k=10, lr=-4.900000095367432): 2.9487717151641846\n",
      "Average MSE (k=10, lr=-4.800000190734863): 2.9286019802093506\n",
      "Average MSE (k=10, lr=-4.699999809265137): 2.907244920730591\n",
      "Average MSE (k=10, lr=-4.599999904632568): 2.884995937347412\n",
      "Average MSE (k=10, lr=-4.5): 2.8622066974639893\n",
      "Average MSE (k=500, lr=-5.0): 2.923673629760742\n",
      "Average MSE (k=500, lr=-4.900000095367432): 2.898007869720459\n",
      "Average MSE (k=500, lr=-4.800000190734863): 2.870617151260376\n",
      "Average MSE (k=500, lr=-4.699999809265137): 2.842050552368164\n",
      "Average MSE (k=500, lr=-4.599999904632568): 2.813055992126465\n",
      "Average MSE (k=500, lr=-4.5): 2.784621477127075\n"
     ]
    }
   ],
   "source": [
    "for k in [10, 500]:\n",
    "    for lr in jnp.linspace(-5, -4.0, 11):\n",
    "        print(\"Average MSE (k={}, lr={}): {}\".format(k, lr, jnp.average(jnp.array([result[\"mse\"] for result in results if (result[\"k\"] == k and result[\"lr\"] == lr)]))))"
   ]
  },
  {
   "cell_type": "code",
   "execution_count": 21,
   "metadata": {},
   "outputs": [
    {
     "name": "stdout",
     "output_type": "stream",
     "text": [
      "Average MSE (k=10, lr=-5.0): nan\n",
      "Average MSE (k=10, lr=-4.900000095367432): nan\n",
      "Average MSE (k=10, lr=-4.800000190734863): nan\n",
      "Average MSE (k=10, lr=-4.699999809265137): nan\n",
      "Average MSE (k=10, lr=-4.599999904632568): nan\n",
      "Average MSE (k=10, lr=-4.5): nan\n",
      "Average MSE (k=10, lr=-4.400000095367432): nan\n",
      "Average MSE (k=10, lr=-4.300000190734863): nan\n",
      "Average MSE (k=10, lr=-4.199999809265137): nan\n",
      "Average MSE (k=10, lr=-4.099999904632568): nan\n",
      "Average MSE (k=10, lr=-4.0): nan\n",
      "Average MSE (k=500, lr=-5.0): 2.923673629760742\n",
      "Average MSE (k=500, lr=-4.900000095367432): 2.898007869720459\n",
      "Average MSE (k=500, lr=-4.800000190734863): 2.870617151260376\n",
      "Average MSE (k=500, lr=-4.699999809265137): 2.842050552368164\n",
      "Average MSE (k=500, lr=-4.599999904632568): 2.813055992126465\n",
      "Average MSE (k=500, lr=-4.5): 2.784621477127075\n",
      "Average MSE (k=500, lr=-4.400000095367432): 2.7580411434173584\n",
      "Average MSE (k=500, lr=-4.300000190734863): 2.7350289821624756\n",
      "Average MSE (k=500, lr=-4.199999809265137): 2.717912197113037\n",
      "Average MSE (k=500, lr=-4.099999904632568): 2.7100064754486084\n",
      "Average MSE (k=500, lr=-4.0): 2.716346263885498\n"
     ]
    }
   ],
   "source": [
    "for k in [10, 500]:\n",
    "    for lr in jnp.linspace(-5, -4.0, 11):\n",
    "        print(\"Average MSE (k={}, lr={}): {}\".format(k, lr, jnp.average(jnp.array([result[\"mse\"] for result in results if (result[\"k\"] == k and result[\"lr\"] == lr)]))))"
   ]
  },
  {
   "cell_type": "code",
   "execution_count": 20,
   "metadata": {},
   "outputs": [
    {
     "data": {
      "application/vnd.jupyter.widget-view+json": {
       "model_id": "db4d842005e04a09b8117751af1f77c9",
       "version_major": 2,
       "version_minor": 0
      },
      "text/plain": [
       "HBox(children=(FloatProgress(value=0.0, max=11.0), HTML(value='')))"
      ]
     },
     "metadata": {},
     "output_type": "display_data"
    },
    {
     "name": "stdout",
     "output_type": "stream",
     "text": [
      "\n"
     ]
    }
   ],
   "source": [
    "projections = {}\n",
    "for k in tqdm.tqdm(onp.linspace(350, 450, 11)):\n",
    "    projections[int(k)] = _compute_pca_projection(XTX.matrix(normalize=True), int(k))"
   ]
  },
  {
   "cell_type": "code",
   "execution_count": 14,
   "metadata": {},
   "outputs": [],
   "source": [
    "@tc.experiment(\"k,projection\", projections.items())\n",
    "@tc.experiment(\"basin\", basins)\n",
    "@tc.experiment(\"lr\", jnp.linspace(-4.2, -3.2, 6))\n",
    "def runner(basin, k, projection, lr):\n",
    "    import pickle\n",
    "\n",
    "    import jax.numpy as jnp\n",
    "\n",
    "    from timecast.learners import Sequential, Parallel, Index, PCR\n",
    "    from timecast import smap\n",
    "    from timecast.objectives import residual\n",
    "    from timecast.optim import GradientDescent\n",
    "\n",
    "    import tqdm.notebook as tqdm\n",
    "    \n",
    "    X = pickle.load(open(\"../data/flood/test/{}.p\".format(basin), \"rb\"))[:, :5]\n",
    "    Y = pickle.load(open(\"../data/flood/ealstm/{}.p\".format(basin), \"rb\"))\n",
    "    \n",
    "    history_len = 270\n",
    "    \n",
    "    lstm = Index.partial(index=0)\n",
    "    pcr = PCR.partial(projection=projection, history_len=history_len, history=X[:history_len - 1])\n",
    "    pcr = Sequential.partial(learners=[Index.partial(index=1), pcr])\n",
    "    model, state = Parallel.new(shape=(1, 5), learners=[lstm, pcr])\n",
    "    \n",
    "    optim_def = GradientDescent(learning_rate=(10 ** lr))\n",
    "    optimizer = optim_def.create(model)\n",
    "\n",
    "    # NOTE: difference in indexing convention, so need to pad one row\n",
    "    X_t = X[history_len - 1:]\n",
    "    Y_lstm = jnp.array(Y.qsim)\n",
    "    Y = jnp.array(Y.qobs).reshape(-1, 1)\n",
    "\n",
    "    Y_hat, optimizer, state = smap((Y_lstm, X_t), Y, optimizer, state=state, objective=residual)\n",
    "\n",
    "    return {\"basin\": basin, \"k\": k, \"lr\": lr, \"mse\": jnp.square(Y - Y_hat).mean()}"
   ]
  },
  {
   "cell_type": "code",
   "execution_count": 15,
   "metadata": {},
   "outputs": [
    {
     "data": {
      "application/vnd.jupyter.widget-view+json": {
       "model_id": "545a6944d2fc4ce08da04d353a39b451",
       "version_major": 2,
       "version_minor": 0
      },
      "text/plain": [
       "HBox(children=(FloatProgress(value=1.0, bar_style='info', max=1.0), HTML(value='')))"
      ]
     },
     "metadata": {},
     "output_type": "display_data"
    },
    {
     "name": "stdout",
     "output_type": "stream",
     "text": [
      "\n"
     ]
    }
   ],
   "source": [
    "results = runner.run(processes=15, tqdm=tqdm)"
   ]
  },
  {
   "cell_type": "code",
   "execution_count": 16,
   "metadata": {},
   "outputs": [
    {
     "name": "stdout",
     "output_type": "stream",
     "text": [
      "Average MSE (k=400, lr=-4.199999809265137): 2.7176523208618164\n",
      "Average MSE (k=410, lr=-4.199999809265137): 2.7175135612487793\n",
      "Average MSE (k=420, lr=-4.199999809265137): 2.7175867557525635\n",
      "Average MSE (k=430, lr=-4.199999809265137): 2.7176170349121094\n",
      "Average MSE (k=440, lr=-4.199999809265137): 2.717684030532837\n",
      "Average MSE (k=450, lr=-4.199999809265137): 2.7177388668060303\n",
      "Average MSE (k=460, lr=-4.199999809265137): 2.7178292274475098\n",
      "Average MSE (k=470, lr=-4.199999809265137): 2.7176930904388428\n",
      "Average MSE (k=480, lr=-4.199999809265137): 2.717705488204956\n",
      "Average MSE (k=490, lr=-4.199999809265137): 2.717833995819092\n",
      "Average MSE (k=500, lr=-4.199999809265137): 2.717911958694458\n",
      "Average MSE (k=400, lr=-3.999999761581421): 2.7159829139709473\n",
      "Average MSE (k=410, lr=-3.999999761581421): 2.7157797813415527\n",
      "Average MSE (k=420, lr=-3.999999761581421): 2.715890884399414\n",
      "Average MSE (k=430, lr=-3.999999761581421): 2.7159440517425537\n",
      "Average MSE (k=440, lr=-3.999999761581421): 2.7160539627075195\n",
      "Average MSE (k=450, lr=-3.999999761581421): 2.7161552906036377\n",
      "Average MSE (k=460, lr=-3.999999761581421): 2.7163069248199463\n",
      "Average MSE (k=470, lr=-3.999999761581421): 2.7160491943359375\n",
      "Average MSE (k=480, lr=-3.999999761581421): 2.7160253524780273\n",
      "Average MSE (k=490, lr=-3.999999761581421): 2.71624755859375\n",
      "Average MSE (k=500, lr=-3.999999761581421): 2.716346263885498\n",
      "Average MSE (k=400, lr=-3.799999713897705): 2.810758352279663\n",
      "Average MSE (k=410, lr=-3.799999713897705): 2.810565948486328\n",
      "Average MSE (k=420, lr=-3.799999713897705): 2.8107941150665283\n",
      "Average MSE (k=430, lr=-3.799999713897705): 2.8109889030456543\n",
      "Average MSE (k=440, lr=-3.799999713897705): 2.8112385272979736\n",
      "Average MSE (k=450, lr=-3.799999713897705): 2.8114585876464844\n",
      "Average MSE (k=460, lr=-3.799999713897705): 2.811779499053955\n",
      "Average MSE (k=470, lr=-3.799999713897705): 2.8113138675689697\n",
      "Average MSE (k=480, lr=-3.799999713897705): 2.8111977577209473\n",
      "Average MSE (k=490, lr=-3.799999713897705): 2.811619281768799\n",
      "Average MSE (k=500, lr=-3.799999713897705): 2.811727285385132\n",
      "Average MSE (k=400, lr=-3.5999999046325684): nan\n",
      "Average MSE (k=410, lr=-3.5999999046325684): nan\n",
      "Average MSE (k=420, lr=-3.5999999046325684): nan\n",
      "Average MSE (k=430, lr=-3.5999999046325684): nan\n",
      "Average MSE (k=440, lr=-3.5999999046325684): nan\n",
      "Average MSE (k=450, lr=-3.5999999046325684): nan\n",
      "Average MSE (k=460, lr=-3.5999999046325684): nan\n",
      "Average MSE (k=470, lr=-3.5999999046325684): nan\n",
      "Average MSE (k=480, lr=-3.5999999046325684): nan\n",
      "Average MSE (k=490, lr=-3.5999999046325684): nan\n",
      "Average MSE (k=500, lr=-3.5999999046325684): nan\n",
      "Average MSE (k=400, lr=-3.3999998569488525): nan\n",
      "Average MSE (k=410, lr=-3.3999998569488525): nan\n",
      "Average MSE (k=420, lr=-3.3999998569488525): nan\n",
      "Average MSE (k=430, lr=-3.3999998569488525): nan\n",
      "Average MSE (k=440, lr=-3.3999998569488525): nan\n",
      "Average MSE (k=450, lr=-3.3999998569488525): nan\n",
      "Average MSE (k=460, lr=-3.3999998569488525): nan\n",
      "Average MSE (k=470, lr=-3.3999998569488525): nan\n",
      "Average MSE (k=480, lr=-3.3999998569488525): nan\n",
      "Average MSE (k=490, lr=-3.3999998569488525): nan\n",
      "Average MSE (k=500, lr=-3.3999998569488525): nan\n",
      "Average MSE (k=400, lr=-3.1999998092651367): nan\n",
      "Average MSE (k=410, lr=-3.1999998092651367): nan\n",
      "Average MSE (k=420, lr=-3.1999998092651367): nan\n",
      "Average MSE (k=430, lr=-3.1999998092651367): nan\n",
      "Average MSE (k=440, lr=-3.1999998092651367): nan\n",
      "Average MSE (k=450, lr=-3.1999998092651367): nan\n",
      "Average MSE (k=460, lr=-3.1999998092651367): nan\n",
      "Average MSE (k=470, lr=-3.1999998092651367): nan\n",
      "Average MSE (k=480, lr=-3.1999998092651367): nan\n",
      "Average MSE (k=490, lr=-3.1999998092651367): nan\n",
      "Average MSE (k=500, lr=-3.1999998092651367): nan\n"
     ]
    }
   ],
   "source": [
    "for lr in jnp.linspace(-4.2, -3.2, 6):\n",
    "    for k in projections.keys():\n",
    "        print(\"Average MSE (k={}, lr={}): {}\".format(k, lr, jnp.average(jnp.array([result[\"mse\"] for result in results if (result[\"k\"] == k and result[\"lr\"] == lr)]))))"
   ]
  },
  {
   "cell_type": "code",
   "execution_count": 19,
   "metadata": {},
   "outputs": [
    {
     "name": "stdout",
     "output_type": "stream",
     "text": [
      "Average MSE (k=400, lr=-5.0): nan\n",
      "Average MSE (k=400, lr=-4.800000190734863): nan\n",
      "Average MSE (k=400, lr=-4.599999904632568): nan\n",
      "Average MSE (k=400, lr=-4.400000095367432): nan\n",
      "Average MSE (k=400, lr=-4.199999809265137): 2.7176523208618164\n",
      "Average MSE (k=400, lr=-4.0): nan\n",
      "Average MSE (k=410, lr=-5.0): nan\n",
      "Average MSE (k=410, lr=-4.800000190734863): nan\n",
      "Average MSE (k=410, lr=-4.599999904632568): nan\n",
      "Average MSE (k=410, lr=-4.400000095367432): nan\n",
      "Average MSE (k=410, lr=-4.199999809265137): 2.7175135612487793\n",
      "Average MSE (k=410, lr=-4.0): nan\n",
      "Average MSE (k=420, lr=-5.0): nan\n",
      "Average MSE (k=420, lr=-4.800000190734863): nan\n",
      "Average MSE (k=420, lr=-4.599999904632568): nan\n",
      "Average MSE (k=420, lr=-4.400000095367432): nan\n",
      "Average MSE (k=420, lr=-4.199999809265137): 2.7175867557525635\n",
      "Average MSE (k=420, lr=-4.0): nan\n",
      "Average MSE (k=430, lr=-5.0): nan\n",
      "Average MSE (k=430, lr=-4.800000190734863): nan\n",
      "Average MSE (k=430, lr=-4.599999904632568): nan\n",
      "Average MSE (k=430, lr=-4.400000095367432): nan\n",
      "Average MSE (k=430, lr=-4.199999809265137): 2.7176170349121094\n",
      "Average MSE (k=430, lr=-4.0): nan\n",
      "Average MSE (k=440, lr=-5.0): nan\n",
      "Average MSE (k=440, lr=-4.800000190734863): nan\n",
      "Average MSE (k=440, lr=-4.599999904632568): nan\n",
      "Average MSE (k=440, lr=-4.400000095367432): nan\n",
      "Average MSE (k=440, lr=-4.199999809265137): 2.717684030532837\n",
      "Average MSE (k=440, lr=-4.0): nan\n",
      "Average MSE (k=450, lr=-5.0): nan\n",
      "Average MSE (k=450, lr=-4.800000190734863): nan\n",
      "Average MSE (k=450, lr=-4.599999904632568): nan\n",
      "Average MSE (k=450, lr=-4.400000095367432): nan\n",
      "Average MSE (k=450, lr=-4.199999809265137): 2.7177388668060303\n",
      "Average MSE (k=450, lr=-4.0): nan\n",
      "Average MSE (k=460, lr=-5.0): nan\n",
      "Average MSE (k=460, lr=-4.800000190734863): nan\n",
      "Average MSE (k=460, lr=-4.599999904632568): nan\n",
      "Average MSE (k=460, lr=-4.400000095367432): nan\n",
      "Average MSE (k=460, lr=-4.199999809265137): 2.7178292274475098\n",
      "Average MSE (k=460, lr=-4.0): nan\n",
      "Average MSE (k=470, lr=-5.0): nan\n",
      "Average MSE (k=470, lr=-4.800000190734863): nan\n",
      "Average MSE (k=470, lr=-4.599999904632568): nan\n",
      "Average MSE (k=470, lr=-4.400000095367432): nan\n",
      "Average MSE (k=470, lr=-4.199999809265137): 2.7176930904388428\n",
      "Average MSE (k=470, lr=-4.0): nan\n",
      "Average MSE (k=480, lr=-5.0): nan\n",
      "Average MSE (k=480, lr=-4.800000190734863): nan\n",
      "Average MSE (k=480, lr=-4.599999904632568): nan\n",
      "Average MSE (k=480, lr=-4.400000095367432): nan\n",
      "Average MSE (k=480, lr=-4.199999809265137): 2.717705488204956\n",
      "Average MSE (k=480, lr=-4.0): nan\n",
      "Average MSE (k=490, lr=-5.0): nan\n",
      "Average MSE (k=490, lr=-4.800000190734863): nan\n",
      "Average MSE (k=490, lr=-4.599999904632568): nan\n",
      "Average MSE (k=490, lr=-4.400000095367432): nan\n",
      "Average MSE (k=490, lr=-4.199999809265137): 2.717833995819092\n",
      "Average MSE (k=490, lr=-4.0): nan\n",
      "Average MSE (k=500, lr=-5.0): nan\n",
      "Average MSE (k=500, lr=-4.800000190734863): nan\n",
      "Average MSE (k=500, lr=-4.599999904632568): nan\n",
      "Average MSE (k=500, lr=-4.400000095367432): nan\n",
      "Average MSE (k=500, lr=-4.199999809265137): 2.717911958694458\n",
      "Average MSE (k=500, lr=-4.0): nan\n"
     ]
    }
   ],
   "source": [
    "for k in projections.keys():\n",
    "    for lr in jnp.linspace(-5, -4.0, 6):\n",
    "        print(\"Average MSE (k={}, lr={}): {}\".format(k, lr, jnp.average(jnp.array([result[\"mse\"] for result in results if (result[\"k\"] == k and result[\"lr\"] == lr)]))))"
   ]
  },
  {
   "cell_type": "code",
   "execution_count": 21,
   "metadata": {},
   "outputs": [
    {
     "data": {
      "text/plain": [
       "DeviceArray([-4.2      , -4.1      , -3.9999998, -3.8999999, -3.7999997],            dtype=float32)"
      ]
     },
     "execution_count": 21,
     "metadata": {},
     "output_type": "execute_result"
    }
   ],
   "source": [
    "jnp.linspace(-4.2, -3.8, 5)"
   ]
  },
  {
   "cell_type": "code",
   "execution_count": 22,
   "metadata": {},
   "outputs": [],
   "source": [
    "@tc.experiment(\"k,projection\", projections.items())\n",
    "@tc.experiment(\"basin\", basins)\n",
    "@tc.experiment(\"lr\", jnp.linspace(-4.2, -3.8, 5))\n",
    "def runner(basin, k, projection, lr):\n",
    "    import pickle\n",
    "\n",
    "    import jax.numpy as jnp\n",
    "\n",
    "    from timecast.learners import Sequential, Parallel, Index, PCR\n",
    "    from timecast import smap\n",
    "    from timecast.objectives import residual\n",
    "    from timecast.optim import GradientDescent\n",
    "\n",
    "    import tqdm.notebook as tqdm\n",
    "    \n",
    "    X = pickle.load(open(\"../data/flood/test/{}.p\".format(basin), \"rb\"))[:, :5]\n",
    "    Y = pickle.load(open(\"../data/flood/ealstm/{}.p\".format(basin), \"rb\"))\n",
    "    \n",
    "    history_len = 270\n",
    "    \n",
    "    lstm = Index.partial(index=0)\n",
    "    pcr = PCR.partial(projection=projection, history_len=history_len, history=X[:history_len - 1])\n",
    "    pcr = Sequential.partial(learners=[Index.partial(index=1), pcr])\n",
    "    model, state = Parallel.new(shape=(1, 5), learners=[lstm, pcr])\n",
    "    \n",
    "    optim_def = GradientDescent(learning_rate=(10 ** lr))\n",
    "    optimizer = optim_def.create(model)\n",
    "\n",
    "    # NOTE: difference in indexing convention, so need to pad one row\n",
    "    X_t = X[history_len - 1:]\n",
    "    Y_lstm = jnp.array(Y.qsim)\n",
    "    Y = jnp.array(Y.qobs).reshape(-1, 1)\n",
    "\n",
    "    Y_hat, optimizer, state = smap((Y_lstm, X_t), Y, optimizer, state=state, objective=residual)\n",
    "\n",
    "    return {\"basin\": basin, \"k\": k, \"lr\": lr, \"mse\": jnp.square(Y - Y_hat).mean()}"
   ]
  },
  {
   "cell_type": "code",
   "execution_count": 23,
   "metadata": {},
   "outputs": [
    {
     "data": {
      "application/vnd.jupyter.widget-view+json": {
       "model_id": "9d6a8cafd57c45a1a086f1c2bd8a8f6f",
       "version_major": 2,
       "version_minor": 0
      },
      "text/plain": [
       "HBox(children=(FloatProgress(value=1.0, bar_style='info', max=1.0), HTML(value='')))"
      ]
     },
     "metadata": {},
     "output_type": "display_data"
    },
    {
     "name": "stdout",
     "output_type": "stream",
     "text": [
      "\n"
     ]
    }
   ],
   "source": [
    "results = runner.run(processes=15, tqdm=tqdm)"
   ]
  },
  {
   "cell_type": "code",
   "execution_count": 24,
   "metadata": {},
   "outputs": [
    {
     "name": "stdout",
     "output_type": "stream",
     "text": [
      "Average MSE (k=350, lr=-4.199999809265137): 2.718194007873535\n",
      "Average MSE (k=360, lr=-4.199999809265137): 2.7181003093719482\n",
      "Average MSE (k=370, lr=-4.199999809265137): 2.7179558277130127\n",
      "Average MSE (k=380, lr=-4.199999809265137): 2.7177882194519043\n",
      "Average MSE (k=390, lr=-4.199999809265137): 2.7176952362060547\n",
      "Average MSE (k=400, lr=-4.199999809265137): 2.7176523208618164\n",
      "Average MSE (k=410, lr=-4.199999809265137): 2.7175135612487793\n",
      "Average MSE (k=420, lr=-4.199999809265137): 2.7175867557525635\n",
      "Average MSE (k=430, lr=-4.199999809265137): 2.7176170349121094\n",
      "Average MSE (k=440, lr=-4.199999809265137): 2.717684030532837\n",
      "Average MSE (k=450, lr=-4.199999809265137): 2.7177388668060303\n",
      "Average MSE (k=350, lr=-4.099999904632568): 2.710236072540283\n",
      "Average MSE (k=360, lr=-4.099999904632568): 2.7101800441741943\n",
      "Average MSE (k=370, lr=-4.099999904632568): 2.7100284099578857\n",
      "Average MSE (k=380, lr=-4.099999904632568): 2.709839344024658\n",
      "Average MSE (k=390, lr=-4.099999904632568): 2.7097599506378174\n",
      "Average MSE (k=400, lr=-4.099999904632568): 2.7097108364105225\n",
      "Average MSE (k=410, lr=-4.099999904632568): 2.7095398902893066\n",
      "Average MSE (k=420, lr=-4.099999904632568): 2.709628105163574\n",
      "Average MSE (k=430, lr=-4.099999904632568): 2.709664821624756\n",
      "Average MSE (k=440, lr=-4.099999904632568): 2.7097482681274414\n",
      "Average MSE (k=450, lr=-4.099999904632568): 2.709822654724121\n",
      "Average MSE (k=350, lr=-3.999999761581421): 2.7163801193237305\n",
      "Average MSE (k=360, lr=-3.999999761581421): 2.716407299041748\n",
      "Average MSE (k=370, lr=-3.999999761581421): 2.716266393661499\n",
      "Average MSE (k=380, lr=-3.999999761581421): 2.7160727977752686\n",
      "Average MSE (k=390, lr=-3.999999761581421): 2.7160298824310303\n",
      "Average MSE (k=400, lr=-3.999999761581421): 2.7159829139709473\n",
      "Average MSE (k=410, lr=-3.999999761581421): 2.7157797813415527\n",
      "Average MSE (k=420, lr=-3.999999761581421): 2.715890884399414\n",
      "Average MSE (k=430, lr=-3.999999761581421): 2.7159440517425537\n",
      "Average MSE (k=440, lr=-3.999999761581421): 2.7160539627075195\n",
      "Average MSE (k=450, lr=-3.999999761581421): 2.7161552906036377\n",
      "Average MSE (k=350, lr=-3.8999998569488525): 2.7446913719177246\n",
      "Average MSE (k=360, lr=-3.8999998569488525): 2.7448909282684326\n",
      "Average MSE (k=370, lr=-3.8999998569488525): 2.7448060512542725\n",
      "Average MSE (k=380, lr=-3.8999998569488525): 2.7446541786193848\n",
      "Average MSE (k=390, lr=-3.8999998569488525): 2.7446954250335693\n",
      "Average MSE (k=400, lr=-3.8999998569488525): 2.744675397872925\n",
      "Average MSE (k=410, lr=-3.8999998569488525): 2.744453191757202\n",
      "Average MSE (k=420, lr=-3.8999998569488525): 2.744603157043457\n",
      "Average MSE (k=430, lr=-3.8999998569488525): 2.7446961402893066\n",
      "Average MSE (k=440, lr=-3.8999998569488525): 2.7448530197143555\n",
      "Average MSE (k=450, lr=-3.8999998569488525): 2.744997024536133\n",
      "Average MSE (k=350, lr=-3.799999713897705): 2.8097891807556152\n",
      "Average MSE (k=360, lr=-3.799999713897705): 2.8103582859039307\n",
      "Average MSE (k=370, lr=-3.799999713897705): 2.810436248779297\n",
      "Average MSE (k=380, lr=-3.799999713897705): 2.810452699661255\n",
      "Average MSE (k=390, lr=-3.799999713897705): 2.810680866241455\n",
      "Average MSE (k=400, lr=-3.799999713897705): 2.810758352279663\n",
      "Average MSE (k=410, lr=-3.799999713897705): 2.810565948486328\n",
      "Average MSE (k=420, lr=-3.799999713897705): 2.8107941150665283\n",
      "Average MSE (k=430, lr=-3.799999713897705): 2.8109889030456543\n",
      "Average MSE (k=440, lr=-3.799999713897705): 2.8112385272979736\n",
      "Average MSE (k=450, lr=-3.799999713897705): 2.8114585876464844\n"
     ]
    }
   ],
   "source": [
    "for lr in jnp.linspace(-4.2, -3.8, 5):\n",
    "    for k in projections.keys():\n",
    "        print(\"Average MSE (k={}, lr={}): {}\".format(k, lr, jnp.average(jnp.array([result[\"mse\"] for result in results if (result[\"k\"] == k and result[\"lr\"] == lr)]))))"
   ]
  },
  {
   "cell_type": "code",
   "execution_count": null,
   "metadata": {},
   "outputs": [],
   "source": []
  }
 ],
 "metadata": {
  "kernelspec": {
   "display_name": "Python 3",
   "language": "python",
   "name": "python3"
  },
  "language_info": {
   "codemirror_mode": {
    "name": "ipython",
    "version": 3
   },
   "file_extension": ".py",
   "mimetype": "text/x-python",
   "name": "python",
   "nbconvert_exporter": "python",
   "pygments_lexer": "ipython3",
   "version": "3.7.0"
  }
 },
 "nbformat": 4,
 "nbformat_minor": 2
}
