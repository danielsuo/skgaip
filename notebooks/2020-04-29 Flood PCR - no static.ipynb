{
 "cells": [
  {
   "cell_type": "code",
   "execution_count": 1,
   "metadata": {},
   "outputs": [
    {
     "data": {
      "text/html": [
       "<style>.container { width:100% !important; }</style>"
      ],
      "text/plain": [
       "<IPython.core.display.HTML object>"
      ]
     },
     "metadata": {},
     "output_type": "display_data"
    },
    {
     "name": "stderr",
     "output_type": "stream",
     "text": [
      "/home/dsuo/miniconda3/envs/toy_flood/lib/python3.7/site-packages/jax/lib/xla_bridge.py:123: UserWarning: No GPU/TPU found, falling back to CPU.\n",
      "  warnings.warn('No GPU/TPU found, falling back to CPU.')\n"
     ]
    }
   ],
   "source": [
    "%load_ext autoreload\n",
    "%autoreload 2\n",
    "\n",
    "from IPython.display import Image\n",
    "from IPython.core.display import display, HTML\n",
    "display(HTML(\"<style>.container { width:100% !important; }</style>\"))\n",
    "\n",
    "import os\n",
    "import json\n",
    "import numpy as onp\n",
    "import jax\n",
    "import jax.numpy as jnp\n",
    "import flax\n",
    "import pickle\n",
    "import matplotlib.pyplot as plt\n",
    "import pandas as pd\n",
    "import torch\n",
    "import matplotlib\n",
    "import timecast as tc\n",
    "\n",
    "from mpl_toolkits import mplot3d\n",
    "\n",
    "\n",
    "plt.rcParams['figure.figsize'] = [20, 10]\n",
    "\n",
    "import tqdm.notebook as tqdm"
   ]
  },
  {
   "cell_type": "code",
   "execution_count": 2,
   "metadata": {},
   "outputs": [],
   "source": [
    "from timecast.learners._ar import _ar_gram\n",
    "from timecast.learners._pcr import _compute_pca_projection"
   ]
  },
  {
   "cell_type": "code",
   "execution_count": 3,
   "metadata": {
    "scrolled": false
   },
   "outputs": [],
   "source": [
    "basins = pickle.load(open(\"../data/basins.p\", \"rb\"))\n",
    "\n",
    "def generator():\n",
    "    for basin in basins:\n",
    "        X = pickle.load(open(\"../data/train/{}.p\".format(basin), \"rb\"))\n",
    "        ealstm = pickle.load(open(\"../data/ealstm/{}.p\".format(basin), \"rb\"))\n",
    "        Y = onp.zeros((X.shape[0], 1))\n",
    "        Y[-ealstm.shape[0]:, :] = ealstm[[\"qobs\"]]\n",
    "        yield X[:, :5], Y, None\n",
    "            \n",
    "XTX, XTY = _ar_gram(generator(), input_dim=5, output_dim=1, history_len=270)"
   ]
  },
  {
   "cell_type": "code",
   "execution_count": 5,
   "metadata": {},
   "outputs": [
    {
     "data": {
      "application/vnd.jupyter.widget-view+json": {
       "model_id": "c2894c1c2a4d4a3da5b7730ae05b0565",
       "version_major": 2,
       "version_minor": 0
      },
      "text/plain": [
       "HBox(children=(FloatProgress(value=0.0, max=6.0), HTML(value='')))"
      ]
     },
     "metadata": {},
     "output_type": "display_data"
    },
    {
     "name": "stdout",
     "output_type": "stream",
     "text": [
      "\n"
     ]
    }
   ],
   "source": [
    "projections = {}\n",
    "for k in tqdm.tqdm([10, 50, 100, 500, 1000, 1350]):\n",
    "    projections[k] = _compute_pca_projection(XTX.matrix(normalize=True), k)"
   ]
  },
  {
   "cell_type": "markdown",
   "metadata": {},
   "source": [
    "## Test"
   ]
  },
  {
   "cell_type": "code",
   "execution_count": 6,
   "metadata": {},
   "outputs": [],
   "source": [
    "basins = pickle.load(open(\"../data/basins.p\", \"rb\"))"
   ]
  },
  {
   "cell_type": "code",
   "execution_count": 7,
   "metadata": {},
   "outputs": [],
   "source": [
    "@tc.experiment(\"k,projection\", projections.items())\n",
    "@tc.experiment(\"basin\", basins)\n",
    "def runner(basin, k, projection, lr=1e-5):\n",
    "    import pickle\n",
    "    from ealstm.gaip.utils import MSE\n",
    "\n",
    "    import jax.numpy as jnp\n",
    "\n",
    "    from timecast.learners import Sequential, Parallel, Index, PCR\n",
    "    from timecast import smap\n",
    "    from timecast.objectives import residual\n",
    "    from timecast.optim import GradientDescent\n",
    "\n",
    "    import tqdm.notebook as tqdm\n",
    "    \n",
    "    X = pickle.load(open(\"../data/test/{}.p\".format(basin), \"rb\"))[:, :5]\n",
    "    Y = pickle.load(open(\"../data/ealstm/{}.p\".format(basin), \"rb\"))\n",
    "    \n",
    "    history_len = 270\n",
    "    \n",
    "    lstm = Index.partial(index=0)\n",
    "    pcr = PCR.partial(projection=projection, history_len=history_len, history=X[:history_len - 1])\n",
    "    pcr = Sequential.partial(learners=[Index.partial(index=1), pcr])\n",
    "    model, state = Parallel.new(shape=(1, 5), learners=[lstm, pcr])\n",
    "    \n",
    "    optim_def = GradientDescent(learning_rate=lr)\n",
    "    optimizer = optim_def.create(model)\n",
    "\n",
    "    # NOTE: difference in indexing convention, so need to pad one row\n",
    "    X_t = X[history_len - 1:]\n",
    "    Y_lstm = jnp.array(Y.qsim)\n",
    "    Y = jnp.array(Y.qobs).reshape(-1, 1)\n",
    "\n",
    "    Y_hat, optimizer, state = smap((Y_lstm, X_t), Y, optimizer, state=state, objective=residual)\n",
    "\n",
    "    return {\"basin\": basin, \"k\": k, \"mse\": MSE(Y, Y_hat)}"
   ]
  },
  {
   "cell_type": "code",
   "execution_count": 8,
   "metadata": {},
   "outputs": [
    {
     "data": {
      "application/vnd.jupyter.widget-view+json": {
       "model_id": "46bdc52fb5354061b92d9b76ee3894e2",
       "version_major": 2,
       "version_minor": 0
      },
      "text/plain": [
       "HBox(children=(FloatProgress(value=1.0, bar_style='info', max=1.0), HTML(value='')))"
      ]
     },
     "metadata": {},
     "output_type": "display_data"
    },
    {
     "name": "stdout",
     "output_type": "stream",
     "text": [
      "\n"
     ]
    }
   ],
   "source": [
    "results = runner.run(processes=10, tqdm=tqdm)"
   ]
  },
  {
   "cell_type": "code",
   "execution_count": 9,
   "metadata": {},
   "outputs": [
    {
     "data": {
      "application/vnd.jupyter.widget-view+json": {
       "model_id": "2c1e6884ca6c4accbc49fb711c65d290",
       "version_major": 2,
       "version_minor": 0
      },
      "text/plain": [
       "HBox(children=(FloatProgress(value=0.0, max=6.0), HTML(value='')))"
      ]
     },
     "metadata": {},
     "output_type": "display_data"
    },
    {
     "name": "stdout",
     "output_type": "stream",
     "text": [
      "Average MSE (k=10): 2.9675233364105225\n",
      "Average MSE (k=50): 2.9452872276306152\n",
      "Average MSE (k=100): 2.9331281185150146\n",
      "Average MSE (k=500): 2.923673629760742\n",
      "Average MSE (k=1000): 2.9238321781158447\n",
      "Average MSE (k=1350): 2.9238762855529785\n",
      "\n"
     ]
    }
   ],
   "source": [
    "for k in tqdm.tqdm([10, 50, 100, 500, 1000, 1350]):\n",
    "    print(\"Average MSE (k={}): {}\".format(k, jnp.average(jnp.array([result[\"mse\"] for result in results if result[\"k\"] == k]))))"
   ]
  },
  {
   "cell_type": "code",
   "execution_count": 19,
   "metadata": {},
   "outputs": [],
   "source": [
    "@tc.experiment(\"k,projection\", [(500, projections[500])])\n",
    "@tc.experiment(\"basin\", basins)\n",
    "@tc.experiment(\"lr\", jnp.linspace(-5, -4, 11))\n",
    "def runner(basin, k, projection, lr):\n",
    "    import pickle\n",
    "    from ealstm.gaip.utils import MSE\n",
    "\n",
    "    import jax.numpy as jnp\n",
    "\n",
    "    from timecast.learners import Sequential, Parallel, Index, PCR\n",
    "    from timecast import smap\n",
    "    from timecast.objectives import residual\n",
    "    from timecast.optim import GradientDescent\n",
    "\n",
    "    import tqdm.notebook as tqdm\n",
    "    \n",
    "    X = pickle.load(open(\"../data/test/{}.p\".format(basin), \"rb\"))[:, :5]\n",
    "    Y = pickle.load(open(\"../data/ealstm/{}.p\".format(basin), \"rb\"))\n",
    "    \n",
    "    history_len = 270\n",
    "    \n",
    "    lstm = Index.partial(index=0)\n",
    "    pcr = PCR.partial(projection=projection, history_len=history_len, history=X[:history_len - 1])\n",
    "    pcr = Sequential.partial(learners=[Index.partial(index=1), pcr])\n",
    "    model, state = Parallel.new(shape=(1, 5), learners=[lstm, pcr])\n",
    "    \n",
    "    optim_def = GradientDescent(learning_rate=(10 ** lr))\n",
    "    optimizer = optim_def.create(model)\n",
    "\n",
    "    # NOTE: difference in indexing convention, so need to pad one row\n",
    "    X_t = X[history_len - 1:]\n",
    "    Y_lstm = jnp.array(Y.qsim)\n",
    "    Y = jnp.array(Y.qobs).reshape(-1, 1)\n",
    "\n",
    "    Y_hat, optimizer, state = smap((Y_lstm, X_t), Y, optimizer, state=state, objective=residual)\n",
    "\n",
    "    return {\"basin\": basin, \"k\": k, \"lr\": lr, \"mse\": MSE(Y, Y_hat)}"
   ]
  },
  {
   "cell_type": "code",
   "execution_count": 20,
   "metadata": {},
   "outputs": [
    {
     "data": {
      "application/vnd.jupyter.widget-view+json": {
       "model_id": "17639258428844759f1dbd26dcc9ad39",
       "version_major": 2,
       "version_minor": 0
      },
      "text/plain": [
       "HBox(children=(FloatProgress(value=1.0, bar_style='info', max=1.0), HTML(value='')))"
      ]
     },
     "metadata": {},
     "output_type": "display_data"
    },
    {
     "name": "stdout",
     "output_type": "stream",
     "text": [
      "\n"
     ]
    }
   ],
   "source": [
    "results = runner.run(processes=15, tqdm=tqdm)"
   ]
  },
  {
   "cell_type": "code",
   "execution_count": 18,
   "metadata": {},
   "outputs": [
    {
     "name": "stdout",
     "output_type": "stream",
     "text": [
      "Average MSE (k=10, lr=-5.0): 2.9675233364105225\n",
      "Average MSE (k=10, lr=-4.900000095367432): 2.9487717151641846\n",
      "Average MSE (k=10, lr=-4.800000190734863): 2.9286019802093506\n",
      "Average MSE (k=10, lr=-4.699999809265137): 2.907244920730591\n",
      "Average MSE (k=10, lr=-4.599999904632568): 2.884995937347412\n",
      "Average MSE (k=10, lr=-4.5): 2.8622066974639893\n",
      "Average MSE (k=500, lr=-5.0): 2.923673629760742\n",
      "Average MSE (k=500, lr=-4.900000095367432): 2.898007869720459\n",
      "Average MSE (k=500, lr=-4.800000190734863): 2.870617151260376\n",
      "Average MSE (k=500, lr=-4.699999809265137): 2.842050552368164\n",
      "Average MSE (k=500, lr=-4.599999904632568): 2.813055992126465\n",
      "Average MSE (k=500, lr=-4.5): 2.784621477127075\n"
     ]
    }
   ],
   "source": [
    "for k in [10, 500]:\n",
    "    for lr in jnp.linspace(-5, -4.0, 11):\n",
    "        print(\"Average MSE (k={}, lr={}): {}\".format(k, lr, jnp.average(jnp.array([result[\"mse\"] for result in results if (result[\"k\"] == k and result[\"lr\"] == lr)]))))"
   ]
  },
  {
   "cell_type": "code",
   "execution_count": 21,
   "metadata": {},
   "outputs": [
    {
     "name": "stdout",
     "output_type": "stream",
     "text": [
      "Average MSE (k=10, lr=-5.0): nan\n",
      "Average MSE (k=10, lr=-4.900000095367432): nan\n",
      "Average MSE (k=10, lr=-4.800000190734863): nan\n",
      "Average MSE (k=10, lr=-4.699999809265137): nan\n",
      "Average MSE (k=10, lr=-4.599999904632568): nan\n",
      "Average MSE (k=10, lr=-4.5): nan\n",
      "Average MSE (k=10, lr=-4.400000095367432): nan\n",
      "Average MSE (k=10, lr=-4.300000190734863): nan\n",
      "Average MSE (k=10, lr=-4.199999809265137): nan\n",
      "Average MSE (k=10, lr=-4.099999904632568): nan\n",
      "Average MSE (k=10, lr=-4.0): nan\n",
      "Average MSE (k=500, lr=-5.0): 2.923673629760742\n",
      "Average MSE (k=500, lr=-4.900000095367432): 2.898007869720459\n",
      "Average MSE (k=500, lr=-4.800000190734863): 2.870617151260376\n",
      "Average MSE (k=500, lr=-4.699999809265137): 2.842050552368164\n",
      "Average MSE (k=500, lr=-4.599999904632568): 2.813055992126465\n",
      "Average MSE (k=500, lr=-4.5): 2.784621477127075\n",
      "Average MSE (k=500, lr=-4.400000095367432): 2.7580411434173584\n",
      "Average MSE (k=500, lr=-4.300000190734863): 2.7350289821624756\n",
      "Average MSE (k=500, lr=-4.199999809265137): 2.717912197113037\n",
      "Average MSE (k=500, lr=-4.099999904632568): 2.7100064754486084\n",
      "Average MSE (k=500, lr=-4.0): 2.716346263885498\n"
     ]
    }
   ],
   "source": [
    "for k in [10, 500]:\n",
    "    for lr in jnp.linspace(-5, -4.0, 11):\n",
    "        print(\"Average MSE (k={}, lr={}): {}\".format(k, lr, jnp.average(jnp.array([result[\"mse\"] for result in results if (result[\"k\"] == k and result[\"lr\"] == lr)]))))"
   ]
  },
  {
   "cell_type": "code",
   "execution_count": 30,
   "metadata": {},
   "outputs": [
    {
     "data": {
      "application/vnd.jupyter.widget-view+json": {
       "model_id": "d858b55a5ea04672a36862859a665942",
       "version_major": 2,
       "version_minor": 0
      },
      "text/plain": [
       "HBox(children=(FloatProgress(value=0.0, max=11.0), HTML(value='')))"
      ]
     },
     "metadata": {},
     "output_type": "display_data"
    },
    {
     "name": "stdout",
     "output_type": "stream",
     "text": [
      "\n"
     ]
    }
   ],
   "source": [
    "projections = {}\n",
    "for k in tqdm.tqdm(onp.linspace(450, 550, 11)):\n",
    "    projections[int(k)] = _compute_pca_projection(XTX.matrix(normalize=True), int(k))"
   ]
  },
  {
   "cell_type": "code",
   "execution_count": 32,
   "metadata": {},
   "outputs": [],
   "source": [
    "@tc.experiment(\"k,projection\", projections.items())\n",
    "@tc.experiment(\"basin\", basins)\n",
    "@tc.experiment(\"lr\", jnp.linspace(-5, -4, 6))\n",
    "def runner(basin, k, projection, lr):\n",
    "    import pickle\n",
    "    from ealstm.gaip.utils import MSE\n",
    "\n",
    "    import jax.numpy as jnp\n",
    "\n",
    "    from timecast.learners import Sequential, Parallel, Index, PCR\n",
    "    from timecast import smap\n",
    "    from timecast.objectives import residual\n",
    "    from timecast.optim import GradientDescent\n",
    "\n",
    "    import tqdm.notebook as tqdm\n",
    "    \n",
    "    X = pickle.load(open(\"../data/flood/test/{}.p\".format(basin), \"rb\"))[:, :5]\n",
    "    Y = pickle.load(open(\"../data/flood/ealstm/{}.p\".format(basin), \"rb\"))\n",
    "    \n",
    "    history_len = 270\n",
    "    \n",
    "    lstm = Index.partial(index=0)\n",
    "    pcr = PCR.partial(projection=projection, history_len=history_len, history=X[:history_len - 1])\n",
    "    pcr = Sequential.partial(learners=[Index.partial(index=1), pcr])\n",
    "    model, state = Parallel.new(shape=(1, 5), learners=[lstm, pcr])\n",
    "    \n",
    "    optim_def = GradientDescent(learning_rate=(10 ** lr))\n",
    "    optimizer = optim_def.create(model)\n",
    "\n",
    "    # NOTE: difference in indexing convention, so need to pad one row\n",
    "    X_t = X[history_len - 1:]\n",
    "    Y_lstm = jnp.array(Y.qsim)\n",
    "    Y = jnp.array(Y.qobs).reshape(-1, 1)\n",
    "\n",
    "    Y_hat, optimizer, state = smap((Y_lstm, X_t), Y, optimizer, state=state, objective=residual)\n",
    "\n",
    "    return {\"basin\": basin, \"k\": k, \"lr\": lr, \"mse\": MSE(Y, Y_hat)}"
   ]
  },
  {
   "cell_type": "code",
   "execution_count": 34,
   "metadata": {},
   "outputs": [
    {
     "ename": "FileNotFoundError",
     "evalue": "[Errno 2] No such file or directory: '../data/test/02372250.p'",
     "output_type": "error",
     "traceback": [
      "\u001b[0;31m---------------------------------------------------------------------------\u001b[0m",
      "\u001b[0;31mRemoteTraceback\u001b[0m                           Traceback (most recent call last)",
      "\u001b[0;31mRemoteTraceback\u001b[0m: \n\"\"\"\nTraceback (most recent call last):\n  File \"/home/dsuo/miniconda3/envs/toy_flood/lib/python3.7/site-packages/multiprocess/pool.py\", line 121, in worker\n    result = (True, func(*args, **kwds))\n  File \"/home/dsuo/miniconda3/envs/toy_flood/lib/python3.7/site-packages/pathos/helpers/mp_helper.py\", line 15, in <lambda>\n    func = lambda args: f(*args)\n  File \"/home/dsuo/src/timecast/timecast/utils/experiment.py\", line 27, in runner\n    return args[0](**args[1])\n  File \"<ipython-input-32-a4f5dfe868f1>\", line 17, in runner\nFileNotFoundError: [Errno 2] No such file or directory: '../data/test/02372250.p'\n\"\"\"",
      "\nThe above exception was the direct cause of the following exception:\n",
      "\u001b[0;31mFileNotFoundError\u001b[0m                         Traceback (most recent call last)",
      "\u001b[0;32m<ipython-input-34-de5f35050a19>\u001b[0m in \u001b[0;36m<module>\u001b[0;34m\u001b[0m\n\u001b[0;32m----> 1\u001b[0;31m \u001b[0mrunner\u001b[0m\u001b[0;34m.\u001b[0m\u001b[0mrun\u001b[0m\u001b[0;34m(\u001b[0m\u001b[0mprocesses\u001b[0m\u001b[0;34m=\u001b[0m\u001b[0;36m15\u001b[0m\u001b[0;34m)\u001b[0m\u001b[0;34m\u001b[0m\u001b[0;34m\u001b[0m\u001b[0m\n\u001b[0m",
      "\u001b[0;32m~/src/timecast/timecast/utils/experiment.py\u001b[0m in \u001b[0;36mrun\u001b[0;34m(self, processes, chunksize, tqdm)\u001b[0m\n\u001b[1;32m    161\u001b[0m         )\n\u001b[1;32m    162\u001b[0m         \u001b[0mprocess\u001b[0m \u001b[0;34m=\u001b[0m \u001b[0msingle\u001b[0m \u001b[0;32mif\u001b[0m \u001b[0mprocesses\u001b[0m \u001b[0;34m==\u001b[0m \u001b[0;36m1\u001b[0m \u001b[0;32melse\u001b[0m \u001b[0mparallel\u001b[0m\u001b[0;34m\u001b[0m\u001b[0;34m\u001b[0m\u001b[0m\n\u001b[0;32m--> 163\u001b[0;31m         \u001b[0;32mreturn\u001b[0m \u001b[0mlist\u001b[0m\u001b[0;34m(\u001b[0m\u001b[0mprocess\u001b[0m\u001b[0;34m(\u001b[0m\u001b[0;34m)\u001b[0m \u001b[0;32mif\u001b[0m \u001b[0mtqdm\u001b[0m \u001b[0;32mis\u001b[0m \u001b[0;32mNone\u001b[0m \u001b[0;32melse\u001b[0m \u001b[0mtqdm\u001b[0m\u001b[0;34m.\u001b[0m\u001b[0mtqdm\u001b[0m\u001b[0;34m(\u001b[0m\u001b[0mprocess\u001b[0m\u001b[0;34m(\u001b[0m\u001b[0;34m)\u001b[0m\u001b[0;34m)\u001b[0m\u001b[0;34m)\u001b[0m\u001b[0;34m\u001b[0m\u001b[0;34m\u001b[0m\u001b[0m\n\u001b[0m",
      "\u001b[0;32m~/miniconda3/envs/toy_flood/lib/python3.7/site-packages/multiprocess/pool.py\u001b[0m in \u001b[0;36mnext\u001b[0;34m(self, timeout)\u001b[0m\n\u001b[1;32m    746\u001b[0m         \u001b[0;32mif\u001b[0m \u001b[0msuccess\u001b[0m\u001b[0;34m:\u001b[0m\u001b[0;34m\u001b[0m\u001b[0;34m\u001b[0m\u001b[0m\n\u001b[1;32m    747\u001b[0m             \u001b[0;32mreturn\u001b[0m \u001b[0mvalue\u001b[0m\u001b[0;34m\u001b[0m\u001b[0;34m\u001b[0m\u001b[0m\n\u001b[0;32m--> 748\u001b[0;31m         \u001b[0;32mraise\u001b[0m \u001b[0mvalue\u001b[0m\u001b[0;34m\u001b[0m\u001b[0;34m\u001b[0m\u001b[0m\n\u001b[0m\u001b[1;32m    749\u001b[0m \u001b[0;34m\u001b[0m\u001b[0m\n\u001b[1;32m    750\u001b[0m     \u001b[0m__next__\u001b[0m \u001b[0;34m=\u001b[0m \u001b[0mnext\u001b[0m                    \u001b[0;31m# XXX\u001b[0m\u001b[0;34m\u001b[0m\u001b[0;34m\u001b[0m\u001b[0m\n",
      "\u001b[0;31mFileNotFoundError\u001b[0m: [Errno 2] No such file or directory: '../data/test/02372250.p'"
     ]
    }
   ],
   "source": [
    "runner.run(processes=15, tqdm=tqdm)"
   ]
  },
  {
   "cell_type": "code",
   "execution_count": 33,
   "metadata": {},
   "outputs": [
    {
     "name": "stdout",
     "output_type": "stream",
     "text": [
      "Average MSE (k=450, lr=-5.0): nan\n",
      "Average MSE (k=450, lr=-4.800000190734863): nan\n",
      "Average MSE (k=450, lr=-4.599999904632568): nan\n",
      "Average MSE (k=450, lr=-4.400000095367432): nan\n",
      "Average MSE (k=450, lr=-4.199999809265137): nan\n",
      "Average MSE (k=450, lr=-4.0): nan\n",
      "Average MSE (k=460, lr=-5.0): nan\n",
      "Average MSE (k=460, lr=-4.800000190734863): nan\n",
      "Average MSE (k=460, lr=-4.599999904632568): nan\n",
      "Average MSE (k=460, lr=-4.400000095367432): nan\n",
      "Average MSE (k=460, lr=-4.199999809265137): nan\n",
      "Average MSE (k=460, lr=-4.0): nan\n",
      "Average MSE (k=470, lr=-5.0): nan\n",
      "Average MSE (k=470, lr=-4.800000190734863): nan\n",
      "Average MSE (k=470, lr=-4.599999904632568): nan\n",
      "Average MSE (k=470, lr=-4.400000095367432): nan\n",
      "Average MSE (k=470, lr=-4.199999809265137): nan\n",
      "Average MSE (k=470, lr=-4.0): nan\n",
      "Average MSE (k=480, lr=-5.0): nan\n",
      "Average MSE (k=480, lr=-4.800000190734863): nan\n",
      "Average MSE (k=480, lr=-4.599999904632568): nan\n",
      "Average MSE (k=480, lr=-4.400000095367432): nan\n",
      "Average MSE (k=480, lr=-4.199999809265137): nan\n",
      "Average MSE (k=480, lr=-4.0): nan\n",
      "Average MSE (k=490, lr=-5.0): nan\n",
      "Average MSE (k=490, lr=-4.800000190734863): nan\n",
      "Average MSE (k=490, lr=-4.599999904632568): nan\n",
      "Average MSE (k=490, lr=-4.400000095367432): nan\n",
      "Average MSE (k=490, lr=-4.199999809265137): nan\n",
      "Average MSE (k=490, lr=-4.0): nan\n",
      "Average MSE (k=500, lr=-5.0): 2.923673629760742\n",
      "Average MSE (k=500, lr=-4.800000190734863): 2.870617151260376\n",
      "Average MSE (k=500, lr=-4.599999904632568): 2.813055992126465\n",
      "Average MSE (k=500, lr=-4.400000095367432): 2.7580411434173584\n",
      "Average MSE (k=500, lr=-4.199999809265137): 2.717912197113037\n",
      "Average MSE (k=500, lr=-4.0): 2.716346263885498\n",
      "Average MSE (k=510, lr=-5.0): nan\n",
      "Average MSE (k=510, lr=-4.800000190734863): nan\n",
      "Average MSE (k=510, lr=-4.599999904632568): nan\n",
      "Average MSE (k=510, lr=-4.400000095367432): nan\n",
      "Average MSE (k=510, lr=-4.199999809265137): nan\n",
      "Average MSE (k=510, lr=-4.0): nan\n",
      "Average MSE (k=520, lr=-5.0): nan\n",
      "Average MSE (k=520, lr=-4.800000190734863): nan\n",
      "Average MSE (k=520, lr=-4.599999904632568): nan\n",
      "Average MSE (k=520, lr=-4.400000095367432): nan\n",
      "Average MSE (k=520, lr=-4.199999809265137): nan\n",
      "Average MSE (k=520, lr=-4.0): nan\n",
      "Average MSE (k=530, lr=-5.0): nan\n",
      "Average MSE (k=530, lr=-4.800000190734863): nan\n",
      "Average MSE (k=530, lr=-4.599999904632568): nan\n",
      "Average MSE (k=530, lr=-4.400000095367432): nan\n",
      "Average MSE (k=530, lr=-4.199999809265137): nan\n",
      "Average MSE (k=530, lr=-4.0): nan\n",
      "Average MSE (k=540, lr=-5.0): nan\n",
      "Average MSE (k=540, lr=-4.800000190734863): nan\n",
      "Average MSE (k=540, lr=-4.599999904632568): nan\n",
      "Average MSE (k=540, lr=-4.400000095367432): nan\n",
      "Average MSE (k=540, lr=-4.199999809265137): nan\n",
      "Average MSE (k=540, lr=-4.0): nan\n",
      "Average MSE (k=550, lr=-5.0): nan\n",
      "Average MSE (k=550, lr=-4.800000190734863): nan\n",
      "Average MSE (k=550, lr=-4.599999904632568): nan\n",
      "Average MSE (k=550, lr=-4.400000095367432): nan\n",
      "Average MSE (k=550, lr=-4.199999809265137): nan\n",
      "Average MSE (k=550, lr=-4.0): nan\n"
     ]
    }
   ],
   "source": [
    "for k in projections.keys():\n",
    "    for lr in jnp.linspace(-5, -4.0, 6):\n",
    "        print(\"Average MSE (k={}, lr={}): {}\".format(k, lr, jnp.average(jnp.array([result[\"mse\"] for result in results if (result[\"k\"] == k and result[\"lr\"] == lr)]))))"
   ]
  },
  {
   "cell_type": "code",
   "execution_count": null,
   "metadata": {},
   "outputs": [],
   "source": []
  }
 ],
 "metadata": {
  "kernelspec": {
   "display_name": "Python 3",
   "language": "python",
   "name": "python3"
  },
  "language_info": {
   "codemirror_mode": {
    "name": "ipython",
    "version": 3
   },
   "file_extension": ".py",
   "mimetype": "text/x-python",
   "name": "python",
   "nbconvert_exporter": "python",
   "pygments_lexer": "ipython3",
   "version": "3.7.3"
  }
 },
 "nbformat": 4,
 "nbformat_minor": 2
}
