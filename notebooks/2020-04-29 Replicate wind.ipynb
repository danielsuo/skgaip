{
 "cells": [
  {
   "cell_type": "code",
   "execution_count": 1,
   "metadata": {},
   "outputs": [
    {
     "data": {
      "text/html": [
       "<style>.container { width:100% !important; }</style>"
      ],
      "text/plain": [
       "<IPython.core.display.HTML object>"
      ]
     },
     "metadata": {},
     "output_type": "display_data"
    },
    {
     "name": "stderr",
     "output_type": "stream",
     "text": [
      "/home/dsuo/miniconda3/envs/skgaip/lib/python3.7/site-packages/jax/lib/xla_bridge.py:123: UserWarning: No GPU/TPU found, falling back to CPU.\n",
      "  warnings.warn('No GPU/TPU found, falling back to CPU.')\n"
     ]
    }
   ],
   "source": [
    "%load_ext autoreload\n",
    "%autoreload 2\n",
    "\n",
    "from IPython.display import Image\n",
    "from IPython.core.display import display, HTML\n",
    "display(HTML(\"<style>.container { width:100% !important; }</style>\"))\n",
    "\n",
    "import os\n",
    "import json\n",
    "import numpy as onp\n",
    "import jax\n",
    "import jax.numpy as jnp\n",
    "import flax\n",
    "import pickle\n",
    "import matplotlib.pyplot as plt\n",
    "import pandas as pd\n",
    "import matplotlib\n",
    "import timecast as tc\n",
    "\n",
    "from mpl_toolkits import mplot3d\n",
    "\n",
    "plt.rcParams['figure.figsize'] = [20, 10]\n",
    "\n",
    "import tqdm.notebook as tqdm"
   ]
  },
  {
   "cell_type": "markdown",
   "metadata": {},
   "source": [
    "# Load data"
   ]
  },
  {
   "cell_type": "code",
   "execution_count": 68,
   "metadata": {},
   "outputs": [],
   "source": [
    "data = onp.array(pd.read_csv(\"../skgaip/wind/MS_winds.dat\", names=list(range(57))))"
   ]
  },
  {
   "cell_type": "code",
   "execution_count": 69,
   "metadata": {},
   "outputs": [
    {
     "data": {
      "text/plain": [
       "array([[5.0963, 2.0564, 3.0399, ..., 3.0399, 3.5763, 2.5481],\n",
       "       [5.0963, 1.5199, 2.5481, ..., 2.5481, 3.5763, 2.5481],\n",
       "       [5.588 , 1.5199, 2.0564, ..., 2.5481, 3.5763, 1.5199],\n",
       "       ...,\n",
       "       [4.6045, 4.0681, 5.0963, ..., 4.6045, 0.    , 3.0399],\n",
       "       [7.1526, 6.1244, 4.6045, ..., 4.0681, 0.    , 4.0681],\n",
       "       [7.1526, 3.5763, 3.0399, ..., 4.0681, 0.    , 4.6045]])"
      ]
     },
     "execution_count": 69,
     "metadata": {},
     "output_type": "execute_result"
    }
   ],
   "source": [
    "# Columns = 57 stations\n",
    "# Rows = wind speed readings (m/s)\n",
    "data"
   ]
  },
  {
   "cell_type": "code",
   "execution_count": 70,
   "metadata": {},
   "outputs": [],
   "source": [
    "# Normalization\n",
    "# NOTE: This is a bug; they claim this normalizes from 0 to 1, but it doesn't\n",
    "# NOTE: Their variable also refer to min and max as mean and std, respectively so...\n",
    "data = (data - data.min()) / data.max()"
   ]
  },
  {
   "cell_type": "markdown",
   "metadata": {},
   "source": [
    "# Load stored inputs/outputs for verifying"
   ]
  },
  {
   "cell_type": "code",
   "execution_count": 189,
   "metadata": {},
   "outputs": [],
   "source": [
    "inputs = pickle.load(open(\"../skgaip/wind/input.pkl\", \"rb\"))\n",
    "outputs = pickle.load(open(\"../skgaip/wind/output.pkl\", \"rb\"))\n",
    "pre = pickle.load(open(\"../skgaip/wind/pre.pkl\", \"rb\"))\n",
    "post = pickle.load(open(\"../skgaip/wind/post.pkl\", \"rb\"))\n",
    "minmax = pickle.load(open(\"../skgaip/wind/minmax.pkl\", \"rb\"))\n",
    "models = pickle.load(open(\"../skgaip/wind/models.pkl\", \"rb\"))[\"models\"]"
   ]
  },
  {
   "cell_type": "markdown",
   "metadata": {},
   "source": [
    "# Verify inputs"
   ]
  },
  {
   "cell_type": "code",
   "execution_count": 239,
   "metadata": {},
   "outputs": [],
   "source": [
    "from timecast.utils import historify\n",
    "\n",
    "historified = historify(jnp.asarray(data), num_histories=8375, history_len=12)\n",
    "onp.testing.assert_array_almost_equal(historified, inputs[\"result\"])\n",
    "onp.testing.assert_array_almost_equal(historified[:6000], inputs[\"X_train\"])\n",
    "onp.testing.assert_array_almost_equal(data[12:6012,:], inputs[\"y_train\"])\n",
    "onp.testing.assert_array_almost_equal(historified[6000:6361], inputs[\"xTest\"])\n",
    "onp.testing.assert_array_almost_equal(data[6012:6373,:], inputs[\"yTest\"])"
   ]
  },
  {
   "cell_type": "markdown",
   "metadata": {},
   "source": [
    "# Verify predictions"
   ]
  },
  {
   "cell_type": "code",
   "execution_count": 233,
   "metadata": {},
   "outputs": [],
   "source": [
    "# Copied from https://github.com/amirstar/Deep-Forecast/blob/4dcdf66f8ae3070ab706b30a6e3cf888f36e0536/multiLSTM.py#L210\n",
    "def predict(X, models):\n",
    "    results = onp.zeros_like(onp.zeros((X.shape[0], X.shape[2])))\n",
    "    \n",
    "    for ind in range(len(X)):\n",
    "        modelInd = ind % 6\n",
    "        if modelInd == 0:\n",
    "            testInputRaw = X[ind]\n",
    "            testInputShape = testInputRaw.shape\n",
    "            testInput = onp.reshape(testInputRaw, [1, testInputShape[0], testInputShape[1]])\n",
    "        else:\n",
    "            testInputRaw = onp.vstack((testInputRaw, results[ind-1]))\n",
    "            testInput = onp.delete(testInputRaw, 0, axis=0)\n",
    "            testInputShape = testInput.shape\n",
    "            testInput = onp.reshape(testInput, [1, testInputShape[0], testInputShape[1]])\n",
    "    \n",
    "        pred = models[modelInd].predict(testInput)\n",
    "        results[ind] = pred\n",
    "\n",
    "    return results"
   ]
  },
  {
   "cell_type": "code",
   "execution_count": 234,
   "metadata": {},
   "outputs": [],
   "source": [
    "pred = predict(inputs[\"xTest\"], models)"
   ]
  },
  {
   "cell_type": "code",
   "execution_count": 237,
   "metadata": {},
   "outputs": [],
   "source": [
    "onp.testing.assert_array_almost_equal(pred, outputs[\"pred\"])"
   ]
  },
  {
   "cell_type": "code",
   "execution_count": 277,
   "metadata": {},
   "outputs": [
    {
     "data": {
      "text/plain": [
       "DeviceArray(1.1508132, dtype=float32)"
      ]
     },
     "execution_count": 277,
     "metadata": {},
     "output_type": "execute_result"
    }
   ],
   "source": [
    "test_true = data[6012:6373,:] * minmax[\"max\"] + minmax[\"min\"]\n",
    "test_pred = outputs[\"pred\"] * minmax[\"max\"] + minmax[\"min\"]\n",
    "jnp.absolute(test_true - test_pred).mean(axis=0).mean()"
   ]
  },
  {
   "cell_type": "markdown",
   "metadata": {},
   "source": [
    "# Predict all data"
   ]
  },
  {
   "cell_type": "code",
   "execution_count": 241,
   "metadata": {},
   "outputs": [
    {
     "data": {
      "text/plain": [
       "(8375, 12, 57)"
      ]
     },
     "execution_count": 241,
     "metadata": {},
     "output_type": "execute_result"
    }
   ],
   "source": [
    "historified.shape"
   ]
  },
  {
   "cell_type": "code",
   "execution_count": 242,
   "metadata": {},
   "outputs": [],
   "source": [
    "pred = predict(historified, models)"
   ]
  },
  {
   "cell_type": "code",
   "execution_count": 243,
   "metadata": {},
   "outputs": [
    {
     "data": {
      "text/plain": [
       "(8375, 57)"
      ]
     },
     "execution_count": 243,
     "metadata": {},
     "output_type": "execute_result"
    }
   ],
   "source": [
    "pred.shape"
   ]
  },
  {
   "cell_type": "code",
   "execution_count": 293,
   "metadata": {},
   "outputs": [
    {
     "data": {
      "text/plain": [
       "(8375, 12, 57)"
      ]
     },
     "execution_count": 293,
     "metadata": {},
     "output_type": "execute_result"
    }
   ],
   "source": [
    "historified.shape"
   ]
  },
  {
   "cell_type": "code",
   "execution_count": 245,
   "metadata": {},
   "outputs": [],
   "source": [
    "true = data[12:]"
   ]
  },
  {
   "cell_type": "code",
   "execution_count": 246,
   "metadata": {},
   "outputs": [
    {
     "data": {
      "text/plain": [
       "(8375, 57)"
      ]
     },
     "execution_count": 246,
     "metadata": {},
     "output_type": "execute_result"
    }
   ],
   "source": [
    "true.shape"
   ]
  },
  {
   "cell_type": "code",
   "execution_count": 247,
   "metadata": {},
   "outputs": [
    {
     "data": {
      "text/plain": [
       "DeviceArray(0.04184432, dtype=float32)"
      ]
     },
     "execution_count": 247,
     "metadata": {},
     "output_type": "execute_result"
    }
   ],
   "source": [
    "jnp.absolute(true - pred).mean(axis=0).mean()"
   ]
  }
 ],
 "metadata": {
  "kernelspec": {
   "display_name": "Python 3",
   "language": "python",
   "name": "python3"
  },
  "language_info": {
   "codemirror_mode": {
    "name": "ipython",
    "version": 3
   },
   "file_extension": ".py",
   "mimetype": "text/x-python",
   "name": "python",
   "nbconvert_exporter": "python",
   "pygments_lexer": "ipython3",
   "version": "3.7.0"
  }
 },
 "nbformat": 4,
 "nbformat_minor": 4
}
