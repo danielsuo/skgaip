{
 "cells": [
  {
   "cell_type": "code",
   "execution_count": 1,
   "metadata": {},
   "outputs": [
    {
     "data": {
      "text/html": [
       "<style>.container { width:100% !important; }</style>"
      ],
      "text/plain": [
       "<IPython.core.display.HTML object>"
      ]
     },
     "metadata": {},
     "output_type": "display_data"
    },
    {
     "name": "stderr",
     "output_type": "stream",
     "text": [
      "/home/dsuo/miniconda3/envs/skgaip/lib/python3.7/site-packages/jax/lib/xla_bridge.py:123: UserWarning: No GPU/TPU found, falling back to CPU.\n",
      "  warnings.warn('No GPU/TPU found, falling back to CPU.')\n"
     ]
    }
   ],
   "source": [
    "%load_ext autoreload\n",
    "%autoreload 2\n",
    "\n",
    "from IPython.display import Image\n",
    "from IPython.core.display import display, HTML\n",
    "display(HTML(\"<style>.container { width:100% !important; }</style>\"))\n",
    "\n",
    "import os\n",
    "import json\n",
    "import numpy as np\n",
    "import jax\n",
    "import jax.numpy as jnp\n",
    "import flax\n",
    "import pickle\n",
    "import matplotlib.pyplot as plt\n",
    "import pandas as pd\n",
    "import matplotlib\n",
    "import timecast as tc\n",
    "\n",
    "from mpl_toolkits import mplot3d\n",
    "\n",
    "plt.rcParams['figure.figsize'] = [20, 10]\n",
    "\n",
    "import tqdm.notebook as tqdm"
   ]
  },
  {
   "cell_type": "code",
   "execution_count": 2,
   "metadata": {},
   "outputs": [],
   "source": [
    "import pickle\n",
    "\n",
    "import timecast as tc\n",
    "import pandas as pd\n",
    "import matplotlib.pyplot as plt\n",
    "\n",
    "import flax\n",
    "import jax.numpy as jnp\n",
    "import numpy as np\n",
    "\n",
    "from timecast.learners import AR\n",
    "from timecast.utils.ar import historify, compute_gram"
   ]
  },
  {
   "cell_type": "code",
   "execution_count": 3,
   "metadata": {},
   "outputs": [],
   "source": [
    "data = jnp.array(pd.read_csv(\"../data/wind/original/MS_winds.dat\", names=list(range(57))))\n",
    "pickle.dump(data, open(\"../data/wind/original/MS_winds.pkl\", \"wb\"))"
   ]
  },
  {
   "cell_type": "code",
   "execution_count": 4,
   "metadata": {},
   "outputs": [
    {
     "data": {
      "text/plain": [
       "DeviceArray([[5.0963, 2.0564, 3.0399, ..., 3.0399, 3.5763, 2.5481],\n",
       "             [5.0963, 1.5199, 2.5481, ..., 2.5481, 3.5763, 2.5481],\n",
       "             [5.588 , 1.5199, 2.0564, ..., 2.5481, 3.5763, 1.5199],\n",
       "             ...,\n",
       "             [4.6045, 4.0681, 5.0963, ..., 4.6045, 0.    , 3.0399],\n",
       "             [7.1526, 6.1244, 4.6045, ..., 4.0681, 0.    , 4.0681],\n",
       "             [7.1526, 3.5763, 3.0399, ..., 4.0681, 0.    , 4.6045]],            dtype=float32)"
      ]
     },
     "execution_count": 4,
     "metadata": {},
     "output_type": "execute_result"
    }
   ],
   "source": [
    "# Columns = 57 stations\n",
    "# Rows = wind speed readings (m/s)\n",
    "data"
   ]
  },
  {
   "cell_type": "code",
   "execution_count": 5,
   "metadata": {},
   "outputs": [],
   "source": [
    "# Normalization\n",
    "# NOTE: This is a bug; they claim this normalizes from 0 to 1, but it doesn't\n",
    "# NOTE: Their variable also refer to min and max as mean and std, respectively so...\n",
    "data_min = data.min()\n",
    "data_max = data.max()\n",
    "data = (data - data_min) / data_max"
   ]
  },
  {
   "cell_type": "code",
   "execution_count": 6,
   "metadata": {},
   "outputs": [
    {
     "name": "stderr",
     "output_type": "stream",
     "text": [
      "Using TensorFlow backend.\n",
      "WARNING:tensorflow:From /home/dsuo/miniconda3/envs/skgaip/lib/python3.7/site-packages/tensorflow_core/python/ops/resource_variable_ops.py:1630: calling BaseResourceVariable.__init__ (from tensorflow.python.ops.resource_variable_ops) with constraint is deprecated and will be removed in a future version.\n",
      "Instructions for updating:\n",
      "If using Keras pass *_constraint arguments to layers.\n",
      "WARNING:tensorflow:From /home/dsuo/miniconda3/envs/skgaip/lib/python3.7/site-packages/keras/backend/tensorflow_backend.py:422: The name tf.global_variables is deprecated. Please use tf.compat.v1.global_variables instead.\n",
      "\n"
     ]
    }
   ],
   "source": [
    "models = pickle.load(open(\"../data/wind/original/models.pkl\", \"rb\"))[\"models\"]"
   ]
  },
  {
   "cell_type": "code",
   "execution_count": 7,
   "metadata": {},
   "outputs": [],
   "source": [
    "# Mostly from https://github.com/amirstar/Deep-Forecast/blob/4dcdf66f8ae3070ab706b30a6e3cf888f36e0536/multiLSTM.py#L210\n",
    "def predict(X, models):\n",
    "    X = X.reshape(X.shape[0], history_len, num_stations)\n",
    "    results = np.zeros_like(np.zeros((X.shape[0], num_stations)))\n",
    "    \n",
    "    for ind in range(len(X)):\n",
    "        modelInd = ind % 6\n",
    "        if modelInd == 0:\n",
    "            testInputRaw = X[ind]\n",
    "            testInputShape = testInputRaw.shape\n",
    "            testInput = np.reshape(testInputRaw, [1, testInputShape[0], testInputShape[1]])\n",
    "        else:\n",
    "            testInputRaw = np.vstack((testInputRaw, results[ind-1]))\n",
    "            testInput = np.delete(testInputRaw, 0, axis=0)\n",
    "            testInputShape = testInput.shape\n",
    "            testInput = np.reshape(testInput, [1, testInputShape[0], testInputShape[1]])\n",
    "    \n",
    "        pred = models[modelInd].predict(testInput)\n",
    "        results[ind] = pred\n",
    "\n",
    "    return jnp.array(results)"
   ]
  },
  {
   "cell_type": "code",
   "execution_count": 8,
   "metadata": {},
   "outputs": [],
   "source": [
    "num_train = 6000\n",
    "num_test = 361\n",
    "\n",
    "history_len = 12\n",
    "num_stations = 57"
   ]
  },
  {
   "cell_type": "code",
   "execution_count": 9,
   "metadata": {},
   "outputs": [],
   "source": [
    "# 12..5999\n",
    "train_true = data[history_len:num_train]\n",
    "# 0..11, 1..12, ..., 5987..5998\n",
    "train_data = historify(data, history_len=history_len, num_histories=train_true.shape[0])\n",
    "\n",
    "# 6012..8386\n",
    "test_true = data[num_train + history_len:]\n",
    "# 6000..6011, ..., 8374..8385\n",
    "test_data = historify(data, history_len=history_len, num_histories=test_true.shape[0], offset=num_train)"
   ]
  },
  {
   "cell_type": "code",
   "execution_count": 10,
   "metadata": {},
   "outputs": [],
   "source": [
    "# 6012..8386\n",
    "test_pred = predict(test_data, models)"
   ]
  },
  {
   "cell_type": "code",
   "execution_count": 11,
   "metadata": {},
   "outputs": [
    {
     "data": {
      "text/plain": [
       "(8387, 57)"
      ]
     },
     "execution_count": 11,
     "metadata": {},
     "output_type": "execute_result"
    }
   ],
   "source": [
    "data.shape"
   ]
  },
  {
   "cell_type": "code",
   "execution_count": 12,
   "metadata": {},
   "outputs": [
    {
     "data": {
      "text/plain": [
       "DeviceArray(1.3113904, dtype=float32)"
      ]
     },
     "execution_count": 12,
     "metadata": {},
     "output_type": "execute_result"
    }
   ],
   "source": [
    "# Metric: mean absolute error\n",
    "jnp.absolute((test_true - test_pred) * data_max + data_min).mean(axis=0).mean()"
   ]
  },
  {
   "cell_type": "code",
   "execution_count": 13,
   "metadata": {},
   "outputs": [],
   "source": [
    "# 12..5999\n",
    "train_pred = predict(train_data, models)"
   ]
  },
  {
   "cell_type": "code",
   "execution_count": 14,
   "metadata": {},
   "outputs": [
    {
     "data": {
      "text/plain": [
       "(5988, 57)"
      ]
     },
     "execution_count": 14,
     "metadata": {},
     "output_type": "execute_result"
    }
   ],
   "source": [
    "train_pred.shape"
   ]
  },
  {
   "cell_type": "code",
   "execution_count": 15,
   "metadata": {},
   "outputs": [],
   "source": [
    "# 1..5998\n",
    "train_pred = jnp.vstack((jnp.zeros((history_len - 1, num_stations)), train_pred))"
   ]
  },
  {
   "cell_type": "code",
   "execution_count": 16,
   "metadata": {},
   "outputs": [
    {
     "name": "stdout",
     "output_type": "stream",
     "text": [
      "(2375, 57) (2375, 684)\n"
     ]
    }
   ],
   "source": [
    "print(test_pred.shape, test_data.shape)"
   ]
  },
  {
   "cell_type": "code",
   "execution_count": 17,
   "metadata": {},
   "outputs": [
    {
     "name": "stdout",
     "output_type": "stream",
     "text": [
      "(5999, 57) (5988, 684)\n"
     ]
    }
   ],
   "source": [
    "print(train_pred.shape, train_data.shape)"
   ]
  },
  {
   "cell_type": "code",
   "execution_count": 18,
   "metadata": {},
   "outputs": [
    {
     "data": {
      "application/vnd.jupyter.widget-view+json": {
       "model_id": "1c66e6830da6425c9b256df31c0a41dc",
       "version_major": 2,
       "version_minor": 0
      },
      "text/plain": [
       "HBox(children=(FloatProgress(value=0.0, max=57.0), HTML(value='')))"
      ]
     },
     "metadata": {},
     "output_type": "display_data"
    },
    {
     "name": "stdout",
     "output_type": "stream",
     "text": [
      "\n"
     ]
    }
   ],
   "source": [
    "ars, states = [None] * num_stations, [None] * num_stations\n",
    "for station in tqdm.tqdm(range(num_stations)):\n",
    "    ars[station], states[station] = AR.fit(\n",
    "        data=[(data[:num_train - 1], train_pred[:, station], None)],\n",
    "        input_dim=num_stations,\n",
    "        output_dim=1,\n",
    "        history=data[num_train : num_train + history_len],\n",
    "        history_len=history_len\n",
    "    )"
   ]
  },
  {
   "cell_type": "code",
   "execution_count": 19,
   "metadata": {},
   "outputs": [
    {
     "data": {
      "application/vnd.jupyter.widget-view+json": {
       "model_id": "e56afec650a3400791cc266b3e10db61",
       "version_major": 2,
       "version_minor": 0
      },
      "text/plain": [
       "HBox(children=(FloatProgress(value=0.0, max=57.0), HTML(value='')))"
      ]
     },
     "metadata": {},
     "output_type": "display_data"
    },
    {
     "name": "stdout",
     "output_type": "stream",
     "text": [
      "\n"
     ]
    }
   ],
   "source": [
    "for station in tqdm.tqdm(range(num_stations)):\n",
    "    pickle.dump(ars[station].params, open(\"../data/wind/ar/{}.pkl\".format(station), \"wb\"))"
   ]
  },
  {
   "cell_type": "code",
   "execution_count": 20,
   "metadata": {},
   "outputs": [
    {
     "data": {
      "application/vnd.jupyter.widget-view+json": {
       "model_id": "665c005b45fb474881ed49a88d44f36d",
       "version_major": 2,
       "version_minor": 0
      },
      "text/plain": [
       "HBox(children=(FloatProgress(value=0.0, max=57.0), HTML(value='')))"
      ]
     },
     "metadata": {},
     "output_type": "display_data"
    },
    {
     "name": "stdout",
     "output_type": "stream",
     "text": [
      "\n"
     ]
    }
   ],
   "source": [
    "for station in tqdm.tqdm(range(num_stations)):\n",
    "    pickle.dump(test_pred[:, station], open(\"../data/wind/base/{}.pkl\".format(station), \"wb\"))"
   ]
  },
  {
   "cell_type": "code",
   "execution_count": 21,
   "metadata": {},
   "outputs": [],
   "source": [
    "@tc.experiment(\"station\", range(num_stations))\n",
    "@tc.experiment(\"lr\", jnp.linspace(-7, -4, 13))\n",
    "@tc.experiment(\"history_len\", [4, 8, 12, 16])\n",
    "def runner(station, history_len, lr=-5):\n",
    "    import jax.numpy as jnp\n",
    "    import pickle\n",
    "    \n",
    "    from timecast.learners import Sequential, Parallel, BlackBox, AR\n",
    "    from timecast import tmap\n",
    "    from timecast.objectives import residual\n",
    "    from timecast.optim import GradientDescent\n",
    "    \n",
    "    num_train = 6000\n",
    "\n",
    "#     history_len = 4\n",
    "    num_stations = 57\n",
    "\n",
    "    data = jnp.asarray(pickle.load(open(\"../data/wind/original/MS_winds.pkl\", \"rb\")))\n",
    "    data_min = data.min()\n",
    "    data_max = data.max()\n",
    "    data = (data - data_min) / data_max\n",
    "    \n",
    "    Y_lstm = jnp.asarray(pickle.load(open(\"../data/wind/base/{}.pkl\".format(station), \"rb\")))\n",
    "#     params = pickle.load(open(\"../data/wind/ar/{}.pkl\".format(station), \"rb\"))\n",
    "    \n",
    "    lstm = BlackBox.partial(arr=Y_lstm)\n",
    "    ar = AR.partial(\n",
    "        output_dim=1,\n",
    "        history=data[num_train : num_train + history_len - 1],\n",
    "        history_len=history_len\n",
    "    )\n",
    "    model, state = Parallel.new(shape=(1, num_stations), learners=[lstm, ar])\n",
    "#     model.params[\"AR\"] = params\n",
    "\n",
    "    optim_def = GradientDescent(learning_rate=(10 ** lr))\n",
    "    optimizer = optim_def.create(model)\n",
    "\n",
    "    X = data[num_train + history_len - 1:-1]\n",
    "    Y = data[num_train + history_len:, station]\n",
    "\n",
    "    Y_hat, optimizer, state = tmap(X, Y, optimizer, state=state, objective=residual)\n",
    "    \n",
    "    return {\n",
    "        \"station\": station,\n",
    "        \"lr\": lr,\n",
    "        \"history_len\": history_len,\n",
    "        \"mae\": jnp.square((Y - Y_hat) * data_max + data_min).mean()\n",
    "    }"
   ]
  },
  {
   "cell_type": "code",
   "execution_count": 22,
   "metadata": {
    "scrolled": false
   },
   "outputs": [
    {
     "data": {
      "application/vnd.jupyter.widget-view+json": {
       "model_id": "41755e9d80814342875e27e7a22718ec",
       "version_major": 2,
       "version_minor": 0
      },
      "text/plain": [
       "HBox(children=(FloatProgress(value=1.0, bar_style='info', max=1.0), HTML(value='')))"
      ]
     },
     "metadata": {},
     "output_type": "display_data"
    },
    {
     "name": "stdout",
     "output_type": "stream",
     "text": [
      "\n"
     ]
    }
   ],
   "source": [
    "results = runner.run(processes=15, tqdm=tqdm)"
   ]
  },
  {
   "cell_type": "code",
   "execution_count": 23,
   "metadata": {},
   "outputs": [],
   "source": [
    "df = {}\n",
    "for lr in jnp.linspace(-7, -4, 13):\n",
    "    df[lr] = {}\n",
    "    for history_len in [4, 8, 12, 16]:\n",
    "        df[lr][history_len] = np.mean([result[\"mae\"] for result in results if (result[\"lr\"] == lr and result[\"history_len\"] == history_len)])"
   ]
  },
  {
   "cell_type": "code",
   "execution_count": 24,
   "metadata": {},
   "outputs": [],
   "source": [
    "df = pd.DataFrame.from_records(df)"
   ]
  },
  {
   "cell_type": "code",
   "execution_count": 25,
   "metadata": {},
   "outputs": [
    {
     "data": {
      "text/html": [
       "<div>\n",
       "<style scoped>\n",
       "    .dataframe tbody tr th:only-of-type {\n",
       "        vertical-align: middle;\n",
       "    }\n",
       "\n",
       "    .dataframe tbody tr th {\n",
       "        vertical-align: top;\n",
       "    }\n",
       "\n",
       "    .dataframe thead th {\n",
       "        text-align: right;\n",
       "    }\n",
       "</style>\n",
       "<table border=\"1\" class=\"dataframe\">\n",
       "  <thead>\n",
       "    <tr style=\"text-align: right;\">\n",
       "      <th></th>\n",
       "      <th>-7.00</th>\n",
       "      <th>-6.75</th>\n",
       "      <th>-6.50</th>\n",
       "      <th>-6.25</th>\n",
       "      <th>-6.00</th>\n",
       "      <th>-5.75</th>\n",
       "      <th>-5.50</th>\n",
       "      <th>-5.25</th>\n",
       "      <th>-5.00</th>\n",
       "      <th>-4.75</th>\n",
       "      <th>-4.50</th>\n",
       "      <th>-4.25</th>\n",
       "      <th>-4.00</th>\n",
       "    </tr>\n",
       "  </thead>\n",
       "  <tbody>\n",
       "    <tr>\n",
       "      <th>4</th>\n",
       "      <td>6.803426</td>\n",
       "      <td>6.802893</td>\n",
       "      <td>6.801956</td>\n",
       "      <td>6.800316</td>\n",
       "      <td>6.797490</td>\n",
       "      <td>6.792729</td>\n",
       "      <td>6.785058</td>\n",
       "      <td>6.773670</td>\n",
       "      <td>6.759305</td>\n",
       "      <td>6.747010</td>\n",
       "      <td>6.747928</td>\n",
       "      <td>6.772299</td>\n",
       "      <td>6.814532</td>\n",
       "    </tr>\n",
       "    <tr>\n",
       "      <th>8</th>\n",
       "      <td>6.808669</td>\n",
       "      <td>6.807908</td>\n",
       "      <td>6.806577</td>\n",
       "      <td>6.804286</td>\n",
       "      <td>6.800442</td>\n",
       "      <td>6.794290</td>\n",
       "      <td>6.785281</td>\n",
       "      <td>6.774267</td>\n",
       "      <td>6.765826</td>\n",
       "      <td>6.769637</td>\n",
       "      <td>6.794618</td>\n",
       "      <td>6.837570</td>\n",
       "      <td>6.890489</td>\n",
       "    </tr>\n",
       "    <tr>\n",
       "      <th>12</th>\n",
       "      <td>6.814820</td>\n",
       "      <td>6.813985</td>\n",
       "      <td>6.812538</td>\n",
       "      <td>6.810084</td>\n",
       "      <td>6.806076</td>\n",
       "      <td>6.799983</td>\n",
       "      <td>6.791938</td>\n",
       "      <td>6.784324</td>\n",
       "      <td>6.783747</td>\n",
       "      <td>6.799695</td>\n",
       "      <td>6.836451</td>\n",
       "      <td>6.890458</td>\n",
       "      <td>6.966245</td>\n",
       "    </tr>\n",
       "    <tr>\n",
       "      <th>16</th>\n",
       "      <td>6.821484</td>\n",
       "      <td>6.820539</td>\n",
       "      <td>6.818916</td>\n",
       "      <td>6.816198</td>\n",
       "      <td>6.811869</td>\n",
       "      <td>6.805592</td>\n",
       "      <td>6.798119</td>\n",
       "      <td>6.793053</td>\n",
       "      <td>6.798106</td>\n",
       "      <td>6.821633</td>\n",
       "      <td>6.865398</td>\n",
       "      <td>6.928493</td>\n",
       "      <td>7.021152</td>\n",
       "    </tr>\n",
       "  </tbody>\n",
       "</table>\n",
       "</div>"
      ],
      "text/plain": [
       "       -7.00     -6.75     -6.50     -6.25     -6.00     -5.75     -5.50  \\\n",
       "4   6.803426  6.802893  6.801956  6.800316  6.797490  6.792729  6.785058   \n",
       "8   6.808669  6.807908  6.806577  6.804286  6.800442  6.794290  6.785281   \n",
       "12  6.814820  6.813985  6.812538  6.810084  6.806076  6.799983  6.791938   \n",
       "16  6.821484  6.820539  6.818916  6.816198  6.811869  6.805592  6.798119   \n",
       "\n",
       "       -5.25     -5.00     -4.75     -4.50     -4.25     -4.00  \n",
       "4   6.773670  6.759305  6.747010  6.747928  6.772299  6.814532  \n",
       "8   6.774267  6.765826  6.769637  6.794618  6.837570  6.890489  \n",
       "12  6.784324  6.783747  6.799695  6.836451  6.890458  6.966245  \n",
       "16  6.793053  6.798106  6.821633  6.865398  6.928493  7.021152  "
      ]
     },
     "execution_count": 25,
     "metadata": {},
     "output_type": "execute_result"
    }
   ],
   "source": [
    "df"
   ]
  },
  {
   "cell_type": "code",
   "execution_count": null,
   "metadata": {},
   "outputs": [],
   "source": []
  }
 ],
 "metadata": {
  "kernelspec": {
   "display_name": "Python 3",
   "language": "python",
   "name": "python3"
  },
  "language_info": {
   "codemirror_mode": {
    "name": "ipython",
    "version": 3
   },
   "file_extension": ".py",
   "mimetype": "text/x-python",
   "name": "python",
   "nbconvert_exporter": "python",
   "pygments_lexer": "ipython3",
   "version": "3.7.0"
  }
 },
 "nbformat": 4,
 "nbformat_minor": 4
}
