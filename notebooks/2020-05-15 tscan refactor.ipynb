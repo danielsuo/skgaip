{
 "cells": [
  {
   "cell_type": "code",
   "execution_count": 1,
   "metadata": {},
   "outputs": [],
   "source": [
    "\"\"\"timecast top-level API\"\"\"\n",
    "from functools import partial\n",
    "from typing import Callable\n",
    "from typing import Tuple\n",
    "from typing import Union\n",
    "\n",
    "import flax\n",
    "import jax\n",
    "import jax.numpy as jnp\n",
    "import numpy as np\n",
    "\n",
    "\n",
    "def _objective(x, y, loss_fn, model):\n",
    "    \"\"\"Default objective function\"\"\"\n",
    "    y_hat = model(x)\n",
    "    return loss_fn(y, y_hat), y_hat\n",
    "\n",
    "\n",
    "def tmap(\n",
    "    X: Union[np.ndarray, Tuple[np.ndarray, ...]],\n",
    "    Y: Union[np.ndarray, Tuple[np.ndarray, ...]],\n",
    "    optimizer: flax.optim.base.Optimizer,\n",
    "    loss_fn: Callable[[np.ndarray, np.ndarray], np.ndarray] = lambda true, pred: jnp.square(\n",
    "        true - pred\n",
    "    ).mean(),\n",
    "    state: flax.nn.base.Collection = None,\n",
    "    objective: Callable[\n",
    "        [\n",
    "            np.ndarray,\n",
    "            np.ndarray,\n",
    "            Callable[[np.ndarray, np.ndarray], np.ndarray],\n",
    "            flax.nn.base.Model,\n",
    "        ],\n",
    "        Tuple[np.ndarray, np.ndarray],\n",
    "    ] = None,\n",
    "):\n",
    "    \"\"\"Take gradients steps performantly on one data item at a time\n",
    "    Args:\n",
    "        X: np.ndarray or tuple of np.ndarray of inputs\n",
    "        Y: np.ndarray or tuple of np.ndarray of outputs\n",
    "        optimizer: initialized optimizer\n",
    "        loss_fn: loss function to compose where first arg is true value and\n",
    "        second is pred\n",
    "        state: state required by flax\n",
    "        objective: function composing loss functions\n",
    "    Returns:\n",
    "        np.ndarray: result\n",
    "    \"\"\"\n",
    "    state = state or flax.nn.Collection()\n",
    "    objective = objective or _objective\n",
    "\n",
    "    def _tmap(optstate, xy):\n",
    "        \"\"\"Helper function\"\"\"\n",
    "        x, y = xy\n",
    "        optimizer, state = optstate\n",
    "        func = partial(objective, x, y, loss_fn)\n",
    "        with flax.nn.stateful(state) as state:\n",
    "            (loss, y_hat), grad = jax.value_and_grad(func, has_aux=True)(optimizer.target)\n",
    "        return (optimizer.apply_gradient(grad), state), y_hat\n",
    "\n",
    "    (optimizer, state), pred = jax.lax.scan(_tmap, (optimizer, state), (X, Y))\n",
    "    return pred, optimizer, state"
   ]
  },
  {
   "cell_type": "code",
   "execution_count": 9,
   "metadata": {},
   "outputs": [],
   "source": [
    "from timecast.learners import Linear\n",
    "from timecast.optim import GradientDescent"
   ]
  },
  {
   "cell_type": "code",
   "execution_count": 20,
   "metadata": {},
   "outputs": [],
   "source": [
    "model_def = Linear.partial(features=1)\n",
    "_, params = model_def.init_by_shape(jax.random.PRNGKey(0), [(1, 10)])\n",
    "model = flax.nn.Model(model_def, params)\n",
    "\n",
    "optimizer_def = GradientDescent(learning_rate=1e-5)\n",
    "optimizer = optimizer_def.create(model)"
   ]
  },
  {
   "cell_type": "code",
   "execution_count": 30,
   "metadata": {},
   "outputs": [],
   "source": [
    "X = np.random.rand(4, 10)\n",
    "Y = np.random.rand(4)"
   ]
  },
  {
   "cell_type": "code",
   "execution_count": 37,
   "metadata": {},
   "outputs": [],
   "source": [
    "pred, optimizer, state = tmap(X, Y, optimizer)"
   ]
  },
  {
   "cell_type": "markdown",
   "metadata": {},
   "source": [
    "- Need to provide input/truth (X, Y)\n",
    "- Need to provide model, state (optimizer, state)\n",
    "- Need to provide update\n",
    "- Need to provide objective"
   ]
  },
  {
   "cell_type": "code",
   "execution_count": null,
   "metadata": {},
   "outputs": [],
   "source": []
  }
 ],
 "metadata": {
  "kernelspec": {
   "display_name": "Python 3",
   "language": "python",
   "name": "python3"
  },
  "language_info": {
   "codemirror_mode": {
    "name": "ipython",
    "version": 3
   },
   "file_extension": ".py",
   "mimetype": "text/x-python",
   "name": "python",
   "nbconvert_exporter": "python",
   "pygments_lexer": "ipython3",
   "version": "3.7.0"
  }
 },
 "nbformat": 4,
 "nbformat_minor": 4
}
