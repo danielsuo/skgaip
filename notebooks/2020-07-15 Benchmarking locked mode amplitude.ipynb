{
 "cells": [
  {
   "cell_type": "code",
   "execution_count": 1,
   "metadata": {},
   "outputs": [],
   "source": [
    "%load_ext autoreload\n",
    "%autoreload 2"
   ]
  },
  {
   "cell_type": "code",
   "execution_count": 5,
   "metadata": {},
   "outputs": [],
   "source": [
    "import pandas as pd\n",
    "import numpy as np\n",
    "import matplotlib.pyplot as plt\n",
    "from keras.models import load_model, Model\n",
    "from skgaip.fusion.fusion_data import FusionData"
   ]
  },
  {
   "cell_type": "code",
   "execution_count": 6,
   "metadata": {},
   "outputs": [
    {
     "name": "stdout",
     "output_type": "stream",
     "text": [
      "Loading data from data/fusion/FRNN_1d_sample/shot_data.npz\n",
      "Found 3448 shots\n",
      "Loading keys from data/fusion/FRNN_1d_sample/train_list.npy\n",
      "Found 1733 keys\n",
      "Filtering data\n",
      "Filtered to 1733 shots\n",
      "Packing data\n",
      "Loading model\n"
     ]
    },
    {
     "name": "stderr",
     "output_type": "stream",
     "text": [
      "/home/dsuo/miniconda3/envs/skgaip/lib/python3.7/site-packages/keras/engine/saving.py:341: UserWarning: No training configuration found in save file: the model was *not* compiled. Compile it manually.\n",
      "  warnings.warn('No training configuration found in save file: '\n"
     ]
    },
    {
     "name": "stdout",
     "output_type": "stream",
     "text": [
      "Transforming data according to <keras.engine.training.Model object at 0x7f2510ab1390>\n",
      "Removing pad\n"
     ]
    }
   ],
   "source": [
    "train_data = FusionData(\"data/fusion/FRNN_1d_sample/shot_data.npz\",\n",
    "                        \"data/fusion/FRNN_1d_sample/train_list.npy\",\n",
    "                        model_path=\"data/fusion/FRNN_1d_sample/FRNN_1D_sample.h5\",\n",
    "                        normalize=False,\n",
    "                        headless=False)"
   ]
  },
  {
   "cell_type": "code",
   "execution_count": 7,
   "metadata": {},
   "outputs": [
    {
     "name": "stdout",
     "output_type": "stream",
     "text": [
      "Loading data from data/fusion/FRNN_1d_sample/shot_data.npz\n",
      "Found 3448 shots\n",
      "Loading keys from data/fusion/FRNN_1d_sample/train_list.npy\n",
      "Found 1733 keys\n",
      "Filtering data\n",
      "Filtered to 1733 shots\n",
      "Packing data\n",
      "Loading model\n",
      "Transforming data according to <keras.engine.training.Model object at 0x7f250c44bef0>\n",
      "Removing pad\n"
     ]
    }
   ],
   "source": [
    "test_data = FusionData(\"data/fusion/FRNN_1d_sample/shot_data.npz\",\n",
    "                       \"data/fusion/FRNN_1d_sample/train_list.npy\",\n",
    "                       model_path=\"data/fusion/FRNN_1d_sample/FRNN_1D_sample.h5\",\n",
    "                       normalize=False,\n",
    "                       headless=False)"
   ]
  },
  {
   "cell_type": "code",
   "execution_count": null,
   "metadata": {},
   "outputs": [],
   "source": []
  }
 ],
 "metadata": {
  "kernelspec": {
   "display_name": "Python 3",
   "language": "python",
   "name": "python3"
  },
  "language_info": {
   "codemirror_mode": {
    "name": "ipython",
    "version": 3
   },
   "file_extension": ".py",
   "mimetype": "text/x-python",
   "name": "python",
   "nbconvert_exporter": "python",
   "pygments_lexer": "ipython3",
   "version": "3.7.0"
  }
 },
 "nbformat": 4,
 "nbformat_minor": 4
}
