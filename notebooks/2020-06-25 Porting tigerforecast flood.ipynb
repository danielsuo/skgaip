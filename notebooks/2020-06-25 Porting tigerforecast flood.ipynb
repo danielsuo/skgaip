{
 "cells": [
  {
   "cell_type": "markdown",
   "metadata": {},
   "source": [
    "# Load data"
   ]
  },
  {
   "cell_type": "code",
   "execution_count": 1,
   "metadata": {},
   "outputs": [],
   "source": [
    "import pickle\n",
    "\n",
    "basins = pickle.load(open(\"../data/flood/meta.pkl\", \"rb\"))[\"basins\"]\n",
    "lstm = pickle.load(open(\"../data/flood/replicated.pkl\", \"rb\"))"
   ]
  },
  {
   "cell_type": "code",
   "execution_count": 238,
   "metadata": {},
   "outputs": [],
   "source": [
    "import flax\n",
    "import jax\n",
    "import jax.numpy as jnp\n",
    "\n",
    "from timecast.learners import Linear\n",
    "\n",
    "class BoostedFlood(flax.nn.Module):\n",
    "    def apply(self, x, W):\n",
    "        \n",
    "        preds = [Linear(x,\n",
    "                        input_axes=(0, 1),\n",
    "                        output_shape=(1,),\n",
    "                        kernel_init=flax.nn.initializers.zeros,\n",
    "                        bias_init=flax.nn.initializers.zeros)\n",
    "                 for i in range(len(W))]\n",
    "        \n",
    "        return jnp.asarray(preds)"
   ]
  },
  {
   "cell_type": "code",
   "execution_count": 239,
   "metadata": {
    "scrolled": true
   },
   "outputs": [],
   "source": [
    "from timecast.optim import ProjectedSGD, MultiplicativeWeights\n",
    "\n",
    "W_thresholds = [0.03, 0.05, 0.07, 0.09]\n",
    "b_thresholds = [1e-4, 1e-4, 1e-4, 1e-4]\n",
    "learning_rate = 2e-5\n",
    "eta = 0.008\n",
    "\n",
    "pairs = []\n",
    "for i in range(N):\n",
    "    kernel_traversal = flax.optim.ModelParamTraversal((lambda x: lambda path, _: str(x) in path and 'kernel' in path)(i))\n",
    "    kernel_optimizer = ProjectedSGD(learning_rate=learning_rate, projection_threshold=W_thresholds[i])\n",
    "    pairs.append((kernel_traversal, kernel_optimizer))\n",
    "    \n",
    "    bias_traversal = flax.optim.ModelParamTraversal((lambda x: lambda path, _: str(x) in path and 'bias' in path)(i))\n",
    "    bias_optimizer = ProjectedSGD(learning_rate=learning_rate, projection_threshold=b_thresholds[i])\n",
    "    pairs.append((bias_traversal, bias_optimizer))\n",
    "    \n",
    "# W_traversal = flax.optim.ModelParamTraversal(lambda path, _: \"W\" in path)\n",
    "# W_optimizer = MultiplicativeWeights(eta=eta)\n",
    "# pairs.append((W_traversal, W_optimizer))"
   ]
  },
  {
   "cell_type": "code",
   "execution_count": 277,
   "metadata": {
    "scrolled": false
   },
   "outputs": [
    {
     "name": "stdout",
     "output_type": "stream",
     "text": [
      "Traced<ShapedArray(float32[4]):JaxprTrace(level=1/0)>\n"
     ]
    }
   ],
   "source": [
    "import tqdm.notebook as tqdm\n",
    "from functools import partial\n",
    "\n",
    "SEQUENCE_LENGTH = 270\n",
    "INPUT_DIM = 32\n",
    "OUTPUT_DIM = 1\n",
    "\n",
    "N = 4\n",
    "\n",
    "model_def = BoostedFlood.partial()\n",
    "_, params = model_def.init_by_shape(jax.random.PRNGKey(0), [(SEQUENCE_LENGTH, INPUT_DIM), (N,)])    \n",
    "model = flax.nn.Model(model_def, params)\n",
    "\n",
    "optim_def = flax.optim.MultiOptimizer(*pairs)\n",
    "optimizer = optim_def.create(model)\n",
    "\n",
    "basin = basins[0]\n",
    "Y_LSTM = jnp.array(lstm[basin])\n",
    "X = pickle.load(open(\"../data/flood/test/{}.pkl\".format(basin), \"rb\"))\n",
    "Y = pickle.load(open(\"../data/flood/qobs/{}.pkl\".format(basin), \"rb\"))\n",
    "\n",
    "def loss_fun(model, x, W, y):\n",
    "    y_hats = model(x, W)\n",
    "    target, y_hat, loss = y, y_hats[0] * W[0], 0\n",
    "    for i in range(len(y_hats) - 1):\n",
    "        target -= y_hats[i]\n",
    "        loss += jnp.square(target - y_hat).mean()\n",
    "        y_hat += y_hats[i + 1] * W[i + 1]\n",
    "    return loss, y_hats\n",
    "\n",
    "Y_BOOST = []\n",
    "Y_RESID = Y - Y_LSTM\n",
    "\n",
    "def tscan(carry, xy):\n",
    "#     print(optimizer.target.params[\"Linear_0\"])\n",
    "    x, y = xy\n",
    "    optimizer, W = carry\n",
    "    print(W)\n",
    "    (loss, y_hats), grad = jax.value_and_grad(loss_fun, has_aux=True)(optimizer.target, x, W, y)\n",
    "    y_hat = jnp.dot(W, y_hats)\n",
    "    loss_W_grads = jax.grad(lambda W, y_hats, y: jnp.square(jnp.dot(W, y_hats) - y).sum())\n",
    "    nums = W * jnp.exp(-1 * eta * loss_W_grads(W, y_hats, y))\n",
    "    W = nums / nums.sum()\n",
    "    return (optimizer.apply_gradient(grad), W), y_hat\n",
    "\n",
    "# (optimizer, W), Y_BOOST = jax.lax.scan(tscan, (optimizer, jnp.ones(N) / N), (X, Y_RESID))\n",
    "\n",
    "W = jnp.ones(N) / N\n",
    "for x, y in zip(X, Y_RESID):\n",
    "    (optimizer, W), y_hat = tscan((optimizer, W), (x, y))"
   ]
  },
  {
   "cell_type": "code",
   "execution_count": 278,
   "metadata": {},
   "outputs": [
    {
     "data": {
      "text/plain": [
       "DeviceArray([[ 0.        ],\n",
       "             [ 0.04192694],\n",
       "             [-0.04051012],\n",
       "             ...,\n",
       "             [ 0.37542355],\n",
       "             [ 0.09966948],\n",
       "             [ 0.22868551]], dtype=float32)"
      ]
     },
     "execution_count": 278,
     "metadata": {},
     "output_type": "execute_result"
    }
   ],
   "source": [
    "Y_BOOST"
   ]
  },
  {
   "cell_type": "code",
   "execution_count": 279,
   "metadata": {},
   "outputs": [
    {
     "data": {
      "text/plain": [
       "DeviceArray(1.1566014, dtype=float32)"
      ]
     },
     "execution_count": 279,
     "metadata": {},
     "output_type": "execute_result"
    }
   ],
   "source": [
    "jnp.square(Y - (Y_BOOST + Y_LSTM)).mean()"
   ]
  },
  {
   "cell_type": "code",
   "execution_count": 249,
   "metadata": {},
   "outputs": [
    {
     "data": {
      "text/plain": [
       "DeviceArray(7102.1475, dtype=float32)"
      ]
     },
     "execution_count": 249,
     "metadata": {},
     "output_type": "execute_result"
    }
   ],
   "source": [
    "Y_LSTM.sum()"
   ]
  },
  {
   "cell_type": "code",
   "execution_count": 250,
   "metadata": {},
   "outputs": [
    {
     "data": {
      "text/plain": [
       "DeviceArray(242.56683, dtype=float32)"
      ]
     },
     "execution_count": 250,
     "metadata": {},
     "output_type": "execute_result"
    }
   ],
   "source": [
    "Y_RESID.sum()"
   ]
  },
  {
   "cell_type": "code",
   "execution_count": null,
   "metadata": {},
   "outputs": [],
   "source": []
  }
 ],
 "metadata": {
  "kernelspec": {
   "display_name": "Python 3",
   "language": "python",
   "name": "python3"
  },
  "language_info": {
   "codemirror_mode": {
    "name": "ipython",
    "version": 3
   },
   "file_extension": ".py",
   "mimetype": "text/x-python",
   "name": "python",
   "nbconvert_exporter": "python",
   "pygments_lexer": "ipython3",
   "version": "3.7.0"
  }
 },
 "nbformat": 4,
 "nbformat_minor": 4
}
