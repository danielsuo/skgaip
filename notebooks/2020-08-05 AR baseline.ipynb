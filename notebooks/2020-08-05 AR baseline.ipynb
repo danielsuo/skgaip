{
 "cells": [
  {
   "cell_type": "code",
   "execution_count": 1,
   "metadata": {},
   "outputs": [],
   "source": [
    "%load_ext autoreload\n",
    "%autoreload 2"
   ]
  },
  {
   "cell_type": "code",
   "execution_count": 103,
   "metadata": {},
   "outputs": [],
   "source": [
    "import os\n",
    "import jax\n",
    "import timecast as tc\n",
    "from timecast.utils.experiment import experiment\n",
    "import pandas as pd\n",
    "import jax.numpy as jnp\n",
    "import numpy as np\n",
    "import matplotlib.pyplot as plt\n",
    "from keras.models import load_model, Model\n",
    "from tqdm.notebook import tqdm\n",
    "import binpacking\n",
    "import pickle\n",
    "import sklearn\n",
    "from timecast.utils.ar import compute_gram, fit_gram, historify"
   ]
  },
  {
   "cell_type": "code",
   "execution_count": 6,
   "metadata": {},
   "outputs": [],
   "source": [
    "data = np.load('data/fusion/FRNN_1d_sample/shot_data.npz', allow_pickle=True)\n",
    "shot_data = data['shot_data'].item()"
   ]
  },
  {
   "cell_type": "code",
   "execution_count": 7,
   "metadata": {},
   "outputs": [
    {
     "name": "stdout",
     "output_type": "stream",
     "text": [
      "1733 853 862\n"
     ]
    }
   ],
   "source": [
    "train_keys = np.load('data/fusion/FRNN_1d_sample/train_list.npy')\n",
    "val_keys = np.load('data/fusion/FRNN_1d_sample/validation_list.npy')\n",
    "test_keys = np.load('data/fusion/FRNN_1d_sample/test_list.npy')\n",
    "\n",
    "print(len(train_keys), len(val_keys), len(test_keys))\n",
    "\n",
    "# 14-dimensional 0D variables\n",
    "# [q95 safety factor, internal inductance, plasma current, Locked mode amplitude, Normalized Beta, stored energy, Plasma density, Radiated Power Core, Radiated Power Edge, Input Power (beam for d3d), Input Beam Torque, plasma current direction, plasma current target, plasma current error]\n",
    "col_names = ['q95', 'internal_inductance', 'plasma_current', 'locked_mode_amplitude', 'norm_beta', 'stored_energy', 'plasma_density', 'radiated_power_core', 'radiated_power_edge', 'input_power', 'input_beam_torque', 'plasma_current_direction', 'plasma_current_target', 'plasma_current_error']"
   ]
  },
  {
   "cell_type": "code",
   "execution_count": 160,
   "metadata": {},
   "outputs": [],
   "source": [
    "def featurize(shot_data, keys, col=\"locked_mode_amplitude\", history_len=5, delay=30, ar=False, historify=historify):\n",
    "    col = np.where(col == np.array(col_names))[0][0]\n",
    "    \n",
    "    for shot in keys:\n",
    "        data = shot_data[shot][\"X\"]\n",
    "        x = data[:-delay]\n",
    "        if not ar:\n",
    "            x = np.delete(x, col, axis=1)\n",
    "        y = data[delay:, col]\n",
    "        if historify is not None:\n",
    "            x = historify(x, history_len).reshape(-1, x.shape[1] * history_len)\n",
    "            y = y[history_len - 1:]\n",
    "        yield x, y, None"
   ]
  },
  {
   "cell_type": "code",
   "execution_count": 161,
   "metadata": {},
   "outputs": [],
   "source": [
    "from sklearn.linear_model import Ridge"
   ]
  },
  {
   "cell_type": "code",
   "execution_count": 162,
   "metadata": {},
   "outputs": [
    {
     "data": {
      "application/vnd.jupyter.widget-view+json": {
       "model_id": "811125061ed64dafab4c16477def25f4",
       "version_major": 2,
       "version_minor": 0
      },
      "text/plain": [
       "HBox(children=(FloatProgress(value=1.0, bar_style='info', max=1.0), HTML(value='')))"
      ]
     },
     "metadata": {},
     "output_type": "display_data"
    },
    {
     "name": "stdout",
     "output_type": "stream",
     "text": [
      "\n"
     ]
    }
   ],
   "source": [
    "X, Y = [], []\n",
    "for x, y, _ in tqdm(featurize(shot_data, train_keys), total=len(train_keys)):\n",
    "    X.append(x)\n",
    "    Y.append(y)\n",
    "X = np.concatenate(X)\n",
    "Y = np.concatenate(Y)"
   ]
  },
  {
   "cell_type": "code",
   "execution_count": 163,
   "metadata": {},
   "outputs": [
    {
     "data": {
      "text/plain": [
       "((8286786, 705), (8286786,))"
      ]
     },
     "execution_count": 163,
     "metadata": {},
     "output_type": "execute_result"
    }
   ],
   "source": [
    "X.shape, Y.shape"
   ]
  },
  {
   "cell_type": "code",
   "execution_count": 164,
   "metadata": {},
   "outputs": [],
   "source": [
    "clf = Ridge(alpha=1.0)"
   ]
  },
  {
   "cell_type": "code",
   "execution_count": 165,
   "metadata": {},
   "outputs": [],
   "source": [
    "clf_norm = Ridge(alpha=1.0, normalize=True)"
   ]
  },
  {
   "cell_type": "code",
   "execution_count": 166,
   "metadata": {},
   "outputs": [
    {
     "data": {
      "text/plain": [
       "Ridge()"
      ]
     },
     "execution_count": 166,
     "metadata": {},
     "output_type": "execute_result"
    }
   ],
   "source": [
    "clf.fit(X, Y)"
   ]
  },
  {
   "cell_type": "code",
   "execution_count": 167,
   "metadata": {},
   "outputs": [
    {
     "data": {
      "text/plain": [
       "Ridge(normalize=True)"
      ]
     },
     "execution_count": 167,
     "metadata": {},
     "output_type": "execute_result"
    }
   ],
   "source": [
    "clf_norm.fit(X, Y)"
   ]
  },
  {
   "cell_type": "code",
   "execution_count": 170,
   "metadata": {},
   "outputs": [
    {
     "data": {
      "application/vnd.jupyter.widget-view+json": {
       "model_id": "f8f34bb708a4457281d724de87957617",
       "version_major": 2,
       "version_minor": 0
      },
      "text/plain": [
       "HBox(children=(FloatProgress(value=0.0, max=862.0), HTML(value='')))"
      ]
     },
     "metadata": {},
     "output_type": "display_data"
    },
    {
     "name": "stdout",
     "output_type": "stream",
     "text": [
      "\n"
     ]
    }
   ],
   "source": [
    "MSE = lambda true, pred: np.square(true.squeeze() - pred.squeeze()).mean()\n",
    "mses = []\n",
    "for x, y, _ in tqdm(featurize(shot_data, test_keys), total=len(test_keys)):\n",
    "    pred = clf.predict(x)\n",
    "    mses.append(MSE(pred, y))"
   ]
  },
  {
   "cell_type": "code",
   "execution_count": 171,
   "metadata": {},
   "outputs": [
    {
     "name": "stdout",
     "output_type": "stream",
     "text": [
      "32.433346\n"
     ]
    }
   ],
   "source": [
    "# history_len=5, normalize=False: 32.433346\n",
    "# history_len=5, normalize=True: 32.3551\n",
    "# history_len=10, normalize=False: 32.50882\n",
    "# history_len=10, normalize=True: 32.419926\n",
    "print(np.mean(mses))"
   ]
  },
  {
   "cell_type": "code",
   "execution_count": null,
   "metadata": {},
   "outputs": [],
   "source": []
  }
 ],
 "metadata": {
  "kernelspec": {
   "display_name": "Python 3",
   "language": "python",
   "name": "python3"
  },
  "language_info": {
   "codemirror_mode": {
    "name": "ipython",
    "version": 3
   },
   "file_extension": ".py",
   "mimetype": "text/x-python",
   "name": "python",
   "nbconvert_exporter": "python",
   "pygments_lexer": "ipython3",
   "version": "3.7.0"
  }
 },
 "nbformat": 4,
 "nbformat_minor": 4
}
