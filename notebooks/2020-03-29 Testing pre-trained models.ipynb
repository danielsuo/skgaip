{
 "cells": [
  {
   "cell_type": "code",
   "execution_count": 22,
   "metadata": {},
   "outputs": [
    {
     "name": "stdout",
     "output_type": "stream",
     "text": [
      "The autoreload extension is already loaded. To reload it, use:\n",
      "  %reload_ext autoreload\n"
     ]
    },
    {
     "data": {
      "text/html": [
       "<style>.container { width:100% !important; }</style>"
      ],
      "text/plain": [
       "<IPython.core.display.HTML object>"
      ]
     },
     "metadata": {},
     "output_type": "display_data"
    }
   ],
   "source": [
    "%load_ext autoreload\n",
    "%autoreload 2\n",
    "\n",
    "from IPython.display import Image\n",
    "from IPython.core.display import display, HTML\n",
    "display(HTML(\"<style>.container { width:100% !important; }</style>\"))\n",
    "\n",
    "import os\n",
    "import json\n",
    "import numpy as np\n",
    "import jax\n",
    "import pickle\n",
    "import matplotlib.pyplot as plt\n",
    "import pandas as pd\n",
    "from timecast.learners import AR\n",
    "from timecast.learners._ar import _ar_predict, _ar_batch_window\n",
    "from timecast.utils.numpy import ecdf\n",
    "from timecast.utils.losses import MeanSquareError\n",
    "import torch\n",
    "import matplotlib\n",
    "\n",
    "plt.rcParams['figure.figsize'] = [20, 10]\n",
    "\n",
    "import tqdm.notebook as tqdm"
   ]
  },
  {
   "cell_type": "markdown",
   "metadata": {},
   "source": [
    "# Training"
   ]
  },
  {
   "cell_type": "code",
   "execution_count": 26,
   "metadata": {},
   "outputs": [],
   "source": [
    "model_paths = !find ../data/models/runs | grep lstm"
   ]
  },
  {
   "cell_type": "code",
   "execution_count": 27,
   "metadata": {},
   "outputs": [
    {
     "data": {
      "text/plain": [
       "['../data/models/runs/run_1906_1007_seed888/ealstm_seed888.p',\n",
       " '../data/models/runs/run_1906_2336_seed333/ealstm_seed333.p',\n",
       " '../data/models/runs/run_1906_1010_seed555/lstm_seed555.p',\n",
       " '../data/models/runs/run_1606_0922_seed222/lstm_no_static_seed222.p',\n",
       " '../data/models/runs/run_1906_1009_seed222/lstm_seed222.p',\n",
       " '../data/models/runs/run_1606_0923_seed666/lstm_no_static_seed666.p',\n",
       " '../data/models/runs/run_1606_0923_seed777/lstm_no_static_seed777.p',\n",
       " '../data/models/runs/run_1906_1005_seed333/ealstm_seed333.p',\n",
       " '../data/models/runs/run_2006_0033_seed777/lstm_seed777.p',\n",
       " '../data/models/runs/run_1906_1009_seed111/lstm_seed111.p',\n",
       " '../data/models/runs/run_1606_0923_seed888/lstm_no_static_seed888.p',\n",
       " '../data/models/runs/run_1606_0922_seed111/lstm_no_static_seed111.p',\n",
       " '../data/models/runs/run_1906_2337_seed777/ealstm_seed777.p',\n",
       " '../data/models/runs/run_2006_0032_seed666/lstm_seed666.p',\n",
       " '../data/models/runs/run_1906_1010_seed444/lstm_seed444.p',\n",
       " '../data/models/runs/run_1906_2337_seed555/ealstm_seed555.p',\n",
       " '../data/models/runs/run_1606_0923_seed555/lstm_no_static_seed555.p',\n",
       " '../data/models/runs/run_2006_0031_seed111/lstm_seed111.p',\n",
       " '../data/models/runs/run_1906_1007_seed777/ealstm_seed777.p',\n",
       " '../data/models/runs/run_2006_0032_seed333/lstm_seed333.p',\n",
       " '../data/models/runs/run_1906_1005_seed222/ealstm_seed222.p',\n",
       " '../data/models/runs/run_1906_1010_seed666/lstm_seed666.p',\n",
       " '../data/models/runs/run_1906_1009_seed333/lstm_seed333.p',\n",
       " '../data/models/runs/run_1606_0922_seed888/lstm_no_static_seed888.p',\n",
       " '../data/models/runs/run_1906_1006_seed555/ealstm_seed555.p',\n",
       " '../data/models/runs/run_1906_2337_seed666/ealstm_seed666.p',\n",
       " '../data/models/runs/run_1906_1006_seed444/ealstm_seed444.p',\n",
       " '../data/models/runs/run_1606_0922_seed333/lstm_no_static_seed333.p',\n",
       " '../data/models/runs/run_1606_0921_seed666/lstm_no_static_seed666.p',\n",
       " '../data/models/runs/run_1906_1011_seed777/lstm_seed777.p',\n",
       " '../data/models/runs/run_1906_1006_seed666/ealstm_seed666.p',\n",
       " '../data/models/runs/run_1606_0921_seed333/lstm_no_static_seed333.p',\n",
       " '../data/models/runs/run_1906_2336_seed111/ealstm_seed111.p',\n",
       " '../data/models/runs/run_1906_1011_seed888/lstm_seed888.p',\n",
       " '../data/models/runs/run_1906_2337_seed444/ealstm_seed444.p',\n",
       " '../data/models/runs/run_1606_0921_seed444/lstm_no_static_seed444.p',\n",
       " '../data/models/runs/run_2006_0032_seed555/lstm_seed555.p',\n",
       " '../data/models/runs/run_2006_0032_seed444/lstm_seed444.p',\n",
       " '../data/models/runs/run_1606_0921_seed111/lstm_no_static_seed111.p',\n",
       " '../data/models/runs/run_1906_2337_seed888/ealstm_seed888.p',\n",
       " '../data/models/runs/run_2006_0032_seed222/lstm_seed222.p',\n",
       " '../data/models/runs/run_1606_0922_seed444/lstm_no_static_seed444.p',\n",
       " '../data/models/runs/run_2006_0033_seed888/lstm_seed888.p',\n",
       " '../data/models/runs/run_1606_0921_seed555/lstm_no_static_seed555.p',\n",
       " '../data/models/runs/run_1906_1004_seed111/ealstm_seed111.p',\n",
       " '../data/models/runs/run_1606_0921_seed222/lstm_no_static_seed222.p',\n",
       " '../data/models/runs/run_1906_2336_seed222/ealstm_seed222.p',\n",
       " '../data/models/runs/run_1606_0922_seed777/lstm_no_static_seed777.p']"
      ]
     },
     "execution_count": 27,
     "metadata": {},
     "output_type": "execute_result"
    }
   ],
   "source": [
    "model_paths"
   ]
  },
  {
   "cell_type": "markdown",
   "metadata": {},
   "source": [
    "# Evaluation"
   ]
  },
  {
   "cell_type": "code",
   "execution_count": 48,
   "metadata": {},
   "outputs": [],
   "source": [
    "from ealstm.gaip.utils import MSE, NSE"
   ]
  },
  {
   "cell_type": "code",
   "execution_count": 50,
   "metadata": {},
   "outputs": [],
   "source": [
    "def total_se(results, setype):\n",
    "    se = 0\n",
    "    count = 0\n",
    "    for key in results[setype].keys():\n",
    "        se += results[setype][key] * results[\"count\"][key]\n",
    "        count += results[\"count\"][key]\n",
    "    return se / float(count)"
   ]
  },
  {
   "cell_type": "code",
   "execution_count": 64,
   "metadata": {},
   "outputs": [
    {
     "data": {
      "application/vnd.jupyter.widget-view+json": {
       "model_id": "333e2fec972c44548ee44d341ca89ddf",
       "version_major": 2,
       "version_minor": 0
      },
      "text/plain": [
       "HBox(children=(FloatProgress(value=0.0, max=48.0), HTML(value='')))"
      ]
     },
     "metadata": {},
     "output_type": "display_data"
    },
    {
     "name": "stdout",
     "output_type": "stream",
     "text": [
      "\n"
     ]
    }
   ],
   "source": [
    "models = {}\n",
    "for model_path in tqdm.tqdm(model_paths):\n",
    "    name = model_path.split(\"/\")[-2]\n",
    "    models[name] = {\"mse\": {}, \"nse\": {}, \"count\": {}, \"path\": model_path}\n",
    "    \n",
    "    data = pickle.load(open(model_path, \"rb\"))\n",
    "    for key, site in data.items():\n",
    "        models[name][\"mse\"][key] = MSE(site.qobs, site.qsim)\n",
    "        models[name][\"nse\"][key] = NSE(site.qobs, site.qsim)\n",
    "        models[name][\"count\"][key] = site.shape[0]\n",
    "    models[name][\"total_mse\"] = total_se(models[name], \"mse\")\n",
    "    models[name][\"total_nse\"] = total_se(models[name], \"nse\")"
   ]
  },
  {
   "cell_type": "code",
   "execution_count": 65,
   "metadata": {},
   "outputs": [
    {
     "data": {
      "text/plain": [
       "{'run_1906_1007_seed888': 3.3638509750782526,\n",
       " 'run_1906_2336_seed333': 3.337346505673905,\n",
       " 'run_1906_1010_seed555': 3.237445282285454,\n",
       " 'run_1606_0922_seed222': 4.476296932159444,\n",
       " 'run_1906_1009_seed222': 3.2220703187962276,\n",
       " 'run_1606_0923_seed666': 4.499379957060465,\n",
       " 'run_1606_0923_seed777': 4.624725695014974,\n",
       " 'run_1906_1005_seed333': 3.5001009681127004,\n",
       " 'run_2006_0033_seed777': 3.2339230156853978,\n",
       " 'run_1906_1009_seed111': 3.2352868484148094,\n",
       " 'run_1606_0923_seed888': 4.473549428796491,\n",
       " 'run_1606_0922_seed111': 4.433866150819652,\n",
       " 'run_1906_2337_seed777': 3.3147425884061694,\n",
       " 'run_2006_0032_seed666': 3.1949645419398265,\n",
       " 'run_1906_1010_seed444': 3.2289923281497943,\n",
       " 'run_1906_2337_seed555': 3.282823277819134,\n",
       " 'run_1606_0923_seed555': 4.652720299467179,\n",
       " 'run_2006_0031_seed111': 3.2397084946905363,\n",
       " 'run_1906_1007_seed777': 3.473512175578632,\n",
       " 'run_2006_0032_seed333': 3.1932420165053017,\n",
       " 'run_1906_1005_seed222': 3.3914191445835082,\n",
       " 'run_1906_1010_seed666': 3.2351552555689036,\n",
       " 'run_1906_1009_seed333': 3.2268481438538648,\n",
       " 'run_1606_0922_seed888': 4.539375029284087,\n",
       " 'run_1906_1006_seed555': 3.3942775564330248,\n",
       " 'run_1906_2337_seed666': 3.385096854159726,\n",
       " 'run_1906_1006_seed444': 3.476382639872416,\n",
       " 'run_1606_0922_seed333': 4.541540710081478,\n",
       " 'run_1606_0921_seed666': 4.530356742659501,\n",
       " 'run_1906_1011_seed777': 3.2256576353865887,\n",
       " 'run_1906_1006_seed666': 3.45470585018204,\n",
       " 'run_1606_0921_seed333': 4.5473530109536835,\n",
       " 'run_1906_2336_seed111': 3.2884822881487334,\n",
       " 'run_1906_1011_seed888': 3.2333602229376597,\n",
       " 'run_1906_2337_seed444': 3.300946876965249,\n",
       " 'run_1606_0921_seed444': 4.513882921374607,\n",
       " 'run_2006_0032_seed555': 3.227267153906606,\n",
       " 'run_2006_0032_seed444': 3.1446905088054957,\n",
       " 'run_1606_0921_seed111': 4.468239496898472,\n",
       " 'run_1906_2337_seed888': 3.3810576682900373,\n",
       " 'run_2006_0032_seed222': 3.2066092945695717,\n",
       " 'run_1606_0922_seed444': 4.589967594588545,\n",
       " 'run_2006_0033_seed888': 3.3265779270728104,\n",
       " 'run_1606_0921_seed555': 4.633692311778539,\n",
       " 'run_1906_1004_seed111': 3.404898899219881,\n",
       " 'run_1606_0921_seed222': 4.549086262036881,\n",
       " 'run_1906_2336_seed222': 3.340150454215161,\n",
       " 'run_1606_0922_seed777': 4.454428185048074}"
      ]
     },
     "execution_count": 65,
     "metadata": {},
     "output_type": "execute_result"
    }
   ],
   "source": [
    "{key: model[\"total_mse\"] for key, model in models.items()}"
   ]
  },
  {
   "cell_type": "code",
   "execution_count": 66,
   "metadata": {},
   "outputs": [
    {
     "data": {
      "text/plain": [
       "{'run_1906_1007_seed888': 0.6789186889733216,\n",
       " 'run_1906_2336_seed333': 0.6451087885394113,\n",
       " 'run_1906_1010_seed555': 0.6834140732742268,\n",
       " 'run_1606_0922_seed222': 0.29045259863318473,\n",
       " 'run_1906_1009_seed222': 0.6995414040542303,\n",
       " 'run_1606_0923_seed666': 0.26056844004656776,\n",
       " 'run_1606_0923_seed777': 0.11695495061591926,\n",
       " 'run_1906_1005_seed333': 0.6732774716033985,\n",
       " 'run_2006_0033_seed777': 0.6410610093148134,\n",
       " 'run_1906_1009_seed111': 0.6922506589353086,\n",
       " 'run_1606_0923_seed888': 0.23367518333224074,\n",
       " 'run_1606_0922_seed111': 0.26169006489219654,\n",
       " 'run_1906_2337_seed777': 0.6450881751087002,\n",
       " 'run_2006_0032_seed666': 0.6678921865006313,\n",
       " 'run_1906_1010_seed444': 0.6854652297749018,\n",
       " 'run_1906_2337_seed555': 0.6471139040089225,\n",
       " 'run_1606_0923_seed555': 0.22364850467499747,\n",
       " 'run_2006_0031_seed111': 0.65244279711988,\n",
       " 'run_1906_1007_seed777': 0.671839267064583,\n",
       " 'run_2006_0032_seed333': 0.6796908169889062,\n",
       " 'run_1906_1005_seed222': 0.6793343678122624,\n",
       " 'run_1906_1010_seed666': 0.6945585049448835,\n",
       " 'run_1906_1009_seed333': 0.6910533441866591,\n",
       " 'run_1606_0922_seed888': 0.3743876523911406,\n",
       " 'run_1906_1006_seed555': 0.6810677181193,\n",
       " 'run_1906_2337_seed666': 0.629706765916983,\n",
       " 'run_1906_1006_seed444': 0.6624203338818099,\n",
       " 'run_1606_0922_seed333': 0.2570134099566493,\n",
       " 'run_1606_0921_seed666': 0.36793809414142925,\n",
       " 'run_1906_1011_seed777': 0.6917497806221663,\n",
       " 'run_1906_1006_seed666': 0.6673220576795119,\n",
       " 'run_1606_0921_seed333': 0.26877041783590877,\n",
       " 'run_1906_2336_seed111': 0.6531769750976528,\n",
       " 'run_1906_1011_seed888': 0.6549211198036452,\n",
       " 'run_1906_2337_seed444': 0.6082757415280335,\n",
       " 'run_1606_0921_seed444': 0.46038988595895414,\n",
       " 'run_2006_0032_seed555': 0.6636139344847165,\n",
       " 'run_2006_0032_seed444': 0.6788063132547638,\n",
       " 'run_1606_0921_seed111': 0.38625546492991514,\n",
       " 'run_1906_2337_seed888': 0.6065960413430561,\n",
       " 'run_2006_0032_seed222': 0.6683571305189486,\n",
       " 'run_1606_0922_seed444': 0.2421341779959089,\n",
       " 'run_2006_0033_seed888': 0.6606469618392503,\n",
       " 'run_1606_0921_seed555': 0.4061769461878679,\n",
       " 'run_1906_1004_seed111': 0.6729994898317593,\n",
       " 'run_1606_0921_seed222': 0.4701692873963229,\n",
       " 'run_1906_2336_seed222': 0.613630930942048,\n",
       " 'run_1606_0922_seed777': 0.41775133336174025}"
      ]
     },
     "execution_count": 66,
     "metadata": {},
     "output_type": "execute_result"
    }
   ],
   "source": [
    "{key: model[\"total_nse\"] for key, model in models.items()}"
   ]
  },
  {
   "cell_type": "code",
   "execution_count": 67,
   "metadata": {},
   "outputs": [
    {
     "data": {
      "text/plain": [
       "'../data/models/runs/run_2006_0032_seed444/lstm_seed444.p'"
      ]
     },
     "execution_count": 67,
     "metadata": {},
     "output_type": "execute_result"
    }
   ],
   "source": [
    "models[\"run_2006_0032_seed444\"][\"path\"]"
   ]
  },
  {
   "cell_type": "code",
   "execution_count": null,
   "metadata": {},
   "outputs": [],
   "source": []
  }
 ],
 "metadata": {
  "kernelspec": {
   "display_name": "Python 3",
   "language": "python",
   "name": "python3"
  },
  "language_info": {
   "codemirror_mode": {
    "name": "ipython",
    "version": 3
   },
   "file_extension": ".py",
   "mimetype": "text/x-python",
   "name": "python",
   "nbconvert_exporter": "python",
   "pygments_lexer": "ipython3",
   "version": "3.7.3"
  }
 },
 "nbformat": 4,
 "nbformat_minor": 2
}
