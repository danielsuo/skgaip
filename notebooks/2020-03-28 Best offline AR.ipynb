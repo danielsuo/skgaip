{
 "cells": [
  {
   "cell_type": "code",
   "execution_count": 2,
   "metadata": {},
   "outputs": [
    {
     "data": {
      "text/html": [
       "<style>.container { width:100% !important; }</style>"
      ],
      "text/plain": [
       "<IPython.core.display.HTML object>"
      ]
     },
     "metadata": {},
     "output_type": "display_data"
    },
    {
     "name": "stderr",
     "output_type": "stream",
     "text": [
      "/home/dsuo/miniconda3/envs/toy_flood/lib/python3.7/site-packages/jax/lib/xla_bridge.py:123: UserWarning: No GPU/TPU found, falling back to CPU.\n",
      "  warnings.warn('No GPU/TPU found, falling back to CPU.')\n"
     ]
    }
   ],
   "source": [
    "%load_ext autoreload\n",
    "%autoreload 2\n",
    "\n",
    "from IPython.display import Image\n",
    "from IPython.core.display import display, HTML\n",
    "display(HTML(\"<style>.container { width:100% !important; }</style>\"))\n",
    "\n",
    "import os\n",
    "import json\n",
    "import jax.numpy as np\n",
    "import numpy as onp\n",
    "import jax\n",
    "import pickle\n",
    "import matplotlib.pyplot as plt\n",
    "import pandas as pd\n",
    "from timecast.learners import AR\n",
    "from timecast.learners._ar import _ar_predict, _ar_batch_window\n",
    "from timecast.utils.numpy import ecdf\n",
    "from timecast.utils.losses import MeanSquareError\n",
    "import torch\n",
    "import matplotlib\n",
    "\n",
    "plt.rcParams['figure.figsize'] = [20, 10]\n",
    "\n",
    "import tqdm.notebook as tqdm"
   ]
  },
  {
   "cell_type": "code",
   "execution_count": 3,
   "metadata": {},
   "outputs": [],
   "source": [
    "from ealstm.gaip import FloodLSTM\n",
    "from ealstm.gaip import FloodData\n",
    "from ealstm.gaip.utils import MSE, NSE\n",
    "\n",
    "from timecast.optim import SGD\n",
    "from timecast.learners import AR\n",
    "\n",
    "cfg_path = \"/home/dsuo/src/toy_flood/ealstm/runs/run_2503_0429_seed283956/cfg.json\"\n",
    "flood_data = FloodData(cfg_path)\n",
    "ea_data = pickle.load(open(\"../ealstm/runs/run_2503_0429_seed283956/lstm_seed283956.p\", \"rb\"))"
   ]
  },
  {
   "cell_type": "code",
   "execution_count": 9,
   "metadata": {},
   "outputs": [
    {
     "data": {
      "application/vnd.jupyter.widget-view+json": {
       "model_id": "fd632e357d504a7fa6ef63fda9cf9264",
       "version_major": 2,
       "version_minor": 0
      },
      "text/plain": [
       "HBox(children=(FloatProgress(value=0.0, max=531.0), HTML(value='')))"
      ]
     },
     "metadata": {},
     "output_type": "display_data"
    },
    {
     "name": "stdout",
     "output_type": "stream",
     "text": [
      "01022500 2.0779026 0.5779607 2.0779026 0.5779607\n",
      "01031500 3.8257647 0.59274423 2.9518337 0.5853525\n",
      "01047000 5.5681252 0.4782598 3.8239307 0.5496549\n",
      "01052500 6.206514 0.52608633 4.4195766 0.5437628\n",
      "01054200 21.59425 0.2673065 7.8545113 0.48847157\n",
      "01055000 12.730079 0.28079367 8.667106 0.45385858\n",
      "01057000 3.426944 0.53355014 7.9185114 0.46524307\n",
      "01073000 3.8199217 0.41978502 7.406188 0.4595608\n",
      "01078000 2.079548 0.65362835 6.814339 0.48112386\n",
      "01123000 2.6119509 0.46943247 6.3941 0.47995472\n",
      "01134500 4.22281 0.48625505 6.19671 0.4805275\n",
      "01137500 6.8189936 0.32942426 6.248567 0.46793556\n",
      "01139000 1.893173 0.46846503 5.9135365 0.46797627\n",
      "01139800 1.7163632 0.52934015 5.6137385 0.47235942\n",
      "01142500 2.5574992 0.48201257 5.4099894 0.47300297\n",
      "01144000 2.5001216 0.49140918 5.2281227 0.47415337\n",
      "01162500 1.4382433 0.71716535 5.0051885 0.4884482\n",
      "01169000 7.6868253 0.14567012 5.1541686 0.46940497\n",
      "01170100 5.8601813 0.275007 5.191327 0.4591735\n",
      "01181000 6.5511646 0.28557032 5.259319 0.45049334\n",
      "01187300 9.994018 0.25466782 5.484781 0.44116834\n",
      "01195100 3.8040578 0.36122197 5.4083843 0.43753442\n",
      "04296000 1.3556812 0.66925883 5.2321796 0.4476094\n",
      "01333000 2.5353868 0.4617536 5.1198134 0.44819877\n",
      "01350000 10.231284 0.28235316 5.3242717 0.44156495\n",
      "01350080 4.547534 0.35492444 5.2943974 0.4382326\n",
      "01350140 4.0044847 0.4429319 5.2466226 0.43840668\n",
      "01365000 6.591602 0.4261182 5.2946577 0.43796778\n",
      "01411300 3.3883598 -0.9894576 5.2289233 0.3887462\n",
      "01413500 6.3092504 0.25645483 5.264934 0.38433647\n",
      "01414500 6.5095625 0.34189737 5.3050838 0.38296744\n",
      "01415000 3.366788 0.436548 5.244512 0.38464186\n",
      "01423000 2.8305864 0.54642415 5.171363 0.38954434\n",
      "01434025 12.9993305 0.2934268 5.401597 0.38671735\n",
      "01435000 13.043866 0.31011337 5.619948 0.38452867\n",
      "01439500 1.899877 0.61203337 5.5166125 0.39084828\n",
      "01440000 2.1951642 0.53924525 5.426844 0.39485902\n",
      "01440400 3.943606 0.4305017 5.387811 0.39579695\n",
      "01451800 3.6714232 0.49909294 5.343801 0.39844558\n",
      "01466500 0.13640714 0.39279348 5.2136164 0.39830428\n",
      "01484100 1.1878619 0.42213923 5.115427 0.39888558\n",
      "01487000 0.695295 0.49355602 5.010186 0.40113968\n",
      "01491000 2.3076968 0.47518468 4.947337 0.40286165\n",
      "01510000 3.3031068 0.5042772 4.9099684 0.40516654\n"
     ]
    },
    {
     "ename": "KeyboardInterrupt",
     "evalue": "",
     "output_type": "error",
     "traceback": [
      "\u001b[0;31m---------------------------------------------------------------------------\u001b[0m",
      "\u001b[0;31mKeyboardInterrupt\u001b[0m                         Traceback (most recent call last)",
      "\u001b[0;32m<ipython-input-9-dfd28fd2d3a3>\u001b[0m in \u001b[0;36m<module>\u001b[0;34m\u001b[0m\n\u001b[1;32m     21\u001b[0m     \u001b[0mY\u001b[0m \u001b[0;34m=\u001b[0m \u001b[0my\u001b[0m\u001b[0;34m[\u001b[0m\u001b[0mflood_data\u001b[0m\u001b[0;34m.\u001b[0m\u001b[0mcfg\u001b[0m\u001b[0;34m[\u001b[0m\u001b[0;34m\"seq_length\"\u001b[0m\u001b[0;34m]\u001b[0m\u001b[0;34m-\u001b[0m\u001b[0;36m1\u001b[0m\u001b[0;34m:\u001b[0m\u001b[0;34m]\u001b[0m\u001b[0;34m\u001b[0m\u001b[0;34m\u001b[0m\u001b[0m\n\u001b[1;32m     22\u001b[0m \u001b[0;34m\u001b[0m\u001b[0m\n\u001b[0;32m---> 23\u001b[0;31m     \u001b[0mar\u001b[0m\u001b[0;34m.\u001b[0m\u001b[0mfit\u001b[0m\u001b[0;34m(\u001b[0m\u001b[0;34m[\u001b[0m\u001b[0;34m(\u001b[0m\u001b[0mX\u001b[0m\u001b[0;34m,\u001b[0m \u001b[0mY\u001b[0m\u001b[0;34m,\u001b[0m \u001b[0mbasin\u001b[0m\u001b[0;34m)\u001b[0m\u001b[0;34m]\u001b[0m\u001b[0;34m,\u001b[0m \u001b[0malpha\u001b[0m\u001b[0;34m=\u001b[0m\u001b[0;36m0.1\u001b[0m\u001b[0;34m)\u001b[0m\u001b[0;34m\u001b[0m\u001b[0;34m\u001b[0m\u001b[0m\n\u001b[0m\u001b[1;32m     24\u001b[0m     \u001b[0mar\u001b[0m\u001b[0;34m.\u001b[0m\u001b[0m_history\u001b[0m\u001b[0;34m=\u001b[0m\u001b[0mX\u001b[0m\u001b[0;34m[\u001b[0m\u001b[0;34m:\u001b[0m\u001b[0mflood_data\u001b[0m\u001b[0;34m.\u001b[0m\u001b[0mcfg\u001b[0m\u001b[0;34m[\u001b[0m\u001b[0;34m\"seq_length\"\u001b[0m\u001b[0;34m]\u001b[0m\u001b[0;34m]\u001b[0m\u001b[0;34m\u001b[0m\u001b[0;34m\u001b[0m\u001b[0m\n\u001b[1;32m     25\u001b[0m \u001b[0;34m\u001b[0m\u001b[0m\n",
      "\u001b[0;32m~/src/timecast/timecast/learners/_ar.py\u001b[0m in \u001b[0;36mfit\u001b[0;34m(self, generator, alpha, **kwargs)\u001b[0m\n\u001b[1;32m    421\u001b[0m \u001b[0;34m\u001b[0m\u001b[0m\n\u001b[1;32m    422\u001b[0m         \u001b[0;31m# Sum up data incrementally\u001b[0m\u001b[0;34m\u001b[0m\u001b[0;34m\u001b[0m\u001b[0;34m\u001b[0m\u001b[0m\n\u001b[0;32m--> 423\u001b[0;31m         \u001b[0minv\u001b[0m\u001b[0;34m,\u001b[0m \u001b[0mFTy\u001b[0m \u001b[0;34m=\u001b[0m \u001b[0mself\u001b[0m\u001b[0;34m.\u001b[0m\u001b[0m_fit_accumulate\u001b[0m\u001b[0;34m(\u001b[0m\u001b[0mgenerator\u001b[0m\u001b[0;34m,\u001b[0m \u001b[0malpha\u001b[0m\u001b[0;34m=\u001b[0m\u001b[0malpha\u001b[0m\u001b[0;34m)\u001b[0m\u001b[0;34m\u001b[0m\u001b[0;34m\u001b[0m\u001b[0m\n\u001b[0m\u001b[1;32m    424\u001b[0m         \u001b[0mself\u001b[0m\u001b[0;34m.\u001b[0m\u001b[0m_params\u001b[0m\u001b[0;34m[\u001b[0m\u001b[0;34m\"phi\"\u001b[0m\u001b[0;34m]\u001b[0m \u001b[0;34m=\u001b[0m \u001b[0m_ar_fit_unconstrained\u001b[0m\u001b[0;34m(\u001b[0m\u001b[0minv\u001b[0m\u001b[0;34m,\u001b[0m \u001b[0mFTy\u001b[0m\u001b[0;34m)\u001b[0m\u001b[0;34m\u001b[0m\u001b[0;34m\u001b[0m\u001b[0m\n\u001b[1;32m    425\u001b[0m         \u001b[0mself\u001b[0m\u001b[0;34m.\u001b[0m\u001b[0mfreeze\u001b[0m\u001b[0;34m(\u001b[0m\u001b[0mstats\u001b[0m\u001b[0;34m=\u001b[0m\u001b[0;32mTrue\u001b[0m\u001b[0;34m)\u001b[0m\u001b[0;34m\u001b[0m\u001b[0;34m\u001b[0m\u001b[0m\n",
      "\u001b[0;32m~/src/timecast/timecast/learners/_ar.py\u001b[0m in \u001b[0;36m_fit_accumulate\u001b[0;34m(self, generator, alpha)\u001b[0m\n\u001b[1;32m    372\u001b[0m                 \u001b[0mFTy\u001b[0m\u001b[0;34m[\u001b[0m\u001b[0;34m:\u001b[0m\u001b[0mnum_rc\u001b[0m\u001b[0;34m,\u001b[0m \u001b[0;34m:\u001b[0m\u001b[0;34m]\u001b[0m \u001b[0;34m=\u001b[0m \u001b[0mS\u001b[0m\u001b[0;34m\u001b[0m\u001b[0;34m\u001b[0m\u001b[0m\n\u001b[1;32m    373\u001b[0m \u001b[0;34m\u001b[0m\u001b[0m\n\u001b[0;32m--> 374\u001b[0;31m         \u001b[0minv\u001b[0m \u001b[0;34m=\u001b[0m \u001b[0monp\u001b[0m\u001b[0;34m.\u001b[0m\u001b[0mlinalg\u001b[0m\u001b[0;34m.\u001b[0m\u001b[0minv\u001b[0m\u001b[0;34m(\u001b[0m\u001b[0mFTF\u001b[0m \u001b[0;34m+\u001b[0m \u001b[0malpha\u001b[0m \u001b[0;34m*\u001b[0m \u001b[0mnp\u001b[0m\u001b[0;34m.\u001b[0m\u001b[0meye\u001b[0m\u001b[0;34m(\u001b[0m\u001b[0mFTF\u001b[0m\u001b[0;34m.\u001b[0m\u001b[0mshape\u001b[0m\u001b[0;34m[\u001b[0m\u001b[0;36m1\u001b[0m\u001b[0;34m]\u001b[0m\u001b[0;34m)\u001b[0m\u001b[0;34m)\u001b[0m\u001b[0;34m\u001b[0m\u001b[0;34m\u001b[0m\u001b[0m\n\u001b[0m\u001b[1;32m    375\u001b[0m \u001b[0;34m\u001b[0m\u001b[0m\n\u001b[1;32m    376\u001b[0m         \u001b[0;32mreturn\u001b[0m \u001b[0minv\u001b[0m\u001b[0;34m,\u001b[0m \u001b[0mFTy\u001b[0m\u001b[0;34m\u001b[0m\u001b[0;34m\u001b[0m\u001b[0m\n",
      "\u001b[0;32m~/miniconda3/envs/toy_flood/lib/python3.7/site-packages/numpy/linalg/linalg.py\u001b[0m in \u001b[0;36minv\u001b[0;34m(a)\u001b[0m\n\u001b[1;32m    549\u001b[0m     \u001b[0msignature\u001b[0m \u001b[0;34m=\u001b[0m \u001b[0;34m'D->D'\u001b[0m \u001b[0;32mif\u001b[0m \u001b[0misComplexType\u001b[0m\u001b[0;34m(\u001b[0m\u001b[0mt\u001b[0m\u001b[0;34m)\u001b[0m \u001b[0;32melse\u001b[0m \u001b[0;34m'd->d'\u001b[0m\u001b[0;34m\u001b[0m\u001b[0;34m\u001b[0m\u001b[0m\n\u001b[1;32m    550\u001b[0m     \u001b[0mextobj\u001b[0m \u001b[0;34m=\u001b[0m \u001b[0mget_linalg_error_extobj\u001b[0m\u001b[0;34m(\u001b[0m\u001b[0m_raise_linalgerror_singular\u001b[0m\u001b[0;34m)\u001b[0m\u001b[0;34m\u001b[0m\u001b[0;34m\u001b[0m\u001b[0m\n\u001b[0;32m--> 551\u001b[0;31m     \u001b[0mainv\u001b[0m \u001b[0;34m=\u001b[0m \u001b[0m_umath_linalg\u001b[0m\u001b[0;34m.\u001b[0m\u001b[0minv\u001b[0m\u001b[0;34m(\u001b[0m\u001b[0ma\u001b[0m\u001b[0;34m,\u001b[0m \u001b[0msignature\u001b[0m\u001b[0;34m=\u001b[0m\u001b[0msignature\u001b[0m\u001b[0;34m,\u001b[0m \u001b[0mextobj\u001b[0m\u001b[0;34m=\u001b[0m\u001b[0mextobj\u001b[0m\u001b[0;34m)\u001b[0m\u001b[0;34m\u001b[0m\u001b[0;34m\u001b[0m\u001b[0m\n\u001b[0m\u001b[1;32m    552\u001b[0m     \u001b[0;32mreturn\u001b[0m \u001b[0mwrap\u001b[0m\u001b[0;34m(\u001b[0m\u001b[0mainv\u001b[0m\u001b[0;34m.\u001b[0m\u001b[0mastype\u001b[0m\u001b[0;34m(\u001b[0m\u001b[0mresult_t\u001b[0m\u001b[0;34m,\u001b[0m \u001b[0mcopy\u001b[0m\u001b[0;34m=\u001b[0m\u001b[0;32mFalse\u001b[0m\u001b[0;34m)\u001b[0m\u001b[0;34m)\u001b[0m\u001b[0;34m\u001b[0m\u001b[0;34m\u001b[0m\u001b[0m\n\u001b[1;32m    553\u001b[0m \u001b[0;34m\u001b[0m\u001b[0m\n",
      "\u001b[0;31mKeyboardInterrupt\u001b[0m: "
     ]
    }
   ],
   "source": [
    "LR_AR = 1e-5\n",
    "AR_INPUT_DIM=32\n",
    "AR_OUTPUT_DIM=1\n",
    "\n",
    "results = {}\n",
    "mses = []\n",
    "nses = []\n",
    "sgd = SGD(learning_rate=LR_AR, online=False)\n",
    "\n",
    "for X, y, basin in tqdm.tqdm(flood_data.generator(), total=len(flood_data.basins)):\n",
    "    ar = AR(input_dim=AR_INPUT_DIM,\n",
    "        output_dim=AR_OUTPUT_DIM,\n",
    "        window_size=flood_data.cfg[\"seq_length\"],\n",
    "        optimizer=sgd,\n",
    "        fit_intercept=True,\n",
    "        constrain=False\n",
    "       )\n",
    "    \n",
    "    # NOTE: difference in indexing convention, so need to pad one row\n",
    "    X = np.vstack((X[flood_data.cfg[\"seq_length\"]:], np.ones((1, X.shape[1]))))\n",
    "    Y = y[flood_data.cfg[\"seq_length\"]-1:]\n",
    "    \n",
    "    ar.fit([(X, Y, basin)], alpha=0.1)\n",
    "    ar._history=X[:flood_data.cfg[\"seq_length\"]]\n",
    "    \n",
    "    Y_lstm = np.array(ea_data[basin].qsim).reshape(-1, 1)\n",
    "    Y_target = Y - Y_lstm\n",
    "    \n",
    "    Y_ar = ar.predict_and_update(X, Y_target)\n",
    "    \n",
    "    Y_hat = Y_lstm + Y_ar\n",
    "    \n",
    "    mse = MSE(Y, Y_hat)\n",
    "    nse = NSE(Y, Y_hat)\n",
    "    results[basin] = {\n",
    "        \"mse\": mse,\n",
    "        \"nse\": nse,\n",
    "        \"count\": X.shape[0],\n",
    "        \"avg_mse\": np.mean(np.array(mses)),\n",
    "        \"avg_nse\": np.mean(np.array(nses))\n",
    "    }\n",
    "    mses.append(mse)\n",
    "    nses.append(nse)\n",
    "    print(basin, mse, nse, np.mean(np.array(mses)), np.mean(np.array(nses)))"
   ]
  },
  {
   "cell_type": "code",
   "execution_count": null,
   "metadata": {},
   "outputs": [],
   "source": []
  }
 ],
 "metadata": {
  "kernelspec": {
   "display_name": "Python 3",
   "language": "python",
   "name": "python3"
  },
  "language_info": {
   "codemirror_mode": {
    "name": "ipython",
    "version": 3
   },
   "file_extension": ".py",
   "mimetype": "text/x-python",
   "name": "python",
   "nbconvert_exporter": "python",
   "pygments_lexer": "ipython3",
   "version": "3.7.3"
  }
 },
 "nbformat": 4,
 "nbformat_minor": 2
}
