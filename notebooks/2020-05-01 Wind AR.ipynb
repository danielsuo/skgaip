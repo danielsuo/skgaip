{
 "cells": [
  {
   "cell_type": "code",
   "execution_count": 224,
   "metadata": {},
   "outputs": [
    {
     "name": "stdout",
     "output_type": "stream",
     "text": [
      "The autoreload extension is already loaded. To reload it, use:\n",
      "  %reload_ext autoreload\n"
     ]
    },
    {
     "data": {
      "text/html": [
       "<style>.container { width:100% !important; }</style>"
      ],
      "text/plain": [
       "<IPython.core.display.HTML object>"
      ]
     },
     "metadata": {},
     "output_type": "display_data"
    }
   ],
   "source": [
    "%load_ext autoreload\n",
    "%autoreload 2\n",
    "\n",
    "from IPython.display import Image\n",
    "from IPython.core.display import display, HTML\n",
    "display(HTML(\"<style>.container { width:100% !important; }</style>\"))\n",
    "\n",
    "import os\n",
    "import json\n",
    "import numpy as np\n",
    "import jax\n",
    "import jax.numpy as jnp\n",
    "import flax\n",
    "import pickle\n",
    "import matplotlib.pyplot as plt\n",
    "import pandas as pd\n",
    "import matplotlib\n",
    "import timecast as tc\n",
    "\n",
    "from mpl_toolkits import mplot3d\n",
    "\n",
    "plt.rcParams['figure.figsize'] = [20, 10]\n",
    "\n",
    "import tqdm.notebook as tqdm"
   ]
  },
  {
   "cell_type": "markdown",
   "metadata": {},
   "source": [
    "# Load data"
   ]
  },
  {
   "cell_type": "code",
   "execution_count": 225,
   "metadata": {},
   "outputs": [],
   "source": [
    "data = np.array(pd.read_csv(\"../skgaip/wind/MS_winds.dat\", names=list(range(57))))"
   ]
  },
  {
   "cell_type": "code",
   "execution_count": 3,
   "metadata": {},
   "outputs": [
    {
     "data": {
      "text/plain": [
       "array([[5.0963, 2.0564, 3.0399, ..., 3.0399, 3.5763, 2.5481],\n",
       "       [5.0963, 1.5199, 2.5481, ..., 2.5481, 3.5763, 2.5481],\n",
       "       [5.588 , 1.5199, 2.0564, ..., 2.5481, 3.5763, 1.5199],\n",
       "       ...,\n",
       "       [4.6045, 4.0681, 5.0963, ..., 4.6045, 0.    , 3.0399],\n",
       "       [7.1526, 6.1244, 4.6045, ..., 4.0681, 0.    , 4.0681],\n",
       "       [7.1526, 3.5763, 3.0399, ..., 4.0681, 0.    , 4.6045]])"
      ]
     },
     "execution_count": 3,
     "metadata": {},
     "output_type": "execute_result"
    }
   ],
   "source": [
    "# Columns = 57 stations\n",
    "# Rows = wind speed readings (m/s)\n",
    "data"
   ]
  },
  {
   "cell_type": "code",
   "execution_count": 4,
   "metadata": {},
   "outputs": [],
   "source": [
    "# Normalization\n",
    "# NOTE: This is a bug; they claim this normalizes from 0 to 1, but it doesn't\n",
    "# NOTE: Their variable also refer to min and max as mean and std, respectively so...\n",
    "data = (data - data.min()) / data.max()"
   ]
  },
  {
   "cell_type": "markdown",
   "metadata": {},
   "source": [
    "# Load stored inputs/outputs for verifying"
   ]
  },
  {
   "cell_type": "code",
   "execution_count": 5,
   "metadata": {},
   "outputs": [
    {
     "name": "stderr",
     "output_type": "stream",
     "text": [
      "Using TensorFlow backend.\n",
      "WARNING:tensorflow:From /home/dsuo/miniconda3/envs/skgaip/lib/python3.7/site-packages/tensorflow_core/python/ops/resource_variable_ops.py:1630: calling BaseResourceVariable.__init__ (from tensorflow.python.ops.resource_variable_ops) with constraint is deprecated and will be removed in a future version.\n",
      "Instructions for updating:\n",
      "If using Keras pass *_constraint arguments to layers.\n",
      "WARNING:tensorflow:From /home/dsuo/miniconda3/envs/skgaip/lib/python3.7/site-packages/keras/backend/tensorflow_backend.py:422: The name tf.global_variables is deprecated. Please use tf.compat.v1.global_variables instead.\n",
      "\n"
     ]
    }
   ],
   "source": [
    "inputs = pickle.load(open(\"../skgaip/wind/input.pkl\", \"rb\"))\n",
    "outputs = pickle.load(open(\"../skgaip/wind/output.pkl\", \"rb\"))\n",
    "pre = pickle.load(open(\"../skgaip/wind/pre.pkl\", \"rb\"))\n",
    "post = pickle.load(open(\"../skgaip/wind/post.pkl\", \"rb\"))\n",
    "minmax = pickle.load(open(\"../skgaip/wind/minmax.pkl\", \"rb\"))\n",
    "models = pickle.load(open(\"../skgaip/wind/models.pkl\", \"rb\"))[\"models\"]"
   ]
  },
  {
   "cell_type": "markdown",
   "metadata": {},
   "source": [
    "# Verify inputs"
   ]
  },
  {
   "cell_type": "code",
   "execution_count": 8,
   "metadata": {},
   "outputs": [],
   "source": [
    "from timecast.utils.ar import historify\n",
    "\n",
    "historified = historify(jnp.asarray(data), num_histories=8375, history_len=12).reshape(8375, 12, 57)\n",
    "onp.testing.assert_array_almost_equal(historified, inputs[\"result\"])\n",
    "onp.testing.assert_array_almost_equal(historified[:6000], inputs[\"X_train\"])\n",
    "onp.testing.assert_array_almost_equal(data[12:6012,:], inputs[\"y_train\"])\n",
    "onp.testing.assert_array_almost_equal(historified[6000:6361], inputs[\"xTest\"])\n",
    "onp.testing.assert_array_almost_equal(data[6012:6373,:], inputs[\"yTest\"])"
   ]
  },
  {
   "cell_type": "markdown",
   "metadata": {},
   "source": [
    "# Verify predictions"
   ]
  },
  {
   "cell_type": "code",
   "execution_count": 9,
   "metadata": {},
   "outputs": [],
   "source": [
    "# Mostly from https://github.com/amirstar/Deep-Forecast/blob/4dcdf66f8ae3070ab706b30a6e3cf888f36e0536/multiLSTM.py#L210\n",
    "def predict(X, models):\n",
    "    results = onp.zeros_like(onp.zeros((X.shape[0], X.shape[2])))\n",
    "    \n",
    "    for ind in range(len(X)):\n",
    "        modelInd = ind % 6\n",
    "        if modelInd == 0:\n",
    "            testInputRaw = X[ind]\n",
    "            testInputShape = testInputRaw.shape\n",
    "            testInput = onp.reshape(testInputRaw, [1, testInputShape[0], testInputShape[1]])\n",
    "        else:\n",
    "            testInputRaw = onp.vstack((testInputRaw, results[ind-1]))\n",
    "            testInput = onp.delete(testInputRaw, 0, axis=0)\n",
    "            testInputShape = testInput.shape\n",
    "            testInput = onp.reshape(testInput, [1, testInputShape[0], testInputShape[1]])\n",
    "    \n",
    "        pred = models[modelInd].predict(testInput)\n",
    "        results[ind] = pred\n",
    "\n",
    "    return results"
   ]
  },
  {
   "cell_type": "code",
   "execution_count": 10,
   "metadata": {},
   "outputs": [],
   "source": [
    "pred = predict(inputs[\"xTest\"], models)"
   ]
  },
  {
   "cell_type": "code",
   "execution_count": 11,
   "metadata": {},
   "outputs": [],
   "source": [
    "onp.testing.assert_array_almost_equal(pred, outputs[\"pred\"])"
   ]
  },
  {
   "cell_type": "code",
   "execution_count": 12,
   "metadata": {},
   "outputs": [
    {
     "data": {
      "text/plain": [
       "DeviceArray(1.1508132, dtype=float32)"
      ]
     },
     "execution_count": 12,
     "metadata": {},
     "output_type": "execute_result"
    }
   ],
   "source": [
    "test_true = data[6012:6373,:] * minmax[\"max\"] + minmax[\"min\"]\n",
    "test_pred = outputs[\"pred\"] * minmax[\"max\"] + minmax[\"min\"]\n",
    "jnp.absolute(test_true - test_pred).mean(axis=0).mean()"
   ]
  },
  {
   "cell_type": "code",
   "execution_count": 226,
   "metadata": {},
   "outputs": [
    {
     "data": {
      "text/plain": [
       "array([[6.6162, 1.5199, 4.0681, ..., 1.5199, 2.0564, 3.5763],\n",
       "       [4.6045, 1.5199, 2.5481, ..., 1.5199, 2.0564, 2.5481],\n",
       "       [5.0963, 1.5199, 2.5481, ..., 2.5481, 2.0564, 4.0681],\n",
       "       ...,\n",
       "       [6.6162, 2.0564, 2.0564, ..., 2.0564, 4.0681, 2.0564],\n",
       "       [6.6162, 1.5199, 1.5199, ..., 1.5199, 4.0681, 1.5199],\n",
       "       [6.1244, 1.5199, 2.0564, ..., 1.5199, 7.6444, 2.5481]])"
      ]
     },
     "execution_count": 226,
     "metadata": {},
     "output_type": "execute_result"
    }
   ],
   "source": [
    "test_true"
   ]
  },
  {
   "cell_type": "markdown",
   "metadata": {},
   "source": [
    "# Predict all data"
   ]
  },
  {
   "cell_type": "code",
   "execution_count": 13,
   "metadata": {},
   "outputs": [
    {
     "data": {
      "text/plain": [
       "(8375, 12, 57)"
      ]
     },
     "execution_count": 13,
     "metadata": {},
     "output_type": "execute_result"
    }
   ],
   "source": [
    "historified.shape"
   ]
  },
  {
   "cell_type": "code",
   "execution_count": 14,
   "metadata": {},
   "outputs": [],
   "source": [
    "pred = predict(historified, models)"
   ]
  },
  {
   "cell_type": "code",
   "execution_count": 15,
   "metadata": {},
   "outputs": [
    {
     "data": {
      "text/plain": [
       "(8375, 57)"
      ]
     },
     "execution_count": 15,
     "metadata": {},
     "output_type": "execute_result"
    }
   ],
   "source": [
    "pred.shape"
   ]
  },
  {
   "cell_type": "code",
   "execution_count": 16,
   "metadata": {},
   "outputs": [
    {
     "data": {
      "text/plain": [
       "(8375, 12, 57)"
      ]
     },
     "execution_count": 16,
     "metadata": {},
     "output_type": "execute_result"
    }
   ],
   "source": [
    "historified.shape"
   ]
  },
  {
   "cell_type": "code",
   "execution_count": 17,
   "metadata": {},
   "outputs": [],
   "source": [
    "true = data[12:]"
   ]
  },
  {
   "cell_type": "code",
   "execution_count": 18,
   "metadata": {},
   "outputs": [
    {
     "data": {
      "text/plain": [
       "(8375, 57)"
      ]
     },
     "execution_count": 18,
     "metadata": {},
     "output_type": "execute_result"
    }
   ],
   "source": [
    "true.shape"
   ]
  },
  {
   "cell_type": "code",
   "execution_count": 19,
   "metadata": {},
   "outputs": [
    {
     "data": {
      "text/plain": [
       "DeviceArray(0.04184432, dtype=float32)"
      ]
     },
     "execution_count": 19,
     "metadata": {},
     "output_type": "execute_result"
    }
   ],
   "source": [
    "jnp.absolute(true - pred).mean(axis=0).mean()"
   ]
  },
  {
   "cell_type": "markdown",
   "metadata": {},
   "source": [
    "\n",
    "# Train AR"
   ]
  },
  {
   "cell_type": "code",
   "execution_count": 20,
   "metadata": {},
   "outputs": [],
   "source": [
    "num_train = 6000\n",
    "history_len = 12\n",
    "num_stations = 57"
   ]
  },
  {
   "cell_type": "code",
   "execution_count": 179,
   "metadata": {},
   "outputs": [],
   "source": [
    "from timecast.learners import AR\n",
    "from timecast.utils.ar import compute_gram, fit_gram\n",
    "\n",
    "X = data[0:num_train - 1, :num_stations]\n",
    "Y = data[1:num_train, :num_stations]\n",
    "\n",
    "num_histories = X.shape[0] - history_len + 1\n",
    "historified = historify(X, num_histories=num_histories, history_len=history_len).reshape(num_histories, history_len, -1)\n",
    "pred = predict(historified, models)\n",
    "Y_lstm = pred[:num_train]\n",
    "\n",
    "Y = jax.ops.index_add(Y, jax.ops.index[history_len - 1:], -Y_lstm)"
   ]
  },
  {
   "cell_type": "code",
   "execution_count": 211,
   "metadata": {},
   "outputs": [],
   "source": [
    "XTX, XTY = compute_gram([(X, Y, None)], num_stations, num_stations, history_len)"
   ]
  },
  {
   "cell_type": "code",
   "execution_count": 212,
   "metadata": {},
   "outputs": [],
   "source": [
    "fit_intercept = True\n",
    "feature_dim = XTX.feature_dim\n",
    "output_dim = XTY.output_dim\n",
    "input_dim = num_stations\n",
    "\n",
    "XTX = XTX.matrix(fit_intercept=True, input_dim=input_dim)\n",
    "XTY = XTY.matrix(fit_intercept=True, input_dim=input_dim)"
   ]
  },
  {
   "cell_type": "code",
   "execution_count": 213,
   "metadata": {},
   "outputs": [],
   "source": [
    "from timecast.utils.ar import _compute_xtx_inverse, _fit_unconstrained, _form_constraints, _fit_constrained"
   ]
  },
  {
   "cell_type": "code",
   "execution_count": 214,
   "metadata": {},
   "outputs": [],
   "source": [
    "inv = _compute_xtx_inverse(XTX, 1.0)"
   ]
  },
  {
   "cell_type": "code",
   "execution_count": 215,
   "metadata": {},
   "outputs": [
    {
     "data": {
      "text/plain": [
       "(741, 741)"
      ]
     },
     "execution_count": 215,
     "metadata": {},
     "output_type": "execute_result"
    }
   ],
   "source": [
    "inv.shape"
   ]
  },
  {
   "cell_type": "code",
   "execution_count": 216,
   "metadata": {},
   "outputs": [],
   "source": [
    "beta = _fit_unconstrained(inv, XTY)"
   ]
  },
  {
   "cell_type": "code",
   "execution_count": 217,
   "metadata": {},
   "outputs": [
    {
     "data": {
      "text/plain": [
       "(741, 57)"
      ]
     },
     "execution_count": 217,
     "metadata": {},
     "output_type": "execute_result"
    }
   ],
   "source": [
    "beta.shape"
   ]
  },
  {
   "cell_type": "code",
   "execution_count": 218,
   "metadata": {},
   "outputs": [],
   "source": [
    "R, r = _form_constraints(input_dim, output_dim, history_len)"
   ]
  },
  {
   "cell_type": "code",
   "execution_count": 219,
   "metadata": {},
   "outputs": [
    {
     "name": "stdout",
     "output_type": "stream",
     "text": [
      "(728, 741) (728, 57)\n"
     ]
    }
   ],
   "source": [
    "print(R.shape, r.shape)"
   ]
  },
  {
   "cell_type": "code",
   "execution_count": 220,
   "metadata": {},
   "outputs": [],
   "source": [
    "beta = _fit_constrained(beta, inv, R, r)"
   ]
  },
  {
   "cell_type": "code",
   "execution_count": 221,
   "metadata": {},
   "outputs": [
    {
     "data": {
      "text/plain": [
       "(741, 57)"
      ]
     },
     "execution_count": 221,
     "metadata": {},
     "output_type": "execute_result"
    }
   ],
   "source": [
    "beta.shape"
   ]
  },
  {
   "cell_type": "code",
   "execution_count": 223,
   "metadata": {},
   "outputs": [
    {
     "data": {
      "text/plain": [
       "DeviceArray([[-1.79857947e-04,  2.14874744e-04,  3.53570096e-04,\n",
       "               2.50877347e-05, -2.79155211e-05,  2.26654112e-04,\n",
       "               1.21138059e-04, -2.25109980e-05,  9.28444788e-05,\n",
       "               3.37623060e-05, -6.00827625e-05,  1.00600533e-04,\n",
       "               1.83505937e-04,  2.95694917e-05,  1.03195198e-04,\n",
       "              -7.41006806e-06,  1.50304288e-04,  7.83167779e-05,\n",
       "               2.08432786e-04,  1.80986710e-04, -3.50810587e-05,\n",
       "               2.88486772e-05,  1.97978952e-04,  2.82486435e-04,\n",
       "              -6.75208867e-05,  1.54739246e-05, -6.55837357e-06,\n",
       "              -2.66511925e-05,  5.20972535e-05,  2.42129900e-04,\n",
       "               1.54385343e-05,  5.67696989e-05,  5.93860168e-05,\n",
       "              -3.12058255e-05,  3.43936495e-04, -1.28853600e-04,\n",
       "               1.34454109e-04,  1.61763281e-04,  1.60990283e-04,\n",
       "               6.70743175e-05, -3.93316150e-05,  2.13257968e-04,\n",
       "               4.30658692e-05,  5.65255759e-05,  6.26426190e-05,\n",
       "               2.20472924e-04,  2.37042550e-05,  4.08366323e-05,\n",
       "              -1.46618113e-04,  1.81596726e-04,  2.77236104e-04,\n",
       "               6.53543975e-05, -4.10899520e-05,  7.32196495e-05,\n",
       "               5.57433814e-05,  1.59904361e-04,  1.02195423e-04],\n",
       "             [ 1.55946799e-03, -3.07847746e-04, -2.13263184e-03,\n",
       "              -9.15505923e-04,  1.62379211e-03, -1.47448480e-03,\n",
       "              -2.07046163e-03, -3.20502953e-03, -1.23723038e-03,\n",
       "              -3.66549473e-04, -1.11428648e-03, -1.45176612e-03,\n",
       "              -1.94943603e-03, -2.06238916e-03,  9.05431807e-05,\n",
       "              -8.72062519e-04, -5.09009697e-04,  1.84490625e-03,\n",
       "              -1.83576159e-03, -2.09857034e-03, -3.36383376e-03,\n",
       "              -4.11037356e-04, -3.57824937e-03,  1.83797441e-04,\n",
       "              -2.44598836e-03,  2.43613496e-04,  7.08565349e-05,\n",
       "               2.32745544e-04,  3.68656591e-04, -7.84675183e-04,\n",
       "              -2.72106077e-03, -3.57136130e-04, -2.67921388e-03,\n",
       "              -4.43496741e-03,  9.87070613e-04, -2.50372966e-03,\n",
       "               5.51815843e-04,  2.31804326e-04, -3.44034284e-04,\n",
       "              -1.11590209e-03, -1.54536217e-04, -1.51617825e-03,\n",
       "               1.19631272e-03, -5.66517003e-04,  3.39291058e-04,\n",
       "              -2.84422608e-03, -9.26841050e-04,  1.06745400e-04,\n",
       "               2.82345340e-04, -1.52970338e-03, -2.46047298e-03,\n",
       "               7.11729750e-04, -4.30304743e-03,  3.49394511e-04,\n",
       "               1.21536432e-04, -1.26273371e-04, -2.13645399e-06],\n",
       "             [-1.06701069e-03, -6.12951117e-05,  1.43472478e-03,\n",
       "              -8.05221498e-06, -1.71137508e-03,  9.46754590e-05,\n",
       "              -3.90553381e-04,  2.45057140e-03, -8.43034126e-04,\n",
       "              -3.12013552e-04,  4.22709156e-04,  6.28106296e-04,\n",
       "               2.69570574e-03,  1.60428463e-03, -1.61910523e-03,\n",
       "              -5.97753096e-04, -6.94351271e-04,  3.61183658e-04,\n",
       "               3.73413833e-03,  1.81870232e-03,  7.57230492e-03,\n",
       "              -9.79450531e-04,  3.09983548e-03, -2.06902623e-04,\n",
       "               1.06624886e-03, -9.48496163e-04,  2.03606673e-04,\n",
       "              -1.38435978e-03, -1.04174181e-03,  1.11129461e-03,\n",
       "               3.35417222e-03, -3.46712768e-05,  9.41778533e-04,\n",
       "               2.04833620e-03, -2.79859640e-03,  1.90175790e-03,\n",
       "              -1.35541707e-03, -1.50197186e-04, -8.48273281e-04,\n",
       "               1.44738704e-04,  1.80035084e-03,  7.87910074e-04,\n",
       "              -6.98680524e-04,  1.50517002e-03, -9.20240767e-04,\n",
       "               4.07903548e-03,  1.12229493e-03,  1.98316434e-03,\n",
       "               6.62174076e-04,  1.72097050e-03,  1.93444826e-03,\n",
       "              -6.50944887e-04,  4.30933293e-03, -6.98616728e-04,\n",
       "               4.25138627e-04,  2.30533164e-03,  2.20146822e-03],\n",
       "             [ 7.69383274e-04, -1.88057916e-03, -3.93688679e-05,\n",
       "              -1.03331171e-04, -1.23122055e-03,  2.47314572e-04,\n",
       "               2.55520409e-03,  2.46493053e-03,  1.42993499e-03,\n",
       "               5.52178826e-04,  5.44898212e-05, -7.26249302e-04,\n",
       "              -1.05425483e-03, -1.65787060e-04, -1.68755651e-04,\n",
       "              -2.96648592e-03,  2.11298466e-03, -8.38423148e-05,\n",
       "              -2.23969668e-03, -1.60447834e-03, -2.17969529e-03,\n",
       "              -6.40103593e-04, -2.31292332e-04,  4.25282051e-04,\n",
       "               1.44988950e-03, -1.25208870e-04, -1.03909150e-03,\n",
       "              -8.25691968e-05,  3.94474482e-04, -4.65100631e-04,\n",
       "               1.96540728e-04, -5.51773235e-04,  2.53002159e-03,\n",
       "               2.98389466e-03,  9.16387420e-04, -2.22716480e-04,\n",
       "              -5.26618212e-04, -1.38635095e-03, -5.89939766e-04,\n",
       "              -1.43504702e-04, -6.42457046e-04,  7.25462334e-04,\n",
       "              -3.35950870e-03,  6.14182092e-04, -4.17171512e-04,\n",
       "              -2.38214061e-03, -1.68942567e-03, -3.14421672e-03,\n",
       "               3.99528071e-05,  1.12969242e-03, -1.75711140e-03,\n",
       "               2.55929306e-04, -1.19676150e-03,  1.67341111e-03,\n",
       "               1.26115233e-03, -2.56478414e-03, -2.02320516e-03],\n",
       "             [-2.36824341e-03,  2.57127616e-03, -1.79939717e-03,\n",
       "               1.56531110e-04, -2.50722771e-03,  1.13880076e-03,\n",
       "              -1.00208446e-03, -2.11779680e-03,  1.59818679e-04,\n",
       "               1.29176304e-03,  3.88566405e-05,  1.48205366e-03,\n",
       "              -1.92921609e-03,  1.51256716e-03,  2.57012388e-03,\n",
       "               3.91956745e-03,  6.90380111e-04, -2.08748388e-04,\n",
       "               3.02695669e-04,  2.10387819e-03, -1.50083564e-03,\n",
       "               3.30828689e-03,  1.04914699e-03, -1.94548629e-04,\n",
       "              -4.12259251e-05,  4.64373268e-04,  6.51209615e-04,\n",
       "               1.54940784e-03,  1.18429691e-03, -6.21347222e-04,\n",
       "              -4.14997921e-04,  2.12985091e-04,  8.56069848e-04,\n",
       "              -1.36117730e-03,  1.20467553e-03,  2.97558494e-04,\n",
       "               2.62460671e-04,  2.02232227e-03,  1.74116343e-03,\n",
       "               8.96831974e-04, -2.11640960e-03, -2.05210177e-03,\n",
       "               8.68159346e-04, -2.62554409e-03, -3.42234503e-04,\n",
       "               1.02647953e-03,  7.28234649e-04,  4.49448824e-04,\n",
       "               3.66347842e-04, -1.23607740e-03,  2.96553457e-03,\n",
       "              -2.71489844e-04,  4.35660314e-03, -7.30498228e-04,\n",
       "              -1.58196874e-03, -1.49375317e-03, -1.38315093e-03],\n",
       "             [ 1.03138201e-03, -7.37973140e-04,  1.03543326e-03,\n",
       "              -1.90544873e-04,  1.07755698e-03,  3.82233411e-05,\n",
       "              -2.97677005e-04,  4.47394326e-04, -1.53471483e-04,\n",
       "              -5.52451704e-04, -1.75535865e-03, -3.77320684e-04,\n",
       "               2.48952769e-03, -1.98817765e-03,  7.35910609e-04,\n",
       "               1.44599937e-03, -2.47949013e-03,  3.70755792e-04,\n",
       "              -1.35307945e-03, -1.22101931e-03, -1.43108331e-03,\n",
       "              -1.68953370e-03, -1.18890591e-03, -3.06502404e-03,\n",
       "               6.28949841e-04,  9.94215254e-04,  1.41396001e-03,\n",
       "              -8.87713861e-04,  5.35270199e-04,  1.55858696e-04,\n",
       "               6.38502650e-04,  3.67382541e-04, -2.05224194e-03,\n",
       "              -2.28985772e-03,  1.05256401e-03,  1.12628564e-04,\n",
       "              -1.33913010e-04, -6.35767356e-04, -1.31429825e-03,\n",
       "              -6.63416460e-04, -1.46373222e-03, -7.20378011e-05,\n",
       "               1.23061053e-03,  1.57544203e-03,  7.85710290e-06,\n",
       "              -3.92633956e-04,  7.18728930e-04, -1.90411881e-03,\n",
       "              -9.65907704e-04, -1.03742466e-03, -1.26785785e-03,\n",
       "              -9.32982191e-04,  1.11460220e-04, -1.98888197e-03,\n",
       "              -1.11543201e-03,  4.94954176e-04, -2.51199119e-04],\n",
       "             [ 8.04936979e-04,  1.98979583e-03, -1.41916797e-03,\n",
       "               1.75991864e-03,  3.69020924e-03, -1.72721595e-03,\n",
       "               8.44783615e-04, -2.59880163e-03, -9.41271894e-04,\n",
       "              -2.00624391e-03,  3.79694812e-03, -6.59607816e-04,\n",
       "              -2.93188728e-04,  2.52090534e-03, -4.72497195e-04,\n",
       "               1.14783645e-04, -5.13561070e-04, -2.93765869e-03,\n",
       "               1.57019123e-04,  2.65925191e-03,  1.35757588e-03,\n",
       "               4.07053623e-04,  9.22242180e-04,  2.84012966e-03,\n",
       "               1.16801774e-03,  2.30975682e-04,  2.37379153e-03,\n",
       "               2.20212247e-03, -2.29453761e-03,  1.51262432e-03,\n",
       "              -1.64906494e-03, -2.12313607e-04,  1.64532289e-03,\n",
       "               1.23785995e-03, -4.22208570e-04,  9.96037619e-04,\n",
       "               7.17669725e-04, -1.98435271e-03,  1.54462736e-03,\n",
       "               2.10850313e-03, -1.44150481e-03,  1.71402004e-03,\n",
       "               4.31971299e-03,  6.01076521e-04,  3.00673814e-03,\n",
       "               1.03449123e-03,  1.13894232e-03,  1.55625213e-03,\n",
       "               2.91211996e-04, -3.09776980e-03,  2.20079534e-03,\n",
       "               2.92233191e-03, -3.44447978e-03,  1.12533569e-03,\n",
       "              -1.34909991e-04,  1.36143621e-03,  2.16122065e-03],\n",
       "             [ 3.58549878e-04, -1.78780407e-03,  3.13824601e-03,\n",
       "               5.51918987e-04,  9.35808755e-04,  1.63148902e-03,\n",
       "               2.32204562e-04,  2.59269308e-03,  2.60683149e-03,\n",
       "               7.48705585e-04,  6.22479245e-04,  2.17120536e-03,\n",
       "              -6.51401468e-04, -9.31667630e-04,  1.97067857e-06,\n",
       "              -2.18385644e-03,  1.43875089e-03, -5.95320016e-05,\n",
       "               2.41984986e-03,  2.48115510e-04,  1.10344344e-03,\n",
       "               8.48188996e-04, -1.67516712e-03, -5.84978610e-04,\n",
       "              -1.49258040e-03, -1.92363455e-03, -2.74285302e-03,\n",
       "              -1.47002889e-03, -5.58716711e-04,  3.49584967e-04,\n",
       "               4.67865932e-04,  1.33548211e-03, -2.34979205e-03,\n",
       "              -8.17837194e-04, -3.75416130e-05,  2.09317543e-04,\n",
       "               6.32707030e-04,  2.35088356e-03, -4.87575307e-05,\n",
       "              -1.14802027e-03,  4.13133111e-03,  2.42171809e-04,\n",
       "               4.19787131e-04, -2.11353041e-03,  1.53851463e-04,\n",
       "              -1.03170448e-03,  7.34170899e-04,  9.58438963e-04,\n",
       "               8.01967806e-04,  4.79404535e-03, -4.59620077e-03,\n",
       "              -1.63136981e-03,  1.21891266e-03,  2.34806724e-03,\n",
       "               2.82019097e-03,  1.51141547e-03,  1.19375368e-03],\n",
       "             [ 1.19664147e-03,  3.29817226e-03,  1.36191165e-03,\n",
       "               3.98393720e-04, -2.22755969e-03,  2.74416059e-03,\n",
       "               3.81618738e-05,  8.57929699e-05, -3.39210033e-04,\n",
       "               1.47262355e-04,  1.19732541e-03,  8.07578210e-04,\n",
       "               2.00866908e-03,  1.67481555e-03, -2.00345367e-03,\n",
       "               1.14504248e-03, -1.09844655e-03, -5.48314303e-04,\n",
       "              -7.00019300e-05, -3.65814660e-03, -5.20662405e-04,\n",
       "               1.91811705e-03,  3.47116194e-03,  9.29791015e-04,\n",
       "               6.13760203e-05, -5.83170913e-04, -1.11231301e-03,\n",
       "              -1.79114286e-04,  2.48519517e-03,  3.40586761e-04,\n",
       "               3.09710181e-03,  4.56422567e-05,  1.62419071e-03,\n",
       "               5.91564784e-03, -2.72577070e-03, -8.92169774e-05,\n",
       "               2.34644208e-03, -7.60639086e-04,  1.43067818e-03,\n",
       "               1.27197942e-03,  2.83466280e-03, -3.82987782e-04,\n",
       "              -1.90239772e-03,  1.35778217e-03, -2.01257668e-03,\n",
       "               2.58051418e-03,  3.54781747e-04,  2.28639692e-03,\n",
       "               6.41014427e-04,  7.85831362e-04,  3.41057777e-03,\n",
       "               1.03375432e-03,  3.16217542e-04, -9.74066556e-04,\n",
       "              -2.39977613e-03, -9.89300665e-04, -9.25979577e-04],\n",
       "             [ 1.66716427e-03, -3.00937891e-03, -1.49588287e-03,\n",
       "              -1.56090781e-03,  1.69774657e-03, -1.12104602e-03,\n",
       "               2.38761399e-03,  2.17830390e-03,  8.56666360e-04,\n",
       "              -8.14279541e-04, -1.47208758e-03, -1.12097804e-03,\n",
       "               2.89835036e-04, -2.85270344e-03,  6.33452088e-04,\n",
       "              -1.22573972e-03,  2.56546587e-03,  2.88968254e-03,\n",
       "               4.38438728e-04,  2.22076429e-03, -1.56392483e-03,\n",
       "              -1.18848216e-03, -1.02282688e-03, -1.45751983e-05,\n",
       "               2.54817307e-04,  3.31425620e-03, -1.64215825e-03,\n",
       "               1.24523323e-03,  1.05626858e-03,  1.45240035e-03,\n",
       "               1.15120318e-04,  3.33884731e-04,  5.52264042e-04,\n",
       "               1.30071864e-03,  1.56788155e-04,  2.54548620e-03,\n",
       "              -1.84559822e-03,  7.38606323e-05, -1.32405572e-03,\n",
       "              -1.74152851e-03, -1.77791552e-03,  5.57499006e-04,\n",
       "              -2.34190002e-03,  3.14317551e-03,  3.80398706e-05,\n",
       "              -1.64204882e-03,  1.38912164e-03,  1.35651790e-04,\n",
       "              -1.32436771e-03, -2.26660632e-04,  1.47298677e-03,\n",
       "              -6.58048317e-04, -2.76852073e-03, -6.18542079e-04,\n",
       "               6.31509349e-04,  4.95100394e-04, -3.99125740e-04],\n",
       "             [-8.66518356e-04, -4.14330047e-03, -9.86328349e-04,\n",
       "              -2.17852369e-03, -5.40231727e-03, -7.20733404e-03,\n",
       "              -5.75623009e-03, -1.75579591e-03, -4.23196331e-03,\n",
       "               7.03528989e-04, -3.54519580e-03, -4.05907817e-03,\n",
       "              -3.44201829e-03, -1.70098292e-03,  8.80563632e-04,\n",
       "              -1.01032574e-03, -4.73512383e-03, -1.14689022e-03,\n",
       "              -3.31642851e-03, -4.13866108e-03,  2.53070146e-03,\n",
       "              -3.65758501e-03, -3.95204872e-03, -1.86073757e-03,\n",
       "              -1.81496143e-04, -2.53890827e-03,  6.50401693e-04,\n",
       "              -2.96227820e-03, -2.36122170e-03, -5.89537434e-03,\n",
       "              -3.90266255e-03, -5.99803543e-03, -2.37522041e-03,\n",
       "              -4.36854921e-03, -1.69247482e-03, -2.73990072e-03,\n",
       "              -4.62820008e-03, -7.59644434e-04, -1.91374123e-03,\n",
       "              -1.33603532e-03, -1.36468909e-03, -4.03746404e-03,\n",
       "              -2.79452465e-03, -2.64892355e-03, -1.07952533e-03,\n",
       "              -3.19957081e-03, -8.50123353e-03, -5.25045674e-03,\n",
       "              -1.48101919e-03, -2.56634410e-03, -5.49644418e-03,\n",
       "              -2.75315670e-03, -4.85021155e-04, -2.10692547e-03,\n",
       "               1.57334842e-03, -2.72247754e-03, -2.99895462e-03],\n",
       "             [-1.05509460e-02, -2.46321317e-03, -6.48838282e-03,\n",
       "              -1.50153739e-03, -5.31183556e-04, -2.20880099e-03,\n",
       "              -3.95805202e-03, -3.63214500e-03, -7.39654899e-03,\n",
       "              -1.67505641e-03, -6.74561411e-03, -4.05049883e-03,\n",
       "              -2.91691348e-03,  8.23212322e-05, -5.71664609e-03,\n",
       "               8.80286098e-06, -1.51942763e-03,  7.63285439e-04,\n",
       "              -6.08412921e-03, -3.89861129e-03, -1.61940674e-03,\n",
       "              -7.50698056e-03, -7.04829767e-03, -4.42392472e-03,\n",
       "              -7.70307612e-03, -4.68028709e-03,  8.00976530e-04,\n",
       "              -6.24073297e-03, -5.81793487e-03, -5.99539140e-03,\n",
       "              -7.47096352e-03, -2.75078509e-03, -8.48120172e-03,\n",
       "              -9.90782119e-03,  7.55760819e-04, -7.14081433e-03,\n",
       "              -3.84005811e-03, -6.43237680e-03, -5.34966588e-03,\n",
       "              -5.46660647e-03, -2.57926295e-03, -2.92814802e-03,\n",
       "               1.63373770e-04, -7.91731104e-03, -1.88740529e-03,\n",
       "              -5.43163251e-03, -3.53414007e-03, -6.12751395e-03,\n",
       "              -2.73680966e-03, -5.51297516e-03, -8.67702067e-04,\n",
       "              -3.01163644e-04, -2.73183361e-03, -4.55105305e-03,\n",
       "              -2.99572758e-03, -3.00308410e-03, -3.42894765e-03],\n",
       "             [ 8.75374675e-03,  5.32685034e-03,  5.86696249e-03,\n",
       "               3.58938100e-03,  5.32701053e-03,  6.13855198e-03,\n",
       "               6.29565492e-03,  3.11667286e-03,  9.77994502e-03,\n",
       "               2.19825562e-03,  8.87575001e-03,  7.01676402e-03,\n",
       "               4.22263891e-03,  3.07422969e-03,  4.32471000e-03,\n",
       "               2.68339273e-03,  4.56255395e-03,  2.51084566e-06,\n",
       "               6.70541171e-03,  6.49182033e-03, -2.20670365e-04,\n",
       "               9.35425237e-03,  8.85711703e-03,  4.41898871e-03,\n",
       "               7.67673785e-03,  5.30790305e-03,  1.14215352e-03,\n",
       "               8.40329193e-03,  5.74867707e-03,  7.14959577e-03,\n",
       "               8.58447328e-03,  7.30551407e-03,  8.93278793e-03,\n",
       "               9.99517459e-03,  1.89118087e-03,  7.44566508e-03,\n",
       "               7.07309134e-03,  6.76433789e-03,  6.12379238e-03,\n",
       "               6.81229215e-03,  2.96457298e-03,  5.78659028e-03,\n",
       "               2.71027535e-03,  7.09877536e-03,  2.88331253e-03,\n",
       "               6.80257566e-03,  8.08291882e-03,  8.80585797e-03,\n",
       "               4.49356902e-03,  5.96835651e-03,  2.84562819e-03,\n",
       "               2.22890778e-03,  5.73421363e-03,  5.56630595e-03,\n",
       "               2.02671252e-03,  4.10395348e-03,  5.54396538e-03]],            dtype=float32)"
      ]
     },
     "execution_count": 223,
     "metadata": {},
     "output_type": "execute_result"
    }
   ],
   "source": [
    "beta.take(jnp.arange(0, len(beta), input_dim), axis=0)"
   ]
  },
  {
   "cell_type": "code",
   "execution_count": 193,
   "metadata": {},
   "outputs": [],
   "source": [
    "ar, state = AR.fit(data=[(X, Y, None)],\n",
    "                   input_dim=num_stations,\n",
    "                   output_dim=num_stations,\n",
    "                   history=data[num_train:num_train + history_len, :num_stations],\n",
    "                   history_len=history_len,\n",
    "                   constrain=True\n",
    "                  )"
   ]
  },
  {
   "cell_type": "code",
   "execution_count": 197,
   "metadata": {},
   "outputs": [
    {
     "data": {
      "text/plain": [
       "(12, 57)"
      ]
     },
     "execution_count": 197,
     "metadata": {},
     "output_type": "execute_result"
    }
   ],
   "source": [
    "ar.params[\"linear\"][\"kernel\"].shape"
   ]
  },
  {
   "cell_type": "code",
   "execution_count": 203,
   "metadata": {},
   "outputs": [
    {
     "data": {
      "text/plain": [
       "(57,)"
      ]
     },
     "execution_count": 203,
     "metadata": {},
     "output_type": "execute_result"
    }
   ],
   "source": [
    "ar.params[\"linear\"][\"bias\"].shape"
   ]
  },
  {
   "cell_type": "code",
   "execution_count": 207,
   "metadata": {},
   "outputs": [
    {
     "name": "stdout",
     "output_type": "stream",
     "text": [
      "(12, 57)\n"
     ]
    }
   ],
   "source": [
    "with flax.nn.stateful(state) as state:\n",
    "    a = ar(onp.random.rand(1, 57))"
   ]
  },
  {
   "cell_type": "code",
   "execution_count": 209,
   "metadata": {},
   "outputs": [
    {
     "data": {
      "text/plain": [
       "(57, 57)"
      ]
     },
     "execution_count": 209,
     "metadata": {},
     "output_type": "execute_result"
    }
   ],
   "source": [
    "a.shape"
   ]
  },
  {
   "cell_type": "code",
   "execution_count": 164,
   "metadata": {},
   "outputs": [],
   "source": [
    "window_len = 10\n",
    "input_dim = 5\n",
    "output_dim = 4\n",
    "\n",
    "history = onp.random.rand(window_len + 1, input_dim)\n",
    "params = onp.random.rand(window_len + 1, output_dim)\n",
    "\n",
    "history[:, :1] = 1"
   ]
  },
  {
   "cell_type": "code",
   "execution_count": 168,
   "metadata": {},
   "outputs": [],
   "source": [
    "history = onp.random.rand(window_len, input_dim)\n",
    "params = onp.random.rand(window_len, output_dim)"
   ]
  },
  {
   "cell_type": "code",
   "execution_count": 171,
   "metadata": {},
   "outputs": [],
   "source": [
    "squeeze = history.ndim == 2\n",
    "if squeeze:\n",
    "    history = history[onp.newaxis, :]\n",
    "shape = history.shape\n",
    "\n",
    "X = onp.hstack((onp.ones((shape[0], shape[-1])), history.reshape(shape[0], -1))).reshape(\n",
    "            shape[0], shape[1] + 1, shape[2]\n",
    "        )"
   ]
  },
  {
   "cell_type": "code",
   "execution_count": 172,
   "metadata": {},
   "outputs": [
    {
     "data": {
      "text/plain": [
       "array([[[0.12953213, 0.65651736, 0.52415221, 0.56597917, 0.78822108],\n",
       "        [0.42495363, 0.81309645, 0.00758129, 0.84521809, 0.90959941],\n",
       "        [0.47100065, 0.48389782, 0.41067303, 0.61860461, 0.83015928],\n",
       "        [0.63146769, 0.78199271, 0.63495679, 0.2554679 , 0.30066688],\n",
       "        [0.66260527, 0.10591973, 0.84142026, 0.25908913, 0.18862932],\n",
       "        [0.95961316, 0.54093224, 0.85035306, 0.17365682, 0.7710638 ],\n",
       "        [0.73895243, 0.34623325, 0.61672512, 0.98955749, 0.97833722],\n",
       "        [0.31442267, 0.88343855, 0.59904268, 0.09723954, 0.28219299],\n",
       "        [0.97297495, 0.20082004, 0.72395013, 0.07029589, 0.49986498],\n",
       "        [0.74594147, 0.33441541, 0.20292088, 0.99199407, 0.2630319 ]]])"
      ]
     },
     "execution_count": 172,
     "metadata": {},
     "output_type": "execute_result"
    }
   ],
   "source": [
    "history"
   ]
  },
  {
   "cell_type": "code",
   "execution_count": 176,
   "metadata": {},
   "outputs": [],
   "source": [
    "X = X.squeeze()"
   ]
  },
  {
   "cell_type": "code",
   "execution_count": 177,
   "metadata": {},
   "outputs": [
    {
     "data": {
      "text/plain": [
       "array([[5.32588161, 3.72002657, 4.53887326, 3.79366697, 4.42864931],\n",
       "       [3.72002657, 4.29414074, 3.55063279, 3.45369146, 4.10735514],\n",
       "       [4.53887326, 3.55063279, 4.58218652, 3.00571747, 3.95393402],\n",
       "       [3.79366697, 3.45369146, 3.00571747, 4.55761873, 4.27967576],\n",
       "       [4.42864931, 4.10735514, 3.95393402, 4.27967576, 5.21417633]])"
      ]
     },
     "execution_count": 177,
     "metadata": {},
     "output_type": "execute_result"
    }
   ],
   "source": [
    "X.T @ X"
   ]
  },
  {
   "cell_type": "code",
   "execution_count": 165,
   "metadata": {},
   "outputs": [
    {
     "data": {
      "text/plain": [
       "array([[11.        ,  5.74121952,  4.77457614,  4.56314291,  6.51857562],\n",
       "       [ 5.74121952,  3.89880471,  2.6700967 ,  2.48997089,  3.68854703],\n",
       "       [ 4.77457614,  2.6700967 ,  2.65012103,  1.93280099,  2.8468714 ],\n",
       "       [ 4.56314291,  2.48997089,  1.93280099,  2.29654228,  2.74359955],\n",
       "       [ 6.51857562,  3.68854703,  2.8468714 ,  2.74359955,  4.65965208]])"
      ]
     },
     "execution_count": 165,
     "metadata": {},
     "output_type": "execute_result"
    }
   ],
   "source": [
    "history.T @ history"
   ]
  },
  {
   "cell_type": "code",
   "execution_count": 167,
   "metadata": {},
   "outputs": [
    {
     "data": {
      "text/plain": [
       "array([[1.        , 0.20305233, 0.09925145, 0.30611163, 0.86004327],\n",
       "       [1.        , 0.58264878, 0.49944466, 0.10621039, 0.88323881],\n",
       "       [1.        , 0.96316462, 0.33533885, 0.37819474, 0.76708363],\n",
       "       [1.        , 0.70183326, 0.52226119, 0.37257221, 0.54934271],\n",
       "       [1.        , 0.23114224, 0.45824865, 0.40249142, 0.51718696],\n",
       "       [1.        , 0.23103729, 0.31242413, 0.2199189 , 0.04711775],\n",
       "       [1.        , 0.54463779, 0.78529727, 0.21447287, 0.3295622 ],\n",
       "       [1.        , 0.07429341, 0.45040237, 0.6409369 , 0.42701988],\n",
       "       [1.        , 0.78931141, 0.87701925, 0.59053344, 0.96988586],\n",
       "       [1.        , 0.87965436, 0.30327795, 0.72547767, 0.40223489],\n",
       "       [1.        , 0.54044404, 0.13161038, 0.60622274, 0.76585964]])"
      ]
     },
     "execution_count": 167,
     "metadata": {},
     "output_type": "execute_result"
    }
   ],
   "source": [
    "history"
   ]
  },
  {
   "cell_type": "code",
   "execution_count": 148,
   "metadata": {},
   "outputs": [
    {
     "data": {
      "text/plain": [
       "array([[1.        , 1.        , 1.        , 1.        , 1.        ],\n",
       "       [0.00759571, 0.34453576, 0.300451  , 0.92959265, 0.12071304],\n",
       "       [0.92255528, 0.04321984, 0.90297285, 0.00670791, 0.61806802],\n",
       "       [0.49844043, 0.25166712, 0.83269117, 0.24525024, 0.91682553],\n",
       "       [0.25671528, 0.22936977, 0.47296176, 0.91319353, 0.60093712],\n",
       "       [0.47880951, 0.97465263, 0.68665361, 0.96202754, 0.25017565],\n",
       "       [0.29204489, 0.55508675, 0.8272032 , 0.62596784, 0.26617962],\n",
       "       [0.72686184, 0.41732075, 0.94320917, 0.2050314 , 0.62131166],\n",
       "       [0.65460689, 0.9504738 , 0.08512032, 0.79558665, 0.56484618],\n",
       "       [0.94808835, 0.07973104, 0.25690551, 0.50877586, 0.13978427],\n",
       "       [0.38854365, 0.76105638, 0.41855952, 0.73282084, 0.60100032]])"
      ]
     },
     "execution_count": 148,
     "metadata": {},
     "output_type": "execute_result"
    }
   ],
   "source": [
    "history.copy()"
   ]
  },
  {
   "cell_type": "code",
   "execution_count": 140,
   "metadata": {},
   "outputs": [
    {
     "data": {
      "text/plain": [
       "array([[3.14516113, 3.21383407, 3.46364547, 3.38409544],\n",
       "       [2.93982427, 2.28515577, 2.77046148, 3.44684157],\n",
       "       [2.71464741, 3.750229  , 3.22392978, 3.23798499],\n",
       "       [3.5315933 , 2.92152322, 3.15562877, 4.44815941],\n",
       "       [2.50455722, 3.0294427 , 3.03158458, 3.14155511]])"
      ]
     },
     "execution_count": 140,
     "metadata": {},
     "output_type": "execute_result"
    }
   ],
   "source": [
    "history.T @ params"
   ]
  },
  {
   "cell_type": "code",
   "execution_count": 141,
   "metadata": {},
   "outputs": [
    {
     "data": {
      "text/plain": [
       "array([[1.        , 1.        , 1.        , 1.        , 1.        ],\n",
       "       [0.00759571, 0.34453576, 0.300451  , 0.92959265, 0.12071304],\n",
       "       [0.92255528, 0.04321984, 0.90297285, 0.00670791, 0.61806802],\n",
       "       [0.49844043, 0.25166712, 0.83269117, 0.24525024, 0.91682553],\n",
       "       [0.25671528, 0.22936977, 0.47296176, 0.91319353, 0.60093712],\n",
       "       [0.47880951, 0.97465263, 0.68665361, 0.96202754, 0.25017565],\n",
       "       [0.29204489, 0.55508675, 0.8272032 , 0.62596784, 0.26617962],\n",
       "       [0.72686184, 0.41732075, 0.94320917, 0.2050314 , 0.62131166],\n",
       "       [0.65460689, 0.9504738 , 0.08512032, 0.79558665, 0.56484618],\n",
       "       [0.94808835, 0.07973104, 0.25690551, 0.50877586, 0.13978427],\n",
       "       [0.38854365, 0.76105638, 0.41855952, 0.73282084, 0.60100032]])"
      ]
     },
     "execution_count": 141,
     "metadata": {},
     "output_type": "execute_result"
    }
   ],
   "source": [
    "history"
   ]
  },
  {
   "cell_type": "code",
   "execution_count": 146,
   "metadata": {},
   "outputs": [
    {
     "data": {
      "text/plain": [
       "array([[3.14516113, 3.21383407, 3.46364547, 3.38409544],\n",
       "       [2.93982427, 2.28515577, 2.77046148, 3.44684157],\n",
       "       [2.71464741, 3.750229  , 3.22392978, 3.23798499],\n",
       "       [3.5315933 , 2.92152322, 3.15562877, 4.44815941],\n",
       "       [2.50455722, 3.0294427 , 3.03158458, 3.14155511]])"
      ]
     },
     "execution_count": 146,
     "metadata": {},
     "output_type": "execute_result"
    }
   ],
   "source": [
    "history[1:,:].T @ params[1:,:] + history[:1,:].T @ params[:1,:]"
   ]
  },
  {
   "cell_type": "code",
   "execution_count": 120,
   "metadata": {},
   "outputs": [
    {
     "data": {
      "text/plain": [
       "array([[4.11966897, 5.03062521, 6.06840131, 7.23684307],\n",
       "       [1.85732911, 2.52061872, 2.94872954, 3.33578479],\n",
       "       [1.95450698, 2.57138923, 2.73787468, 3.90112358],\n",
       "       [2.06014336, 2.36086602, 2.66676753, 3.04287698],\n",
       "       [2.01172359, 2.63255346, 2.53000718, 3.43566529]])"
      ]
     },
     "execution_count": 120,
     "metadata": {},
     "output_type": "execute_result"
    }
   ],
   "source": [
    "history.T @ params"
   ]
  },
  {
   "cell_type": "code",
   "execution_count": 128,
   "metadata": {},
   "outputs": [
    {
     "data": {
      "text/plain": [
       "array([[6.64028769, 7.06839851, 7.45545376],\n",
       "       [6.6910582 , 6.85754365, 8.02079255],\n",
       "       [6.48053498, 6.7864365 , 7.16254595],\n",
       "       [6.75222242, 6.64967614, 7.55533425]])"
      ]
     },
     "execution_count": 128,
     "metadata": {},
     "output_type": "execute_result"
    }
   ],
   "source": [
    "history[:,1:].T @ params[:,1:] + history[:,:1].T @ params[:,:1]"
   ]
  },
  {
   "cell_type": "code",
   "execution_count": 134,
   "metadata": {},
   "outputs": [
    {
     "data": {
      "text/plain": [
       "(4, 11)"
      ]
     },
     "execution_count": 134,
     "metadata": {},
     "output_type": "execute_result"
    }
   ],
   "source": [
    "history[:,1:].T.shape"
   ]
  },
  {
   "cell_type": "code",
   "execution_count": 135,
   "metadata": {},
   "outputs": [
    {
     "data": {
      "text/plain": [
       "(11, 3)"
      ]
     },
     "execution_count": 135,
     "metadata": {},
     "output_type": "execute_result"
    }
   ],
   "source": [
    "params[:,1:].shape"
   ]
  },
  {
   "cell_type": "code",
   "execution_count": 133,
   "metadata": {},
   "outputs": [
    {
     "data": {
      "text/plain": [
       "(1, 11)"
      ]
     },
     "execution_count": 133,
     "metadata": {},
     "output_type": "execute_result"
    }
   ],
   "source": [
    "history[:,:1].T.shape"
   ]
  },
  {
   "cell_type": "code",
   "execution_count": 132,
   "metadata": {},
   "outputs": [
    {
     "data": {
      "text/plain": [
       "(11, 1)"
      ]
     },
     "execution_count": 132,
     "metadata": {},
     "output_type": "execute_result"
    }
   ],
   "source": [
    "params[:,:1].shape"
   ]
  },
  {
   "cell_type": "code",
   "execution_count": 125,
   "metadata": {},
   "outputs": [
    {
     "data": {
      "text/plain": [
       "array([0.09803314, 0.58574837, 0.01391095, 0.27981044, 0.90704878,\n",
       "       0.31706613, 0.3100967 , 0.00129803, 0.33788356, 0.64221236,\n",
       "       0.62656049])"
      ]
     },
     "execution_count": 125,
     "metadata": {},
     "output_type": "execute_result"
    }
   ],
   "source": [
    "params[:,0]"
   ]
  },
  {
   "cell_type": "code",
   "execution_count": 105,
   "metadata": {},
   "outputs": [
    {
     "data": {
      "text/plain": [
       "array([[0.42068758, 0.54737382, 0.12675664, 0.14611476],\n",
       "       [0.4709953 , 0.85097928, 0.10922268, 0.06769183],\n",
       "       [0.8280596 , 0.89515511, 0.14045333, 0.42267773],\n",
       "       [0.37588989, 0.19837924, 0.74596628, 0.09593247],\n",
       "       [0.18164374, 0.84992791, 0.34330322, 0.86721748],\n",
       "       [0.84650752, 0.44790673, 0.77586301, 0.03238161],\n",
       "       [0.41814635, 0.74315361, 0.32349598, 0.72104071],\n",
       "       [0.93117608, 0.31449077, 0.03734102, 0.20820312],\n",
       "       [0.68583146, 0.48315091, 0.91073202, 0.43066621],\n",
       "       [0.78040345, 0.63598218, 0.80139529, 0.0247594 ],\n",
       "       [0.01669127, 0.41816678, 0.22002194, 0.76491623]])"
      ]
     },
     "execution_count": 105,
     "metadata": {},
     "output_type": "execute_result"
    }
   ],
   "source": [
    "Y"
   ]
  },
  {
   "cell_type": "code",
   "execution_count": null,
   "metadata": {},
   "outputs": [],
   "source": []
  },
  {
   "cell_type": "code",
   "execution_count": 332,
   "metadata": {
    "scrolled": false
   },
   "outputs": [],
   "source": [
    "from timecast.learners import Sequential, Parallel, Index, PCR, AR\n",
    "from timecast import smap\n",
    "from timecast.objectives import residual\n",
    "from timecast.optim import GradientDescent\n",
    "\n",
    "import tqdm.notebook as tqdm\n",
    "\n",
    "history_len = 12\n",
    "num_stations = 57\n",
    "\n",
    "X = data[num_train + history_len + 0:6373 - 1, :num_stations]\n",
    "Y = data[num_train + history_len + 1:6373 - 0, :num_stations]\n",
    "\n",
    "lstm = Index.partial(index=0)\n",
    "# ar = AR.partial(output_dim=num_stations, history_len=history_len, history=X[:history_len, :num_stations])\n",
    "ars = Sequential.partial(learners=[Index.partial(index=1), ar.module])\n",
    "model, state = Parallel.new(shape=(1, num_stations), learners=[lstm, ars])\n",
    "model.params[\"1\"][\"ar\"] = ar.params\n",
    "\n",
    "optim_def = GradientDescent(learning_rate=(10 ** -30))\n",
    "optimizer = optim_def.create(model)\n",
    "\n",
    "Y_lstm = outputs[\"pred\"][1:, :num_stations]\n",
    "Y_hat, optimizer, state = smap((Y_lstm, X), Y, optimizer, state=state, objective=residual)"
   ]
  },
  {
   "cell_type": "code",
   "execution_count": 336,
   "metadata": {},
   "outputs": [
    {
     "data": {
      "text/plain": [
       "<matplotlib.legend.Legend at 0x7f61af609b38>"
      ]
     },
     "execution_count": 336,
     "metadata": {},
     "output_type": "execute_result"
    },
    {
     "data": {
      "image/png": "[encoded data removed]",
      "text/plain": [
       "<Figure size 1440x720 with 1 Axes>"
      ]
     },
     "metadata": {
      "needs_background": "light"
     },
     "output_type": "display_data"
    }
   ],
   "source": [
    "station = 10\n",
    "plt.plot(Y[:, station], label=\"TRUE\")\n",
    "plt.plot(Y_lstm[:, station], label=\"LSTM\")\n",
    "plt.plot(Y_hat[:, station], label=\"LSTM+AR\")\n",
    "plt.title(\"Wind speed (m/s) for station {}\".format(station))\n",
    "plt.xlabel(\"Time steps\")\n",
    "plt.ylabel(\"Wind speed (m/s)\")\n",
    "plt.legend()"
   ]
  },
  {
   "cell_type": "code",
   "execution_count": 169,
   "metadata": {},
   "outputs": [
    {
     "data": {
      "text/plain": [
       "[<matplotlib.lines.Line2D at 0x7f62c04ad0b8>]"
      ]
     },
     "execution_count": 169,
     "metadata": {},
     "output_type": "execute_result"
    },
    {
     "data": {
      "image/png": "[encoded data removed]",
      "text/plain": [
       "<Figure size 1440x720 with 1 Axes>"
      ]
     },
     "metadata": {
      "needs_background": "light"
     },
     "output_type": "display_data"
    }
   ],
   "source": [
    "plt.plot(Y_hat[:, 0])"
   ]
  },
  {
   "cell_type": "code",
   "execution_count": null,
   "metadata": {},
   "outputs": [],
   "source": []
  }
 ],
 "metadata": {
  "kernelspec": {
   "display_name": "Python 3",
   "language": "python",
   "name": "python3"
  },
  "language_info": {
   "codemirror_mode": {
    "name": "ipython",
    "version": 3
   },
   "file_extension": ".py",
   "mimetype": "text/x-python",
   "name": "python",
   "nbconvert_exporter": "python",
   "pygments_lexer": "ipython3",
   "version": "3.7.0"
  }
 },
 "nbformat": 4,
 "nbformat_minor": 4
}
