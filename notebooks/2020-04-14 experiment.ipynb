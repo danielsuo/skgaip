{
 "cells": [
  {
   "cell_type": "code",
   "execution_count": 7,
   "metadata": {},
   "outputs": [
    {
     "name": "stdout",
     "output_type": "stream",
     "text": [
      "The autoreload extension is already loaded. To reload it, use:\n",
      "  %reload_ext autoreload\n"
     ]
    },
    {
     "data": {
      "text/html": [
       "<style>.container { width:100% !important; }</style>"
      ],
      "text/plain": [
       "<IPython.core.display.HTML object>"
      ]
     },
     "metadata": {},
     "output_type": "display_data"
    }
   ],
   "source": [
    "%load_ext autoreload\n",
    "%autoreload 2\n",
    "\n",
    "from IPython.display import Image\n",
    "from IPython.core.display import display, HTML\n",
    "display(HTML(\"<style>.container { width:100% !important; }</style>\"))\n",
    "\n",
    "import os\n",
    "import json\n",
    "import numpy as np\n",
    "import jax\n",
    "import pickle\n",
    "import matplotlib.pyplot as plt\n",
    "import pandas as pd\n",
    "import torch\n",
    "import matplotlib\n",
    "import timecast as tc\n",
    "\n",
    "from mpl_toolkits import mplot3d\n",
    "\n",
    "\n",
    "plt.rcParams['figure.figsize'] = [20, 10]\n",
    "\n",
    "import tqdm.notebook as tqdm\n",
    "\n",
    "%matplotlib notebook"
   ]
  },
  {
   "cell_type": "code",
   "execution_count": 16,
   "metadata": {
    "scrolled": true
   },
   "outputs": [],
   "source": [
    "@tc.experiment(\"beta\", [0.999, 0.994])\n",
    "@tc.experiment(\"lr\", [1e-6, 1e-5, 1e-4])\n",
    "def beta_lr(beta, lr):\n",
    "    \n",
    "    import pickle\n",
    "    from ealstm.gaip.flood_data import FloodData\n",
    "    from ealstm.gaip.utils import MSE, NSE\n",
    "    from flax import nn\n",
    "\n",
    "    import jax\n",
    "    import jax.numpy as jnp\n",
    "\n",
    "    from timecast.learners import Sequential, Ensemble, AR\n",
    "    from timecast import smap\n",
    "    from timecast.objectives import residual\n",
    "    from timecast.optim import RMSProp\n",
    "    \n",
    "    class Identity(nn.Module):\n",
    "        def apply(self, x):\n",
    "            return x\n",
    "    class Take(nn.Module):\n",
    "        def apply(self, x, i):\n",
    "            return x[i]\n",
    "    \n",
    "    cfg_path = \"../data/models/runs/run_2006_0032_seed444/cfg.json\"\n",
    "    ea_data = pickle.load(open(\"../data/models/runs/run_2006_0032_seed444/lstm_seed444.p\", \"rb\"))\n",
    "    flood_data = FloodData(cfg_path)\n",
    "    \n",
    "    results = {}\n",
    "    mses = []\n",
    "    nses = []\n",
    "\n",
    "    for X, y, basin in flood_data.generator():\n",
    "        with nn.stateful() as state:\n",
    "            lstm = Sequential.partial(modules=[Take, Identity], args=[{\"i\": 0}, {}])\n",
    "            arf = Sequential.partial(modules=[Take, AR], args=[{\"i\": 1}, {\"output_features\": 1, \"history_len\": 270, \"history\": X[:flood_data.cfg[\"seq_length\"]-1]}])\n",
    "            model_def = Ensemble.partial(modules=[lstm, arf], args=[{}, {}])\n",
    "            ys, params = model_def.init_by_shape(jax.random.PRNGKey(0), [(1, 32)])\n",
    "            model = nn.Model(model_def, params)\n",
    "        optim_def = RMSProp(learning_rate=lr, beta2=beta)\n",
    "        optimizer = optim_def.create(model)\n",
    "\n",
    "        # NOTE: difference in indexing convention, so need to pad one row\n",
    "        X_t = X[flood_data.cfg[\"seq_length\"]-1:]\n",
    "        Y_lstm = jnp.array(ea_data[basin].qsim)\n",
    "        Y = jnp.array(ea_data[basin].qobs).reshape(-1, 1)\n",
    "\n",
    "        Y_hat = smap((Y_lstm, X_t), Y, optimizer, state, residual, lambda x, y: jnp.square(x-y).mean())\n",
    "\n",
    "        mse = MSE(Y, Y_hat)\n",
    "        nse = NSE(Y, Y_hat)\n",
    "        mses.append(mse)\n",
    "        nses.append(nse)\n",
    "        \n",
    "        results[basin] = {\n",
    "            \"mse\": mse,\n",
    "            \"nse\": nse,\n",
    "            \"count\": X.shape[0],\n",
    "            \"avg_mse\": jnp.mean(jnp.array(mses)),\n",
    "            \"avg_nse\": jnp.mean(jnp.array(nses))\n",
    "        }\n",
    "        break\n",
    "    return results"
   ]
  },
  {
   "cell_type": "code",
   "execution_count": 18,
   "metadata": {},
   "outputs": [
    {
     "data": {
      "application/vnd.jupyter.widget-view+json": {
       "model_id": "6909fbed963144d38c2c80240577530e",
       "version_major": 2,
       "version_minor": 0
      },
      "text/plain": [
       "HBox(children=(FloatProgress(value=0.0, max=6.0), HTML(value='')))"
      ]
     },
     "metadata": {},
     "output_type": "display_data"
    },
    {
     "name": "stdout",
     "output_type": "stream",
     "text": [
      "\n"
     ]
    }
   ],
   "source": [
    "a = beta_lr.run(processes=6, tqdm=tqdm)"
   ]
  },
  {
   "cell_type": "code",
   "execution_count": 19,
   "metadata": {},
   "outputs": [
    {
     "data": {
      "text/plain": [
       "[{'01022500': {'mse': array(0.99373645, dtype=float32),\n",
       "   'nse': array(0.7981639, dtype=float32),\n",
       "   'count': 3921,\n",
       "   'avg_mse': array(0.99373645, dtype=float32),\n",
       "   'avg_nse': array(0.7981639, dtype=float32)}},\n",
       " {'01022500': {'mse': array(0.82482624, dtype=float32),\n",
       "   'nse': array(0.83247095, dtype=float32),\n",
       "   'count': 3921,\n",
       "   'avg_mse': array(0.82482624, dtype=float32),\n",
       "   'avg_nse': array(0.83247095, dtype=float32)}},\n",
       " {'01022500': {'mse': array(0.5105229, dtype=float32),\n",
       "   'nse': array(0.89630854, dtype=float32),\n",
       "   'count': 3921,\n",
       "   'avg_mse': array(0.5105229, dtype=float32),\n",
       "   'avg_nse': array(0.89630854, dtype=float32)}},\n",
       " {'01022500': {'mse': array(0.9982276, dtype=float32),\n",
       "   'nse': array(0.7972517, dtype=float32),\n",
       "   'count': 3921,\n",
       "   'avg_mse': array(0.9982276, dtype=float32),\n",
       "   'avg_nse': array(0.7972517, dtype=float32)}},\n",
       " {'01022500': {'mse': array(0.8596345, dtype=float32),\n",
       "   'nse': array(0.82540107, dtype=float32),\n",
       "   'count': 3921,\n",
       "   'avg_mse': array(0.8596345, dtype=float32),\n",
       "   'avg_nse': array(0.82540107, dtype=float32)}},\n",
       " {'01022500': {'mse': array(0.4895427, dtype=float32),\n",
       "   'nse': array(0.9005698, dtype=float32),\n",
       "   'count': 3921,\n",
       "   'avg_mse': array(0.4895427, dtype=float32),\n",
       "   'avg_nse': array(0.9005698, dtype=float32)}}]"
      ]
     },
     "execution_count": 19,
     "metadata": {},
     "output_type": "execute_result"
    }
   ],
   "source": [
    "a"
   ]
  },
  {
   "cell_type": "code",
   "execution_count": null,
   "metadata": {},
   "outputs": [],
   "source": []
  }
 ],
 "metadata": {
  "kernelspec": {
   "display_name": "Python 3",
   "language": "python",
   "name": "python3"
  },
  "language_info": {
   "codemirror_mode": {
    "name": "ipython",
    "version": 3
   },
   "file_extension": ".py",
   "mimetype": "text/x-python",
   "name": "python",
   "nbconvert_exporter": "python",
   "pygments_lexer": "ipython3",
   "version": "3.7.3"
  }
 },
 "nbformat": 4,
 "nbformat_minor": 2
}
