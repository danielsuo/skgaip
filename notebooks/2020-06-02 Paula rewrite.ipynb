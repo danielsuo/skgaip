{
 "cells": [
  {
   "cell_type": "code",
   "execution_count": 7,
   "metadata": {},
   "outputs": [
    {
     "data": {
      "text/html": [
       "<style>.container { width:100% !important; }</style>"
      ],
      "text/plain": [
       "<IPython.core.display.HTML object>"
      ]
     },
     "metadata": {},
     "output_type": "display_data"
    }
   ],
   "source": [
    "import jax\n",
    "import jax.numpy as jnp\n",
    "import numpy as np\n",
    "from jax import jit, grad\n",
    "\n",
    "import numpy.random as rand\n",
    "import seaborn as sns\n",
    "import pandas as pd\n",
    "from scipy.linalg import solve_discrete_are as dare\n",
    "import matplotlib.pyplot as plt\n",
    "from tqdm import tqdm\n",
    "\n",
    "from IPython.display import Image\n",
    "from IPython.core.display import display, HTML\n",
    "display(HTML(\"<style>.container { width:100% !important; }</style>\"))\n",
    "\n",
    "import flax"
   ]
  },
  {
   "cell_type": "code",
   "execution_count": 8,
   "metadata": {},
   "outputs": [],
   "source": [
    "# Quadratic Loss\n",
    "def quad_loss(x, u, Q = None, R = None):\n",
    "    x_contrib = x.T @ x if Q is None else x.T @ Q @ x\n",
    "    u_contrib = u.T @ u if R is None else u.T @ R @ u\n",
    "    \n",
    "    return np.sum(x_contrib + u_contrib)"
   ]
  },
  {
   "cell_type": "code",
   "execution_count": 41,
   "metadata": {},
   "outputs": [],
   "source": [
    "def buzz_noise(n, t, scale = 0.3):\n",
    "    if(t < 2 * (T // 10)):\n",
    "        return scale * (onp.sin(onp.arange(start=n*t, stop=n*(t+1))/(2*np.pi))).reshape((n, 1))\n",
    "    elif(t < 4 * (T // 10)):\n",
    "        return rand.normal(scale = scale, size = (n, 1))\n",
    "    elif(t < 6 * (T // 10)):\n",
    "        return scale * (onp.sin(onp.arange(start=n*t, stop=n*(t+1))/(2*np.pi))).reshape((n, 1))\n",
    "    elif(t < 7 * (T // 10)):\n",
    "        return rand.normal(scale = scale, size = (n, 1))\n",
    "    else:\n",
    "        return scale * (onp.sin(onp.arange(start=n*t, stop=n*(t+1))/(2*np.pi))).reshape((n, 1))"
   ]
  },
  {
   "cell_type": "code",
   "execution_count": 36,
   "metadata": {},
   "outputs": [],
   "source": [
    "class LQR(flax.nn.Module):\n",
    "    @classmethod\n",
    "    def init_K(cls, T, A, B, Q=None, R=None):\n",
    "        n, m = B[0].shape\n",
    "        K = jnp.zeros((T, m, n))\n",
    "        \n",
    "        for t in range(T):\n",
    "            if(t % 10 == 0):\n",
    "                # Get system at current time\n",
    "                At, Bt = A[t], B[t]\n",
    "                Qt = jnp.eye(n, dtype=jnp.float32) if Q is None else Q[t]\n",
    "                Rt = jnp.eye(m, dtype=jnp.float32) if R is None else R[t]\n",
    "\n",
    "                # solve the ricatti equation \n",
    "                Xt = dare(At, Bt, Qt, Rt)\n",
    "\n",
    "                #compute LQR gain\n",
    "                Kt = jnp.linalg.inv(Bt.T @ Xt @ Bt + Rt) @ (Bt.T @ Xt @ At)\n",
    "            K = jax.ops.index_update(K, t, Kt)\n",
    "        return K\n",
    "            \n",
    "    def apply(self, x, T, A, B, K, Q=None, R=None):\n",
    "        self.t = self.state(\"t\", shape=())\n",
    "        \n",
    "        if self.is_initializing():\n",
    "            self.t.value = 0\n",
    "        \n",
    "        action = -K[self.t.value] @ x\n",
    "        self.t.value += 1\n",
    "        \n",
    "        return action"
   ]
  },
  {
   "cell_type": "code",
   "execution_count": 42,
   "metadata": {},
   "outputs": [],
   "source": [
    "T = 1000\n",
    "A = jnp.array([[[1., 1.], [0., 1.]] for t in range(T)])\n",
    "B = jnp.array([[[0.], [2. + jnp.sin(np.pi * t/T)]] for t in range(T)])\n",
    "\n",
    "n, m = 2, 1\n",
    "x0 = np.zeros((n, 1))\n",
    "\n",
    "buzz = jnp.asarray(np.asarray([buzz_noise(n, t) for t in range(T)]))"
   ]
  },
  {
   "cell_type": "code",
   "execution_count": 32,
   "metadata": {},
   "outputs": [],
   "source": [
    "init_K = LQR.init_K(T, A, B)"
   ]
  },
  {
   "cell_type": "code",
   "execution_count": 37,
   "metadata": {},
   "outputs": [],
   "source": [
    "model_def = LQR.partial(T=T, A=A, B=B, K=init_K)\n",
    "with flax.nn.stateful() as state:\n",
    "    _, params = model_def.init_by_shape(jax.random.PRNGKey(0), [x0.shape])\n",
    "model = flax.nn.Model(model_def, params)"
   ]
  },
  {
   "cell_type": "code",
   "execution_count": 45,
   "metadata": {},
   "outputs": [],
   "source": [
    "def func(xstate, inputs):\n",
    "    x, state = xstate\n",
    "    a, b, z = inputs\n",
    "    with flax.nn.stateful(state) as state:\n",
    "        u = model(x)\n",
    "        loss = quad_loss(x, u)\n",
    "        x = a @ x + b @ u + z\n",
    "    return (x, state), loss"
   ]
  },
  {
   "cell_type": "code",
   "execution_count": 46,
   "metadata": {},
   "outputs": [
    {
     "name": "stdout",
     "output_type": "stream",
     "text": [
      "51.9 ms ± 243 µs per loop (mean ± std. dev. of 7 runs, 10 loops each)\n"
     ]
    }
   ],
   "source": [
    "%timeit x, loss = jax.lax.scan(func, (x0, state), (A, B, buzz))"
   ]
  },
  {
   "cell_type": "code",
   "execution_count": null,
   "metadata": {},
   "outputs": [],
   "source": []
  }
 ],
 "metadata": {
  "kernelspec": {
   "display_name": "Python 3",
   "language": "python",
   "name": "python3"
  },
  "language_info": {
   "codemirror_mode": {
    "name": "ipython",
    "version": 3
   },
   "file_extension": ".py",
   "mimetype": "text/x-python",
   "name": "python",
   "nbconvert_exporter": "python",
   "pygments_lexer": "ipython3",
   "version": "3.7.0"
  }
 },
 "nbformat": 4,
 "nbformat_minor": 4
}
