{
 "cells": [
  {
   "cell_type": "code",
   "execution_count": 2,
   "metadata": {},
   "outputs": [
    {
     "name": "stdout",
     "output_type": "stream",
     "text": [
      "The autoreload extension is already loaded. To reload it, use:\n",
      "  %reload_ext autoreload\n"
     ]
    },
    {
     "data": {
      "text/html": [
       "<style>.container { width:100% !important; }</style>"
      ],
      "text/plain": [
       "<IPython.core.display.HTML object>"
      ]
     },
     "metadata": {},
     "output_type": "display_data"
    }
   ],
   "source": [
    "%load_ext autoreload\n",
    "%autoreload 2\n",
    "\n",
    "from IPython.display import Image\n",
    "from IPython.core.display import display, HTML\n",
    "display(HTML(\"<style>.container { width:100% !important; }</style>\"))\n",
    "\n",
    "import os\n",
    "import json\n",
    "import numpy as np\n",
    "import jax\n",
    "import jax.numpy as jnp\n",
    "import flax\n",
    "import pickle\n",
    "import matplotlib.pyplot as plt\n",
    "import pandas as pd\n",
    "import matplotlib\n",
    "import timecast as tc\n",
    "\n",
    "from mpl_toolkits import mplot3d\n",
    "\n",
    "plt.rcParams['figure.figsize'] = [20, 10]\n",
    "\n",
    "import tqdm.notebook as tqdm"
   ]
  },
  {
   "cell_type": "code",
   "execution_count": 3,
   "metadata": {},
   "outputs": [],
   "source": [
    "basins = pickle.load(open(\"../data/flood/meta.pkl\", \"rb\"))[\"basins\"]"
   ]
  },
  {
   "cell_type": "code",
   "execution_count": 19,
   "metadata": {},
   "outputs": [],
   "source": [
    "def runner(basin, lr=1e-5):\n",
    "    import pickle\n",
    "\n",
    "    import jax.numpy as jnp\n",
    "\n",
    "    from timecast.learners import Sequential, Parallel, Take, AR\n",
    "    from timecast import smap\n",
    "    from timecast.objectives import residual\n",
    "    from timecast.optim import GradientDescent\n",
    "\n",
    "    import tqdm.notebook as tqdm\n",
    "    \n",
    "    X = pickle.load(open(\"../data/flood/test/{}.pkl\".format(basin), \"rb\"))\n",
    "    Y = pickle.load(open(\"../data/flood/base/{}.pkl\".format(basin), \"rb\"))\n",
    "    \n",
    "    history_len = 270\n",
    "    \n",
    "    lstm = Take.partial(index=0)\n",
    "    pcr = AR.partial(history_len=history_len, history=X[:history_len - 1])\n",
    "    pcr = Sequential.partial(learners=[Take.partial(index=1), pcr])\n",
    "    model, state = Parallel.new(shape=(1, 32), learners=[lstm, pcr])\n",
    "    \n",
    "    optim_def = GradientDescent(learning_rate=lr)\n",
    "    optimizer = optim_def.create(model)\n",
    "\n",
    "    # NOTE: difference in indexing convention, so need to pad one row\n",
    "    X_t = X[history_len - 1:]\n",
    "    Y_lstm = jnp.array(Y.qsim)\n",
    "    Y = jnp.array(Y.qobs).reshape(-1, 1)\n",
    "\n",
    "    Y_hat, optimizer, state = smap((Y_lstm, X_t), Y, optimizer, state=state, objective=residual)\n",
    "\n",
    "    return {\"basin\": basin, \"mse\": jnp.square(Y - Y_hat).mean()}"
   ]
  },
  {
   "cell_type": "code",
   "execution_count": null,
   "metadata": {},
   "outputs": [],
   "source": [
    "(3652, 270, 32) (3652, 2)\n",
    "(3652,)\n",
    "(3652, 270, 32) (3652,)\n",
    "[[-0.45735672 -1.19245875 -2.47350645 ... -0.89466536 -0.46939585\n",
    "  -0.22357242]\n",
    " [-0.45735672 -1.11444044 -2.58669424 ... -0.89466536 -0.46939585\n",
    "  -0.22357242]\n",
    " [-0.45735672 -0.90697372 -2.22412539 ... -0.89466536 -0.46939585\n",
    "  -0.22357242]\n",
    " ...\n",
    " [-0.42567217 -0.34831032 -0.10944621 ... -0.89466536 -0.46939585\n",
    "  -0.22357242]\n",
    " [-0.45015568  0.08645047 -0.02294497 ... -0.89466536 -0.46939585\n",
    "  -0.22357242]\n",
    " [-0.45735672  0.14874364 -0.17110133 ... -0.89466536 -0.46939585\n",
    "  -0.22357242]] 0.6203073859214783"
   ]
  },
  {
   "cell_type": "code",
   "execution_count": 64,
   "metadata": {},
   "outputs": [],
   "source": [
    "class BlackBox(flax.nn.Module):\n",
    "    def apply(self, x, arr):\n",
    "        self.index = self.state(\"index\", shape=(), initializer=flax.nn.initializers.zeros)\n",
    "        val = arr[self.index.value.astype(int)]\n",
    "        if not self.is_initializing():\n",
    "            self.index.value += 1\n",
    "        return val"
   ]
  },
  {
   "cell_type": "code",
   "execution_count": 53,
   "metadata": {},
   "outputs": [],
   "source": [
    "arr = onp.random.rand(10, 10)"
   ]
  },
  {
   "cell_type": "code",
   "execution_count": 54,
   "metadata": {},
   "outputs": [
    {
     "data": {
      "text/plain": [
       "array([[0.22834598, 0.73783427, 0.21340127, 0.14594622, 0.93729401,\n",
       "        0.21077966, 0.00217258, 0.0783711 , 0.10410216, 0.00548621],\n",
       "       [0.28369015, 0.26600418, 0.88828835, 0.156351  , 0.30090768,\n",
       "        0.46945827, 0.95541964, 0.87032048, 0.07816289, 0.28699262],\n",
       "       [0.21109687, 0.35374314, 0.37884342, 0.0028461 , 0.65632721,\n",
       "        0.98917952, 0.53040956, 0.5306344 , 0.28700854, 0.30349276],\n",
       "       [0.37714655, 0.99690132, 0.3412204 , 0.43779144, 0.16694666,\n",
       "        0.40623382, 0.07328402, 0.76408005, 0.03327027, 0.49728318],\n",
       "       [0.00166951, 0.73465882, 0.39870041, 0.611089  , 0.51767051,\n",
       "        0.98409228, 0.83809796, 0.93466848, 0.83634388, 0.93795758],\n",
       "       [0.71520936, 0.95066642, 0.76092544, 0.29650691, 0.04293031,\n",
       "        0.6451522 , 0.58337907, 0.2337206 , 0.5141206 , 0.86950689],\n",
       "       [0.11889408, 0.51946055, 0.34231914, 0.16377098, 0.80210626,\n",
       "        0.74457677, 0.18377496, 0.52103961, 0.86024615, 0.4611516 ],\n",
       "       [0.37840992, 0.03470067, 0.75214526, 0.24139926, 0.72709917,\n",
       "        0.0847793 , 0.19210256, 0.73551338, 0.7561851 , 0.78931171],\n",
       "       [0.30497233, 0.66187505, 0.07708663, 0.86464939, 0.76623824,\n",
       "        0.32089711, 0.72946601, 0.48169242, 0.67437735, 0.69193106],\n",
       "       [0.42888568, 0.15302541, 0.50987409, 0.74955583, 0.46315923,\n",
       "        0.7755868 , 0.86633288, 0.04090214, 0.75689919, 0.24742742]])"
      ]
     },
     "execution_count": 54,
     "metadata": {},
     "output_type": "execute_result"
    }
   ],
   "source": [
    "arr"
   ]
  },
  {
   "cell_type": "code",
   "execution_count": 55,
   "metadata": {
    "scrolled": false
   },
   "outputs": [],
   "source": [
    "with flax.nn.stateful() as state:\n",
    "    model_def = BlackBox.partial(arr=arr)\n",
    "    _, params = model_def.init_by_shape(jax.random.PRNGKey(0), [(10, 10)])\n",
    "    model = flax.nn.Model(model_def, params)"
   ]
  },
  {
   "cell_type": "code",
   "execution_count": 61,
   "metadata": {},
   "outputs": [
    {
     "name": "stdout",
     "output_type": "stream",
     "text": [
      "[0.71520936 0.95066642 0.76092544 0.29650691 0.04293031 0.6451522\n",
      " 0.58337907 0.2337206  0.5141206  0.86950689]\n"
     ]
    }
   ],
   "source": [
    "with flax.nn.stateful(state) as state:\n",
    "    print(model(1))"
   ]
  },
  {
   "cell_type": "code",
   "execution_count": 67,
   "metadata": {},
   "outputs": [],
   "source": [
    "def runner2(basin, lr=1e-5):\n",
    "    import pickle\n",
    "\n",
    "    import jax.numpy as jnp\n",
    "\n",
    "    from timecast.learners import Sequential, Parallel, Take, AR\n",
    "    from timecast import smap\n",
    "    from timecast.objectives import residual\n",
    "    from timecast.optim import GradientDescent\n",
    "\n",
    "    import tqdm.notebook as tqdm\n",
    "    \n",
    "    X = pickle.load(open(\"../data/flood/test/{}.pkl\".format(basin), \"rb\"))\n",
    "    Y = pickle.load(open(\"../data/flood/base/{}.pkl\".format(basin), \"rb\"))\n",
    "    \n",
    "    history_len = 270\n",
    "    \n",
    "    # NOTE: difference in indexing convention, so need to pad one row\n",
    "    X_t = X[history_len - 1:]\n",
    "    Y_lstm = jnp.array(Y.qsim)\n",
    "    Y = jnp.array(Y.qobs).reshape(-1, 1)\n",
    "    \n",
    "    lstm = BlackBox.partial(arr=Y_lstm)\n",
    "    ar = AR.partial(history_len=history_len, history=X[:history_len - 1])\n",
    "    model, state = Parallel.new(shape=(1, 32), learners=[lstm, ar])\n",
    "    \n",
    "    optim_def = GradientDescent(learning_rate=lr)\n",
    "    optimizer = optim_def.create(model)\n",
    "\n",
    "    Y_hat, optimizer, state = smap(X_t, Y, optimizer, state=state, objective=residual)\n",
    "\n",
    "    return {\"basin\": basin, \"mse\": jnp.square(Y - Y_hat).mean()}"
   ]
  },
  {
   "cell_type": "code",
   "execution_count": 68,
   "metadata": {
    "scrolled": false
   },
   "outputs": [
    {
     "data": {
      "application/vnd.jupyter.widget-view+json": {
       "model_id": "1b25a1fd5ea84f81b2c1b8aa579e2379",
       "version_major": 2,
       "version_minor": 0
      },
      "text/plain": [
       "HBox(children=(FloatProgress(value=0.0, max=531.0), HTML(value='')))"
      ]
     },
     "metadata": {},
     "output_type": "display_data"
    },
    {
     "name": "stdout",
     "output_type": "stream",
     "text": [
      "0.7921799 0.7921799\n",
      "0.91340697 1.034634\n",
      "1.0359901 1.2811565\n",
      "1.2766948 1.9988087\n",
      "2.5853267 7.8198547\n",
      "2.9434988 4.73436\n",
      "2.653656 0.91459924\n",
      "2.436369 0.9153604\n",
      "2.2404542 0.6731362\n",
      "2.1063416 0.8993281\n",
      "\n"
     ]
    },
    {
     "ename": "KeyboardInterrupt",
     "evalue": "",
     "output_type": "error",
     "traceback": [
      "\u001b[0;31m---------------------------------------------------------------------------\u001b[0m",
      "\u001b[0;31mKeyboardInterrupt\u001b[0m                         Traceback (most recent call last)",
      "\u001b[0;32m<ipython-input-68-1ed5604bc6a7>\u001b[0m in \u001b[0;36m<module>\u001b[0;34m\u001b[0m\n\u001b[1;32m      3\u001b[0m     \u001b[0mresult\u001b[0m \u001b[0;34m=\u001b[0m \u001b[0mrunner2\u001b[0m\u001b[0;34m(\u001b[0m\u001b[0mbasin\u001b[0m\u001b[0;34m)\u001b[0m\u001b[0;34m\u001b[0m\u001b[0m\n\u001b[1;32m      4\u001b[0m     \u001b[0mmses\u001b[0m\u001b[0;34m.\u001b[0m\u001b[0mappend\u001b[0m\u001b[0;34m(\u001b[0m\u001b[0mresult\u001b[0m\u001b[0;34m[\u001b[0m\u001b[0;34m\"mse\"\u001b[0m\u001b[0;34m]\u001b[0m\u001b[0;34m)\u001b[0m\u001b[0;34m\u001b[0m\u001b[0m\n\u001b[0;32m----> 5\u001b[0;31m     \u001b[0mprint\u001b[0m\u001b[0;34m(\u001b[0m\u001b[0mjnp\u001b[0m\u001b[0;34m.\u001b[0m\u001b[0mmean\u001b[0m\u001b[0;34m(\u001b[0m\u001b[0mjnp\u001b[0m\u001b[0;34m.\u001b[0m\u001b[0marray\u001b[0m\u001b[0;34m(\u001b[0m\u001b[0mmses\u001b[0m\u001b[0;34m)\u001b[0m\u001b[0;34m)\u001b[0m\u001b[0;34m,\u001b[0m \u001b[0mresult\u001b[0m\u001b[0;34m[\u001b[0m\u001b[0;34m\"mse\"\u001b[0m\u001b[0;34m]\u001b[0m\u001b[0;34m)\u001b[0m\u001b[0;34m\u001b[0m\u001b[0m\n\u001b[0m",
      "\u001b[0;32m~/miniconda3/envs/skgaip/lib/python3.7/site-packages/jax/interpreters/xla.py\u001b[0m in \u001b[0;36m_forward_method\u001b[0;34m(attrname, self, fun, *args)\u001b[0m\n\u001b[1;32m    730\u001b[0m \u001b[0;34m\u001b[0m\u001b[0m\n\u001b[1;32m    731\u001b[0m \u001b[0;32mdef\u001b[0m \u001b[0m_forward_method\u001b[0m\u001b[0;34m(\u001b[0m\u001b[0mattrname\u001b[0m\u001b[0;34m,\u001b[0m \u001b[0mself\u001b[0m\u001b[0;34m,\u001b[0m \u001b[0mfun\u001b[0m\u001b[0;34m,\u001b[0m \u001b[0;34m*\u001b[0m\u001b[0margs\u001b[0m\u001b[0;34m)\u001b[0m\u001b[0;34m:\u001b[0m\u001b[0;34m\u001b[0m\u001b[0m\n\u001b[0;32m--> 732\u001b[0;31m   \u001b[0;32mreturn\u001b[0m \u001b[0mfun\u001b[0m\u001b[0;34m(\u001b[0m\u001b[0mgetattr\u001b[0m\u001b[0;34m(\u001b[0m\u001b[0mself\u001b[0m\u001b[0;34m,\u001b[0m \u001b[0mattrname\u001b[0m\u001b[0;34m)\u001b[0m\u001b[0;34m,\u001b[0m \u001b[0;34m*\u001b[0m\u001b[0margs\u001b[0m\u001b[0;34m)\u001b[0m\u001b[0;34m\u001b[0m\u001b[0m\n\u001b[0m\u001b[1;32m    733\u001b[0m \u001b[0m_forward_to_value\u001b[0m \u001b[0;34m=\u001b[0m \u001b[0mpartial\u001b[0m\u001b[0;34m(\u001b[0m\u001b[0m_forward_method\u001b[0m\u001b[0;34m,\u001b[0m \u001b[0;34m\"_value\"\u001b[0m\u001b[0;34m)\u001b[0m\u001b[0;34m\u001b[0m\u001b[0m\n\u001b[1;32m    734\u001b[0m \u001b[0;34m\u001b[0m\u001b[0m\n",
      "\u001b[0;32m~/miniconda3/envs/skgaip/lib/python3.7/site-packages/jax/interpreters/xla.py\u001b[0m in \u001b[0;36m_value\u001b[0;34m(self)\u001b[0m\n\u001b[1;32m    759\u001b[0m         \u001b[0mself\u001b[0m\u001b[0;34m.\u001b[0m\u001b[0m_npy_value\u001b[0m \u001b[0;34m=\u001b[0m \u001b[0mlazy\u001b[0m\u001b[0;34m.\u001b[0m\u001b[0meval_lexpr\u001b[0m\u001b[0;34m(\u001b[0m\u001b[0mself\u001b[0m\u001b[0;34m.\u001b[0m\u001b[0m_lazy_expr\u001b[0m\u001b[0;34m,\u001b[0m \u001b[0;32mNone\u001b[0m\u001b[0;34m)\u001b[0m\u001b[0;34m\u001b[0m\u001b[0m\n\u001b[1;32m    760\u001b[0m       \u001b[0;32melse\u001b[0m\u001b[0;34m:\u001b[0m\u001b[0;34m\u001b[0m\u001b[0m\n\u001b[0;32m--> 761\u001b[0;31m         \u001b[0mself\u001b[0m\u001b[0;34m.\u001b[0m\u001b[0m_npy_value\u001b[0m \u001b[0;34m=\u001b[0m \u001b[0m_force\u001b[0m\u001b[0;34m(\u001b[0m\u001b[0mself\u001b[0m\u001b[0;34m)\u001b[0m\u001b[0;34m.\u001b[0m\u001b[0mdevice_buffer\u001b[0m\u001b[0;34m.\u001b[0m\u001b[0mto_py\u001b[0m\u001b[0;34m(\u001b[0m\u001b[0;34m)\u001b[0m\u001b[0;34m\u001b[0m\u001b[0m\n\u001b[0m\u001b[1;32m    762\u001b[0m       \u001b[0mself\u001b[0m\u001b[0;34m.\u001b[0m\u001b[0m_npy_value\u001b[0m\u001b[0;34m.\u001b[0m\u001b[0mflags\u001b[0m\u001b[0;34m.\u001b[0m\u001b[0mwriteable\u001b[0m \u001b[0;34m=\u001b[0m \u001b[0;32mFalse\u001b[0m\u001b[0;34m\u001b[0m\u001b[0m\n\u001b[1;32m    763\u001b[0m     \u001b[0;32mreturn\u001b[0m \u001b[0mself\u001b[0m\u001b[0;34m.\u001b[0m\u001b[0m_npy_value\u001b[0m\u001b[0;34m\u001b[0m\u001b[0m\n",
      "\u001b[0;31mKeyboardInterrupt\u001b[0m: "
     ]
    }
   ],
   "source": [
    "mses = []\n",
    "for basin in tqdm.tqdm(basins):\n",
    "    result = runner2(basin)\n",
    "    mses.append(result[\"mse\"])\n",
    "    print(jnp.mean(jnp.array(mses)), result[\"mse\"])"
   ]
  },
  {
   "cell_type": "code",
   "execution_count": 69,
   "metadata": {},
   "outputs": [],
   "source": [
    "from timecast.learners import BlackBox"
   ]
  },
  {
   "cell_type": "code",
   "execution_count": 70,
   "metadata": {},
   "outputs": [],
   "source": [
    "arr = onp.random.rand(10, 10)"
   ]
  },
  {
   "cell_type": "code",
   "execution_count": 71,
   "metadata": {},
   "outputs": [
    {
     "data": {
      "text/plain": [
       "array([[0.90518325, 0.31685522, 0.39291534, 0.99181748, 0.29065332,\n",
       "        0.24163112, 0.95548252, 0.99844331, 0.09140171, 0.65865713],\n",
       "       [0.52713931, 0.88044497, 0.35095084, 0.71680116, 0.26766067,\n",
       "        0.77530987, 0.31168818, 0.19164685, 0.95863018, 0.04147895],\n",
       "       [0.20860077, 0.46211544, 0.29739237, 0.85566494, 0.12643679,\n",
       "        0.1112244 , 0.47639521, 0.48575916, 0.7120798 , 0.81211941],\n",
       "       [0.4754026 , 0.11204976, 0.47827696, 0.99039971, 0.80149364,\n",
       "        0.24717626, 0.03159279, 0.95914768, 0.08948704, 0.7104717 ],\n",
       "       [0.02233964, 0.50984689, 0.57352503, 0.39096701, 0.61187166,\n",
       "        0.27400898, 0.94770433, 0.05261495, 0.1486659 , 0.88145313],\n",
       "       [0.75581062, 0.93018558, 0.44643126, 0.48888059, 0.61728009,\n",
       "        0.52795606, 0.60196177, 0.40297298, 0.84111828, 0.60850531],\n",
       "       [0.75595573, 0.63371538, 0.41360125, 0.23757455, 0.09884147,\n",
       "        0.89886265, 0.57831166, 0.05443015, 0.23131649, 0.96927147],\n",
       "       [0.04700768, 0.39412255, 0.23330684, 0.12794154, 0.15959966,\n",
       "        0.53831655, 0.54013567, 0.67368274, 0.49208875, 0.14478725],\n",
       "       [0.04275016, 0.78560618, 0.06371953, 0.87988171, 0.28925895,\n",
       "        0.18278566, 0.24218381, 0.33645493, 0.74221812, 0.47209826],\n",
       "       [0.09978958, 0.85047132, 0.95464361, 0.47115043, 0.90567134,\n",
       "        0.86971541, 0.58293556, 0.40853612, 0.08433668, 0.94984936]])"
      ]
     },
     "execution_count": 71,
     "metadata": {},
     "output_type": "execute_result"
    }
   ],
   "source": [
    "arr"
   ]
  },
  {
   "cell_type": "code",
   "execution_count": 84,
   "metadata": {},
   "outputs": [],
   "source": [
    "with flax.nn.stateful() as state:\n",
    "    model_def = BlackBox.partial(arr=arr, name=\"BlackBox\")\n",
    "    _, params = model_def.init_by_shape(jax.random.PRNGKey(0), [(10, 10)])\n",
    "    model = flax.nn.Model(model_def, params)"
   ]
  },
  {
   "cell_type": "code",
   "execution_count": 85,
   "metadata": {},
   "outputs": [
    {
     "name": "stdout",
     "output_type": "stream",
     "text": [
      "Model(module=<class 'flax.nn.base.BlackBox'>, params={})\n"
     ]
    }
   ],
   "source": [
    "print(model)"
   ]
  },
  {
   "cell_type": "code",
   "execution_count": 86,
   "metadata": {},
   "outputs": [
    {
     "name": "stdout",
     "output_type": "stream",
     "text": [
      "{'/BlackBox': {'index': DeviceArray(0., dtype=float32)}}\n",
      "[0.90518325 0.31685522 0.39291534 0.99181748 0.29065332 0.24163112\n",
      " 0.95548252 0.99844331 0.09140171 0.65865713] [0.90518325 0.31685522 0.39291534 0.99181748 0.29065332 0.24163112\n",
      " 0.95548252 0.99844331 0.09140171 0.65865713]\n",
      "[0.52713931 0.88044497 0.35095084 0.71680116 0.26766067 0.77530987\n",
      " 0.31168818 0.19164685 0.95863018 0.04147895] [0.52713931 0.88044497 0.35095084 0.71680116 0.26766067 0.77530987\n",
      " 0.31168818 0.19164685 0.95863018 0.04147895]\n",
      "[0.20860077 0.46211544 0.29739237 0.85566494 0.12643679 0.1112244\n",
      " 0.47639521 0.48575916 0.7120798  0.81211941] [0.20860077 0.46211544 0.29739237 0.85566494 0.12643679 0.1112244\n",
      " 0.47639521 0.48575916 0.7120798  0.81211941]\n",
      "[0.4754026  0.11204976 0.47827696 0.99039971 0.80149364 0.24717626\n",
      " 0.03159279 0.95914768 0.08948704 0.7104717 ] [0.4754026  0.11204976 0.47827696 0.99039971 0.80149364 0.24717626\n",
      " 0.03159279 0.95914768 0.08948704 0.7104717 ]\n",
      "[0.02233964 0.50984689 0.57352503 0.39096701 0.61187166 0.27400898\n",
      " 0.94770433 0.05261495 0.1486659  0.88145313] [0.02233964 0.50984689 0.57352503 0.39096701 0.61187166 0.27400898\n",
      " 0.94770433 0.05261495 0.1486659  0.88145313]\n",
      "[0.75581062 0.93018558 0.44643126 0.48888059 0.61728009 0.52795606\n",
      " 0.60196177 0.40297298 0.84111828 0.60850531] [0.75581062 0.93018558 0.44643126 0.48888059 0.61728009 0.52795606\n",
      " 0.60196177 0.40297298 0.84111828 0.60850531]\n",
      "[0.75595573 0.63371538 0.41360125 0.23757455 0.09884147 0.89886265\n",
      " 0.57831166 0.05443015 0.23131649 0.96927147] [0.75595573 0.63371538 0.41360125 0.23757455 0.09884147 0.89886265\n",
      " 0.57831166 0.05443015 0.23131649 0.96927147]\n",
      "[0.04700768 0.39412255 0.23330684 0.12794154 0.15959966 0.53831655\n",
      " 0.54013567 0.67368274 0.49208875 0.14478725] [0.04700768 0.39412255 0.23330684 0.12794154 0.15959966 0.53831655\n",
      " 0.54013567 0.67368274 0.49208875 0.14478725]\n",
      "[0.04275016 0.78560618 0.06371953 0.87988171 0.28925895 0.18278566\n",
      " 0.24218381 0.33645493 0.74221812 0.47209826] [0.04275016 0.78560618 0.06371953 0.87988171 0.28925895 0.18278566\n",
      " 0.24218381 0.33645493 0.74221812 0.47209826]\n",
      "[0.09978958 0.85047132 0.95464361 0.47115043 0.90567134 0.86971541\n",
      " 0.58293556 0.40853612 0.08433668 0.94984936] [0.09978958 0.85047132 0.95464361 0.47115043 0.90567134 0.86971541\n",
      " 0.58293556 0.40853612 0.08433668 0.94984936]\n"
     ]
    }
   ],
   "source": [
    "with flax.nn.stateful(state) as state:\n",
    "    print(state.state)\n",
    "    for i in range(arr.shape[0]):\n",
    "        print(arr[i], model(1))"
   ]
  },
  {
   "cell_type": "code",
   "execution_count": 89,
   "metadata": {},
   "outputs": [
    {
     "ename": "ValueError",
     "evalue": "No state variable named `index` exists.",
     "output_type": "error",
     "traceback": [
      "\u001b[0;31m---------------------------------------------------------------------------\u001b[0m",
      "\u001b[0;31mValueError\u001b[0m                                Traceback (most recent call last)",
      "\u001b[0;32m<ipython-input-89-e0a97031df02>\u001b[0m in \u001b[0;36m<module>\u001b[0;34m\u001b[0m\n\u001b[1;32m      1\u001b[0m \u001b[0;32mwith\u001b[0m \u001b[0mflax\u001b[0m\u001b[0;34m.\u001b[0m\u001b[0mnn\u001b[0m\u001b[0;34m.\u001b[0m\u001b[0mstateful\u001b[0m\u001b[0;34m(\u001b[0m\u001b[0;34m)\u001b[0m \u001b[0;32mas\u001b[0m \u001b[0mstate\u001b[0m\u001b[0;34m:\u001b[0m\u001b[0;34m\u001b[0m\u001b[0m\n\u001b[0;32m----> 2\u001b[0;31m     \u001b[0mmodel\u001b[0m\u001b[0;34m(\u001b[0m\u001b[0;36m1\u001b[0m\u001b[0;34m)\u001b[0m\u001b[0;34m\u001b[0m\u001b[0m\n\u001b[0m",
      "\u001b[0;32m~/miniconda3/envs/skgaip/lib/python3.7/site-packages/flax/nn/base.py\u001b[0m in \u001b[0;36m__call__\u001b[0;34m(self, *args, **kwargs)\u001b[0m\n\u001b[1;32m    905\u001b[0m \u001b[0;34m\u001b[0m\u001b[0m\n\u001b[1;32m    906\u001b[0m   \u001b[0;32mdef\u001b[0m \u001b[0m__call__\u001b[0m\u001b[0;34m(\u001b[0m\u001b[0mself\u001b[0m\u001b[0;34m,\u001b[0m \u001b[0;34m*\u001b[0m\u001b[0margs\u001b[0m\u001b[0;34m,\u001b[0m \u001b[0;34m**\u001b[0m\u001b[0mkwargs\u001b[0m\u001b[0;34m)\u001b[0m\u001b[0;34m:\u001b[0m\u001b[0;34m\u001b[0m\u001b[0m\n\u001b[0;32m--> 907\u001b[0;31m     \u001b[0;32mreturn\u001b[0m \u001b[0mself\u001b[0m\u001b[0;34m.\u001b[0m\u001b[0mmodule\u001b[0m\u001b[0;34m.\u001b[0m\u001b[0mcall\u001b[0m\u001b[0;34m(\u001b[0m\u001b[0mself\u001b[0m\u001b[0;34m.\u001b[0m\u001b[0mparams\u001b[0m\u001b[0;34m,\u001b[0m \u001b[0;34m*\u001b[0m\u001b[0margs\u001b[0m\u001b[0;34m,\u001b[0m \u001b[0;34m**\u001b[0m\u001b[0mkwargs\u001b[0m\u001b[0;34m)\u001b[0m\u001b[0;34m\u001b[0m\u001b[0m\n\u001b[0m\u001b[1;32m    908\u001b[0m \u001b[0;34m\u001b[0m\u001b[0m\n\u001b[1;32m    909\u001b[0m   \u001b[0;32mdef\u001b[0m \u001b[0mtruncate_at\u001b[0m\u001b[0;34m(\u001b[0m\u001b[0mself\u001b[0m\u001b[0;34m,\u001b[0m \u001b[0mmodule_path\u001b[0m\u001b[0;34m)\u001b[0m\u001b[0;34m:\u001b[0m\u001b[0;34m\u001b[0m\u001b[0m\n",
      "\u001b[0;32m~/miniconda3/envs/skgaip/lib/python3.7/site-packages/flax/nn/base.py\u001b[0m in \u001b[0;36mwrapper\u001b[0;34m(class_, *args, **kwargs)\u001b[0m\n\u001b[1;32m    219\u001b[0m       \u001b[0;32mdef\u001b[0m \u001b[0mwrapper\u001b[0m\u001b[0;34m(\u001b[0m\u001b[0mclass_\u001b[0m\u001b[0;34m,\u001b[0m \u001b[0;34m*\u001b[0m\u001b[0margs\u001b[0m\u001b[0;34m,\u001b[0m \u001b[0;34m**\u001b[0m\u001b[0mkwargs\u001b[0m\u001b[0;34m)\u001b[0m\u001b[0;34m:\u001b[0m\u001b[0;34m\u001b[0m\u001b[0m\n\u001b[1;32m    220\u001b[0m         \u001b[0msuper_fn\u001b[0m \u001b[0;34m=\u001b[0m \u001b[0mgetattr\u001b[0m\u001b[0;34m(\u001b[0m\u001b[0msuper\u001b[0m\u001b[0;34m(\u001b[0m\u001b[0mcls\u001b[0m\u001b[0;34m,\u001b[0m \u001b[0mclass_\u001b[0m\u001b[0;34m)\u001b[0m\u001b[0;34m,\u001b[0m \u001b[0mname\u001b[0m\u001b[0;34m)\u001b[0m\u001b[0;34m\u001b[0m\u001b[0m\n\u001b[0;32m--> 221\u001b[0;31m         \u001b[0;32mreturn\u001b[0m \u001b[0msuper_fn\u001b[0m\u001b[0;34m(\u001b[0m\u001b[0;34m*\u001b[0m\u001b[0margs\u001b[0m\u001b[0;34m,\u001b[0m \u001b[0;34m**\u001b[0m\u001b[0mkwargs\u001b[0m\u001b[0;34m)\u001b[0m\u001b[0;34m\u001b[0m\u001b[0m\n\u001b[0m\u001b[1;32m    222\u001b[0m       wrapper.__doc__ = f'''{orig_fn.__doc__}\n\u001b[1;32m    223\u001b[0m \u001b[0;34m\u001b[0m\u001b[0m\n",
      "\u001b[0;32m~/miniconda3/envs/skgaip/lib/python3.7/site-packages/flax/nn/base.py\u001b[0m in \u001b[0;36mwrapper\u001b[0;34m(class_, *args, **kwargs)\u001b[0m\n\u001b[1;32m    219\u001b[0m       \u001b[0;32mdef\u001b[0m \u001b[0mwrapper\u001b[0m\u001b[0;34m(\u001b[0m\u001b[0mclass_\u001b[0m\u001b[0;34m,\u001b[0m \u001b[0;34m*\u001b[0m\u001b[0margs\u001b[0m\u001b[0;34m,\u001b[0m \u001b[0;34m**\u001b[0m\u001b[0mkwargs\u001b[0m\u001b[0;34m)\u001b[0m\u001b[0;34m:\u001b[0m\u001b[0;34m\u001b[0m\u001b[0m\n\u001b[1;32m    220\u001b[0m         \u001b[0msuper_fn\u001b[0m \u001b[0;34m=\u001b[0m \u001b[0mgetattr\u001b[0m\u001b[0;34m(\u001b[0m\u001b[0msuper\u001b[0m\u001b[0;34m(\u001b[0m\u001b[0mcls\u001b[0m\u001b[0;34m,\u001b[0m \u001b[0mclass_\u001b[0m\u001b[0;34m)\u001b[0m\u001b[0;34m,\u001b[0m \u001b[0mname\u001b[0m\u001b[0;34m)\u001b[0m\u001b[0;34m\u001b[0m\u001b[0m\n\u001b[0;32m--> 221\u001b[0;31m         \u001b[0;32mreturn\u001b[0m \u001b[0msuper_fn\u001b[0m\u001b[0;34m(\u001b[0m\u001b[0;34m*\u001b[0m\u001b[0margs\u001b[0m\u001b[0;34m,\u001b[0m \u001b[0;34m**\u001b[0m\u001b[0mkwargs\u001b[0m\u001b[0;34m)\u001b[0m\u001b[0;34m\u001b[0m\u001b[0m\n\u001b[0m\u001b[1;32m    222\u001b[0m       wrapper.__doc__ = f'''{orig_fn.__doc__}\n\u001b[1;32m    223\u001b[0m \u001b[0;34m\u001b[0m\u001b[0m\n",
      "\u001b[0;32m~/miniconda3/envs/skgaip/lib/python3.7/site-packages/flax/nn/base.py\u001b[0m in \u001b[0;36mcall\u001b[0;34m(cls, params, name, *args, **kwargs)\u001b[0m\n\u001b[1;32m    536\u001b[0m                          transparent=cls._is_transparent())\n\u001b[1;32m    537\u001b[0m     \u001b[0;32mwith\u001b[0m \u001b[0mcls\u001b[0m\u001b[0;34m.\u001b[0m\u001b[0m_with_instance\u001b[0m\u001b[0;34m(\u001b[0m\u001b[0mframe\u001b[0m\u001b[0;34m)\u001b[0m \u001b[0;32mas\u001b[0m \u001b[0minstance\u001b[0m\u001b[0;34m:\u001b[0m\u001b[0;34m\u001b[0m\u001b[0m\n\u001b[0;32m--> 538\u001b[0;31m       \u001b[0my\u001b[0m \u001b[0;34m=\u001b[0m \u001b[0minstance\u001b[0m\u001b[0;34m.\u001b[0m\u001b[0mapply\u001b[0m\u001b[0;34m(\u001b[0m\u001b[0;34m*\u001b[0m\u001b[0margs\u001b[0m\u001b[0;34m,\u001b[0m \u001b[0;34m**\u001b[0m\u001b[0mkwargs\u001b[0m\u001b[0;34m)\u001b[0m\u001b[0;34m\u001b[0m\u001b[0m\n\u001b[0m\u001b[1;32m    539\u001b[0m       \u001b[0m_track_outputs\u001b[0m\u001b[0;34m(\u001b[0m\u001b[0my\u001b[0m\u001b[0;34m)\u001b[0m\u001b[0;34m\u001b[0m\u001b[0m\n\u001b[1;32m    540\u001b[0m     \u001b[0;32mreturn\u001b[0m \u001b[0my\u001b[0m\u001b[0;34m\u001b[0m\u001b[0m\n",
      "\u001b[0;32m~/src/timecast/timecast/learners/_blackbox.py\u001b[0m in \u001b[0;36mapply\u001b[0;34m(self, x, arr)\u001b[0m\n\u001b[1;32m     22\u001b[0m         \u001b[0;34m\"\"\"Apply function\"\"\"\u001b[0m\u001b[0;34m\u001b[0m\u001b[0m\n\u001b[1;32m     23\u001b[0m         \u001b[0mself\u001b[0m\u001b[0;34m.\u001b[0m\u001b[0mindex\u001b[0m \u001b[0;34m=\u001b[0m \u001b[0mself\u001b[0m\u001b[0;34m.\u001b[0m\u001b[0mstate\u001b[0m\u001b[0;34m(\u001b[0m\u001b[0;34m\"index\"\u001b[0m\u001b[0;34m,\u001b[0m \u001b[0mshape\u001b[0m\u001b[0;34m=\u001b[0m\u001b[0;34m(\u001b[0m\u001b[0;34m)\u001b[0m\u001b[0;34m,\u001b[0m \u001b[0minitializer\u001b[0m\u001b[0;34m=\u001b[0m\u001b[0mflax\u001b[0m\u001b[0;34m.\u001b[0m\u001b[0mnn\u001b[0m\u001b[0;34m.\u001b[0m\u001b[0minitializers\u001b[0m\u001b[0;34m.\u001b[0m\u001b[0mzeros\u001b[0m\u001b[0;34m)\u001b[0m\u001b[0;34m\u001b[0m\u001b[0m\n\u001b[0;32m---> 24\u001b[0;31m         \u001b[0mval\u001b[0m \u001b[0;34m=\u001b[0m \u001b[0marr\u001b[0m\u001b[0;34m[\u001b[0m\u001b[0mself\u001b[0m\u001b[0;34m.\u001b[0m\u001b[0mindex\u001b[0m\u001b[0;34m.\u001b[0m\u001b[0mvalue\u001b[0m\u001b[0;34m.\u001b[0m\u001b[0mastype\u001b[0m\u001b[0;34m(\u001b[0m\u001b[0mint\u001b[0m\u001b[0;34m)\u001b[0m\u001b[0;34m]\u001b[0m\u001b[0;34m\u001b[0m\u001b[0m\n\u001b[0m\u001b[1;32m     25\u001b[0m         \u001b[0;32mif\u001b[0m \u001b[0;32mnot\u001b[0m \u001b[0mself\u001b[0m\u001b[0;34m.\u001b[0m\u001b[0mis_initializing\u001b[0m\u001b[0;34m(\u001b[0m\u001b[0;34m)\u001b[0m\u001b[0;34m:\u001b[0m\u001b[0;34m\u001b[0m\u001b[0m\n\u001b[1;32m     26\u001b[0m             \u001b[0mself\u001b[0m\u001b[0;34m.\u001b[0m\u001b[0mindex\u001b[0m\u001b[0;34m.\u001b[0m\u001b[0mvalue\u001b[0m \u001b[0;34m+=\u001b[0m \u001b[0;36m1\u001b[0m\u001b[0;34m\u001b[0m\u001b[0m\n",
      "\u001b[0;32m~/miniconda3/envs/skgaip/lib/python3.7/site-packages/flax/nn/base.py\u001b[0m in \u001b[0;36mvalue\u001b[0;34m(self)\u001b[0m\n\u001b[1;32m    816\u001b[0m     \u001b[0mstate_dict\u001b[0m \u001b[0;34m=\u001b[0m \u001b[0mself\u001b[0m\u001b[0;34m.\u001b[0m\u001b[0m_get_state_dict\u001b[0m\u001b[0;34m(\u001b[0m\u001b[0;34m)\u001b[0m\u001b[0;34m\u001b[0m\u001b[0m\n\u001b[1;32m    817\u001b[0m     \u001b[0;32mif\u001b[0m \u001b[0mself\u001b[0m\u001b[0;34m.\u001b[0m\u001b[0m_name\u001b[0m \u001b[0;32mnot\u001b[0m \u001b[0;32min\u001b[0m \u001b[0mstate_dict\u001b[0m\u001b[0;34m:\u001b[0m\u001b[0;34m\u001b[0m\u001b[0m\n\u001b[0;32m--> 818\u001b[0;31m       \u001b[0;32mraise\u001b[0m \u001b[0mValueError\u001b[0m\u001b[0;34m(\u001b[0m\u001b[0;34mf'No state variable named `{self._name}` exists.'\u001b[0m\u001b[0;34m)\u001b[0m\u001b[0;34m\u001b[0m\u001b[0m\n\u001b[0m\u001b[1;32m    819\u001b[0m     \u001b[0;32mreturn\u001b[0m \u001b[0mstate_dict\u001b[0m\u001b[0;34m[\u001b[0m\u001b[0mself\u001b[0m\u001b[0;34m.\u001b[0m\u001b[0m_name\u001b[0m\u001b[0;34m]\u001b[0m\u001b[0;34m\u001b[0m\u001b[0m\n\u001b[1;32m    820\u001b[0m \u001b[0;34m\u001b[0m\u001b[0m\n",
      "\u001b[0;31mValueError\u001b[0m: No state variable named `index` exists."
     ]
    }
   ],
   "source": [
    "with flax.nn.stateful() as state:\n",
    "    model(1)"
   ]
  },
  {
   "cell_type": "code",
   "execution_count": null,
   "metadata": {},
   "outputs": [],
   "source": []
  }
 ],
 "metadata": {
  "kernelspec": {
   "display_name": "Python 3",
   "language": "python",
   "name": "python3"
  },
  "language_info": {
   "codemirror_mode": {
    "name": "ipython",
    "version": 3
   },
   "file_extension": ".py",
   "mimetype": "text/x-python",
   "name": "python",
   "nbconvert_exporter": "python",
   "pygments_lexer": "ipython3",
   "version": "3.7.0"
  }
 },
 "nbformat": 4,
 "nbformat_minor": 4
}
