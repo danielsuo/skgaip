{
 "cells": [
  {
   "cell_type": "code",
   "execution_count": 1,
   "metadata": {},
   "outputs": [],
   "source": [
    "%load_ext autoreload\n",
    "%autoreload 2"
   ]
  },
  {
   "cell_type": "code",
   "execution_count": 2,
   "metadata": {},
   "outputs": [
    {
     "name": "stderr",
     "output_type": "stream",
     "text": [
      "/home/dsuo/miniconda3/envs/skgaip/lib/python3.7/site-packages/jax/lib/xla_bridge.py:123: UserWarning: No GPU/TPU found, falling back to CPU.\n",
      "  warnings.warn('No GPU/TPU found, falling back to CPU.')\n",
      "Using TensorFlow backend.\n"
     ]
    }
   ],
   "source": [
    "import os\n",
    "import jax\n",
    "import timecast as tc\n",
    "from timecast.utils.experiment import experiment\n",
    "import pandas as pd\n",
    "import jax.numpy as jnp\n",
    "import numpy as np\n",
    "import matplotlib.pyplot as plt\n",
    "from keras.models import load_model, Model\n",
    "from tqdm.notebook import tqdm\n",
    "import binpacking\n",
    "import pickle"
   ]
  },
  {
   "cell_type": "code",
   "execution_count": 40,
   "metadata": {},
   "outputs": [],
   "source": [
    "test_keys = np.load('data/fusion/FRNN_1d_sample/test_list.npy')"
   ]
  },
  {
   "cell_type": "code",
   "execution_count": 41,
   "metadata": {},
   "outputs": [],
   "source": [
    "@experiment(\"shot\", test_keys)\n",
    "@experiment(\"history_len\", [10, 100, 200])\n",
    "@experiment(\"learning_rate\", [1e-7, 1e-5, 1e-4])\n",
    "def runner(shot, history_len, learning_rate):\n",
    "    import jax\n",
    "    import pickle\n",
    "    import jax.numpy as jnp\n",
    "    \n",
    "    from timecast.modules import AR\n",
    "    from timecast.optim import SGD, NormThreshold\n",
    "    \n",
    "    MSE = lambda true, pred: jnp.square(jnp.asarray(true) - jnp.asarray(pred)).mean()\n",
    "    \n",
    "    ar = AR(history_len, 1, 1)\n",
    "    \n",
    "    data = pickle.load(open(f\"data/fusion/original/{shot}.pkl\", \"rb\"))\n",
    "    \n",
    "    # Locked mode amplitude\n",
    "    xs, ts, s = data[:-30, 3], data[1:-29, 3], data[30:, 3]\n",
    "    \n",
    "    sgd = SGD(learning_rate=learning_rate)\n",
    "    nl_k = NormThreshold(0.03, filter=lambda x: \"kernel\" in x)\n",
    "    nl_b = NormThreshold(1e-4, filter=lambda x: \"bias\" in x)\n",
    "    def loop(module, xy):\n",
    "        x, y = xy\n",
    "        pred = module(x)\n",
    "        module = sgd(module, x, y)\n",
    "        module = nl_k(module)\n",
    "        module = nl_b(module)\n",
    "\n",
    "        return module, pred\n",
    "\n",
    "    ar, ys = jax.lax.scan(loop, ar, (xs, ts))\n",
    "    \n",
    "    return {\n",
    "        \"shot\": shot,\n",
    "        \"history_len\": history_len,\n",
    "        \"learning_rate\": learning_rate,\n",
    "        \"mse\": MSE(s.squeeze(), ys.squeeze()),\n",
    "    }"
   ]
  },
  {
   "cell_type": "code",
   "execution_count": 42,
   "metadata": {},
   "outputs": [
    {
     "data": {
      "application/vnd.jupyter.widget-view+json": {
       "model_id": "fac614b9447646bbb229f8a1dbc9512d",
       "version_major": 2,
       "version_minor": 0
      },
      "text/plain": [
       "HBox(children=(FloatProgress(value=0.0, max=7758.0), HTML(value='')))"
      ]
     },
     "metadata": {},
     "output_type": "display_data"
    },
    {
     "name": "stdout",
     "output_type": "stream",
     "text": [
      "\n"
     ]
    }
   ],
   "source": [
    "ar_results = runner.run(processes=25, tqdm=tqdm)"
   ]
  },
  {
   "cell_type": "code",
   "execution_count": 43,
   "metadata": {},
   "outputs": [],
   "source": [
    "pickle.dump(ar_results, open(\"data/fusion/baseline/ar_results.pkl\", \"wb\"))"
   ]
  },
  {
   "cell_type": "code",
   "execution_count": 44,
   "metadata": {},
   "outputs": [],
   "source": [
    "ar_df = pd.DataFrame.from_dict(ar_results)\n",
    "ar_df = ar_df.astype(float)"
   ]
  },
  {
   "cell_type": "code",
   "execution_count": 45,
   "metadata": {},
   "outputs": [
    {
     "data": {
      "text/html": [
       "<div>\n",
       "<style scoped>\n",
       "    .dataframe tbody tr th:only-of-type {\n",
       "        vertical-align: middle;\n",
       "    }\n",
       "\n",
       "    .dataframe tbody tr th {\n",
       "        vertical-align: top;\n",
       "    }\n",
       "\n",
       "    .dataframe thead th {\n",
       "        text-align: right;\n",
       "    }\n",
       "</style>\n",
       "<table border=\"1\" class=\"dataframe\">\n",
       "  <thead>\n",
       "    <tr style=\"text-align: right;\">\n",
       "      <th>learning_rate</th>\n",
       "      <th>1.000000e-07</th>\n",
       "      <th>1.000000e-05</th>\n",
       "      <th>1.000000e-04</th>\n",
       "    </tr>\n",
       "    <tr>\n",
       "      <th>history_len</th>\n",
       "      <th></th>\n",
       "      <th></th>\n",
       "      <th></th>\n",
       "    </tr>\n",
       "  </thead>\n",
       "  <tbody>\n",
       "    <tr>\n",
       "      <th>10.0</th>\n",
       "      <td>31.206599</td>\n",
       "      <td>30.672225</td>\n",
       "      <td>30.660575</td>\n",
       "    </tr>\n",
       "    <tr>\n",
       "      <th>100.0</th>\n",
       "      <td>19.655595</td>\n",
       "      <td>18.879948</td>\n",
       "      <td>18.865493</td>\n",
       "    </tr>\n",
       "    <tr>\n",
       "      <th>200.0</th>\n",
       "      <td>14.296727</td>\n",
       "      <td>13.469981</td>\n",
       "      <td>13.477321</td>\n",
       "    </tr>\n",
       "  </tbody>\n",
       "</table>\n",
       "</div>"
      ],
      "text/plain": [
       "learning_rate  1.000000e-07  1.000000e-05  1.000000e-04\n",
       "history_len                                            \n",
       "10.0              31.206599     30.672225     30.660575\n",
       "100.0             19.655595     18.879948     18.865493\n",
       "200.0             14.296727     13.469981     13.477321"
      ]
     },
     "execution_count": 45,
     "metadata": {},
     "output_type": "execute_result"
    }
   ],
   "source": [
    "ar_df.pivot_table(values=\"mse\", index=[\"history_len\"], columns=[\"learning_rate\"])"
   ]
  },
  {
   "cell_type": "markdown",
   "metadata": {},
   "source": [
    "# All data"
   ]
  },
  {
   "cell_type": "code",
   "execution_count": 46,
   "metadata": {},
   "outputs": [],
   "source": [
    "@experiment(\"shot\", test_keys)\n",
    "@experiment(\"history_len\", [200])\n",
    "@experiment(\"learning_rate\", [1e-6])\n",
    "def runner(shot, history_len, learning_rate):\n",
    "    import jax\n",
    "    import pickle\n",
    "    import jax.numpy as jnp\n",
    "    \n",
    "    from timecast.modules import AR\n",
    "    from timecast.optim import SGD, NormThreshold\n",
    "    \n",
    "    MSE = lambda true, pred: jnp.square(jnp.asarray(true) - jnp.asarray(pred)).mean()\n",
    "    \n",
    "    ar = AR(history_len, 142, 1)\n",
    "    \n",
    "    data = pickle.load(open(f\"data/fusion/original/{shot}.pkl\", \"rb\"))\n",
    "    \n",
    "    # Locked mode amplitude\n",
    "    xs, ts, s = data[:-30], data[1:-29, 3], data[30:, 3]\n",
    "    \n",
    "    sgd = SGD(learning_rate=learning_rate)\n",
    "    nl_k = NormThreshold(0.03, filter=lambda x: \"kernel\" in x)\n",
    "    nl_b = NormThreshold(1e-4, filter=lambda x: \"bias\" in x)\n",
    "    def loop(module, xy):\n",
    "        x, y = xy\n",
    "        pred = module(x)\n",
    "        module = sgd(module, x, y)\n",
    "        module = nl_k(module)\n",
    "        module = nl_b(module)\n",
    "\n",
    "        return module, pred\n",
    "\n",
    "    ar, ys = jax.lax.scan(loop, ar, (xs, ts))\n",
    "    \n",
    "    return {\n",
    "        \"shot\": shot,\n",
    "        \"history_len\": history_len,\n",
    "        \"learning_rate\": learning_rate,\n",
    "        \"mse\": MSE(s.squeeze(), ys.squeeze()),\n",
    "    }"
   ]
  },
  {
   "cell_type": "code",
   "execution_count": 47,
   "metadata": {},
   "outputs": [
    {
     "data": {
      "application/vnd.jupyter.widget-view+json": {
       "model_id": "3e5b6fc3453d4d4cbf1054b714c2f615",
       "version_major": 2,
       "version_minor": 0
      },
      "text/plain": [
       "HBox(children=(FloatProgress(value=0.0, max=862.0), HTML(value='')))"
      ]
     },
     "metadata": {},
     "output_type": "display_data"
    },
    {
     "name": "stdout",
     "output_type": "stream",
     "text": [
      "\n"
     ]
    }
   ],
   "source": [
    "ar_all_results = runner.run(processes=25, tqdm=tqdm)"
   ]
  },
  {
   "cell_type": "code",
   "execution_count": 48,
   "metadata": {},
   "outputs": [
    {
     "data": {
      "text/html": [
       "<div>\n",
       "<style scoped>\n",
       "    .dataframe tbody tr th:only-of-type {\n",
       "        vertical-align: middle;\n",
       "    }\n",
       "\n",
       "    .dataframe tbody tr th {\n",
       "        vertical-align: top;\n",
       "    }\n",
       "\n",
       "    .dataframe thead th {\n",
       "        text-align: right;\n",
       "    }\n",
       "</style>\n",
       "<table border=\"1\" class=\"dataframe\">\n",
       "  <thead>\n",
       "    <tr style=\"text-align: right;\">\n",
       "      <th>learning_rate</th>\n",
       "      <th>0.000001</th>\n",
       "    </tr>\n",
       "    <tr>\n",
       "      <th>history_len</th>\n",
       "      <th></th>\n",
       "    </tr>\n",
       "  </thead>\n",
       "  <tbody>\n",
       "    <tr>\n",
       "      <th>200.0</th>\n",
       "      <td>5.420820e+06</td>\n",
       "    </tr>\n",
       "  </tbody>\n",
       "</table>\n",
       "</div>"
      ],
      "text/plain": [
       "learning_rate      0.000001\n",
       "history_len                \n",
       "200.0          5.420820e+06"
      ]
     },
     "execution_count": 48,
     "metadata": {},
     "output_type": "execute_result"
    }
   ],
   "source": [
    "pickle.dump(ar_all_results, open(\"data/fusion/baseline/ar_results.pkl\", \"wb\"))\n",
    "ar_all_df = pd.DataFrame.from_dict(ar_all_results)\n",
    "ar_all_df = ar_all_df.astype(float)\n",
    "ar_all_df.pivot_table(values=\"mse\", index=[\"history_len\"], columns=[\"learning_rate\"])"
   ]
  },
  {
   "cell_type": "code",
   "execution_count": 49,
   "metadata": {},
   "outputs": [
    {
     "data": {
      "text/plain": [
       "859"
      ]
     },
     "execution_count": 49,
     "metadata": {},
     "output_type": "execute_result"
    }
   ],
   "source": [
    "np.sum(np.array([shot[\"mse\"] for shot in ar_all_results]) < 10000)"
   ]
  },
  {
   "cell_type": "code",
   "execution_count": 50,
   "metadata": {},
   "outputs": [
    {
     "data": {
      "text/plain": [
       "[{'shot': 150010,\n",
       "  'history_len': 200,\n",
       "  'learning_rate': 1e-06,\n",
       "  'mse': array(1065.1556, dtype=float32)},\n",
       " {'shot': 145049,\n",
       "  'history_len': 200,\n",
       "  'learning_rate': 1e-06,\n",
       "  'mse': array(3754.2212, dtype=float32)},\n",
       " {'shot': 147426,\n",
       "  'history_len': 200,\n",
       "  'learning_rate': 1e-06,\n",
       "  'mse': array(31648550., dtype=float32)},\n",
       " {'shot': 149064,\n",
       "  'history_len': 200,\n",
       "  'learning_rate': 1e-06,\n",
       "  'mse': array(3.9041275e+09, dtype=float32)},\n",
       " {'shot': 149011,\n",
       "  'history_len': 200,\n",
       "  'learning_rate': 1e-06,\n",
       "  'mse': array(7.369613e+08, dtype=float32)},\n",
       " {'shot': 150554,\n",
       "  'history_len': 200,\n",
       "  'learning_rate': 1e-06,\n",
       "  'mse': array(1027.2838, dtype=float32)}]"
      ]
     },
     "execution_count": 50,
     "metadata": {},
     "output_type": "execute_result"
    }
   ],
   "source": [
    "[shot for shot in ar_all_results if shot[\"mse\"] > 1000]"
   ]
  },
  {
   "cell_type": "code",
   "execution_count": null,
   "metadata": {},
   "outputs": [],
   "source": []
  }
 ],
 "metadata": {
  "kernelspec": {
   "display_name": "Python 3",
   "language": "python",
   "name": "python3"
  },
  "language_info": {
   "codemirror_mode": {
    "name": "ipython",
    "version": 3
   },
   "file_extension": ".py",
   "mimetype": "text/x-python",
   "name": "python",
   "nbconvert_exporter": "python",
   "pygments_lexer": "ipython3",
   "version": "3.7.0"
  }
 },
 "nbformat": 4,
 "nbformat_minor": 4
}
