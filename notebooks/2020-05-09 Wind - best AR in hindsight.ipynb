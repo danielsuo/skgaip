{
 "cells": [
  {
   "cell_type": "code",
   "execution_count": 1,
   "metadata": {},
   "outputs": [
    {
     "data": {
      "text/html": [
       "<style>.container { width:100% !important; }</style>"
      ],
      "text/plain": [
       "<IPython.core.display.HTML object>"
      ]
     },
     "metadata": {},
     "output_type": "display_data"
    },
    {
     "name": "stderr",
     "output_type": "stream",
     "text": [
      "/home/dsuo/miniconda3/envs/skgaip/lib/python3.7/site-packages/jax/lib/xla_bridge.py:123: UserWarning: No GPU/TPU found, falling back to CPU.\n",
      "  warnings.warn('No GPU/TPU found, falling back to CPU.')\n"
     ]
    }
   ],
   "source": [
    "%load_ext autoreload\n",
    "%autoreload 2\n",
    "\n",
    "from IPython.display import Image\n",
    "from IPython.core.display import display, HTML\n",
    "display(HTML(\"<style>.container { width:100% !important; }</style>\"))\n",
    "\n",
    "import os\n",
    "import json\n",
    "import numpy as np\n",
    "import jax\n",
    "import jax.numpy as jnp\n",
    "import flax\n",
    "import pickle\n",
    "import matplotlib.pyplot as plt\n",
    "import pandas as pd\n",
    "import matplotlib\n",
    "import timecast as tc\n",
    "\n",
    "from mpl_toolkits import mplot3d\n",
    "\n",
    "plt.rcParams['figure.figsize'] = [20, 10]\n",
    "\n",
    "import tqdm.notebook as tqdm"
   ]
  },
  {
   "cell_type": "code",
   "execution_count": 2,
   "metadata": {},
   "outputs": [],
   "source": [
    "import pickle\n",
    "\n",
    "import timecast as tc\n",
    "import pandas as pd\n",
    "import matplotlib.pyplot as plt\n",
    "\n",
    "import flax\n",
    "import jax.numpy as jnp\n",
    "import numpy as np\n",
    "\n",
    "from timecast.learners import AR\n",
    "from timecast.utils.ar import historify, compute_gram"
   ]
  },
  {
   "cell_type": "code",
   "execution_count": 3,
   "metadata": {},
   "outputs": [],
   "source": [
    "data = jnp.array(pd.read_csv(\"../data/wind/original/MS_winds.dat\", names=list(range(57))))\n",
    "pickle.dump(data, open(\"../data/wind/original/MS_winds.pkl\", \"wb\"))"
   ]
  },
  {
   "cell_type": "code",
   "execution_count": 4,
   "metadata": {},
   "outputs": [
    {
     "data": {
      "text/plain": [
       "DeviceArray([[5.0963, 2.0564, 3.0399, ..., 3.0399, 3.5763, 2.5481],\n",
       "             [5.0963, 1.5199, 2.5481, ..., 2.5481, 3.5763, 2.5481],\n",
       "             [5.588 , 1.5199, 2.0564, ..., 2.5481, 3.5763, 1.5199],\n",
       "             ...,\n",
       "             [4.6045, 4.0681, 5.0963, ..., 4.6045, 0.    , 3.0399],\n",
       "             [7.1526, 6.1244, 4.6045, ..., 4.0681, 0.    , 4.0681],\n",
       "             [7.1526, 3.5763, 3.0399, ..., 4.0681, 0.    , 4.6045]],            dtype=float32)"
      ]
     },
     "execution_count": 4,
     "metadata": {},
     "output_type": "execute_result"
    }
   ],
   "source": [
    "# Columns = 57 stations\n",
    "# Rows = wind speed readings (m/s)\n",
    "data"
   ]
  },
  {
   "cell_type": "code",
   "execution_count": 5,
   "metadata": {},
   "outputs": [],
   "source": [
    "# Normalization\n",
    "# NOTE: This is a bug; they claim this normalizes from 0 to 1, but it doesn't\n",
    "# NOTE: Their variable also refer to min and max as mean and std, respectively so...\n",
    "data_min = data.min()\n",
    "data_max = data.max()\n",
    "data = (data - data_min) / data_max"
   ]
  },
  {
   "cell_type": "code",
   "execution_count": 6,
   "metadata": {},
   "outputs": [
    {
     "name": "stderr",
     "output_type": "stream",
     "text": [
      "Using TensorFlow backend.\n",
      "WARNING:tensorflow:From /home/dsuo/miniconda3/envs/skgaip/lib/python3.7/site-packages/tensorflow_core/python/ops/resource_variable_ops.py:1630: calling BaseResourceVariable.__init__ (from tensorflow.python.ops.resource_variable_ops) with constraint is deprecated and will be removed in a future version.\n",
      "Instructions for updating:\n",
      "If using Keras pass *_constraint arguments to layers.\n",
      "WARNING:tensorflow:From /home/dsuo/miniconda3/envs/skgaip/lib/python3.7/site-packages/keras/backend/tensorflow_backend.py:422: The name tf.global_variables is deprecated. Please use tf.compat.v1.global_variables instead.\n",
      "\n"
     ]
    }
   ],
   "source": [
    "models = pickle.load(open(\"../data/wind/original/models.pkl\", \"rb\"))[\"models\"]"
   ]
  },
  {
   "cell_type": "code",
   "execution_count": 7,
   "metadata": {},
   "outputs": [],
   "source": [
    "# Mostly from https://github.com/amirstar/Deep-Forecast/blob/4dcdf66f8ae3070ab706b30a6e3cf888f36e0536/multiLSTM.py#L210\n",
    "def predict(X, models):\n",
    "    X = X.reshape(X.shape[0], history_len, num_stations)\n",
    "    results = np.zeros_like(np.zeros((X.shape[0], num_stations)))\n",
    "    \n",
    "    for ind in range(len(X)):\n",
    "        modelInd = ind % 6\n",
    "        if modelInd == 0:\n",
    "            testInputRaw = X[ind]\n",
    "            testInputShape = testInputRaw.shape\n",
    "            testInput = np.reshape(testInputRaw, [1, testInputShape[0], testInputShape[1]])\n",
    "        else:\n",
    "            testInputRaw = np.vstack((testInputRaw, results[ind-1]))\n",
    "            testInput = np.delete(testInputRaw, 0, axis=0)\n",
    "            testInputShape = testInput.shape\n",
    "            testInput = np.reshape(testInput, [1, testInputShape[0], testInputShape[1]])\n",
    "    \n",
    "        pred = models[modelInd].predict(testInput)\n",
    "        results[ind] = pred\n",
    "\n",
    "    return jnp.array(results)"
   ]
  },
  {
   "cell_type": "code",
   "execution_count": 8,
   "metadata": {},
   "outputs": [],
   "source": [
    "num_train = 6000\n",
    "num_test = 361\n",
    "\n",
    "history_len = 12\n",
    "num_stations = 57"
   ]
  },
  {
   "cell_type": "code",
   "execution_count": 100,
   "metadata": {},
   "outputs": [],
   "source": [
    "# 12..5999\n",
    "train_true = data[history_len:num_train]\n",
    "# 0..11, 1..12, ..., 5987..5998\n",
    "train_data = historify(data, history_len=history_len, num_histories=train_true.shape[0])\n",
    "\n",
    "# 6012..8386\n",
    "test_true = data[num_train + history_len:]\n",
    "# 6000..6011, ..., 8374..8385\n",
    "test_data = historify(data, history_len=history_len, num_histories=test_true.shape[0], offset=num_train)"
   ]
  },
  {
   "cell_type": "code",
   "execution_count": 101,
   "metadata": {},
   "outputs": [],
   "source": [
    "# 6012..8386\n",
    "test_pred = predict(test_data, models)"
   ]
  },
  {
   "cell_type": "code",
   "execution_count": 134,
   "metadata": {},
   "outputs": [
    {
     "data": {
      "text/plain": [
       "DeviceArray(1.3113904, dtype=float32)"
      ]
     },
     "execution_count": 134,
     "metadata": {},
     "output_type": "execute_result"
    }
   ],
   "source": [
    "# Metric: mean absolute error\n",
    "jnp.absolute((test_true - test_pred) * data_max + data_min).mean(axis=0).mean()"
   ]
  },
  {
   "cell_type": "code",
   "execution_count": 135,
   "metadata": {},
   "outputs": [
    {
     "data": {
      "text/plain": [
       "DeviceArray(3.181298, dtype=float32)"
      ]
     },
     "execution_count": 135,
     "metadata": {},
     "output_type": "execute_result"
    }
   ],
   "source": [
    "# Metric: mean squared error\n",
    "# Metric: mean absolute error\n",
    "jnp.square((test_true - test_pred) * data_max + data_min).mean(axis=0).mean()"
   ]
  },
  {
   "cell_type": "code",
   "execution_count": 13,
   "metadata": {},
   "outputs": [],
   "source": [
    "# 12..5999\n",
    "train_pred = predict(train_data, models)"
   ]
  },
  {
   "cell_type": "code",
   "execution_count": 25,
   "metadata": {},
   "outputs": [
    {
     "data": {
      "application/vnd.jupyter.widget-view+json": {
       "model_id": "1ae174ed40f04594b66e8972df250209",
       "version_major": 2,
       "version_minor": 0
      },
      "text/plain": [
       "HBox(children=(FloatProgress(value=0.0, max=57.0), HTML(value='')))"
      ]
     },
     "metadata": {},
     "output_type": "display_data"
    },
    {
     "name": "stdout",
     "output_type": "stream",
     "text": [
      "\n"
     ]
    }
   ],
   "source": [
    "ars, states = [None] * num_stations, [None] * num_stations\n",
    "padded_test_resid = jnp.vstack((jnp.zeros((history_len - 1, num_stations)), test_resid))\n",
    "for station in tqdm.tqdm(range(num_stations)):\n",
    "    ars[station], states[station] = AR.fit(\n",
    "        data=[(data[num_train:-1], padded_test_resid[:, station], None)],\n",
    "        input_dim=num_stations,\n",
    "        output_dim=1,\n",
    "        history=data[num_train : num_train + history_len],\n",
    "        history_len=history_len\n",
    "    )"
   ]
  },
  {
   "cell_type": "code",
   "execution_count": 127,
   "metadata": {},
   "outputs": [
    {
     "data": {
      "application/vnd.jupyter.widget-view+json": {
       "model_id": "5d3a7a0b544e412b80c0d6e90ce9344a",
       "version_major": 2,
       "version_minor": 0
      },
      "text/plain": [
       "HBox(children=(FloatProgress(value=0.0, max=57.0), HTML(value='')))"
      ]
     },
     "metadata": {},
     "output_type": "display_data"
    },
    {
     "name": "stdout",
     "output_type": "stream",
     "text": [
      "\n"
     ]
    }
   ],
   "source": [
    "# https://stackoverflow.com/questions/51883058/l1-norm-instead-of-l2-norm-for-cost-function-in-regression-model\n",
    "\n",
    "from scipy.optimize import minimize\n",
    "\n",
    "def fit(X, params):\n",
    "    return X @ params\n",
    "\n",
    "def cost_function(params, X, y):\n",
    "    return np.sum(np.abs(y - fit(X, params)))\n",
    "\n",
    "L1_ars = [None] * num_stations\n",
    "for station in tqdm.tqdm(range(num_stations)):\n",
    "    init_params = ars[station].params[\"Linear\"][\"kernel\"].reshape(history_len * num_stations, 1)\n",
    "    init_params = np.vstack((np.zeros((1, 1)), init_params))\n",
    "    L1_ars[station] = minimize(cost_function, init_params, args=(np.hstack((np.ones((test_data.shape[0], 1)), test_data)), test_resid[:, station]))"
   ]
  },
  {
   "cell_type": "code",
   "execution_count": 138,
   "metadata": {},
   "outputs": [],
   "source": [
    "from sklearn.linear_model import Ridge"
   ]
  },
  {
   "cell_type": "code",
   "execution_count": 140,
   "metadata": {},
   "outputs": [
    {
     "data": {
      "application/vnd.jupyter.widget-view+json": {
       "model_id": "fcdadbea6cf8447bb3b09b318bd92507",
       "version_major": 2,
       "version_minor": 0
      },
      "text/plain": [
       "HBox(children=(FloatProgress(value=0.0, max=57.0), HTML(value='')))"
      ]
     },
     "metadata": {},
     "output_type": "display_data"
    },
    {
     "name": "stdout",
     "output_type": "stream",
     "text": [
      "\n"
     ]
    }
   ],
   "source": [
    "L2_ars = [None] * num_stations\n",
    "for station in tqdm.tqdm(range(num_stations)):\n",
    "    L2_ars[station] = Ridge(alpha=0.1)\n",
    "    L2_ars[station].fit(test_data, test_resid[:, station])\n",
    "    "
   ]
  },
  {
   "cell_type": "code",
   "execution_count": 132,
   "metadata": {},
   "outputs": [
    {
     "data": {
      "application/vnd.jupyter.widget-view+json": {
       "model_id": "c6dc58b4062d4522879ed621bf445005",
       "version_major": 2,
       "version_minor": 0
      },
      "text/plain": [
       "HBox(children=(FloatProgress(value=0.0, max=57.0), HTML(value='')))"
      ]
     },
     "metadata": {},
     "output_type": "display_data"
    },
    {
     "name": "stdout",
     "output_type": "stream",
     "text": [
      "\n"
     ]
    }
   ],
   "source": [
    "maes = []\n",
    "for station in tqdm.tqdm(range(num_stations)):\n",
    "    y_hat = test_pred[:, station] + np.hstack((np.ones((test_data.shape[0], 1)), test_data)) @ L1_ars[station].x\n",
    "    maes.append(np.absolute((test_true[:, station] - y_hat) * data_max + data_min).mean())"
   ]
  },
  {
   "cell_type": "code",
   "execution_count": 133,
   "metadata": {},
   "outputs": [
    {
     "data": {
      "text/plain": [
       "0.9746599"
      ]
     },
     "execution_count": 133,
     "metadata": {},
     "output_type": "execute_result"
    }
   ],
   "source": [
    "np.mean(maes)"
   ]
  },
  {
   "cell_type": "code",
   "execution_count": 142,
   "metadata": {},
   "outputs": [
    {
     "data": {
      "application/vnd.jupyter.widget-view+json": {
       "model_id": "c6c31e74fa14493db7661c9367c1f71c",
       "version_major": 2,
       "version_minor": 0
      },
      "text/plain": [
       "HBox(children=(FloatProgress(value=0.0, max=57.0), HTML(value='')))"
      ]
     },
     "metadata": {},
     "output_type": "display_data"
    },
    {
     "name": "stdout",
     "output_type": "stream",
     "text": [
      "\n"
     ]
    }
   ],
   "source": [
    "mses = []\n",
    "for station in tqdm.tqdm(range(num_stations)):\n",
    "    y_hat = test_pred[:, station] + test_data @ L2_ars[station].coef_ + L2_ars[station].intercept_\n",
    "    mses.append(np.square((test_true[:, station] - y_hat) * data_max + data_min).mean())"
   ]
  },
  {
   "cell_type": "code",
   "execution_count": 143,
   "metadata": {},
   "outputs": [
    {
     "data": {
      "text/plain": [
       "1.2649621"
      ]
     },
     "execution_count": 143,
     "metadata": {},
     "output_type": "execute_result"
    }
   ],
   "source": [
    "np.mean(mses)"
   ]
  }
 ],
 "metadata": {
  "kernelspec": {
   "display_name": "Python 3",
   "language": "python",
   "name": "python3"
  },
  "language_info": {
   "codemirror_mode": {
    "name": "ipython",
    "version": 3
   },
   "file_extension": ".py",
   "mimetype": "text/x-python",
   "name": "python",
   "nbconvert_exporter": "python",
   "pygments_lexer": "ipython3",
   "version": "3.7.0"
  }
 },
 "nbformat": 4,
 "nbformat_minor": 4
}
