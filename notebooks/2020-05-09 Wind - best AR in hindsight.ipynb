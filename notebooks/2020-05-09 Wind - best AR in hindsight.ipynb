{
 "cells": [
  {
   "cell_type": "code",
   "execution_count": 1,
   "metadata": {},
   "outputs": [
    {
     "data": {
      "text/html": [
       "<style>.container { width:100% !important; }</style>"
      ],
      "text/plain": [
       "<IPython.core.display.HTML object>"
      ]
     },
     "metadata": {},
     "output_type": "display_data"
    },
    {
     "name": "stderr",
     "output_type": "stream",
     "text": [
      "/home/dsuo/miniconda3/envs/skgaip/lib/python3.7/site-packages/jax/lib/xla_bridge.py:123: UserWarning: No GPU/TPU found, falling back to CPU.\n",
      "  warnings.warn('No GPU/TPU found, falling back to CPU.')\n"
     ]
    }
   ],
   "source": [
    "%load_ext autoreload\n",
    "%autoreload 2\n",
    "\n",
    "from IPython.display import Image\n",
    "from IPython.core.display import display, HTML\n",
    "display(HTML(\"<style>.container { width:100% !important; }</style>\"))\n",
    "\n",
    "import os\n",
    "import json\n",
    "import numpy as np\n",
    "import jax\n",
    "import jax.numpy as jnp\n",
    "import flax\n",
    "import pickle\n",
    "import matplotlib.pyplot as plt\n",
    "import pandas as pd\n",
    "import matplotlib\n",
    "import timecast as tc\n",
    "\n",
    "from mpl_toolkits import mplot3d\n",
    "\n",
    "plt.rcParams['figure.figsize'] = [20, 10]\n",
    "\n",
    "import tqdm.notebook as tqdm"
   ]
  },
  {
   "cell_type": "code",
   "execution_count": 2,
   "metadata": {},
   "outputs": [],
   "source": [
    "import pickle\n",
    "\n",
    "import timecast as tc\n",
    "import pandas as pd\n",
    "import matplotlib.pyplot as plt\n",
    "\n",
    "import flax\n",
    "import jax.numpy as jnp\n",
    "import numpy as np\n",
    "\n",
    "from timecast.learners import AR\n",
    "from timecast.utils.ar import historify, compute_gram"
   ]
  },
  {
   "cell_type": "code",
   "execution_count": 222,
   "metadata": {},
   "outputs": [],
   "source": [
    "data = jnp.array(pd.read_csv(\"../data/wind/original/MS_winds.dat\", names=list(range(57))))\n",
    "pickle.dump(data, open(\"../data/wind/original/MS_winds.pkl\", \"wb\"))"
   ]
  },
  {
   "cell_type": "code",
   "execution_count": 223,
   "metadata": {},
   "outputs": [
    {
     "data": {
      "text/plain": [
       "DeviceArray([[5.0963, 2.0564, 3.0399, ..., 3.0399, 3.5763, 2.5481],\n",
       "             [5.0963, 1.5199, 2.5481, ..., 2.5481, 3.5763, 2.5481],\n",
       "             [5.588 , 1.5199, 2.0564, ..., 2.5481, 3.5763, 1.5199],\n",
       "             ...,\n",
       "             [4.6045, 4.0681, 5.0963, ..., 4.6045, 0.    , 3.0399],\n",
       "             [7.1526, 6.1244, 4.6045, ..., 4.0681, 0.    , 4.0681],\n",
       "             [7.1526, 3.5763, 3.0399, ..., 4.0681, 0.    , 4.6045]],            dtype=float32)"
      ]
     },
     "execution_count": 223,
     "metadata": {},
     "output_type": "execute_result"
    }
   ],
   "source": [
    "# Columns = 57 stations\n",
    "# Rows = wind speed readings (m/s)\n",
    "data"
   ]
  },
  {
   "cell_type": "code",
   "execution_count": 224,
   "metadata": {},
   "outputs": [],
   "source": [
    "# Normalization\n",
    "# NOTE: This is a bug; they claim this normalizes from 0 to 1, but it doesn't\n",
    "# NOTE: Their variable also refer to min and max as mean and std, respectively so...\n",
    "data_min = data.min()\n",
    "data_max = data.max()\n",
    "data = (data - data_min) / data_max"
   ]
  },
  {
   "cell_type": "code",
   "execution_count": 181,
   "metadata": {},
   "outputs": [],
   "source": [
    "models = pickle.load(open(\"../data/wind/original/models.pkl\", \"rb\"))[\"models\"]\n",
    "models_mse = pickle.load(open(\"../skgaip/wind/models_mse.pkl\", \"rb\"))[\"models\"]"
   ]
  },
  {
   "cell_type": "code",
   "execution_count": 7,
   "metadata": {},
   "outputs": [],
   "source": [
    "# Mostly from https://github.com/amirstar/Deep-Forecast/blob/4dcdf66f8ae3070ab706b30a6e3cf888f36e0536/multiLSTM.py#L210\n",
    "def predict(X, models):\n",
    "    X = X.reshape(X.shape[0], history_len, num_stations)\n",
    "    results = np.zeros_like(np.zeros((X.shape[0], num_stations)))\n",
    "    \n",
    "    for ind in range(len(X)):\n",
    "        modelInd = ind % 6\n",
    "        if modelInd == 0:\n",
    "            testInputRaw = X[ind]\n",
    "            testInputShape = testInputRaw.shape\n",
    "            testInput = np.reshape(testInputRaw, [1, testInputShape[0], testInputShape[1]])\n",
    "        else:\n",
    "            testInputRaw = np.vstack((testInputRaw, results[ind-1]))\n",
    "            testInput = np.delete(testInputRaw, 0, axis=0)\n",
    "            testInputShape = testInput.shape\n",
    "            testInput = np.reshape(testInput, [1, testInputShape[0], testInputShape[1]])\n",
    "    \n",
    "        pred = models[modelInd].predict(testInput)\n",
    "        results[ind] = pred\n",
    "\n",
    "    return jnp.array(results)"
   ]
  },
  {
   "cell_type": "code",
   "execution_count": 8,
   "metadata": {},
   "outputs": [],
   "source": [
    "num_train = 6000\n",
    "num_test = 361\n",
    "\n",
    "history_len = 12\n",
    "num_stations = 57"
   ]
  },
  {
   "cell_type": "code",
   "execution_count": 100,
   "metadata": {},
   "outputs": [],
   "source": [
    "# 12..5999\n",
    "train_true = data[history_len:num_train]\n",
    "# 0..11, 1..12, ..., 5987..5998\n",
    "train_data = historify(data, history_len=history_len, num_histories=train_true.shape[0])\n",
    "\n",
    "# 6012..8386\n",
    "test_true = data[num_train + history_len:]\n",
    "# 6000..6011, ..., 8374..8385\n",
    "test_data = historify(data, history_len=history_len, num_histories=test_true.shape[0], offset=num_train)"
   ]
  },
  {
   "cell_type": "code",
   "execution_count": 101,
   "metadata": {},
   "outputs": [],
   "source": [
    "# 6012..8386\n",
    "test_pred = predict(test_data, models)"
   ]
  },
  {
   "cell_type": "code",
   "execution_count": 182,
   "metadata": {},
   "outputs": [],
   "source": [
    "test_pred_mse = predict(test_data, models_mse)"
   ]
  },
  {
   "cell_type": "code",
   "execution_count": 189,
   "metadata": {},
   "outputs": [],
   "source": [
    "test_resid = test_true - test_pred\n",
    "test_resid_mse = test_true - test_pred_mse"
   ]
  },
  {
   "cell_type": "code",
   "execution_count": 134,
   "metadata": {},
   "outputs": [
    {
     "data": {
      "text/plain": [
       "DeviceArray(1.3113904, dtype=float32)"
      ]
     },
     "execution_count": 134,
     "metadata": {},
     "output_type": "execute_result"
    }
   ],
   "source": [
    "# Metric: mean absolute error\n",
    "jnp.absolute((test_true - test_pred) * data_max + data_min).mean(axis=0).mean()"
   ]
  },
  {
   "cell_type": "code",
   "execution_count": 183,
   "metadata": {},
   "outputs": [
    {
     "data": {
      "text/plain": [
       "DeviceArray(1.4005028, dtype=float32)"
      ]
     },
     "execution_count": 183,
     "metadata": {},
     "output_type": "execute_result"
    }
   ],
   "source": [
    "jnp.absolute((test_true - test_pred_mse) * data_max + data_min).mean(axis=0).mean()"
   ]
  },
  {
   "cell_type": "code",
   "execution_count": 135,
   "metadata": {},
   "outputs": [
    {
     "data": {
      "text/plain": [
       "DeviceArray(3.181298, dtype=float32)"
      ]
     },
     "execution_count": 135,
     "metadata": {},
     "output_type": "execute_result"
    }
   ],
   "source": [
    "# Metric: mean squared error\n",
    "# Metric: mean absolute error\n",
    "jnp.square((test_true - test_pred) * data_max + data_min).mean(axis=0).mean()"
   ]
  },
  {
   "cell_type": "code",
   "execution_count": 184,
   "metadata": {},
   "outputs": [
    {
     "data": {
      "text/plain": [
       "DeviceArray(3.705796, dtype=float32)"
      ]
     },
     "execution_count": 184,
     "metadata": {},
     "output_type": "execute_result"
    }
   ],
   "source": [
    "jnp.square((test_true - test_pred_mse) * data_max + data_min).mean(axis=0).mean()"
   ]
  },
  {
   "cell_type": "code",
   "execution_count": 13,
   "metadata": {},
   "outputs": [],
   "source": [
    "# 12..5999\n",
    "train_pred = predict(train_data, models)"
   ]
  },
  {
   "cell_type": "code",
   "execution_count": 146,
   "metadata": {},
   "outputs": [
    {
     "data": {
      "application/vnd.jupyter.widget-view+json": {
       "model_id": "521993a58fa446f381214050727fb658",
       "version_major": 2,
       "version_minor": 0
      },
      "text/plain": [
       "HBox(children=(FloatProgress(value=0.0, max=57.0), HTML(value='')))"
      ]
     },
     "metadata": {},
     "output_type": "display_data"
    },
    {
     "name": "stdout",
     "output_type": "stream",
     "text": [
      "\n"
     ]
    }
   ],
   "source": [
    "ars, states = [None] * num_stations, [None] * num_stations\n",
    "padded_test_resid = jnp.vstack((jnp.zeros((history_len - 1, num_stations)), test_resid))\n",
    "for station in tqdm.tqdm(range(num_stations)):\n",
    "    ars[station], states[station] = AR.fit(\n",
    "        data=[(data[num_train:-1], padded_test_resid[:, station], None)],\n",
    "        input_dim=num_stations,\n",
    "        output_dim=1,\n",
    "        history=data[num_train : num_train + history_len],\n",
    "        history_len=history_len,\n",
    "        alpha=0.1\n",
    "    )"
   ]
  },
  {
   "cell_type": "code",
   "execution_count": 193,
   "metadata": {},
   "outputs": [
    {
     "data": {
      "application/vnd.jupyter.widget-view+json": {
       "model_id": "92aaa2d66f074b28a79bd672ba6755ad",
       "version_major": 2,
       "version_minor": 0
      },
      "text/plain": [
       "HBox(children=(FloatProgress(value=0.0, max=57.0), HTML(value='')))"
      ]
     },
     "metadata": {},
     "output_type": "display_data"
    },
    {
     "name": "stdout",
     "output_type": "stream",
     "text": [
      "\n"
     ]
    }
   ],
   "source": [
    "# https://stackoverflow.com/questions/51883058/l1-norm-instead-of-l2-norm-for-cost-function-in-regression-model\n",
    "\n",
    "from scipy.optimize import minimize\n",
    "\n",
    "def fit(X, params):\n",
    "    return X @ params\n",
    "\n",
    "def cost_function(params, X, y):\n",
    "    return np.sum(np.abs(y - fit(X, params)))\n",
    "\n",
    "L1_ars = [None] * num_stations\n",
    "for station in tqdm.tqdm(range(num_stations)):\n",
    "    init_params = ars[station].params[\"Linear\"][\"kernel\"].reshape(history_len * num_stations, 1)\n",
    "    init_params = np.vstack((np.zeros((1, 1)), init_params))\n",
    "    L1_ars[station] = minimize(cost_function, init_params, args=(np.hstack((np.ones((test_data.shape[0], 1)), test_data)), test_resid[:, station]))"
   ]
  },
  {
   "cell_type": "code",
   "execution_count": 194,
   "metadata": {},
   "outputs": [
    {
     "data": {
      "application/vnd.jupyter.widget-view+json": {
       "model_id": "cae6282a24314709b57096f3b33ba9e3",
       "version_major": 2,
       "version_minor": 0
      },
      "text/plain": [
       "HBox(children=(FloatProgress(value=0.0, max=57.0), HTML(value='')))"
      ]
     },
     "metadata": {},
     "output_type": "display_data"
    },
    {
     "name": "stdout",
     "output_type": "stream",
     "text": [
      "\n"
     ]
    }
   ],
   "source": [
    "# https://stackoverflow.com/questions/51883058/l1-norm-instead-of-l2-norm-for-cost-function-in-regression-model\n",
    "\n",
    "from scipy.optimize import minimize\n",
    "\n",
    "def fit(X, params):\n",
    "    return X @ params\n",
    "\n",
    "def cost_function(params, X, y):\n",
    "    return np.sum(np.abs(y - fit(X, params)))\n",
    "\n",
    "L1_ars_mse = [None] * num_stations\n",
    "for station in tqdm.tqdm(range(num_stations)):\n",
    "    init_params = ars[station].params[\"Linear\"][\"kernel\"].reshape(history_len * num_stations, 1)\n",
    "    init_params = np.vstack((np.zeros((1, 1)), init_params))\n",
    "    L1_ars_mse[station] = minimize(cost_function, init_params, args=(np.hstack((np.ones((test_data.shape[0], 1)), test_data)), test_resid_mse[:, station]))"
   ]
  },
  {
   "cell_type": "code",
   "execution_count": 195,
   "metadata": {},
   "outputs": [],
   "source": [
    "from sklearn.linear_model import Ridge"
   ]
  },
  {
   "cell_type": "code",
   "execution_count": 196,
   "metadata": {},
   "outputs": [
    {
     "data": {
      "application/vnd.jupyter.widget-view+json": {
       "model_id": "c67b7636ad8a4312a9b0809b8866dcd3",
       "version_major": 2,
       "version_minor": 0
      },
      "text/plain": [
       "HBox(children=(FloatProgress(value=0.0, max=57.0), HTML(value='')))"
      ]
     },
     "metadata": {},
     "output_type": "display_data"
    },
    {
     "name": "stdout",
     "output_type": "stream",
     "text": [
      "\n"
     ]
    }
   ],
   "source": [
    "L2_ars = [None] * num_stations\n",
    "for station in tqdm.tqdm(range(num_stations)):\n",
    "    L2_ars[station] = Ridge(alpha=0.1)\n",
    "    L2_ars[station].fit(test_data, test_resid[:, station])\n",
    "    "
   ]
  },
  {
   "cell_type": "code",
   "execution_count": 197,
   "metadata": {},
   "outputs": [
    {
     "data": {
      "application/vnd.jupyter.widget-view+json": {
       "model_id": "a3024255ac6a493e95e0d6ad954ccde1",
       "version_major": 2,
       "version_minor": 0
      },
      "text/plain": [
       "HBox(children=(FloatProgress(value=0.0, max=57.0), HTML(value='')))"
      ]
     },
     "metadata": {},
     "output_type": "display_data"
    },
    {
     "name": "stdout",
     "output_type": "stream",
     "text": [
      "\n"
     ]
    }
   ],
   "source": [
    "L2_ars_mse = [None] * num_stations\n",
    "for station in tqdm.tqdm(range(num_stations)):\n",
    "    L2_ars_mse[station] = Ridge(alpha=0.1)\n",
    "    L2_ars_mse[station].fit(test_data, test_resid_mse[:, station])"
   ]
  },
  {
   "cell_type": "code",
   "execution_count": 198,
   "metadata": {},
   "outputs": [
    {
     "data": {
      "application/vnd.jupyter.widget-view+json": {
       "model_id": "1e11ffc89b274957a402142c480abc4f",
       "version_major": 2,
       "version_minor": 0
      },
      "text/plain": [
       "HBox(children=(FloatProgress(value=0.0, max=57.0), HTML(value='')))"
      ]
     },
     "metadata": {},
     "output_type": "display_data"
    },
    {
     "name": "stdout",
     "output_type": "stream",
     "text": [
      "\n"
     ]
    }
   ],
   "source": [
    "maes = []\n",
    "for station in tqdm.tqdm(range(num_stations)):\n",
    "    y_hat = test_pred[:, station] + np.hstack((np.ones((test_data.shape[0], 1)), test_data)) @ L1_ars[station].x\n",
    "    maes.append(np.absolute((test_true[:, station] - y_hat) * data_max + data_min).mean())"
   ]
  },
  {
   "cell_type": "code",
   "execution_count": 199,
   "metadata": {},
   "outputs": [
    {
     "data": {
      "application/vnd.jupyter.widget-view+json": {
       "model_id": "07a6617ed1244a1493225b444e2793a5",
       "version_major": 2,
       "version_minor": 0
      },
      "text/plain": [
       "HBox(children=(FloatProgress(value=0.0, max=57.0), HTML(value='')))"
      ]
     },
     "metadata": {},
     "output_type": "display_data"
    },
    {
     "name": "stdout",
     "output_type": "stream",
     "text": [
      "\n"
     ]
    }
   ],
   "source": [
    "maes_mse = []\n",
    "for station in tqdm.tqdm(range(num_stations)):\n",
    "    y_hat = test_pred_mse[:, station] + np.hstack((np.ones((test_data.shape[0], 1)), test_data)) @ L1_ars_mse[station].x\n",
    "    maes_mse.append(np.absolute((test_true[:, station] - y_hat) * data_max + data_min).mean())"
   ]
  },
  {
   "cell_type": "code",
   "execution_count": 200,
   "metadata": {},
   "outputs": [
    {
     "data": {
      "text/plain": [
       "0.9944389"
      ]
     },
     "execution_count": 200,
     "metadata": {},
     "output_type": "execute_result"
    }
   ],
   "source": [
    "np.mean(maes)"
   ]
  },
  {
   "cell_type": "code",
   "execution_count": 204,
   "metadata": {},
   "outputs": [
    {
     "data": {
      "text/plain": [
       "1.1200277"
      ]
     },
     "execution_count": 204,
     "metadata": {},
     "output_type": "execute_result"
    }
   ],
   "source": [
    "np.mean(maes_mse)"
   ]
  },
  {
   "cell_type": "code",
   "execution_count": 201,
   "metadata": {},
   "outputs": [
    {
     "data": {
      "application/vnd.jupyter.widget-view+json": {
       "model_id": "cd5961159fb4404e80609c6b9c319bf1",
       "version_major": 2,
       "version_minor": 0
      },
      "text/plain": [
       "HBox(children=(FloatProgress(value=0.0, max=57.0), HTML(value='')))"
      ]
     },
     "metadata": {},
     "output_type": "display_data"
    },
    {
     "name": "stdout",
     "output_type": "stream",
     "text": [
      "\n"
     ]
    }
   ],
   "source": [
    "mses = []\n",
    "for station in tqdm.tqdm(range(num_stations)):\n",
    "    y_hat = test_pred[:, station] + test_data @ L2_ars[station].coef_ + L2_ars[station].intercept_\n",
    "    mses.append(np.square((test_true[:, station] - y_hat) * data_max + data_min).mean())"
   ]
  },
  {
   "cell_type": "code",
   "execution_count": 202,
   "metadata": {},
   "outputs": [
    {
     "data": {
      "application/vnd.jupyter.widget-view+json": {
       "model_id": "2afa3fd4451246919acfc77adcebaa81",
       "version_major": 2,
       "version_minor": 0
      },
      "text/plain": [
       "HBox(children=(FloatProgress(value=0.0, max=57.0), HTML(value='')))"
      ]
     },
     "metadata": {},
     "output_type": "display_data"
    },
    {
     "name": "stdout",
     "output_type": "stream",
     "text": [
      "\n"
     ]
    }
   ],
   "source": [
    "mses_mse = []\n",
    "for station in tqdm.tqdm(range(num_stations)):\n",
    "    y_hat = test_pred_mse[:, station] + test_data @ L2_ars_mse[station].coef_ + L2_ars_mse[station].intercept_\n",
    "    mses_mse.append(np.square((test_true[:, station] - y_hat) * data_max + data_min).mean())"
   ]
  },
  {
   "cell_type": "code",
   "execution_count": 203,
   "metadata": {},
   "outputs": [
    {
     "data": {
      "text/plain": [
       "1.2649621"
      ]
     },
     "execution_count": 203,
     "metadata": {},
     "output_type": "execute_result"
    }
   ],
   "source": [
    "np.mean(mses)"
   ]
  },
  {
   "cell_type": "code",
   "execution_count": 205,
   "metadata": {},
   "outputs": [
    {
     "data": {
      "text/plain": [
       "1.5544692"
      ]
     },
     "execution_count": 205,
     "metadata": {},
     "output_type": "execute_result"
    }
   ],
   "source": [
    "np.mean(mses_mse)"
   ]
  },
  {
   "cell_type": "code",
   "execution_count": 244,
   "metadata": {
    "scrolled": true
   },
   "outputs": [
    {
     "data": {
      "application/vnd.jupyter.widget-view+json": {
       "model_id": "8b1b01e561cd471a96871b9310a07864",
       "version_major": 2,
       "version_minor": 0
      },
      "text/plain": [
       "HBox(children=(FloatProgress(value=0.0, max=57.0), HTML(value='')))"
      ]
     },
     "metadata": {},
     "output_type": "display_data"
    },
    {
     "name": "stdout",
     "output_type": "stream",
     "text": [
      "\n"
     ]
    }
   ],
   "source": [
    "import jax.numpy as jnp\n",
    "import pickle\n",
    "\n",
    "from timecast.learners import Sequential, Parallel, BlackBox, AR\n",
    "from timecast import tmap\n",
    "from timecast.objectives import residual\n",
    "from timecast.optim import GradientDescent\n",
    "\n",
    "maes_online = []\n",
    "for station in tqdm.tqdm(range(num_stations)):\n",
    "    lr = -5\n",
    "    num_train = 6000\n",
    "\n",
    "    lstm = BlackBox.partial(arr=test_pred[:, station])\n",
    "    ar = AR.partial(\n",
    "        output_dim=1,\n",
    "        history=data[num_train : num_train + history_len - 1],\n",
    "        history_len=history_len\n",
    "    )\n",
    "    model, state = Parallel.new(shape=(1, num_stations), learners=[lstm, ar])\n",
    "    model.params[\"AR_1\"][\"Linear\"][\"kernel\"] = L1_ars[station].x[1:].reshape(1, history_len * num_stations, 1)\n",
    "    model.params[\"AR_1\"][\"Linear\"][\"bias\"] = L1_ars[station].x[[0]]\n",
    "\n",
    "    optim_def = GradientDescent(learning_rate=(10 ** lr))\n",
    "    optimizer = optim_def.create(model)\n",
    "\n",
    "    X = data[num_train + history_len - 1:-1]\n",
    "    Y = data[num_train + history_len:, station]\n",
    "\n",
    "    Y_hat, optimizer, state = tmap(X, Y, optimizer, state=state, objective=residual)\n",
    "\n",
    "    mae = jnp.absolute((Y - Y_hat) * data_max + data_min).mean()\n",
    "    maes_online.append(mae)"
   ]
  },
  {
   "cell_type": "code",
   "execution_count": 248,
   "metadata": {},
   "outputs": [
    {
     "data": {
      "application/vnd.jupyter.widget-view+json": {
       "model_id": "c1528b426643426b8332a982d441a1ab",
       "version_major": 2,
       "version_minor": 0
      },
      "text/plain": [
       "HBox(children=(FloatProgress(value=0.0, max=57.0), HTML(value='')))"
      ]
     },
     "metadata": {},
     "output_type": "display_data"
    },
    {
     "name": "stdout",
     "output_type": "stream",
     "text": [
      "\n"
     ]
    }
   ],
   "source": [
    "import jax.numpy as jnp\n",
    "import pickle\n",
    "\n",
    "from timecast.learners import Sequential, Parallel, BlackBox, AR\n",
    "from timecast import tmap\n",
    "from timecast.objectives import residual\n",
    "from timecast.optim import GradientDescent\n",
    "\n",
    "mses_online = []\n",
    "for station in tqdm.tqdm(range(num_stations)):\n",
    "    lr = -5\n",
    "    num_train = 6000\n",
    "\n",
    "    lstm = BlackBox.partial(arr=test_pred[:, station])\n",
    "    ar = AR.partial(\n",
    "        output_dim=1,\n",
    "        history=data[num_train : num_train + history_len - 1],\n",
    "        history_len=history_len\n",
    "    )\n",
    "    model, state = Parallel.new(shape=(1, num_stations), learners=[lstm, ar])\n",
    "    model.params[\"AR_1\"][\"Linear\"][\"kernel\"] = L2_ars[station].coef_.reshape(1, history_len * num_stations, 1)\n",
    "    model.params[\"AR_1\"][\"Linear\"][\"bias\"] = L2_ars[station].intercept_.reshape(1)\n",
    "\n",
    "    optim_def = GradientDescent(learning_rate=(10 ** lr))\n",
    "    optimizer = optim_def.create(model)\n",
    "\n",
    "    X = data[num_train + history_len - 1:-1]\n",
    "    Y = data[num_train + history_len:, station]\n",
    "\n",
    "    Y_hat, optimizer, state = tmap(X, Y, optimizer, state=state, objective=residual)\n",
    "\n",
    "    mse = jnp.square((Y - Y_hat) * data_max + data_min).mean()\n",
    "    mses_online.append(mse)"
   ]
  },
  {
   "cell_type": "code",
   "execution_count": 249,
   "metadata": {},
   "outputs": [
    {
     "data": {
      "application/vnd.jupyter.widget-view+json": {
       "model_id": "d2867ac389ae41a187701e5852259354",
       "version_major": 2,
       "version_minor": 0
      },
      "text/plain": [
       "HBox(children=(FloatProgress(value=0.0, max=57.0), HTML(value='')))"
      ]
     },
     "metadata": {},
     "output_type": "display_data"
    },
    {
     "name": "stdout",
     "output_type": "stream",
     "text": [
      "\n"
     ]
    }
   ],
   "source": [
    "import jax.numpy as jnp\n",
    "import pickle\n",
    "\n",
    "from timecast.learners import Sequential, Parallel, BlackBox, AR\n",
    "from timecast import tmap\n",
    "from timecast.objectives import residual\n",
    "from timecast.optim import GradientDescent\n",
    "\n",
    "maes_mse_online = []\n",
    "for station in tqdm.tqdm(range(num_stations)):\n",
    "    lr = -5\n",
    "    num_train = 6000\n",
    "\n",
    "    lstm = BlackBox.partial(arr=test_pred[:, station])\n",
    "    ar = AR.partial(\n",
    "        output_dim=1,\n",
    "        history=data[num_train : num_train + history_len - 1],\n",
    "        history_len=history_len\n",
    "    )\n",
    "    model, state = Parallel.new(shape=(1, num_stations), learners=[lstm, ar])\n",
    "    model.params[\"AR_1\"][\"Linear\"][\"kernel\"] = L1_ars_mse[station].x[1:].reshape(1, history_len * num_stations, 1)\n",
    "    model.params[\"AR_1\"][\"Linear\"][\"bias\"] = L1_ars_mse[station].x[[0]]\n",
    "\n",
    "    optim_def = GradientDescent(learning_rate=(10 ** lr))\n",
    "    optimizer = optim_def.create(model)\n",
    "\n",
    "    X = data[num_train + history_len - 1:-1]\n",
    "    Y = data[num_train + history_len:, station]\n",
    "\n",
    "    Y_hat, optimizer, state = tmap(X, Y, optimizer, state=state, objective=residual)\n",
    "\n",
    "    mae_mse = jnp.absolute((Y - Y_hat) * data_max + data_min).mean()\n",
    "    maes_mse_online.append(mae_mse)"
   ]
  },
  {
   "cell_type": "code",
   "execution_count": 250,
   "metadata": {},
   "outputs": [
    {
     "data": {
      "application/vnd.jupyter.widget-view+json": {
       "model_id": "7df22516af60495ab7534255cc1c1f98",
       "version_major": 2,
       "version_minor": 0
      },
      "text/plain": [
       "HBox(children=(FloatProgress(value=0.0, max=57.0), HTML(value='')))"
      ]
     },
     "metadata": {},
     "output_type": "display_data"
    },
    {
     "name": "stdout",
     "output_type": "stream",
     "text": [
      "\n"
     ]
    }
   ],
   "source": [
    "import jax.numpy as jnp\n",
    "import pickle\n",
    "\n",
    "from timecast.learners import Sequential, Parallel, BlackBox, AR\n",
    "from timecast import tmap\n",
    "from timecast.objectives import residual\n",
    "from timecast.optim import GradientDescent\n",
    "\n",
    "mses_mse_online = []\n",
    "for station in tqdm.tqdm(range(num_stations)):\n",
    "    lr = -5\n",
    "    num_train = 6000\n",
    "\n",
    "    lstm = BlackBox.partial(arr=test_pred[:, station])\n",
    "    ar = AR.partial(\n",
    "        output_dim=1,\n",
    "        history=data[num_train : num_train + history_len - 1],\n",
    "        history_len=history_len\n",
    "    )\n",
    "    model, state = Parallel.new(shape=(1, num_stations), learners=[lstm, ar])\n",
    "    model.params[\"AR_1\"][\"Linear\"][\"kernel\"] = L2_ars_mse[station].coef_.reshape(1, history_len * num_stations, 1)\n",
    "    model.params[\"AR_1\"][\"Linear\"][\"bias\"] = L2_ars_mse[station].intercept_.reshape(1)\n",
    "\n",
    "    optim_def = GradientDescent(learning_rate=(10 ** lr))\n",
    "    optimizer = optim_def.create(model)\n",
    "\n",
    "    X = data[num_train + history_len - 1:-1]\n",
    "    Y = data[num_train + history_len:, station]\n",
    "\n",
    "    Y_hat, optimizer, state = tmap(X, Y, optimizer, state=state, objective=residual)\n",
    "\n",
    "    mse_mse = jnp.square((Y - Y_hat) * data_max + data_min).mean()\n",
    "    mses_mse_online.append(mse_mse)"
   ]
  },
  {
   "cell_type": "code",
   "execution_count": 253,
   "metadata": {},
   "outputs": [
    {
     "data": {
      "text/plain": [
       "<matplotlib.axes._subplots.AxesSubplot at 0x7f26b069b748>"
      ]
     },
     "execution_count": 253,
     "metadata": {},
     "output_type": "execute_result"
    },
    {
     "data": {
      "image/png": "[encoded data removed]",
      "text/plain": [
       "<Figure size 1440x720 with 1 Axes>"
      ]
     },
     "metadata": {
      "needs_background": "light"
     },
     "output_type": "display_data"
    }
   ],
   "source": [
    "results = {\n",
    "    \"Original (LSTM: MAE)\": {},\n",
    "    \"Best AR in hindsight (LSTM: MAE)\": {},\n",
    "    \"Online AR (LSTM: MAE)\": {},\n",
    "    \"Original (LSTM: MSE)\": {},\n",
    "    \"Best AR in hindsight (LSTM: MSE)\": {},\n",
    "    \"Online AR (LSTM: MSE)\": {}\n",
    "}\n",
    "\n",
    "results[\"Original (LSTM: MAE)\"][\"AR: MAE\"] = np.absolute((test_true - test_pred) * data_max + data_min).mean(axis=0).mean()\n",
    "results[\"Original (LSTM: MAE)\"][\"AR: MSE\"] = np.square((test_true - test_pred) * data_max + data_min).mean(axis=0).mean()\n",
    "results[\"Best AR in hindsight (LSTM: MAE)\"][\"AR: MAE\"] = np.mean(maes)\n",
    "results[\"Best AR in hindsight (LSTM: MAE)\"][\"AR: MSE\"] = np.mean(mses)\n",
    "results[\"Online AR (LSTM: MAE)\"][\"AR: MAE\"] = np.mean(maes_online)\n",
    "results[\"Online AR (LSTM: MAE)\"][\"AR: MSE\"] = np.mean(mses_online)\n",
    "\n",
    "results[\"Original (LSTM: MSE)\"][\"AR: MAE\"] = np.absolute((test_true - test_pred_mse) * data_max + data_min).mean(axis=0).mean()\n",
    "results[\"Original (LSTM: MSE)\"][\"AR: MSE\"] = np.square((test_true - test_pred_mse) * data_max + data_min).mean(axis=0).mean()\n",
    "results[\"Best AR in hindsight (LSTM: MSE)\"][\"AR: MAE\"] = np.mean(maes_mse)\n",
    "results[\"Best AR in hindsight (LSTM: MSE)\"][\"AR: MSE\"] = np.mean(mses_mse)\n",
    "results[\"Online AR (LSTM: MSE)\"][\"AR: MAE\"] = np.mean(maes_mse_online)\n",
    "results[\"Online AR (LSTM: MSE)\"][\"AR: MSE\"] = np.mean(mses_mse_online)\n",
    "\n",
    "df = pd.DataFrame.from_dict(results)\n",
    "\n",
    "df.plot(kind=\"bar\", rot=0)"
   ]
  },
  {
   "cell_type": "code",
   "execution_count": null,
   "metadata": {},
   "outputs": [],
   "source": []
  }
 ],
 "metadata": {
  "kernelspec": {
   "display_name": "Python 3",
   "language": "python",
   "name": "python3"
  },
  "language_info": {
   "codemirror_mode": {
    "name": "ipython",
    "version": 3
   },
   "file_extension": ".py",
   "mimetype": "text/x-python",
   "name": "python",
   "nbconvert_exporter": "python",
   "pygments_lexer": "ipython3",
   "version": "3.7.0"
  }
 },
 "nbformat": 4,
 "nbformat_minor": 4
}
