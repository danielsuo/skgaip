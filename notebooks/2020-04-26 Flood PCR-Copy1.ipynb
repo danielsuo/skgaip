{
 "cells": [
  {
   "cell_type": "code",
   "execution_count": 63,
   "metadata": {},
   "outputs": [
    {
     "name": "stdout",
     "output_type": "stream",
     "text": [
      "The autoreload extension is already loaded. To reload it, use:\n",
      "  %reload_ext autoreload\n"
     ]
    },
    {
     "data": {
      "text/html": [
       "<style>.container { width:100% !important; }</style>"
      ],
      "text/plain": [
       "<IPython.core.display.HTML object>"
      ]
     },
     "metadata": {},
     "output_type": "display_data"
    }
   ],
   "source": [
    "%load_ext autoreload\n",
    "%autoreload 2\n",
    "\n",
    "from IPython.display import Image\n",
    "from IPython.core.display import display, HTML\n",
    "display(HTML(\"<style>.container { width:100% !important; }</style>\"))\n",
    "\n",
    "import os\n",
    "import json\n",
    "import numpy as np\n",
    "import jax\n",
    "import jax.numpy as jnp\n",
    "import flax\n",
    "import pickle\n",
    "import matplotlib.pyplot as plt\n",
    "import pandas as pd\n",
    "import matplotlib\n",
    "import timecast as tc\n",
    "\n",
    "from mpl_toolkits import mplot3d\n",
    "\n",
    "\n",
    "plt.rcParams['figure.figsize'] = [20, 10]\n",
    "\n",
    "import tqdm.notebook as tqdm"
   ]
  },
  {
   "cell_type": "code",
   "execution_count": 3,
   "metadata": {},
   "outputs": [],
   "source": [
    "\"\"\"timecast top-level API\"\"\"\n",
    "from functools import partial\n",
    "from typing import Callable\n",
    "from typing import Tuple\n",
    "from typing import Union\n",
    "\n",
    "import flax\n",
    "import jax\n",
    "import jax.numpy as jnp\n",
    "import numpy as np\n",
    "\n",
    "\n",
    "def _objective(x, y, loss_fn, model):\n",
    "    \"\"\"Default objective function\"\"\"\n",
    "    y_hat = model(x)\n",
    "    return loss_fn(y, y_hat), y_hat\n",
    "\n",
    "\n",
    "def tmap(\n",
    "    X: Union[np.ndarray, Tuple[np.ndarray, ...]],\n",
    "    Y: Union[np.ndarray, Tuple[np.ndarray, ...]],\n",
    "    optimizer: flax.optim.base.Optimizer,\n",
    "    loss_fn: Callable[[np.ndarray, np.ndarray], np.ndarray] = lambda true, pred: jnp.square(\n",
    "        true - pred\n",
    "    ).mean(),\n",
    "    state: flax.nn.base.Collection = None,\n",
    "    objective: Callable[\n",
    "        [\n",
    "            np.ndarray,\n",
    "            np.ndarray,\n",
    "            Callable[[np.ndarray, np.ndarray], np.ndarray],\n",
    "            flax.nn.base.Model,\n",
    "        ],\n",
    "        Tuple[np.ndarray, np.ndarray],\n",
    "    ] = None,\n",
    "    batch_size: int = 1\n",
    "):\n",
    "    \"\"\"Take gradients steps performantly on one data item at a time\n",
    "    Args:\n",
    "        X: np.ndarray or tuple of np.ndarray of inputs\n",
    "        Y: np.ndarray or tuple of np.ndarray of outputs\n",
    "        optimizer: initialized optimizer\n",
    "        loss_fn: loss function to compose where first arg is true value and\n",
    "        second is pred\n",
    "        state: state required by flax\n",
    "        objective: function composing loss functions\n",
    "    Returns:\n",
    "        np.ndarray: result\n",
    "    \"\"\"\n",
    "    state = state or flax.nn.Collection()\n",
    "    objective = objective or _objective\n",
    "\n",
    "    def _tmap(optstate, xy):\n",
    "        \"\"\"Helper function\"\"\"\n",
    "        x, y = xy\n",
    "        optimizer, state = optstate\n",
    "        func = partial(objective, x, y, loss_fn)\n",
    "        with flax.nn.stateful(state) as state:\n",
    "            (loss, y_hat), grad = jax.value_and_grad(func, has_aux=True)(optimizer.target)\n",
    "        return (optimizer.apply_gradient(grad), state), y_hat\n",
    "\n",
    "    (optimizer, state), pred = jax.lax.scan(_tmap, (optimizer, state), (X, Y))\n",
    "    return pred, optimizer, state"
   ]
  },
  {
   "cell_type": "code",
   "execution_count": 4,
   "metadata": {},
   "outputs": [],
   "source": [
    "from timecast.learners import AR"
   ]
  },
  {
   "cell_type": "code",
   "execution_count": 112,
   "metadata": {},
   "outputs": [],
   "source": [
    "model_def = flax.nn.DenseGeneral.partial(\n",
    "    features=1,\n",
    "    axis=(1, 2),\n",
    "    batch_dims=0,\n",
    "    kernel_init=flax.nn.initializers.kaiming_normal()\n",
    ")"
   ]
  },
  {
   "cell_type": "code",
   "execution_count": 113,
   "metadata": {
    "pixiedust": {
     "displayParams": {}
    },
    "scrolled": false
   },
   "outputs": [],
   "source": [
    "_, params = model_def.init_by_shape(jax.random.PRNGKey(0), [(2, 1, 57)])"
   ]
  },
  {
   "cell_type": "code",
   "execution_count": 114,
   "metadata": {},
   "outputs": [
    {
     "name": "stdout",
     "output_type": "stream",
     "text": [
      "(1,) (1, 57, 1)\n"
     ]
    }
   ],
   "source": [
    "print(params[\"bias\"].shape, params[\"kernel\"].shape)"
   ]
  },
  {
   "cell_type": "code",
   "execution_count": 115,
   "metadata": {},
   "outputs": [],
   "source": [
    "model = flax.nn.Model(model_def, params)"
   ]
  },
  {
   "cell_type": "code",
   "execution_count": 116,
   "metadata": {},
   "outputs": [],
   "source": [
    "X = np.random.rand(6, 1, 57)"
   ]
  },
  {
   "cell_type": "code",
   "execution_count": 117,
   "metadata": {},
   "outputs": [
    {
     "data": {
      "text/plain": [
       "DeviceArray([[1.4990948 ],\n",
       "             [0.75036776],\n",
       "             [1.395464  ],\n",
       "             [0.9861583 ],\n",
       "             [0.9448118 ],\n",
       "             [1.0112364 ]], dtype=float32)"
      ]
     },
     "execution_count": 117,
     "metadata": {},
     "output_type": "execute_result"
    }
   ],
   "source": [
    "model(X)"
   ]
  },
  {
   "cell_type": "code",
   "execution_count": 22,
   "metadata": {},
   "outputs": [
    {
     "data": {
      "text/plain": [
       "array([0.9262869])"
      ]
     },
     "execution_count": 22,
     "metadata": {},
     "output_type": "execute_result"
    }
   ],
   "source": [
    "np.tensordot(params[\"kernel\"], X, axes=[(0, 1), (0, 1)])"
   ]
  },
  {
   "cell_type": "code",
   "execution_count": 72,
   "metadata": {},
   "outputs": [],
   "source": [
    "model_def = flax.nn.Dense.partial(\n",
    "    features=1,\n",
    "    kernel_init=flax.nn.initializers.kaiming_normal()\n",
    ")"
   ]
  },
  {
   "cell_type": "code",
   "execution_count": 73,
   "metadata": {},
   "outputs": [],
   "source": [
    "_, params = model_def.init_by_shape(jax.random.PRNGKey(0), [(57)])"
   ]
  },
  {
   "cell_type": "code",
   "execution_count": 74,
   "metadata": {},
   "outputs": [
    {
     "name": "stdout",
     "output_type": "stream",
     "text": [
      "(1,) (57, 1)\n"
     ]
    }
   ],
   "source": [
    "print(params[\"bias\"].shape, params[\"kernel\"].shape)"
   ]
  },
  {
   "cell_type": "code",
   "execution_count": 69,
   "metadata": {},
   "outputs": [],
   "source": [
    "model = flax.nn.Model(model_def, params)"
   ]
  },
  {
   "cell_type": "code",
   "execution_count": 70,
   "metadata": {},
   "outputs": [],
   "source": [
    "X = onp.random.rand(3, 57)"
   ]
  },
  {
   "cell_type": "code",
   "execution_count": 71,
   "metadata": {},
   "outputs": [
    {
     "data": {
      "text/plain": [
       "DeviceArray([[1.7362856],\n",
       "             [0.7493028],\n",
       "             [1.4401443]], dtype=float32)"
      ]
     },
     "execution_count": 71,
     "metadata": {},
     "output_type": "execute_result"
    }
   ],
   "source": [
    "model(X)"
   ]
  },
  {
   "cell_type": "code",
   "execution_count": null,
   "metadata": {},
   "outputs": [],
   "source": []
  }
 ],
 "metadata": {
  "kernelspec": {
   "display_name": "Python 3",
   "language": "python",
   "name": "python3"
  },
  "language_info": {
   "codemirror_mode": {
    "name": "ipython",
    "version": 3
   },
   "file_extension": ".py",
   "mimetype": "text/x-python",
   "name": "python",
   "nbconvert_exporter": "python",
   "pygments_lexer": "ipython3",
   "version": "3.7.0"
  }
 },
 "nbformat": 4,
 "nbformat_minor": 2
}
